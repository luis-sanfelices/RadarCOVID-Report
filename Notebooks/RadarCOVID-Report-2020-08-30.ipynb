{
 "cells": [
  {
   "cell_type": "markdown",
   "metadata": {
    "papermill": {
     "duration": 0.014702,
     "end_time": "2020-08-30T18:15:15.609993",
     "exception": false,
     "start_time": "2020-08-30T18:15:15.595291",
     "status": "completed"
    },
    "pycharm": {
     "name": "#%% md\n"
    },
    "tags": []
   },
   "source": [
    "# RadarCOVID-Report"
   ]
  },
  {
   "cell_type": "code",
   "execution_count": 1,
   "metadata": {
    "execution": {
     "iopub.execute_input": "2020-08-30T18:15:15.639292Z",
     "iopub.status.busy": "2020-08-30T18:15:15.638780Z",
     "iopub.status.idle": "2020-08-30T18:15:17.988146Z",
     "shell.execute_reply": "2020-08-30T18:15:17.987289Z"
    },
    "papermill": {
     "duration": 2.365966,
     "end_time": "2020-08-30T18:15:17.988328",
     "exception": false,
     "start_time": "2020-08-30T18:15:15.622362",
     "status": "completed"
    },
    "tags": []
   },
   "outputs": [],
   "source": [
    "import matplotlib\n",
    "import pandas as pd\n",
    "import seaborn as sns\n",
    "\n",
    "%matplotlib inline"
   ]
  },
  {
   "cell_type": "code",
   "execution_count": 2,
   "metadata": {
    "execution": {
     "iopub.execute_input": "2020-08-30T18:15:18.020024Z",
     "iopub.status.busy": "2020-08-30T18:15:18.019504Z",
     "iopub.status.idle": "2020-08-30T18:15:18.021684Z",
     "shell.execute_reply": "2020-08-30T18:15:18.021286Z"
    },
    "papermill": {
     "duration": 0.01913,
     "end_time": "2020-08-30T18:15:18.021781",
     "exception": false,
     "start_time": "2020-08-30T18:15:18.002651",
     "status": "completed"
    },
    "tags": []
   },
   "outputs": [],
   "source": [
    "sns.set()\n",
    "matplotlib.rcParams['figure.figsize'] = (15, 6)"
   ]
  },
  {
   "cell_type": "markdown",
   "metadata": {
    "collapsed": true,
    "papermill": {
     "duration": 0.011927,
     "end_time": "2020-08-30T18:15:18.045871",
     "exception": false,
     "start_time": "2020-08-30T18:15:18.033944",
     "status": "completed"
    },
    "pycharm": {
     "name": "#%% md\n"
    },
    "tags": []
   },
   "source": [
    "## COVID-19 Cases"
   ]
  },
  {
   "cell_type": "code",
   "execution_count": 3,
   "metadata": {
    "execution": {
     "iopub.execute_input": "2020-08-30T18:15:18.079025Z",
     "iopub.status.busy": "2020-08-30T18:15:18.078019Z",
     "iopub.status.idle": "2020-08-30T18:15:18.595786Z",
     "shell.execute_reply": "2020-08-30T18:15:18.596172Z"
    },
    "papermill": {
     "duration": 0.538264,
     "end_time": "2020-08-30T18:15:18.596327",
     "exception": false,
     "start_time": "2020-08-30T18:15:18.058063",
     "status": "completed"
    },
    "pycharm": {
     "name": "#%%\n"
    },
    "tags": []
   },
   "outputs": [
    {
     "data": {
      "text/html": [
       "<div>\n",
       "<style scoped>\n",
       "    .dataframe tbody tr th:only-of-type {\n",
       "        vertical-align: middle;\n",
       "    }\n",
       "\n",
       "    .dataframe tbody tr th {\n",
       "        vertical-align: top;\n",
       "    }\n",
       "\n",
       "    .dataframe thead th {\n",
       "        text-align: right;\n",
       "    }\n",
       "</style>\n",
       "<table border=\"1\" class=\"dataframe\">\n",
       "  <thead>\n",
       "    <tr style=\"text-align: right;\">\n",
       "      <th></th>\n",
       "      <th>sample_date_string</th>\n",
       "      <th>cumulative_cases</th>\n",
       "      <th>new_cases</th>\n",
       "      <th>rolling_mean_new_cases</th>\n",
       "    </tr>\n",
       "  </thead>\n",
       "  <tbody>\n",
       "    <tr>\n",
       "      <th>0</th>\n",
       "      <td>2020-01-23</td>\n",
       "      <td>0.0</td>\n",
       "      <td>NaN</td>\n",
       "      <td>NaN</td>\n",
       "    </tr>\n",
       "    <tr>\n",
       "      <th>1</th>\n",
       "      <td>2020-01-24</td>\n",
       "      <td>0.0</td>\n",
       "      <td>0.0</td>\n",
       "      <td>NaN</td>\n",
       "    </tr>\n",
       "    <tr>\n",
       "      <th>2</th>\n",
       "      <td>2020-01-25</td>\n",
       "      <td>0.0</td>\n",
       "      <td>0.0</td>\n",
       "      <td>NaN</td>\n",
       "    </tr>\n",
       "    <tr>\n",
       "      <th>3</th>\n",
       "      <td>2020-01-26</td>\n",
       "      <td>0.0</td>\n",
       "      <td>0.0</td>\n",
       "      <td>NaN</td>\n",
       "    </tr>\n",
       "    <tr>\n",
       "      <th>4</th>\n",
       "      <td>2020-01-27</td>\n",
       "      <td>0.0</td>\n",
       "      <td>0.0</td>\n",
       "      <td>NaN</td>\n",
       "    </tr>\n",
       "  </tbody>\n",
       "</table>\n",
       "</div>"
      ],
      "text/plain": [
       "  sample_date_string  cumulative_cases  new_cases  rolling_mean_new_cases\n",
       "0         2020-01-23               0.0        NaN                     NaN\n",
       "1         2020-01-24               0.0        0.0                     NaN\n",
       "2         2020-01-25               0.0        0.0                     NaN\n",
       "3         2020-01-26               0.0        0.0                     NaN\n",
       "4         2020-01-27               0.0        0.0                     NaN"
      ]
     },
     "execution_count": 3,
     "metadata": {},
     "output_type": "execute_result"
    }
   ],
   "source": [
    "confirmed_df = pd.read_csv(\"https://covid19tracking.narrativa.com/csv/confirmed.csv\")\n",
    "confirmed_df = confirmed_df[confirmed_df[\"Country_EN\"] == \"Spain\"]\n",
    "confirmed_df = confirmed_df[pd.isna(confirmed_df[\"Region\"])]\n",
    "confirmed_df.drop(columns=[\"Country_EN\", \"Country_ES\", \"Country_IT\", \"Region\"], inplace=True)\n",
    "confirmed_df = confirmed_df.transpose()\n",
    "confirmed_df.reset_index(inplace=True)\n",
    "confirmed_df.columns = [\"sample_date_string\", \"cumulative_cases\"]\n",
    "confirmed_df[\"new_cases\"] = confirmed_df.cumulative_cases.diff()\n",
    "confirmed_df[\"rolling_mean_new_cases\"] = confirmed_df.new_cases.rolling(7).mean()\n",
    "confirmed_df.head()"
   ]
  },
  {
   "cell_type": "code",
   "execution_count": 4,
   "metadata": {
    "execution": {
     "iopub.execute_input": "2020-08-30T18:15:18.655897Z",
     "iopub.status.busy": "2020-08-30T18:15:18.647889Z",
     "iopub.status.idle": "2020-08-30T18:15:18.823469Z",
     "shell.execute_reply": "2020-08-30T18:15:18.823904Z"
    },
    "papermill": {
     "duration": 0.215226,
     "end_time": "2020-08-30T18:15:18.824059",
     "exception": false,
     "start_time": "2020-08-30T18:15:18.608833",
     "status": "completed"
    },
    "pycharm": {
     "name": "#%%\n"
    },
    "tags": []
   },
   "outputs": [
    {
     "data": {
      "text/plain": [
       "<matplotlib.axes._subplots.AxesSubplot at 0x7f93da70a130>"
      ]
     },
     "execution_count": 4,
     "metadata": {},
     "output_type": "execute_result"
    },
    {
     "data": {
      "image/png": "[encoded data removed]",
      "text/plain": [
       "<Figure size 1080x432 with 1 Axes>"
      ]
     },
     "metadata": {},
     "output_type": "display_data"
    }
   ],
   "source": [
    "confirmed_df[[\"new_cases\", \"rolling_mean_new_cases\"]].plot()"
   ]
  },
  {
   "cell_type": "markdown",
   "metadata": {
    "papermill": {
     "duration": 0.013734,
     "end_time": "2020-08-30T18:15:18.852789",
     "exception": false,
     "start_time": "2020-08-30T18:15:18.839055",
     "status": "completed"
    },
    "tags": []
   },
   "source": [
    "## RadarCOVID TEKs Extraction"
   ]
  },
  {
   "cell_type": "code",
   "execution_count": 5,
   "metadata": {
    "execution": {
     "iopub.execute_input": "2020-08-30T18:15:18.890000Z",
     "iopub.status.busy": "2020-08-30T18:15:18.889495Z",
     "iopub.status.idle": "2020-08-30T18:15:21.100329Z",
     "shell.execute_reply": "2020-08-30T18:15:21.099881Z"
    },
    "papermill": {
     "duration": 2.233081,
     "end_time": "2020-08-30T18:15:21.100453",
     "exception": false,
     "start_time": "2020-08-30T18:15:18.867372",
     "status": "completed"
    },
    "pycharm": {
     "name": "#%%\n"
    },
    "tags": []
   },
   "outputs": [
    {
     "name": "stderr",
     "output_type": "stream",
     "text": [
      "WARNING:root:NoDataFoundForDateException(\"No exposed tokens found for day '2020-08-30'.\")\n"
     ]
    },
    {
     "name": "stderr",
     "output_type": "stream",
     "text": [
      "WARNING:root:NoDataFoundForDateException(\"No exposed tokens found for day '2020-08-18'.\")\n"
     ]
    },
    {
     "name": "stderr",
     "output_type": "stream",
     "text": [
      "WARNING:root:NoDataFoundForDateException(\"No exposed tokens found for day '2020-08-17'.\")\n"
     ]
    },
    {
     "data": {
      "text/html": [
       "<div>\n",
       "<style scoped>\n",
       "    .dataframe tbody tr th:only-of-type {\n",
       "        vertical-align: middle;\n",
       "    }\n",
       "\n",
       "    .dataframe tbody tr th {\n",
       "        vertical-align: top;\n",
       "    }\n",
       "\n",
       "    .dataframe thead th {\n",
       "        text-align: right;\n",
       "    }\n",
       "</style>\n",
       "<table border=\"1\" class=\"dataframe\">\n",
       "  <thead>\n",
       "    <tr style=\"text-align: right;\">\n",
       "      <th></th>\n",
       "      <th>sample_date_string</th>\n",
       "      <th>source_url</th>\n",
       "      <th>region</th>\n",
       "      <th>key_data</th>\n",
       "    </tr>\n",
       "  </thead>\n",
       "  <tbody>\n",
       "    <tr>\n",
       "      <th>0</th>\n",
       "      <td>2020-08-29</td>\n",
       "      <td>https://radarcovid.covid19.gob.es/dp3t/v1/gaen...</td>\n",
       "      <td>ES</td>\n",
       "      <td>9731b716-4f39-9987-26f0-9fbdfc1987c8</td>\n",
       "    </tr>\n",
       "    <tr>\n",
       "      <th>1</th>\n",
       "      <td>2020-08-29</td>\n",
       "      <td>https://radarcovid.covid19.gob.es/dp3t/v1/gaen...</td>\n",
       "      <td>ES</td>\n",
       "      <td>5cadde25-d2e9-6dd3-faae-e84777184052</td>\n",
       "    </tr>\n",
       "    <tr>\n",
       "      <th>2</th>\n",
       "      <td>2020-08-29</td>\n",
       "      <td>https://radarcovid.covid19.gob.es/dp3t/v1/gaen...</td>\n",
       "      <td>ES</td>\n",
       "      <td>861ac698-ee7d-075c-393a-5c13763e4ff5</td>\n",
       "    </tr>\n",
       "    <tr>\n",
       "      <th>3</th>\n",
       "      <td>2020-08-29</td>\n",
       "      <td>https://radarcovid.covid19.gob.es/dp3t/v1/gaen...</td>\n",
       "      <td>ES</td>\n",
       "      <td>43943f8d-4696-3507-3b8d-b7a59c9b533a</td>\n",
       "    </tr>\n",
       "    <tr>\n",
       "      <th>4</th>\n",
       "      <td>2020-08-29</td>\n",
       "      <td>https://radarcovid.covid19.gob.es/dp3t/v1/gaen...</td>\n",
       "      <td>ES</td>\n",
       "      <td>d0c5f063-05e0-89a1-adb9-9f9e2880645a</td>\n",
       "    </tr>\n",
       "  </tbody>\n",
       "</table>\n",
       "</div>"
      ],
      "text/plain": [
       "  sample_date_string                                         source_url  \\\n",
       "0         2020-08-29  https://radarcovid.covid19.gob.es/dp3t/v1/gaen...   \n",
       "1         2020-08-29  https://radarcovid.covid19.gob.es/dp3t/v1/gaen...   \n",
       "2         2020-08-29  https://radarcovid.covid19.gob.es/dp3t/v1/gaen...   \n",
       "3         2020-08-29  https://radarcovid.covid19.gob.es/dp3t/v1/gaen...   \n",
       "4         2020-08-29  https://radarcovid.covid19.gob.es/dp3t/v1/gaen...   \n",
       "\n",
       "  region                              key_data  \n",
       "0     ES  9731b716-4f39-9987-26f0-9fbdfc1987c8  \n",
       "1     ES  5cadde25-d2e9-6dd3-faae-e84777184052  \n",
       "2     ES  861ac698-ee7d-075c-393a-5c13763e4ff5  \n",
       "3     ES  43943f8d-4696-3507-3b8d-b7a59c9b533a  \n",
       "4     ES  d0c5f063-05e0-89a1-adb9-9f9e2880645a  "
      ]
     },
     "execution_count": 5,
     "metadata": {},
     "output_type": "execute_result"
    }
   ],
   "source": [
    "from Modules.RadarCOVID import radar_covid\n",
    "\n",
    "exposure_keys_df = radar_covid.download_last_radar_covid_exposure_keys(days=14)\n",
    "exposure_keys_df[[\n",
    "    \"sample_date_string\", \"source_url\", \"region\", \"key_data\"]].head()"
   ]
  },
  {
   "cell_type": "code",
   "execution_count": 6,
   "metadata": {
    "execution": {
     "iopub.execute_input": "2020-08-30T18:15:21.142358Z",
     "iopub.status.busy": "2020-08-30T18:15:21.141725Z",
     "iopub.status.idle": "2020-08-30T18:15:21.145180Z",
     "shell.execute_reply": "2020-08-30T18:15:21.144654Z"
    },
    "papermill": {
     "duration": 0.028369,
     "end_time": "2020-08-30T18:15:21.145315",
     "exception": false,
     "start_time": "2020-08-30T18:15:21.116946",
     "status": "completed"
    },
    "pycharm": {
     "name": "#%%\n"
    },
    "tags": []
   },
   "outputs": [
    {
     "data": {
      "text/html": [
       "<div>\n",
       "<style scoped>\n",
       "    .dataframe tbody tr th:only-of-type {\n",
       "        vertical-align: middle;\n",
       "    }\n",
       "\n",
       "    .dataframe tbody tr th {\n",
       "        vertical-align: top;\n",
       "    }\n",
       "\n",
       "    .dataframe thead th {\n",
       "        text-align: right;\n",
       "    }\n",
       "</style>\n",
       "<table border=\"1\" class=\"dataframe\">\n",
       "  <thead>\n",
       "    <tr style=\"text-align: right;\">\n",
       "      <th></th>\n",
       "      <th>tek_count</th>\n",
       "    </tr>\n",
       "    <tr>\n",
       "      <th>sample_date_string</th>\n",
       "      <th></th>\n",
       "    </tr>\n",
       "  </thead>\n",
       "  <tbody>\n",
       "    <tr>\n",
       "      <th>2020-08-29</th>\n",
       "      <td>13</td>\n",
       "    </tr>\n",
       "    <tr>\n",
       "      <th>2020-08-28</th>\n",
       "      <td>29</td>\n",
       "    </tr>\n",
       "    <tr>\n",
       "      <th>2020-08-27</th>\n",
       "      <td>54</td>\n",
       "    </tr>\n",
       "    <tr>\n",
       "      <th>2020-08-26</th>\n",
       "      <td>67</td>\n",
       "    </tr>\n",
       "    <tr>\n",
       "      <th>2020-08-25</th>\n",
       "      <td>57</td>\n",
       "    </tr>\n",
       "  </tbody>\n",
       "</table>\n",
       "</div>"
      ],
      "text/plain": [
       "                    tek_count\n",
       "sample_date_string           \n",
       "2020-08-29                 13\n",
       "2020-08-28                 29\n",
       "2020-08-27                 54\n",
       "2020-08-26                 67\n",
       "2020-08-25                 57"
      ]
     },
     "execution_count": 6,
     "metadata": {},
     "output_type": "execute_result"
    }
   ],
   "source": [
    "exposure_keys_summary_df = \\\n",
    "    exposure_keys_df.groupby([\"sample_date_string\"]).key_data.nunique().to_frame()\n",
    "exposure_keys_summary_df.sort_index(ascending=False, inplace=True)\n",
    "exposure_keys_summary_df.rename(columns={\"key_data\": \"tek_count\"}, inplace=True)\n",
    "exposure_keys_summary_df.head()"
   ]
  },
  {
   "cell_type": "markdown",
   "metadata": {
    "papermill": {
     "duration": 0.015715,
     "end_time": "2020-08-30T18:15:21.176794",
     "exception": false,
     "start_time": "2020-08-30T18:15:21.161079",
     "status": "completed"
    },
    "tags": []
   },
   "source": [
    "## RadarCOVID TEKs Dump"
   ]
  },
  {
   "cell_type": "code",
   "execution_count": 7,
   "metadata": {
    "execution": {
     "iopub.execute_input": "2020-08-30T18:15:21.217468Z",
     "iopub.status.busy": "2020-08-30T18:15:21.216992Z",
     "iopub.status.idle": "2020-08-30T18:15:21.230477Z",
     "shell.execute_reply": "2020-08-30T18:15:21.230959Z"
    },
    "papermill": {
     "duration": 0.038748,
     "end_time": "2020-08-30T18:15:21.231085",
     "exception": false,
     "start_time": "2020-08-30T18:15:21.192337",
     "status": "completed"
    },
    "scrolled": false,
    "tags": []
   },
   "outputs": [
    {
     "data": {
      "text/html": [
       "<div>\n",
       "<style scoped>\n",
       "    .dataframe tbody tr th:only-of-type {\n",
       "        vertical-align: middle;\n",
       "    }\n",
       "\n",
       "    .dataframe tbody tr th {\n",
       "        vertical-align: top;\n",
       "    }\n",
       "\n",
       "    .dataframe thead th {\n",
       "        text-align: right;\n",
       "    }\n",
       "</style>\n",
       "<table border=\"1\" class=\"dataframe\">\n",
       "  <thead>\n",
       "    <tr style=\"text-align: right;\">\n",
       "      <th></th>\n",
       "      <th>sample_date</th>\n",
       "      <th>tek_list</th>\n",
       "      <th>extraction_date</th>\n",
       "    </tr>\n",
       "  </thead>\n",
       "  <tbody>\n",
       "    <tr>\n",
       "      <th>0</th>\n",
       "      <td>2020-08-19</td>\n",
       "      <td>[645572b7-c0e2-97bc-9bcb-7107fb5eb1bc]</td>\n",
       "      <td>2020-08-30</td>\n",
       "    </tr>\n",
       "    <tr>\n",
       "      <th>1</th>\n",
       "      <td>2020-08-20</td>\n",
       "      <td>[5c4885a2-5c65-d6aa-8eed-7d607f106647, e6c3ca3...</td>\n",
       "      <td>2020-08-30</td>\n",
       "    </tr>\n",
       "    <tr>\n",
       "      <th>2</th>\n",
       "      <td>2020-08-21</td>\n",
       "      <td>[53c82402-7f1c-e203-7abc-593dc3a8a9fe, fd16f69...</td>\n",
       "      <td>2020-08-30</td>\n",
       "    </tr>\n",
       "    <tr>\n",
       "      <th>3</th>\n",
       "      <td>2020-08-22</td>\n",
       "      <td>[316fcc1d-9bdb-69ae-b997-70b5b4ca1d74, 33b23da...</td>\n",
       "      <td>2020-08-30</td>\n",
       "    </tr>\n",
       "    <tr>\n",
       "      <th>4</th>\n",
       "      <td>2020-08-23</td>\n",
       "      <td>[3dda2de2-fc66-33b9-cf6b-c7b85f8683d5, c0a53a0...</td>\n",
       "      <td>2020-08-30</td>\n",
       "    </tr>\n",
       "  </tbody>\n",
       "</table>\n",
       "</div>"
      ],
      "text/plain": [
       "  sample_date                                           tek_list  \\\n",
       "0  2020-08-19             [645572b7-c0e2-97bc-9bcb-7107fb5eb1bc]   \n",
       "1  2020-08-20  [5c4885a2-5c65-d6aa-8eed-7d607f106647, e6c3ca3...   \n",
       "2  2020-08-21  [53c82402-7f1c-e203-7abc-593dc3a8a9fe, fd16f69...   \n",
       "3  2020-08-22  [316fcc1d-9bdb-69ae-b997-70b5b4ca1d74, 33b23da...   \n",
       "4  2020-08-23  [3dda2de2-fc66-33b9-cf6b-c7b85f8683d5, c0a53a0...   \n",
       "\n",
       "  extraction_date  \n",
       "0      2020-08-30  \n",
       "1      2020-08-30  \n",
       "2      2020-08-30  \n",
       "3      2020-08-30  \n",
       "4      2020-08-30  "
      ]
     },
     "execution_count": 7,
     "metadata": {},
     "output_type": "execute_result"
    }
   ],
   "source": [
    "import datetime\n",
    "\n",
    "extraction_date = datetime.datetime.utcnow().strftime(\"%Y-%m-%d\")\n",
    "tek_list_df = exposure_keys_df[[\"sample_date_string\", \"key_data\"]].copy()\n",
    "tek_list_df[\"key_data\"] = tek_list_df[\"key_data\"].apply(str)\n",
    "tek_list_df.rename(columns={\n",
    "    \"sample_date_string\": \"sample_date\",\n",
    "    \"key_data\": \"tek_list\"}, inplace=True)\n",
    "tek_list_df = tek_list_df.groupby(\n",
    "    \"sample_date\").tek_list.unique().reset_index()\n",
    "tek_list_df[\"extraction_date\"] = extraction_date\n",
    "tek_list_df.to_json(\n",
    "    \"Data/RadarCOVID-Report-\" + extraction_date + \".json\",\n",
    "    lines=True, orient=\"records\")\n",
    "tek_list_df.head()"
   ]
  },
  {
   "cell_type": "markdown",
   "metadata": {
    "papermill": {
     "duration": 0.016558,
     "end_time": "2020-08-30T18:15:21.263728",
     "exception": false,
     "start_time": "2020-08-30T18:15:21.247170",
     "status": "completed"
    },
    "tags": []
   },
   "source": [
    "## RadarCOVID New TEKs"
   ]
  },
  {
   "cell_type": "code",
   "execution_count": 8,
   "metadata": {
    "execution": {
     "iopub.execute_input": "2020-08-30T18:15:21.304189Z",
     "iopub.status.busy": "2020-08-30T18:15:21.303644Z",
     "iopub.status.idle": "2020-08-30T18:15:21.331071Z",
     "shell.execute_reply": "2020-08-30T18:15:21.331542Z"
    },
    "papermill": {
     "duration": 0.049204,
     "end_time": "2020-08-30T18:15:21.331688",
     "exception": false,
     "start_time": "2020-08-30T18:15:21.282484",
     "status": "completed"
    },
    "tags": []
   },
   "outputs": [
    {
     "data": {
      "text/html": [
       "<div>\n",
       "<style scoped>\n",
       "    .dataframe tbody tr th:only-of-type {\n",
       "        vertical-align: middle;\n",
       "    }\n",
       "\n",
       "    .dataframe tbody tr th {\n",
       "        vertical-align: top;\n",
       "    }\n",
       "\n",
       "    .dataframe thead th {\n",
       "        text-align: right;\n",
       "    }\n",
       "</style>\n",
       "<table border=\"1\" class=\"dataframe\">\n",
       "  <thead>\n",
       "    <tr style=\"text-align: right;\">\n",
       "      <th></th>\n",
       "      <th>sample_date</th>\n",
       "      <th>tek_list</th>\n",
       "      <th>extraction_date</th>\n",
       "    </tr>\n",
       "  </thead>\n",
       "  <tbody>\n",
       "    <tr>\n",
       "      <th>0</th>\n",
       "      <td>2020-08-19</td>\n",
       "      <td>[645572b7-c0e2-97bc-9bcb-7107fb5eb1bc]</td>\n",
       "      <td>2020-08-29</td>\n",
       "    </tr>\n",
       "    <tr>\n",
       "      <th>1</th>\n",
       "      <td>2020-08-20</td>\n",
       "      <td>[5c4885a2-5c65-d6aa-8eed-7d607f106647, e6c3ca3...</td>\n",
       "      <td>2020-08-29</td>\n",
       "    </tr>\n",
       "    <tr>\n",
       "      <th>2</th>\n",
       "      <td>2020-08-21</td>\n",
       "      <td>[53c82402-7f1c-e203-7abc-593dc3a8a9fe, fd16f69...</td>\n",
       "      <td>2020-08-29</td>\n",
       "    </tr>\n",
       "    <tr>\n",
       "      <th>3</th>\n",
       "      <td>2020-08-22</td>\n",
       "      <td>[316fcc1d-9bdb-69ae-b997-70b5b4ca1d74, 33b23da...</td>\n",
       "      <td>2020-08-29</td>\n",
       "    </tr>\n",
       "    <tr>\n",
       "      <th>4</th>\n",
       "      <td>2020-08-23</td>\n",
       "      <td>[3dda2de2-fc66-33b9-cf6b-c7b85f8683d5, c0a53a0...</td>\n",
       "      <td>2020-08-29</td>\n",
       "    </tr>\n",
       "  </tbody>\n",
       "</table>\n",
       "</div>"
      ],
      "text/plain": [
       "  sample_date                                           tek_list  \\\n",
       "0  2020-08-19             [645572b7-c0e2-97bc-9bcb-7107fb5eb1bc]   \n",
       "1  2020-08-20  [5c4885a2-5c65-d6aa-8eed-7d607f106647, e6c3ca3...   \n",
       "2  2020-08-21  [53c82402-7f1c-e203-7abc-593dc3a8a9fe, fd16f69...   \n",
       "3  2020-08-22  [316fcc1d-9bdb-69ae-b997-70b5b4ca1d74, 33b23da...   \n",
       "4  2020-08-23  [3dda2de2-fc66-33b9-cf6b-c7b85f8683d5, c0a53a0...   \n",
       "\n",
       "  extraction_date  \n",
       "0      2020-08-29  \n",
       "1      2020-08-29  \n",
       "2      2020-08-29  \n",
       "3      2020-08-29  \n",
       "4      2020-08-29  "
      ]
     },
     "execution_count": 8,
     "metadata": {},
     "output_type": "execute_result"
    }
   ],
   "source": [
    "import glob\n",
    "\n",
    "historic_tek_list_df = pd.DataFrame()\n",
    "\n",
    "for path in glob.glob(\"Data/RadarCOVID-Report-*.json\"):\n",
    "    extraction_tek_list_df = pd.read_json(path, lines=True)\n",
    "    historic_tek_list_df = historic_tek_list_df.append(extraction_tek_list_df, sort=False)\n",
    "    \n",
    "historic_tek_list_df.head()"
   ]
  },
  {
   "cell_type": "code",
   "execution_count": 9,
   "metadata": {
    "execution": {
     "iopub.execute_input": "2020-08-30T18:15:21.391854Z",
     "iopub.status.busy": "2020-08-30T18:15:21.391293Z",
     "iopub.status.idle": "2020-08-30T18:15:21.393568Z",
     "shell.execute_reply": "2020-08-30T18:15:21.394000Z"
    },
    "papermill": {
     "duration": 0.042784,
     "end_time": "2020-08-30T18:15:21.394133",
     "exception": false,
     "start_time": "2020-08-30T18:15:21.351349",
     "status": "completed"
    },
    "tags": []
   },
   "outputs": [
    {
     "data": {
      "text/html": [
       "<div>\n",
       "<style scoped>\n",
       "    .dataframe tbody tr th:only-of-type {\n",
       "        vertical-align: middle;\n",
       "    }\n",
       "\n",
       "    .dataframe tbody tr th {\n",
       "        vertical-align: top;\n",
       "    }\n",
       "\n",
       "    .dataframe thead th {\n",
       "        text-align: right;\n",
       "    }\n",
       "</style>\n",
       "<table border=\"1\" class=\"dataframe\">\n",
       "  <thead>\n",
       "    <tr style=\"text-align: right;\">\n",
       "      <th></th>\n",
       "      <th>tek_list</th>\n",
       "    </tr>\n",
       "    <tr>\n",
       "      <th>extraction_date</th>\n",
       "      <th></th>\n",
       "    </tr>\n",
       "  </thead>\n",
       "  <tbody>\n",
       "    <tr>\n",
       "      <th>2020-08-29</th>\n",
       "      <td>{90b2799c-2106-f1b8-7e79-6afb2f15c7bf, 22fa3a9...</td>\n",
       "    </tr>\n",
       "    <tr>\n",
       "      <th>2020-08-30</th>\n",
       "      <td>{90b2799c-2106-f1b8-7e79-6afb2f15c7bf, 22fa3a9...</td>\n",
       "    </tr>\n",
       "  </tbody>\n",
       "</table>\n",
       "</div>"
      ],
      "text/plain": [
       "                                                          tek_list\n",
       "extraction_date                                                   \n",
       "2020-08-29       {90b2799c-2106-f1b8-7e79-6afb2f15c7bf, 22fa3a9...\n",
       "2020-08-30       {90b2799c-2106-f1b8-7e79-6afb2f15c7bf, 22fa3a9..."
      ]
     },
     "execution_count": 9,
     "metadata": {},
     "output_type": "execute_result"
    }
   ],
   "source": [
    "tek_list_df = historic_tek_list_df.groupby(\"extraction_date\").tek_list.apply(\n",
    "    lambda x: set(sum(x, []))).reset_index()\n",
    "tek_list_df = tek_list_df.set_index(\"extraction_date\").sort_index(ascending=True)\n",
    "tek_list_df.head()"
   ]
  },
  {
   "cell_type": "code",
   "execution_count": 10,
   "metadata": {
    "execution": {
     "iopub.execute_input": "2020-08-30T18:15:21.440461Z",
     "iopub.status.busy": "2020-08-30T18:15:21.439902Z",
     "iopub.status.idle": "2020-08-30T18:15:21.442023Z",
     "shell.execute_reply": "2020-08-30T18:15:21.442421Z"
    },
    "papermill": {
     "duration": 0.030831,
     "end_time": "2020-08-30T18:15:21.442547",
     "exception": false,
     "start_time": "2020-08-30T18:15:21.411716",
     "status": "completed"
    },
    "tags": []
   },
   "outputs": [
    {
     "data": {
      "text/html": [
       "<div>\n",
       "<style scoped>\n",
       "    .dataframe tbody tr th:only-of-type {\n",
       "        vertical-align: middle;\n",
       "    }\n",
       "\n",
       "    .dataframe tbody tr th {\n",
       "        vertical-align: top;\n",
       "    }\n",
       "\n",
       "    .dataframe thead th {\n",
       "        text-align: right;\n",
       "    }\n",
       "</style>\n",
       "<table border=\"1\" class=\"dataframe\">\n",
       "  <thead>\n",
       "    <tr style=\"text-align: right;\">\n",
       "      <th></th>\n",
       "      <th>sample_date_string</th>\n",
       "      <th>new_tek_count</th>\n",
       "    </tr>\n",
       "  </thead>\n",
       "  <tbody>\n",
       "    <tr>\n",
       "      <th>0</th>\n",
       "      <td>2020-08-29</td>\n",
       "      <td>NaN</td>\n",
       "    </tr>\n",
       "    <tr>\n",
       "      <th>1</th>\n",
       "      <td>2020-08-30</td>\n",
       "      <td>18.0</td>\n",
       "    </tr>\n",
       "  </tbody>\n",
       "</table>\n",
       "</div>"
      ],
      "text/plain": [
       "  sample_date_string  new_tek_count\n",
       "0         2020-08-29            NaN\n",
       "1         2020-08-30           18.0"
      ]
     },
     "execution_count": 10,
     "metadata": {},
     "output_type": "execute_result"
    }
   ],
   "source": [
    "new_tek_df = tek_list_df.diff().tek_list.apply(\n",
    "    lambda x: len(x) if not pd.isna(x) else None).to_frame().reset_index()\n",
    "new_tek_df.rename(columns={\n",
    "    \"tek_list\": \"new_tek_count\",\n",
    "    \"extraction_date\": \"sample_date_string\",}, inplace=True)\n",
    "new_tek_df.head()"
   ]
  },
  {
   "cell_type": "code",
   "execution_count": 11,
   "metadata": {
    "execution": {
     "iopub.execute_input": "2020-08-30T18:15:21.494541Z",
     "iopub.status.busy": "2020-08-30T18:15:21.493959Z",
     "iopub.status.idle": "2020-08-30T18:15:21.497128Z",
     "shell.execute_reply": "2020-08-30T18:15:21.496642Z"
    },
    "papermill": {
     "duration": 0.036432,
     "end_time": "2020-08-30T18:15:21.497244",
     "exception": false,
     "start_time": "2020-08-30T18:15:21.460812",
     "status": "completed"
    },
    "tags": []
   },
   "outputs": [
    {
     "data": {
      "text/html": [
       "<div>\n",
       "<style scoped>\n",
       "    .dataframe tbody tr th:only-of-type {\n",
       "        vertical-align: middle;\n",
       "    }\n",
       "\n",
       "    .dataframe tbody tr th {\n",
       "        vertical-align: top;\n",
       "    }\n",
       "\n",
       "    .dataframe thead th {\n",
       "        text-align: right;\n",
       "    }\n",
       "</style>\n",
       "<table border=\"1\" class=\"dataframe\">\n",
       "  <thead>\n",
       "    <tr style=\"text-align: right;\">\n",
       "      <th></th>\n",
       "      <th>sample_date</th>\n",
       "      <th>tek_list</th>\n",
       "      <th>extraction_date</th>\n",
       "      <th>new_sample_extraction_date</th>\n",
       "    </tr>\n",
       "  </thead>\n",
       "  <tbody>\n",
       "    <tr>\n",
       "      <th>9</th>\n",
       "      <td>2020-08-28</td>\n",
       "      <td>[757936ab-531c-4872-1d83-ce7a8d135211, 51d5fc9...</td>\n",
       "      <td>2020-08-29</td>\n",
       "      <td>2020-08-29</td>\n",
       "    </tr>\n",
       "    <tr>\n",
       "      <th>10</th>\n",
       "      <td>2020-08-29</td>\n",
       "      <td>[9731b716-4f39-9987-26f0-9fbdfc1987c8, 5cadde2...</td>\n",
       "      <td>2020-08-30</td>\n",
       "      <td>2020-08-30</td>\n",
       "    </tr>\n",
       "  </tbody>\n",
       "</table>\n",
       "</div>"
      ],
      "text/plain": [
       "   sample_date                                           tek_list  \\\n",
       "9   2020-08-28  [757936ab-531c-4872-1d83-ce7a8d135211, 51d5fc9...   \n",
       "10  2020-08-29  [9731b716-4f39-9987-26f0-9fbdfc1987c8, 5cadde2...   \n",
       "\n",
       "   extraction_date new_sample_extraction_date  \n",
       "9       2020-08-29                 2020-08-29  \n",
       "10      2020-08-30                 2020-08-30  "
      ]
     },
     "execution_count": 11,
     "metadata": {},
     "output_type": "execute_result"
    }
   ],
   "source": [
    "new_tek_devices_df = historic_tek_list_df.copy()\n",
    "new_tek_devices_df[\"new_sample_extraction_date\"] = \\\n",
    "    pd.to_datetime(new_tek_devices_df.sample_date) + datetime.timedelta(1)\n",
    "new_tek_devices_df[\"extraction_date\"] = pd.to_datetime(new_tek_devices_df.extraction_date)\n",
    "\n",
    "new_tek_devices_df = new_tek_devices_df[\n",
    "    new_tek_devices_df.new_sample_extraction_date == new_tek_devices_df.extraction_date]\n",
    "new_tek_devices_df.head()"
   ]
  },
  {
   "cell_type": "code",
   "execution_count": 12,
   "metadata": {
    "execution": {
     "iopub.execute_input": "2020-08-30T18:15:21.549079Z",
     "iopub.status.busy": "2020-08-30T18:15:21.548488Z",
     "iopub.status.idle": "2020-08-30T18:15:21.550569Z",
     "shell.execute_reply": "2020-08-30T18:15:21.550945Z"
    },
    "papermill": {
     "duration": 0.035997,
     "end_time": "2020-08-30T18:15:21.551078",
     "exception": false,
     "start_time": "2020-08-30T18:15:21.515081",
     "status": "completed"
    },
    "tags": []
   },
   "outputs": [
    {
     "data": {
      "text/html": [
       "<div>\n",
       "<style scoped>\n",
       "    .dataframe tbody tr th:only-of-type {\n",
       "        vertical-align: middle;\n",
       "    }\n",
       "\n",
       "    .dataframe tbody tr th {\n",
       "        vertical-align: top;\n",
       "    }\n",
       "\n",
       "    .dataframe thead th {\n",
       "        text-align: right;\n",
       "    }\n",
       "</style>\n",
       "<table border=\"1\" class=\"dataframe\">\n",
       "  <thead>\n",
       "    <tr style=\"text-align: right;\">\n",
       "      <th></th>\n",
       "      <th>sample_date_string</th>\n",
       "      <th>new_tek_devices</th>\n",
       "    </tr>\n",
       "  </thead>\n",
       "  <tbody>\n",
       "    <tr>\n",
       "      <th>0</th>\n",
       "      <td>2020-08-29</td>\n",
       "      <td>27</td>\n",
       "    </tr>\n",
       "    <tr>\n",
       "      <th>1</th>\n",
       "      <td>2020-08-30</td>\n",
       "      <td>13</td>\n",
       "    </tr>\n",
       "  </tbody>\n",
       "</table>\n",
       "</div>"
      ],
      "text/plain": [
       "  sample_date_string  new_tek_devices\n",
       "0         2020-08-29               27\n",
       "1         2020-08-30               13"
      ]
     },
     "execution_count": 12,
     "metadata": {},
     "output_type": "execute_result"
    }
   ],
   "source": [
    "new_tek_devices_df.set_index(\"extraction_date\", inplace=True)\n",
    "new_tek_devices_df = new_tek_devices_df.tek_list.apply(lambda x: len(set(x))).to_frame()\n",
    "new_tek_devices_df.reset_index(inplace=True)\n",
    "new_tek_devices_df.rename(columns={\n",
    "    \"extraction_date\": \"sample_date_string\",\n",
    "    \"tek_list\": \"new_tek_devices\"}, inplace=True)\n",
    "new_tek_devices_df[\"sample_date_string\"] = new_tek_devices_df.sample_date_string.dt.strftime(\"%Y-%m-%d\")\n",
    "new_tek_devices_df.head()"
   ]
  },
  {
   "cell_type": "markdown",
   "metadata": {
    "papermill": {
     "duration": 0.018934,
     "end_time": "2020-08-30T18:15:21.588548",
     "exception": false,
     "start_time": "2020-08-30T18:15:21.569614",
     "status": "completed"
    },
    "tags": []
   },
   "source": [
    "## Data Merge"
   ]
  },
  {
   "cell_type": "code",
   "execution_count": 13,
   "metadata": {
    "execution": {
     "iopub.execute_input": "2020-08-30T18:15:21.654020Z",
     "iopub.status.busy": "2020-08-30T18:15:21.653470Z",
     "iopub.status.idle": "2020-08-30T18:15:21.656529Z",
     "shell.execute_reply": "2020-08-30T18:15:21.656096Z"
    },
    "papermill": {
     "duration": 0.038821,
     "end_time": "2020-08-30T18:15:21.656641",
     "exception": false,
     "start_time": "2020-08-30T18:15:21.617820",
     "status": "completed"
    },
    "tags": []
   },
   "outputs": [
    {
     "data": {
      "text/html": [
       "<div>\n",
       "<style scoped>\n",
       "    .dataframe tbody tr th:only-of-type {\n",
       "        vertical-align: middle;\n",
       "    }\n",
       "\n",
       "    .dataframe tbody tr th {\n",
       "        vertical-align: top;\n",
       "    }\n",
       "\n",
       "    .dataframe thead th {\n",
       "        text-align: right;\n",
       "    }\n",
       "</style>\n",
       "<table border=\"1\" class=\"dataframe\">\n",
       "  <thead>\n",
       "    <tr style=\"text-align: right;\">\n",
       "      <th></th>\n",
       "      <th>sample_date_string</th>\n",
       "      <th>tek_count</th>\n",
       "      <th>new_tek_count</th>\n",
       "    </tr>\n",
       "  </thead>\n",
       "  <tbody>\n",
       "    <tr>\n",
       "      <th>0</th>\n",
       "      <td>2020-08-29</td>\n",
       "      <td>13.0</td>\n",
       "      <td>NaN</td>\n",
       "    </tr>\n",
       "    <tr>\n",
       "      <th>1</th>\n",
       "      <td>2020-08-28</td>\n",
       "      <td>29.0</td>\n",
       "      <td>NaN</td>\n",
       "    </tr>\n",
       "    <tr>\n",
       "      <th>2</th>\n",
       "      <td>2020-08-27</td>\n",
       "      <td>54.0</td>\n",
       "      <td>NaN</td>\n",
       "    </tr>\n",
       "    <tr>\n",
       "      <th>3</th>\n",
       "      <td>2020-08-26</td>\n",
       "      <td>67.0</td>\n",
       "      <td>NaN</td>\n",
       "    </tr>\n",
       "    <tr>\n",
       "      <th>4</th>\n",
       "      <td>2020-08-25</td>\n",
       "      <td>57.0</td>\n",
       "      <td>NaN</td>\n",
       "    </tr>\n",
       "  </tbody>\n",
       "</table>\n",
       "</div>"
      ],
      "text/plain": [
       "  sample_date_string  tek_count  new_tek_count\n",
       "0         2020-08-29       13.0            NaN\n",
       "1         2020-08-28       29.0            NaN\n",
       "2         2020-08-27       54.0            NaN\n",
       "3         2020-08-26       67.0            NaN\n",
       "4         2020-08-25       57.0            NaN"
      ]
     },
     "execution_count": 13,
     "metadata": {},
     "output_type": "execute_result"
    }
   ],
   "source": [
    "result_summary_df = exposure_keys_summary_df.merge(new_tek_df, on=[\"sample_date_string\"], how=\"outer\")\n",
    "result_summary_df.head()"
   ]
  },
  {
   "cell_type": "code",
   "execution_count": 14,
   "metadata": {
    "execution": {
     "iopub.execute_input": "2020-08-30T18:15:21.708573Z",
     "iopub.status.busy": "2020-08-30T18:15:21.708069Z",
     "iopub.status.idle": "2020-08-30T18:15:21.711304Z",
     "shell.execute_reply": "2020-08-30T18:15:21.710869Z"
    },
    "papermill": {
     "duration": 0.035563,
     "end_time": "2020-08-30T18:15:21.711418",
     "exception": false,
     "start_time": "2020-08-30T18:15:21.675855",
     "status": "completed"
    },
    "tags": []
   },
   "outputs": [
    {
     "data": {
      "text/html": [
       "<div>\n",
       "<style scoped>\n",
       "    .dataframe tbody tr th:only-of-type {\n",
       "        vertical-align: middle;\n",
       "    }\n",
       "\n",
       "    .dataframe tbody tr th {\n",
       "        vertical-align: top;\n",
       "    }\n",
       "\n",
       "    .dataframe thead th {\n",
       "        text-align: right;\n",
       "    }\n",
       "</style>\n",
       "<table border=\"1\" class=\"dataframe\">\n",
       "  <thead>\n",
       "    <tr style=\"text-align: right;\">\n",
       "      <th></th>\n",
       "      <th>sample_date_string</th>\n",
       "      <th>tek_count</th>\n",
       "      <th>new_tek_count</th>\n",
       "      <th>new_tek_devices</th>\n",
       "    </tr>\n",
       "  </thead>\n",
       "  <tbody>\n",
       "    <tr>\n",
       "      <th>0</th>\n",
       "      <td>2020-08-29</td>\n",
       "      <td>13.0</td>\n",
       "      <td>NaN</td>\n",
       "      <td>27.0</td>\n",
       "    </tr>\n",
       "    <tr>\n",
       "      <th>1</th>\n",
       "      <td>2020-08-28</td>\n",
       "      <td>29.0</td>\n",
       "      <td>NaN</td>\n",
       "      <td>NaN</td>\n",
       "    </tr>\n",
       "    <tr>\n",
       "      <th>2</th>\n",
       "      <td>2020-08-27</td>\n",
       "      <td>54.0</td>\n",
       "      <td>NaN</td>\n",
       "      <td>NaN</td>\n",
       "    </tr>\n",
       "    <tr>\n",
       "      <th>3</th>\n",
       "      <td>2020-08-26</td>\n",
       "      <td>67.0</td>\n",
       "      <td>NaN</td>\n",
       "      <td>NaN</td>\n",
       "    </tr>\n",
       "    <tr>\n",
       "      <th>4</th>\n",
       "      <td>2020-08-25</td>\n",
       "      <td>57.0</td>\n",
       "      <td>NaN</td>\n",
       "      <td>NaN</td>\n",
       "    </tr>\n",
       "  </tbody>\n",
       "</table>\n",
       "</div>"
      ],
      "text/plain": [
       "  sample_date_string  tek_count  new_tek_count  new_tek_devices\n",
       "0         2020-08-29       13.0            NaN             27.0\n",
       "1         2020-08-28       29.0            NaN              NaN\n",
       "2         2020-08-27       54.0            NaN              NaN\n",
       "3         2020-08-26       67.0            NaN              NaN\n",
       "4         2020-08-25       57.0            NaN              NaN"
      ]
     },
     "execution_count": 14,
     "metadata": {},
     "output_type": "execute_result"
    }
   ],
   "source": [
    "result_summary_df = result_summary_df.merge(new_tek_devices_df, on=[\"sample_date_string\"], how=\"outer\")\n",
    "result_summary_df.head()"
   ]
  },
  {
   "cell_type": "code",
   "execution_count": 15,
   "metadata": {
    "execution": {
     "iopub.execute_input": "2020-08-30T18:15:21.755962Z",
     "iopub.status.busy": "2020-08-30T18:15:21.753152Z",
     "iopub.status.idle": "2020-08-30T18:15:21.766540Z",
     "shell.execute_reply": "2020-08-30T18:15:21.765867Z"
    },
    "papermill": {
     "duration": 0.036338,
     "end_time": "2020-08-30T18:15:21.766659",
     "exception": false,
     "start_time": "2020-08-30T18:15:21.730321",
     "status": "completed"
    },
    "pycharm": {
     "name": "#%%\n"
    },
    "tags": []
   },
   "outputs": [
    {
     "data": {
      "text/html": [
       "<div>\n",
       "<style scoped>\n",
       "    .dataframe tbody tr th:only-of-type {\n",
       "        vertical-align: middle;\n",
       "    }\n",
       "\n",
       "    .dataframe tbody tr th {\n",
       "        vertical-align: top;\n",
       "    }\n",
       "\n",
       "    .dataframe thead th {\n",
       "        text-align: right;\n",
       "    }\n",
       "</style>\n",
       "<table border=\"1\" class=\"dataframe\">\n",
       "  <thead>\n",
       "    <tr style=\"text-align: right;\">\n",
       "      <th></th>\n",
       "      <th>sample_date_string</th>\n",
       "      <th>tek_count</th>\n",
       "      <th>new_tek_count</th>\n",
       "      <th>new_tek_devices</th>\n",
       "      <th>cumulative_cases</th>\n",
       "      <th>new_cases</th>\n",
       "      <th>rolling_mean_new_cases</th>\n",
       "    </tr>\n",
       "  </thead>\n",
       "  <tbody>\n",
       "    <tr>\n",
       "      <th>0</th>\n",
       "      <td>2020-08-29</td>\n",
       "      <td>13.0</td>\n",
       "      <td>NaN</td>\n",
       "      <td>27.0</td>\n",
       "      <td>439286.0</td>\n",
       "      <td>0.0</td>\n",
       "      <td>7604.571429</td>\n",
       "    </tr>\n",
       "    <tr>\n",
       "      <th>1</th>\n",
       "      <td>2020-08-28</td>\n",
       "      <td>29.0</td>\n",
       "      <td>NaN</td>\n",
       "      <td>NaN</td>\n",
       "      <td>439286.0</td>\n",
       "      <td>9779.0</td>\n",
       "      <td>7604.571429</td>\n",
       "    </tr>\n",
       "    <tr>\n",
       "      <th>2</th>\n",
       "      <td>2020-08-27</td>\n",
       "      <td>54.0</td>\n",
       "      <td>NaN</td>\n",
       "      <td>NaN</td>\n",
       "      <td>429507.0</td>\n",
       "      <td>9658.0</td>\n",
       "      <td>7371.571429</td>\n",
       "    </tr>\n",
       "    <tr>\n",
       "      <th>3</th>\n",
       "      <td>2020-08-26</td>\n",
       "      <td>67.0</td>\n",
       "      <td>NaN</td>\n",
       "      <td>NaN</td>\n",
       "      <td>419849.0</td>\n",
       "      <td>7296.0</td>\n",
       "      <td>6997.428571</td>\n",
       "    </tr>\n",
       "    <tr>\n",
       "      <th>4</th>\n",
       "      <td>2020-08-25</td>\n",
       "      <td>57.0</td>\n",
       "      <td>NaN</td>\n",
       "      <td>NaN</td>\n",
       "      <td>412553.0</td>\n",
       "      <td>7117.0</td>\n",
       "      <td>6908.142857</td>\n",
       "    </tr>\n",
       "  </tbody>\n",
       "</table>\n",
       "</div>"
      ],
      "text/plain": [
       "  sample_date_string  tek_count  new_tek_count  new_tek_devices  \\\n",
       "0         2020-08-29       13.0            NaN             27.0   \n",
       "1         2020-08-28       29.0            NaN              NaN   \n",
       "2         2020-08-27       54.0            NaN              NaN   \n",
       "3         2020-08-26       67.0            NaN              NaN   \n",
       "4         2020-08-25       57.0            NaN              NaN   \n",
       "\n",
       "   cumulative_cases  new_cases  rolling_mean_new_cases  \n",
       "0          439286.0        0.0             7604.571429  \n",
       "1          439286.0     9779.0             7604.571429  \n",
       "2          429507.0     9658.0             7371.571429  \n",
       "3          419849.0     7296.0             6997.428571  \n",
       "4          412553.0     7117.0             6908.142857  "
      ]
     },
     "execution_count": 15,
     "metadata": {},
     "output_type": "execute_result"
    }
   ],
   "source": [
    "result_summary_df = result_summary_df.merge(confirmed_df, on=[\"sample_date_string\"], how=\"left\")\n",
    "result_summary_df.head()"
   ]
  },
  {
   "cell_type": "code",
   "execution_count": 16,
   "metadata": {
    "execution": {
     "iopub.execute_input": "2020-08-30T18:15:21.809401Z",
     "iopub.status.busy": "2020-08-30T18:15:21.808866Z",
     "iopub.status.idle": "2020-08-30T18:15:21.824314Z",
     "shell.execute_reply": "2020-08-30T18:15:21.823876Z"
    },
    "papermill": {
     "duration": 0.03895,
     "end_time": "2020-08-30T18:15:21.824439",
     "exception": false,
     "start_time": "2020-08-30T18:15:21.785489",
     "status": "completed"
    },
    "tags": []
   },
   "outputs": [
    {
     "data": {
      "text/html": [
       "<div>\n",
       "<style scoped>\n",
       "    .dataframe tbody tr th:only-of-type {\n",
       "        vertical-align: middle;\n",
       "    }\n",
       "\n",
       "    .dataframe tbody tr th {\n",
       "        vertical-align: top;\n",
       "    }\n",
       "\n",
       "    .dataframe thead th {\n",
       "        text-align: right;\n",
       "    }\n",
       "</style>\n",
       "<table border=\"1\" class=\"dataframe\">\n",
       "  <thead>\n",
       "    <tr style=\"text-align: right;\">\n",
       "      <th></th>\n",
       "      <th>sample_date_string</th>\n",
       "      <th>tek_count</th>\n",
       "      <th>new_tek_count</th>\n",
       "      <th>new_tek_devices</th>\n",
       "      <th>cumulative_cases</th>\n",
       "      <th>new_cases</th>\n",
       "      <th>rolling_mean_new_cases</th>\n",
       "      <th>tek_count_per_new_case</th>\n",
       "      <th>new_tek_count_per_new_case</th>\n",
       "      <th>new_tek_devices_per_new_case</th>\n",
       "      <th>new_tek_count_per_new_tek_device</th>\n",
       "    </tr>\n",
       "  </thead>\n",
       "  <tbody>\n",
       "    <tr>\n",
       "      <th>0</th>\n",
       "      <td>2020-08-29</td>\n",
       "      <td>13.0</td>\n",
       "      <td>NaN</td>\n",
       "      <td>27.0</td>\n",
       "      <td>439286.0</td>\n",
       "      <td>0.0</td>\n",
       "      <td>7604.571429</td>\n",
       "      <td>0.001709</td>\n",
       "      <td>NaN</td>\n",
       "      <td>0.00355</td>\n",
       "      <td>NaN</td>\n",
       "    </tr>\n",
       "    <tr>\n",
       "      <th>1</th>\n",
       "      <td>2020-08-28</td>\n",
       "      <td>29.0</td>\n",
       "      <td>NaN</td>\n",
       "      <td>NaN</td>\n",
       "      <td>439286.0</td>\n",
       "      <td>9779.0</td>\n",
       "      <td>7604.571429</td>\n",
       "      <td>0.003813</td>\n",
       "      <td>NaN</td>\n",
       "      <td>NaN</td>\n",
       "      <td>NaN</td>\n",
       "    </tr>\n",
       "    <tr>\n",
       "      <th>2</th>\n",
       "      <td>2020-08-27</td>\n",
       "      <td>54.0</td>\n",
       "      <td>NaN</td>\n",
       "      <td>NaN</td>\n",
       "      <td>429507.0</td>\n",
       "      <td>9658.0</td>\n",
       "      <td>7371.571429</td>\n",
       "      <td>0.007325</td>\n",
       "      <td>NaN</td>\n",
       "      <td>NaN</td>\n",
       "      <td>NaN</td>\n",
       "    </tr>\n",
       "    <tr>\n",
       "      <th>3</th>\n",
       "      <td>2020-08-26</td>\n",
       "      <td>67.0</td>\n",
       "      <td>NaN</td>\n",
       "      <td>NaN</td>\n",
       "      <td>419849.0</td>\n",
       "      <td>7296.0</td>\n",
       "      <td>6997.428571</td>\n",
       "      <td>0.009575</td>\n",
       "      <td>NaN</td>\n",
       "      <td>NaN</td>\n",
       "      <td>NaN</td>\n",
       "    </tr>\n",
       "    <tr>\n",
       "      <th>4</th>\n",
       "      <td>2020-08-25</td>\n",
       "      <td>57.0</td>\n",
       "      <td>NaN</td>\n",
       "      <td>NaN</td>\n",
       "      <td>412553.0</td>\n",
       "      <td>7117.0</td>\n",
       "      <td>6908.142857</td>\n",
       "      <td>0.008251</td>\n",
       "      <td>NaN</td>\n",
       "      <td>NaN</td>\n",
       "      <td>NaN</td>\n",
       "    </tr>\n",
       "  </tbody>\n",
       "</table>\n",
       "</div>"
      ],
      "text/plain": [
       "  sample_date_string  tek_count  new_tek_count  new_tek_devices  \\\n",
       "0         2020-08-29       13.0            NaN             27.0   \n",
       "1         2020-08-28       29.0            NaN              NaN   \n",
       "2         2020-08-27       54.0            NaN              NaN   \n",
       "3         2020-08-26       67.0            NaN              NaN   \n",
       "4         2020-08-25       57.0            NaN              NaN   \n",
       "\n",
       "   cumulative_cases  new_cases  rolling_mean_new_cases  \\\n",
       "0          439286.0        0.0             7604.571429   \n",
       "1          439286.0     9779.0             7604.571429   \n",
       "2          429507.0     9658.0             7371.571429   \n",
       "3          419849.0     7296.0             6997.428571   \n",
       "4          412553.0     7117.0             6908.142857   \n",
       "\n",
       "   tek_count_per_new_case  new_tek_count_per_new_case  \\\n",
       "0                0.001709                         NaN   \n",
       "1                0.003813                         NaN   \n",
       "2                0.007325                         NaN   \n",
       "3                0.009575                         NaN   \n",
       "4                0.008251                         NaN   \n",
       "\n",
       "   new_tek_devices_per_new_case  new_tek_count_per_new_tek_device  \n",
       "0                       0.00355                               NaN  \n",
       "1                           NaN                               NaN  \n",
       "2                           NaN                               NaN  \n",
       "3                           NaN                               NaN  \n",
       "4                           NaN                               NaN  "
      ]
     },
     "execution_count": 16,
     "metadata": {},
     "output_type": "execute_result"
    }
   ],
   "source": [
    "result_summary_df[\"tek_count_per_new_case\"] = \\\n",
    "    result_summary_df.tek_count / result_summary_df.rolling_mean_new_cases\n",
    "result_summary_df[\"new_tek_count_per_new_case\"] = \\\n",
    "    result_summary_df.new_tek_count / result_summary_df.rolling_mean_new_cases\n",
    "result_summary_df[\"new_tek_devices_per_new_case\"] = \\\n",
    "    result_summary_df.new_tek_devices / result_summary_df.rolling_mean_new_cases\n",
    "result_summary_df[\"new_tek_count_per_new_tek_device\"] = \\\n",
    "    result_summary_df.new_tek_count / result_summary_df.new_tek_devices\n",
    "result_summary_df.head()"
   ]
  },
  {
   "cell_type": "markdown",
   "metadata": {
    "papermill": {
     "duration": 0.019767,
     "end_time": "2020-08-30T18:15:21.864027",
     "exception": false,
     "start_time": "2020-08-30T18:15:21.844260",
     "status": "completed"
    },
    "tags": []
   },
   "source": [
    "## Results"
   ]
  },
  {
   "cell_type": "code",
   "execution_count": 17,
   "metadata": {
    "execution": {
     "iopub.execute_input": "2020-08-30T18:15:21.914881Z",
     "iopub.status.busy": "2020-08-30T18:15:21.914306Z",
     "iopub.status.idle": "2020-08-30T18:15:21.917523Z",
     "shell.execute_reply": "2020-08-30T18:15:21.917924Z"
    },
    "papermill": {
     "duration": 0.034546,
     "end_time": "2020-08-30T18:15:21.918071",
     "exception": false,
     "start_time": "2020-08-30T18:15:21.883525",
     "status": "completed"
    },
    "pycharm": {
     "name": "#%%\n"
    },
    "tags": []
   },
   "outputs": [],
   "source": [
    "result_summary_df[\"sample_date\"] = pd.to_datetime(result_summary_df.sample_date_string)\n",
    "result_summary_df.set_index(\"sample_date\", inplace=True)\n",
    "result_summary_df = result_summary_df.sort_index(ascending=False)"
   ]
  },
  {
   "cell_type": "code",
   "execution_count": 18,
   "metadata": {
    "execution": {
     "iopub.execute_input": "2020-08-30T18:15:21.977504Z",
     "iopub.status.busy": "2020-08-30T18:15:21.976983Z",
     "iopub.status.idle": "2020-08-30T18:15:21.980239Z",
     "shell.execute_reply": "2020-08-30T18:15:21.979779Z"
    },
    "papermill": {
     "duration": 0.041758,
     "end_time": "2020-08-30T18:15:21.980354",
     "exception": false,
     "start_time": "2020-08-30T18:15:21.938596",
     "status": "completed"
    },
    "pycharm": {
     "name": "#%%\n"
    },
    "tags": []
   },
   "outputs": [
    {
     "data": {
      "text/html": [
       "<div>\n",
       "<style scoped>\n",
       "    .dataframe tbody tr th:only-of-type {\n",
       "        vertical-align: middle;\n",
       "    }\n",
       "\n",
       "    .dataframe tbody tr th {\n",
       "        vertical-align: top;\n",
       "    }\n",
       "\n",
       "    .dataframe thead th {\n",
       "        text-align: right;\n",
       "    }\n",
       "</style>\n",
       "<table border=\"1\" class=\"dataframe\">\n",
       "  <thead>\n",
       "    <tr style=\"text-align: right;\">\n",
       "      <th></th>\n",
       "      <th>tek_count</th>\n",
       "      <th>new_tek_count</th>\n",
       "      <th>new_cases</th>\n",
       "      <th>rolling_mean_new_cases</th>\n",
       "      <th>tek_count_per_new_case</th>\n",
       "      <th>new_tek_count_per_new_case</th>\n",
       "      <th>new_tek_devices</th>\n",
       "      <th>new_tek_devices_per_new_case</th>\n",
       "      <th>new_tek_count_per_new_tek_device</th>\n",
       "    </tr>\n",
       "    <tr>\n",
       "      <th>sample_date</th>\n",
       "      <th></th>\n",
       "      <th></th>\n",
       "      <th></th>\n",
       "      <th></th>\n",
       "      <th></th>\n",
       "      <th></th>\n",
       "      <th></th>\n",
       "      <th></th>\n",
       "      <th></th>\n",
       "    </tr>\n",
       "  </thead>\n",
       "  <tbody>\n",
       "    <tr>\n",
       "      <th>2020-08-30</th>\n",
       "      <td>NaN</td>\n",
       "      <td>18.0</td>\n",
       "      <td>NaN</td>\n",
       "      <td>NaN</td>\n",
       "      <td>NaN</td>\n",
       "      <td>NaN</td>\n",
       "      <td>13.0</td>\n",
       "      <td>NaN</td>\n",
       "      <td>1.384615</td>\n",
       "    </tr>\n",
       "    <tr>\n",
       "      <th>2020-08-29</th>\n",
       "      <td>13.0</td>\n",
       "      <td>NaN</td>\n",
       "      <td>0.0</td>\n",
       "      <td>7604.571429</td>\n",
       "      <td>0.001709</td>\n",
       "      <td>NaN</td>\n",
       "      <td>27.0</td>\n",
       "      <td>0.00355</td>\n",
       "      <td>NaN</td>\n",
       "    </tr>\n",
       "    <tr>\n",
       "      <th>2020-08-28</th>\n",
       "      <td>29.0</td>\n",
       "      <td>NaN</td>\n",
       "      <td>9779.0</td>\n",
       "      <td>7604.571429</td>\n",
       "      <td>0.003813</td>\n",
       "      <td>NaN</td>\n",
       "      <td>NaN</td>\n",
       "      <td>NaN</td>\n",
       "      <td>NaN</td>\n",
       "    </tr>\n",
       "    <tr>\n",
       "      <th>2020-08-27</th>\n",
       "      <td>54.0</td>\n",
       "      <td>NaN</td>\n",
       "      <td>9658.0</td>\n",
       "      <td>7371.571429</td>\n",
       "      <td>0.007325</td>\n",
       "      <td>NaN</td>\n",
       "      <td>NaN</td>\n",
       "      <td>NaN</td>\n",
       "      <td>NaN</td>\n",
       "    </tr>\n",
       "    <tr>\n",
       "      <th>2020-08-26</th>\n",
       "      <td>67.0</td>\n",
       "      <td>NaN</td>\n",
       "      <td>7296.0</td>\n",
       "      <td>6997.428571</td>\n",
       "      <td>0.009575</td>\n",
       "      <td>NaN</td>\n",
       "      <td>NaN</td>\n",
       "      <td>NaN</td>\n",
       "      <td>NaN</td>\n",
       "    </tr>\n",
       "    <tr>\n",
       "      <th>2020-08-25</th>\n",
       "      <td>57.0</td>\n",
       "      <td>NaN</td>\n",
       "      <td>7117.0</td>\n",
       "      <td>6908.142857</td>\n",
       "      <td>0.008251</td>\n",
       "      <td>NaN</td>\n",
       "      <td>NaN</td>\n",
       "      <td>NaN</td>\n",
       "      <td>NaN</td>\n",
       "    </tr>\n",
       "    <tr>\n",
       "      <th>2020-08-24</th>\n",
       "      <td>48.0</td>\n",
       "      <td>NaN</td>\n",
       "      <td>19382.0</td>\n",
       "      <td>6622.000000</td>\n",
       "      <td>0.007249</td>\n",
       "      <td>NaN</td>\n",
       "      <td>NaN</td>\n",
       "      <td>NaN</td>\n",
       "      <td>NaN</td>\n",
       "    </tr>\n",
       "    <tr>\n",
       "      <th>2020-08-23</th>\n",
       "      <td>28.0</td>\n",
       "      <td>NaN</td>\n",
       "      <td>0.0</td>\n",
       "      <td>6177.285714</td>\n",
       "      <td>0.004533</td>\n",
       "      <td>NaN</td>\n",
       "      <td>NaN</td>\n",
       "      <td>NaN</td>\n",
       "      <td>NaN</td>\n",
       "    </tr>\n",
       "    <tr>\n",
       "      <th>2020-08-22</th>\n",
       "      <td>18.0</td>\n",
       "      <td>NaN</td>\n",
       "      <td>0.0</td>\n",
       "      <td>6177.285714</td>\n",
       "      <td>0.002914</td>\n",
       "      <td>NaN</td>\n",
       "      <td>NaN</td>\n",
       "      <td>NaN</td>\n",
       "      <td>NaN</td>\n",
       "    </tr>\n",
       "    <tr>\n",
       "      <th>2020-08-21</th>\n",
       "      <td>11.0</td>\n",
       "      <td>NaN</td>\n",
       "      <td>8148.0</td>\n",
       "      <td>6177.285714</td>\n",
       "      <td>0.001781</td>\n",
       "      <td>NaN</td>\n",
       "      <td>NaN</td>\n",
       "      <td>NaN</td>\n",
       "      <td>NaN</td>\n",
       "    </tr>\n",
       "    <tr>\n",
       "      <th>2020-08-20</th>\n",
       "      <td>4.0</td>\n",
       "      <td>NaN</td>\n",
       "      <td>7039.0</td>\n",
       "      <td>5796.000000</td>\n",
       "      <td>0.000690</td>\n",
       "      <td>NaN</td>\n",
       "      <td>NaN</td>\n",
       "      <td>NaN</td>\n",
       "      <td>NaN</td>\n",
       "    </tr>\n",
       "    <tr>\n",
       "      <th>2020-08-19</th>\n",
       "      <td>1.0</td>\n",
       "      <td>NaN</td>\n",
       "      <td>6671.0</td>\n",
       "      <td>5869.000000</td>\n",
       "      <td>0.000170</td>\n",
       "      <td>NaN</td>\n",
       "      <td>NaN</td>\n",
       "      <td>NaN</td>\n",
       "      <td>NaN</td>\n",
       "    </tr>\n",
       "  </tbody>\n",
       "</table>\n",
       "</div>"
      ],
      "text/plain": [
       "             tek_count  new_tek_count  new_cases  rolling_mean_new_cases  \\\n",
       "sample_date                                                                \n",
       "2020-08-30         NaN           18.0        NaN                     NaN   \n",
       "2020-08-29        13.0            NaN        0.0             7604.571429   \n",
       "2020-08-28        29.0            NaN     9779.0             7604.571429   \n",
       "2020-08-27        54.0            NaN     9658.0             7371.571429   \n",
       "2020-08-26        67.0            NaN     7296.0             6997.428571   \n",
       "2020-08-25        57.0            NaN     7117.0             6908.142857   \n",
       "2020-08-24        48.0            NaN    19382.0             6622.000000   \n",
       "2020-08-23        28.0            NaN        0.0             6177.285714   \n",
       "2020-08-22        18.0            NaN        0.0             6177.285714   \n",
       "2020-08-21        11.0            NaN     8148.0             6177.285714   \n",
       "2020-08-20         4.0            NaN     7039.0             5796.000000   \n",
       "2020-08-19         1.0            NaN     6671.0             5869.000000   \n",
       "\n",
       "             tek_count_per_new_case  new_tek_count_per_new_case  \\\n",
       "sample_date                                                       \n",
       "2020-08-30                      NaN                         NaN   \n",
       "2020-08-29                 0.001709                         NaN   \n",
       "2020-08-28                 0.003813                         NaN   \n",
       "2020-08-27                 0.007325                         NaN   \n",
       "2020-08-26                 0.009575                         NaN   \n",
       "2020-08-25                 0.008251                         NaN   \n",
       "2020-08-24                 0.007249                         NaN   \n",
       "2020-08-23                 0.004533                         NaN   \n",
       "2020-08-22                 0.002914                         NaN   \n",
       "2020-08-21                 0.001781                         NaN   \n",
       "2020-08-20                 0.000690                         NaN   \n",
       "2020-08-19                 0.000170                         NaN   \n",
       "\n",
       "             new_tek_devices  new_tek_devices_per_new_case  \\\n",
       "sample_date                                                  \n",
       "2020-08-30              13.0                           NaN   \n",
       "2020-08-29              27.0                       0.00355   \n",
       "2020-08-28               NaN                           NaN   \n",
       "2020-08-27               NaN                           NaN   \n",
       "2020-08-26               NaN                           NaN   \n",
       "2020-08-25               NaN                           NaN   \n",
       "2020-08-24               NaN                           NaN   \n",
       "2020-08-23               NaN                           NaN   \n",
       "2020-08-22               NaN                           NaN   \n",
       "2020-08-21               NaN                           NaN   \n",
       "2020-08-20               NaN                           NaN   \n",
       "2020-08-19               NaN                           NaN   \n",
       "\n",
       "             new_tek_count_per_new_tek_device  \n",
       "sample_date                                    \n",
       "2020-08-30                           1.384615  \n",
       "2020-08-29                                NaN  \n",
       "2020-08-28                                NaN  \n",
       "2020-08-27                                NaN  \n",
       "2020-08-26                                NaN  \n",
       "2020-08-25                                NaN  \n",
       "2020-08-24                                NaN  \n",
       "2020-08-23                                NaN  \n",
       "2020-08-22                                NaN  \n",
       "2020-08-21                                NaN  \n",
       "2020-08-20                                NaN  \n",
       "2020-08-19                                NaN  "
      ]
     },
     "execution_count": 18,
     "metadata": {},
     "output_type": "execute_result"
    }
   ],
   "source": [
    "result_summary_df[[\n",
    "    \"tek_count\",\n",
    "    \"new_tek_count\",\n",
    "    \"new_cases\",\n",
    "    \"rolling_mean_new_cases\",\n",
    "    \"tek_count_per_new_case\",\n",
    "    \"new_tek_count_per_new_case\",\n",
    "    \"new_tek_devices\",\n",
    "    \"new_tek_devices_per_new_case\",\n",
    "    \"new_tek_count_per_new_tek_device\"]]"
   ]
  },
  {
   "cell_type": "code",
   "execution_count": 19,
   "metadata": {
    "execution": {
     "iopub.execute_input": "2020-08-30T18:15:22.045805Z",
     "iopub.status.busy": "2020-08-30T18:15:22.045230Z",
     "iopub.status.idle": "2020-08-30T18:15:22.834888Z",
     "shell.execute_reply": "2020-08-30T18:15:22.835291Z"
    },
    "papermill": {
     "duration": 0.834232,
     "end_time": "2020-08-30T18:15:22.835445",
     "exception": false,
     "start_time": "2020-08-30T18:15:22.001213",
     "status": "completed"
    },
    "tags": []
   },
   "outputs": [
    {
     "data": {
      "text/plain": [
       "array([<matplotlib.axes._subplots.AxesSubplot object at 0x7f93d70575e0>,\n",
       "       <matplotlib.axes._subplots.AxesSubplot object at 0x7f93d710b760>,\n",
       "       <matplotlib.axes._subplots.AxesSubplot object at 0x7f93d710b220>,\n",
       "       <matplotlib.axes._subplots.AxesSubplot object at 0x7f93d70136d0>,\n",
       "       <matplotlib.axes._subplots.AxesSubplot object at 0x7f93d7032e80>],\n",
       "      dtype=object)"
      ]
     },
     "execution_count": 19,
     "metadata": {},
     "output_type": "execute_result"
    },
    {
     "data": {
      "image/png": "[encoded data removed]",
      "text/plain": [
       "<Figure size 1080x1296 with 5 Axes>"
      ]
     },
     "metadata": {},
     "output_type": "display_data"
    }
   ],
   "source": [
    "result_summary_df[[\n",
    "    \"rolling_mean_new_cases\",\n",
    "    \"tek_count\",\n",
    "    \"new_tek_count\",\n",
    "    \"new_tek_devices\",\n",
    "    \"new_tek_count_per_new_tek_device\"\n",
    "]].sort_index(ascending=True).plot.bar(\n",
    "    rot=45, subplots=True, figsize=(15, 18))"
   ]
  },
  {
   "cell_type": "code",
   "execution_count": 20,
   "metadata": {
    "execution": {
     "iopub.execute_input": "2020-08-30T18:15:22.901866Z",
     "iopub.status.busy": "2020-08-30T18:15:22.898911Z",
     "iopub.status.idle": "2020-08-30T18:15:23.089357Z",
     "shell.execute_reply": "2020-08-30T18:15:23.089857Z"
    },
    "papermill": {
     "duration": 0.232069,
     "end_time": "2020-08-30T18:15:23.090004",
     "exception": false,
     "start_time": "2020-08-30T18:15:22.857935",
     "status": "completed"
    },
    "tags": []
   },
   "outputs": [
    {
     "data": {
      "image/png": "[encoded data removed]",
      "text/plain": [
       "<Figure size 1080x360 with 1 Axes>"
      ]
     },
     "metadata": {},
     "output_type": "display_data"
    }
   ],
   "source": [
    "import matplotlib.ticker as mtick\n",
    "\n",
    "ax = result_summary_df[\n",
    "    [\"new_tek_devices_per_new_case\"]].sort_index(ascending=True).plot.bar(\n",
    "    rot=45, figsize=(15, 5))\n",
    "ax.yaxis.set_major_formatter(mtick.PercentFormatter(1.0))"
   ]
  },
  {
   "cell_type": "code",
   "execution_count": null,
   "metadata": {
    "papermill": {
     "duration": 0.022966,
     "end_time": "2020-08-30T18:15:23.134970",
     "exception": false,
     "start_time": "2020-08-30T18:15:23.112004",
     "status": "completed"
    },
    "tags": []
   },
   "outputs": [],
   "source": []
  }
 ],
 "metadata": {
  "kernelspec": {
   "display_name": "Python 3",
   "language": "python",
   "name": "python3"
  },
  "language_info": {
   "codemirror_mode": {
    "name": "ipython",
    "version": 3
   },
   "file_extension": ".py",
   "mimetype": "text/x-python",
   "name": "python",
   "nbconvert_exporter": "python",
   "pygments_lexer": "ipython3",
   "version": "3.8.5"
  },
  "papermill": {
   "duration": 8.853213,
   "end_time": "2020-08-30T18:15:23.567686",
   "environment_variables": {},
   "exception": null,
   "input_path": "RadarCOVID-Report.ipynb",
   "output_path": "RadarCOVID-Report.ipynb",
   "parameters": {},
   "start_time": "2020-08-30T18:15:14.714473",
   "version": "2.1.3"
  }
 },
 "nbformat": 4,
 "nbformat_minor": 1
}