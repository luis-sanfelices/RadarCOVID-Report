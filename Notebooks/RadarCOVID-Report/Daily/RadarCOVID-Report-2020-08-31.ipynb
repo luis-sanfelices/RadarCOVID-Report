{
 "cells": [
  {
   "cell_type": "markdown",
   "metadata": {
    "papermill": {
     "duration": 0.018228,
     "end_time": "2020-08-31T15:08:49.603102",
     "exception": false,
     "start_time": "2020-08-31T15:08:49.584874",
     "status": "completed"
    },
    "pycharm": {
     "name": "#%% md\n"
    },
    "tags": []
   },
   "source": [
    "# RadarCOVID-Report\n",
    "\n",
    "## Index\n",
    "\n",
    "- [Data Extraction](#Data-Extraction)\n",
    "- [Report Results](#Report-Results)"
   ]
  },
  {
   "cell_type": "markdown",
   "metadata": {
    "collapsed": true,
    "papermill": {
     "duration": 0.017866,
     "end_time": "2020-08-31T15:08:49.638502",
     "exception": false,
     "start_time": "2020-08-31T15:08:49.620636",
     "status": "completed"
    },
    "pycharm": {
     "name": "#%% md\n"
    },
    "tags": []
   },
   "source": [
    "## Data Extraction"
   ]
  },
  {
   "cell_type": "code",
   "execution_count": 1,
   "metadata": {
    "collapsed": false,
    "execution": {
     "iopub.execute_input": "2020-08-31T15:08:49.676207Z",
     "iopub.status.busy": "2020-08-31T15:08:49.675589Z",
     "iopub.status.idle": "2020-08-31T15:08:52.714696Z",
     "shell.execute_reply": "2020-08-31T15:08:52.713637Z"
    },
    "papermill": {
     "duration": 3.060274,
     "end_time": "2020-08-31T15:08:52.714865",
     "exception": false,
     "start_time": "2020-08-31T15:08:49.654591",
     "status": "completed"
    },
    "pycharm": {
     "name": "#%%\n"
    },
    "tags": []
   },
   "outputs": [],
   "source": [
    "import os\n",
    "import shutil\n",
    "import tempfile\n",
    "import uuid\n",
    "\n",
    "import dataframe_image as dfi\n",
    "import matplotlib.ticker\n",
    "import pandas as pd\n",
    "import seaborn as sns\n",
    "\n",
    "%matplotlib inline"
   ]
  },
  {
   "cell_type": "code",
   "execution_count": 2,
   "metadata": {
    "collapsed": false,
    "execution": {
     "iopub.execute_input": "2020-08-31T15:08:52.757312Z",
     "iopub.status.busy": "2020-08-31T15:08:52.756447Z",
     "iopub.status.idle": "2020-08-31T15:08:52.759995Z",
     "shell.execute_reply": "2020-08-31T15:08:52.759216Z"
    },
    "papermill": {
     "duration": 0.027663,
     "end_time": "2020-08-31T15:08:52.760123",
     "exception": false,
     "start_time": "2020-08-31T15:08:52.732460",
     "status": "completed"
    },
    "pycharm": {
     "name": "#%%\n"
    },
    "tags": []
   },
   "outputs": [],
   "source": [
    "sns.set()\n",
    "matplotlib.rcParams['figure.figsize'] = (15, 6)"
   ]
  },
  {
   "cell_type": "markdown",
   "metadata": {
    "collapsed": false,
    "papermill": {
     "duration": 0.018696,
     "end_time": "2020-08-31T15:08:52.796249",
     "exception": false,
     "start_time": "2020-08-31T15:08:52.777553",
     "status": "completed"
    },
    "tags": []
   },
   "source": [
    "### COVID-19 Cases"
   ]
  },
  {
   "cell_type": "code",
   "execution_count": 3,
   "metadata": {
    "execution": {
     "iopub.execute_input": "2020-08-31T15:08:52.839434Z",
     "iopub.status.busy": "2020-08-31T15:08:52.838863Z",
     "iopub.status.idle": "2020-08-31T15:08:53.256658Z",
     "shell.execute_reply": "2020-08-31T15:08:53.257065Z"
    },
    "papermill": {
     "duration": 0.441912,
     "end_time": "2020-08-31T15:08:53.257274",
     "exception": false,
     "start_time": "2020-08-31T15:08:52.815362",
     "status": "completed"
    },
    "pycharm": {
     "name": "#%%\n"
    },
    "tags": []
   },
   "outputs": [
    {
     "data": {
      "text/html": [
       "<div>\n",
       "<style scoped>\n",
       "    .dataframe tbody tr th:only-of-type {\n",
       "        vertical-align: middle;\n",
       "    }\n",
       "\n",
       "    .dataframe tbody tr th {\n",
       "        vertical-align: top;\n",
       "    }\n",
       "\n",
       "    .dataframe thead th {\n",
       "        text-align: right;\n",
       "    }\n",
       "</style>\n",
       "<table border=\"1\" class=\"dataframe\">\n",
       "  <thead>\n",
       "    <tr style=\"text-align: right;\">\n",
       "      <th></th>\n",
       "      <th>sample_date_string</th>\n",
       "      <th>cumulative_cases</th>\n",
       "      <th>new_cases</th>\n",
       "      <th>rolling_mean_new_cases</th>\n",
       "    </tr>\n",
       "  </thead>\n",
       "  <tbody>\n",
       "    <tr>\n",
       "      <th>0</th>\n",
       "      <td>2020-01-23</td>\n",
       "      <td>0.0</td>\n",
       "      <td>NaN</td>\n",
       "      <td>NaN</td>\n",
       "    </tr>\n",
       "    <tr>\n",
       "      <th>1</th>\n",
       "      <td>2020-01-24</td>\n",
       "      <td>0.0</td>\n",
       "      <td>0.0</td>\n",
       "      <td>NaN</td>\n",
       "    </tr>\n",
       "    <tr>\n",
       "      <th>2</th>\n",
       "      <td>2020-01-25</td>\n",
       "      <td>0.0</td>\n",
       "      <td>0.0</td>\n",
       "      <td>NaN</td>\n",
       "    </tr>\n",
       "    <tr>\n",
       "      <th>3</th>\n",
       "      <td>2020-01-26</td>\n",
       "      <td>0.0</td>\n",
       "      <td>0.0</td>\n",
       "      <td>NaN</td>\n",
       "    </tr>\n",
       "    <tr>\n",
       "      <th>4</th>\n",
       "      <td>2020-01-27</td>\n",
       "      <td>0.0</td>\n",
       "      <td>0.0</td>\n",
       "      <td>NaN</td>\n",
       "    </tr>\n",
       "  </tbody>\n",
       "</table>\n",
       "</div>"
      ],
      "text/plain": [
       "  sample_date_string  cumulative_cases  new_cases  rolling_mean_new_cases\n",
       "0         2020-01-23               0.0        NaN                     NaN\n",
       "1         2020-01-24               0.0        0.0                     NaN\n",
       "2         2020-01-25               0.0        0.0                     NaN\n",
       "3         2020-01-26               0.0        0.0                     NaN\n",
       "4         2020-01-27               0.0        0.0                     NaN"
      ]
     },
     "execution_count": 3,
     "metadata": {},
     "output_type": "execute_result"
    }
   ],
   "source": [
    "confirmed_df = pd.read_csv(\"https://covid19tracking.narrativa.com/csv/confirmed.csv\")\n",
    "confirmed_df = confirmed_df[confirmed_df[\"Country_EN\"] == \"Spain\"]\n",
    "confirmed_df = confirmed_df[pd.isna(confirmed_df[\"Region\"])]\n",
    "confirmed_country_columns = list(filter(lambda x: x.startswith(\"Country_\"), confirmed_df.columns))\n",
    "confirmed_regional_columns = confirmed_country_columns + [\"Region\"]\n",
    "confirmed_df.drop(columns=confirmed_regional_columns, inplace=True)\n",
    "confirmed_df = confirmed_df.transpose()\n",
    "confirmed_df.reset_index(inplace=True)\n",
    "confirmed_df.columns = [\"sample_date_string\", \"cumulative_cases\"]\n",
    "confirmed_df[\"new_cases\"] = confirmed_df.cumulative_cases.diff()\n",
    "confirmed_df[\"rolling_mean_new_cases\"] = confirmed_df.new_cases.rolling(7).mean()\n",
    "confirmed_df.head()"
   ]
  },
  {
   "cell_type": "code",
   "execution_count": 4,
   "metadata": {
    "execution": {
     "iopub.execute_input": "2020-08-31T15:08:53.315923Z",
     "iopub.status.busy": "2020-08-31T15:08:53.309557Z",
     "iopub.status.idle": "2020-08-31T15:08:53.570035Z",
     "shell.execute_reply": "2020-08-31T15:08:53.570805Z"
    },
    "papermill": {
     "duration": 0.295383,
     "end_time": "2020-08-31T15:08:53.570984",
     "exception": false,
     "start_time": "2020-08-31T15:08:53.275601",
     "status": "completed"
    },
    "pycharm": {
     "name": "#%%\n"
    },
    "tags": []
   },
   "outputs": [
    {
     "data": {
      "text/plain": [
       "<matplotlib.axes._subplots.AxesSubplot at 0x7f8a34ae5e80>"
      ]
     },
     "execution_count": 4,
     "metadata": {},
     "output_type": "execute_result"
    },
    {
     "data": {
      "image/png": "[encoded data removed]",
      "text/plain": [
       "<Figure size 1080x432 with 1 Axes>"
      ]
     },
     "metadata": {},
     "output_type": "display_data"
    }
   ],
   "source": [
    "confirmed_df[[\"new_cases\", \"rolling_mean_new_cases\"]].plot()"
   ]
  },
  {
   "cell_type": "markdown",
   "metadata": {
    "papermill": {
     "duration": 0.018507,
     "end_time": "2020-08-31T15:08:53.622795",
     "exception": false,
     "start_time": "2020-08-31T15:08:53.604288",
     "status": "completed"
    },
    "tags": []
   },
   "source": [
    "### RadarCOVID TEKs Extraction"
   ]
  },
  {
   "cell_type": "code",
   "execution_count": 5,
   "metadata": {
    "execution": {
     "iopub.execute_input": "2020-08-31T15:08:53.663387Z",
     "iopub.status.busy": "2020-08-31T15:08:53.662854Z",
     "iopub.status.idle": "2020-08-31T15:08:54.419480Z",
     "shell.execute_reply": "2020-08-31T15:08:54.419993Z"
    },
    "papermill": {
     "duration": 0.779005,
     "end_time": "2020-08-31T15:08:54.420194",
     "exception": false,
     "start_time": "2020-08-31T15:08:53.641189",
     "status": "completed"
    },
    "pycharm": {
     "name": "#%%\n"
    },
    "tags": []
   },
   "outputs": [
    {
     "name": "stderr",
     "output_type": "stream",
     "text": [
      "WARNING:root:NoDataFoundForDateException(\"No exposed tokens found for day '2020-08-31'.\")\n"
     ]
    },
    {
     "name": "stderr",
     "output_type": "stream",
     "text": [
      "WARNING:root:NoDataFoundForDateException(\"No exposed tokens found for day '2020-08-18'.\")\n"
     ]
    },
    {
     "data": {
      "text/html": [
       "<div>\n",
       "<style scoped>\n",
       "    .dataframe tbody tr th:only-of-type {\n",
       "        vertical-align: middle;\n",
       "    }\n",
       "\n",
       "    .dataframe tbody tr th {\n",
       "        vertical-align: top;\n",
       "    }\n",
       "\n",
       "    .dataframe thead th {\n",
       "        text-align: right;\n",
       "    }\n",
       "</style>\n",
       "<table border=\"1\" class=\"dataframe\">\n",
       "  <thead>\n",
       "    <tr style=\"text-align: right;\">\n",
       "      <th></th>\n",
       "      <th>sample_date_string</th>\n",
       "      <th>source_url</th>\n",
       "      <th>region</th>\n",
       "      <th>key_data</th>\n",
       "    </tr>\n",
       "  </thead>\n",
       "  <tbody>\n",
       "    <tr>\n",
       "      <th>0</th>\n",
       "      <td>2020-08-30</td>\n",
       "      <td>https://radarcovid.covid19.gob.es/dp3t/v1/gaen...</td>\n",
       "      <td>ES</td>\n",
       "      <td>075d6b0d-8e1f-b14a-4083-30e2f3b39b92</td>\n",
       "    </tr>\n",
       "    <tr>\n",
       "      <th>1</th>\n",
       "      <td>2020-08-30</td>\n",
       "      <td>https://radarcovid.covid19.gob.es/dp3t/v1/gaen...</td>\n",
       "      <td>ES</td>\n",
       "      <td>c29e54f9-beec-3dc1-c97b-63b37d328988</td>\n",
       "    </tr>\n",
       "    <tr>\n",
       "      <th>2</th>\n",
       "      <td>2020-08-30</td>\n",
       "      <td>https://radarcovid.covid19.gob.es/dp3t/v1/gaen...</td>\n",
       "      <td>ES</td>\n",
       "      <td>919cbe01-e19f-037a-9460-bded0852dfe5</td>\n",
       "    </tr>\n",
       "    <tr>\n",
       "      <th>3</th>\n",
       "      <td>2020-08-30</td>\n",
       "      <td>https://radarcovid.covid19.gob.es/dp3t/v1/gaen...</td>\n",
       "      <td>ES</td>\n",
       "      <td>421e9af1-43f8-183f-5211-538b976a54a7</td>\n",
       "    </tr>\n",
       "    <tr>\n",
       "      <th>4</th>\n",
       "      <td>2020-08-30</td>\n",
       "      <td>https://radarcovid.covid19.gob.es/dp3t/v1/gaen...</td>\n",
       "      <td>ES</td>\n",
       "      <td>107a2529-b759-57f6-51ad-b031417645cc</td>\n",
       "    </tr>\n",
       "  </tbody>\n",
       "</table>\n",
       "</div>"
      ],
      "text/plain": [
       "  sample_date_string                                         source_url  \\\n",
       "0         2020-08-30  https://radarcovid.covid19.gob.es/dp3t/v1/gaen...   \n",
       "1         2020-08-30  https://radarcovid.covid19.gob.es/dp3t/v1/gaen...   \n",
       "2         2020-08-30  https://radarcovid.covid19.gob.es/dp3t/v1/gaen...   \n",
       "3         2020-08-30  https://radarcovid.covid19.gob.es/dp3t/v1/gaen...   \n",
       "4         2020-08-30  https://radarcovid.covid19.gob.es/dp3t/v1/gaen...   \n",
       "\n",
       "  region                              key_data  \n",
       "0     ES  075d6b0d-8e1f-b14a-4083-30e2f3b39b92  \n",
       "1     ES  c29e54f9-beec-3dc1-c97b-63b37d328988  \n",
       "2     ES  919cbe01-e19f-037a-9460-bded0852dfe5  \n",
       "3     ES  421e9af1-43f8-183f-5211-538b976a54a7  \n",
       "4     ES  107a2529-b759-57f6-51ad-b031417645cc  "
      ]
     },
     "execution_count": 5,
     "metadata": {},
     "output_type": "execute_result"
    }
   ],
   "source": [
    "from Modules.RadarCOVID import radar_covid\n",
    "\n",
    "exposure_keys_df = radar_covid.download_last_radar_covid_exposure_keys(days=14)\n",
    "exposure_keys_df[[\n",
    "    \"sample_date_string\", \"source_url\", \"region\", \"key_data\"]].head()"
   ]
  },
  {
   "cell_type": "code",
   "execution_count": 6,
   "metadata": {
    "execution": {
     "iopub.execute_input": "2020-08-31T15:08:54.476983Z",
     "iopub.status.busy": "2020-08-31T15:08:54.476413Z",
     "iopub.status.idle": "2020-08-31T15:08:54.480643Z",
     "shell.execute_reply": "2020-08-31T15:08:54.480177Z"
    },
    "papermill": {
     "duration": 0.039718,
     "end_time": "2020-08-31T15:08:54.480770",
     "exception": false,
     "start_time": "2020-08-31T15:08:54.441052",
     "status": "completed"
    },
    "pycharm": {
     "name": "#%%\n"
    },
    "tags": []
   },
   "outputs": [
    {
     "data": {
      "text/html": [
       "<div>\n",
       "<style scoped>\n",
       "    .dataframe tbody tr th:only-of-type {\n",
       "        vertical-align: middle;\n",
       "    }\n",
       "\n",
       "    .dataframe tbody tr th {\n",
       "        vertical-align: top;\n",
       "    }\n",
       "\n",
       "    .dataframe thead th {\n",
       "        text-align: right;\n",
       "    }\n",
       "</style>\n",
       "<table border=\"1\" class=\"dataframe\">\n",
       "  <thead>\n",
       "    <tr style=\"text-align: right;\">\n",
       "      <th></th>\n",
       "      <th>tek_count</th>\n",
       "    </tr>\n",
       "    <tr>\n",
       "      <th>sample_date_string</th>\n",
       "      <th></th>\n",
       "    </tr>\n",
       "  </thead>\n",
       "  <tbody>\n",
       "    <tr>\n",
       "      <th>2020-08-30</th>\n",
       "      <td>18</td>\n",
       "    </tr>\n",
       "    <tr>\n",
       "      <th>2020-08-29</th>\n",
       "      <td>20</td>\n",
       "    </tr>\n",
       "    <tr>\n",
       "      <th>2020-08-28</th>\n",
       "      <td>35</td>\n",
       "    </tr>\n",
       "    <tr>\n",
       "      <th>2020-08-27</th>\n",
       "      <td>59</td>\n",
       "    </tr>\n",
       "    <tr>\n",
       "      <th>2020-08-26</th>\n",
       "      <td>70</td>\n",
       "    </tr>\n",
       "  </tbody>\n",
       "</table>\n",
       "</div>"
      ],
      "text/plain": [
       "                    tek_count\n",
       "sample_date_string           \n",
       "2020-08-30                 18\n",
       "2020-08-29                 20\n",
       "2020-08-28                 35\n",
       "2020-08-27                 59\n",
       "2020-08-26                 70"
      ]
     },
     "execution_count": 6,
     "metadata": {},
     "output_type": "execute_result"
    }
   ],
   "source": [
    "exposure_keys_summary_df = \\\n",
    "    exposure_keys_df.groupby([\"sample_date_string\"]).key_data.nunique().to_frame()\n",
    "exposure_keys_summary_df.sort_index(ascending=False, inplace=True)\n",
    "exposure_keys_summary_df.rename(columns={\"key_data\": \"tek_count\"}, inplace=True)\n",
    "exposure_keys_summary_df.head()"
   ]
  },
  {
   "cell_type": "markdown",
   "metadata": {
    "papermill": {
     "duration": 0.020116,
     "end_time": "2020-08-31T15:08:54.520421",
     "exception": false,
     "start_time": "2020-08-31T15:08:54.500305",
     "status": "completed"
    },
    "tags": []
   },
   "source": [
    "### RadarCOVID TEKs Dump"
   ]
  },
  {
   "cell_type": "code",
   "execution_count": 7,
   "metadata": {
    "execution": {
     "iopub.execute_input": "2020-08-31T15:08:54.573187Z",
     "iopub.status.busy": "2020-08-31T15:08:54.572620Z",
     "iopub.status.idle": "2020-08-31T15:08:54.592210Z",
     "shell.execute_reply": "2020-08-31T15:08:54.591750Z"
    },
    "papermill": {
     "duration": 0.05186,
     "end_time": "2020-08-31T15:08:54.592336",
     "exception": false,
     "start_time": "2020-08-31T15:08:54.540476",
     "status": "completed"
    },
    "scrolled": false,
    "tags": []
   },
   "outputs": [
    {
     "data": {
      "text/html": [
       "<div>\n",
       "<style scoped>\n",
       "    .dataframe tbody tr th:only-of-type {\n",
       "        vertical-align: middle;\n",
       "    }\n",
       "\n",
       "    .dataframe tbody tr th {\n",
       "        vertical-align: top;\n",
       "    }\n",
       "\n",
       "    .dataframe thead th {\n",
       "        text-align: right;\n",
       "    }\n",
       "</style>\n",
       "<table border=\"1\" class=\"dataframe\">\n",
       "  <thead>\n",
       "    <tr style=\"text-align: right;\">\n",
       "      <th></th>\n",
       "      <th>sample_date</th>\n",
       "      <th>tek_list</th>\n",
       "      <th>extraction_date</th>\n",
       "      <th>extraction_date_with_hour</th>\n",
       "    </tr>\n",
       "  </thead>\n",
       "  <tbody>\n",
       "    <tr>\n",
       "      <th>0</th>\n",
       "      <td>2020-08-19</td>\n",
       "      <td>[645572b7-c0e2-97bc-9bcb-7107fb5eb1bc]</td>\n",
       "      <td>2020-08-31</td>\n",
       "      <td>2020-08-31@15</td>\n",
       "    </tr>\n",
       "    <tr>\n",
       "      <th>1</th>\n",
       "      <td>2020-08-20</td>\n",
       "      <td>[5c4885a2-5c65-d6aa-8eed-7d607f106647, e6c3ca3...</td>\n",
       "      <td>2020-08-31</td>\n",
       "      <td>2020-08-31@15</td>\n",
       "    </tr>\n",
       "    <tr>\n",
       "      <th>2</th>\n",
       "      <td>2020-08-21</td>\n",
       "      <td>[53c82402-7f1c-e203-7abc-593dc3a8a9fe, fd16f69...</td>\n",
       "      <td>2020-08-31</td>\n",
       "      <td>2020-08-31@15</td>\n",
       "    </tr>\n",
       "    <tr>\n",
       "      <th>3</th>\n",
       "      <td>2020-08-22</td>\n",
       "      <td>[316fcc1d-9bdb-69ae-b997-70b5b4ca1d74, 33b23da...</td>\n",
       "      <td>2020-08-31</td>\n",
       "      <td>2020-08-31@15</td>\n",
       "    </tr>\n",
       "    <tr>\n",
       "      <th>4</th>\n",
       "      <td>2020-08-23</td>\n",
       "      <td>[3dda2de2-fc66-33b9-cf6b-c7b85f8683d5, c0a53a0...</td>\n",
       "      <td>2020-08-31</td>\n",
       "      <td>2020-08-31@15</td>\n",
       "    </tr>\n",
       "  </tbody>\n",
       "</table>\n",
       "</div>"
      ],
      "text/plain": [
       "  sample_date                                           tek_list  \\\n",
       "0  2020-08-19             [645572b7-c0e2-97bc-9bcb-7107fb5eb1bc]   \n",
       "1  2020-08-20  [5c4885a2-5c65-d6aa-8eed-7d607f106647, e6c3ca3...   \n",
       "2  2020-08-21  [53c82402-7f1c-e203-7abc-593dc3a8a9fe, fd16f69...   \n",
       "3  2020-08-22  [316fcc1d-9bdb-69ae-b997-70b5b4ca1d74, 33b23da...   \n",
       "4  2020-08-23  [3dda2de2-fc66-33b9-cf6b-c7b85f8683d5, c0a53a0...   \n",
       "\n",
       "  extraction_date extraction_date_with_hour  \n",
       "0      2020-08-31             2020-08-31@15  \n",
       "1      2020-08-31             2020-08-31@15  \n",
       "2      2020-08-31             2020-08-31@15  \n",
       "3      2020-08-31             2020-08-31@15  \n",
       "4      2020-08-31             2020-08-31@15  "
      ]
     },
     "execution_count": 7,
     "metadata": {},
     "output_type": "execute_result"
    }
   ],
   "source": [
    "import datetime\n",
    "\n",
    "extraction_date = datetime.datetime.utcnow().strftime(\"%Y-%m-%d\")\n",
    "extraction_date_with_hour = datetime.datetime.utcnow().strftime(\"%Y-%m-%d@%H\")\n",
    "tek_list_df = exposure_keys_df[[\"sample_date_string\", \"key_data\"]].copy()\n",
    "tek_list_df[\"key_data\"] = tek_list_df[\"key_data\"].apply(str)\n",
    "tek_list_df.rename(columns={\n",
    "    \"sample_date_string\": \"sample_date\",\n",
    "    \"key_data\": \"tek_list\"}, inplace=True)\n",
    "tek_list_df = tek_list_df.groupby(\n",
    "    \"sample_date\").tek_list.unique().reset_index()\n",
    "tek_list_df[\"extraction_date\"] = extraction_date\n",
    "tek_list_df[\"extraction_date_with_hour\"] = extraction_date_with_hour\n",
    "tek_list_df.to_json(\n",
    "    \"Data/TEKs/Daily/RadarCOVID-TEKs-\" + extraction_date + \".json\",\n",
    "    lines=True, orient=\"records\")\n",
    "tek_list_df.to_json(\n",
    "    \"Data/TEKs/Hourly/RadarCOVID-TEKs-\" + extraction_date_with_hour + \".json\",\n",
    "    lines=True, orient=\"records\")\n",
    "tek_list_df.head()"
   ]
  },
  {
   "cell_type": "markdown",
   "metadata": {
    "papermill": {
     "duration": 0.019905,
     "end_time": "2020-08-31T15:08:54.633872",
     "exception": false,
     "start_time": "2020-08-31T15:08:54.613967",
     "status": "completed"
    },
    "tags": []
   },
   "source": [
    "### RadarCOVID New TEKs"
   ]
  },
  {
   "cell_type": "code",
   "execution_count": 8,
   "metadata": {
    "execution": {
     "iopub.execute_input": "2020-08-31T15:08:54.679926Z",
     "iopub.status.busy": "2020-08-31T15:08:54.679394Z",
     "iopub.status.idle": "2020-08-31T15:08:54.705546Z",
     "shell.execute_reply": "2020-08-31T15:08:54.704952Z"
    },
    "papermill": {
     "duration": 0.051919,
     "end_time": "2020-08-31T15:08:54.705669",
     "exception": false,
     "start_time": "2020-08-31T15:08:54.653750",
     "status": "completed"
    },
    "tags": []
   },
   "outputs": [
    {
     "data": {
      "text/html": [
       "<div>\n",
       "<style scoped>\n",
       "    .dataframe tbody tr th:only-of-type {\n",
       "        vertical-align: middle;\n",
       "    }\n",
       "\n",
       "    .dataframe tbody tr th {\n",
       "        vertical-align: top;\n",
       "    }\n",
       "\n",
       "    .dataframe thead th {\n",
       "        text-align: right;\n",
       "    }\n",
       "</style>\n",
       "<table border=\"1\" class=\"dataframe\">\n",
       "  <thead>\n",
       "    <tr style=\"text-align: right;\">\n",
       "      <th></th>\n",
       "      <th>sample_date</th>\n",
       "      <th>tek_list</th>\n",
       "      <th>extraction_date</th>\n",
       "      <th>extraction_date_with_hour</th>\n",
       "    </tr>\n",
       "  </thead>\n",
       "  <tbody>\n",
       "    <tr>\n",
       "      <th>0</th>\n",
       "      <td>2020-08-19</td>\n",
       "      <td>[645572b7-c0e2-97bc-9bcb-7107fb5eb1bc]</td>\n",
       "      <td>2020-08-29</td>\n",
       "      <td>NaN</td>\n",
       "    </tr>\n",
       "    <tr>\n",
       "      <th>1</th>\n",
       "      <td>2020-08-20</td>\n",
       "      <td>[5c4885a2-5c65-d6aa-8eed-7d607f106647, e6c3ca3...</td>\n",
       "      <td>2020-08-29</td>\n",
       "      <td>NaN</td>\n",
       "    </tr>\n",
       "    <tr>\n",
       "      <th>2</th>\n",
       "      <td>2020-08-21</td>\n",
       "      <td>[53c82402-7f1c-e203-7abc-593dc3a8a9fe, fd16f69...</td>\n",
       "      <td>2020-08-29</td>\n",
       "      <td>NaN</td>\n",
       "    </tr>\n",
       "    <tr>\n",
       "      <th>3</th>\n",
       "      <td>2020-08-22</td>\n",
       "      <td>[316fcc1d-9bdb-69ae-b997-70b5b4ca1d74, 33b23da...</td>\n",
       "      <td>2020-08-29</td>\n",
       "      <td>NaN</td>\n",
       "    </tr>\n",
       "    <tr>\n",
       "      <th>4</th>\n",
       "      <td>2020-08-23</td>\n",
       "      <td>[3dda2de2-fc66-33b9-cf6b-c7b85f8683d5, c0a53a0...</td>\n",
       "      <td>2020-08-29</td>\n",
       "      <td>NaN</td>\n",
       "    </tr>\n",
       "  </tbody>\n",
       "</table>\n",
       "</div>"
      ],
      "text/plain": [
       "  sample_date                                           tek_list  \\\n",
       "0  2020-08-19             [645572b7-c0e2-97bc-9bcb-7107fb5eb1bc]   \n",
       "1  2020-08-20  [5c4885a2-5c65-d6aa-8eed-7d607f106647, e6c3ca3...   \n",
       "2  2020-08-21  [53c82402-7f1c-e203-7abc-593dc3a8a9fe, fd16f69...   \n",
       "3  2020-08-22  [316fcc1d-9bdb-69ae-b997-70b5b4ca1d74, 33b23da...   \n",
       "4  2020-08-23  [3dda2de2-fc66-33b9-cf6b-c7b85f8683d5, c0a53a0...   \n",
       "\n",
       "  extraction_date extraction_date_with_hour  \n",
       "0      2020-08-29                       NaN  \n",
       "1      2020-08-29                       NaN  \n",
       "2      2020-08-29                       NaN  \n",
       "3      2020-08-29                       NaN  \n",
       "4      2020-08-29                       NaN  "
      ]
     },
     "execution_count": 8,
     "metadata": {},
     "output_type": "execute_result"
    }
   ],
   "source": [
    "import glob\n",
    "\n",
    "historic_tek_list_df = pd.DataFrame()\n",
    "\n",
    "for path in glob.glob(\"Data/TEKs/Daily/RadarCOVID-TEKs-*.json\"):\n",
    "    extraction_tek_list_df = pd.read_json(path, lines=True)\n",
    "    historic_tek_list_df = historic_tek_list_df.append(extraction_tek_list_df, sort=False)\n",
    "    \n",
    "historic_tek_list_df.head()"
   ]
  },
  {
   "cell_type": "code",
   "execution_count": 9,
   "metadata": {
    "execution": {
     "iopub.execute_input": "2020-08-31T15:08:54.762033Z",
     "iopub.status.busy": "2020-08-31T15:08:54.761366Z",
     "iopub.status.idle": "2020-08-31T15:08:54.764669Z",
     "shell.execute_reply": "2020-08-31T15:08:54.764078Z"
    },
    "papermill": {
     "duration": 0.038566,
     "end_time": "2020-08-31T15:08:54.764788",
     "exception": false,
     "start_time": "2020-08-31T15:08:54.726222",
     "status": "completed"
    },
    "tags": []
   },
   "outputs": [
    {
     "data": {
      "text/html": [
       "<div>\n",
       "<style scoped>\n",
       "    .dataframe tbody tr th:only-of-type {\n",
       "        vertical-align: middle;\n",
       "    }\n",
       "\n",
       "    .dataframe tbody tr th {\n",
       "        vertical-align: top;\n",
       "    }\n",
       "\n",
       "    .dataframe thead th {\n",
       "        text-align: right;\n",
       "    }\n",
       "</style>\n",
       "<table border=\"1\" class=\"dataframe\">\n",
       "  <thead>\n",
       "    <tr style=\"text-align: right;\">\n",
       "      <th></th>\n",
       "      <th>tek_list</th>\n",
       "    </tr>\n",
       "    <tr>\n",
       "      <th>extraction_date</th>\n",
       "      <th></th>\n",
       "    </tr>\n",
       "  </thead>\n",
       "  <tbody>\n",
       "    <tr>\n",
       "      <th>2020-08-29</th>\n",
       "      <td>{5b4b38d5-9293-9ea0-4622-d61b32940afc, 37effbb...</td>\n",
       "    </tr>\n",
       "    <tr>\n",
       "      <th>2020-08-30</th>\n",
       "      <td>{5b4b38d5-9293-9ea0-4622-d61b32940afc, 37effbb...</td>\n",
       "    </tr>\n",
       "    <tr>\n",
       "      <th>2020-08-31</th>\n",
       "      <td>{5b4b38d5-9293-9ea0-4622-d61b32940afc, 37effbb...</td>\n",
       "    </tr>\n",
       "  </tbody>\n",
       "</table>\n",
       "</div>"
      ],
      "text/plain": [
       "                                                          tek_list\n",
       "extraction_date                                                   \n",
       "2020-08-29       {5b4b38d5-9293-9ea0-4622-d61b32940afc, 37effbb...\n",
       "2020-08-30       {5b4b38d5-9293-9ea0-4622-d61b32940afc, 37effbb...\n",
       "2020-08-31       {5b4b38d5-9293-9ea0-4622-d61b32940afc, 37effbb..."
      ]
     },
     "execution_count": 9,
     "metadata": {},
     "output_type": "execute_result"
    }
   ],
   "source": [
    "tek_list_df = historic_tek_list_df.groupby(\"extraction_date\").tek_list.apply(\n",
    "    lambda x: set(sum(x, []))).reset_index()\n",
    "tek_list_df = tek_list_df.set_index(\"extraction_date\").sort_index(ascending=True)\n",
    "tek_list_df.head()"
   ]
  },
  {
   "cell_type": "code",
   "execution_count": 10,
   "metadata": {
    "execution": {
     "iopub.execute_input": "2020-08-31T15:08:54.818068Z",
     "iopub.status.busy": "2020-08-31T15:08:54.817457Z",
     "iopub.status.idle": "2020-08-31T15:08:54.822920Z",
     "shell.execute_reply": "2020-08-31T15:08:54.823354Z"
    },
    "papermill": {
     "duration": 0.038303,
     "end_time": "2020-08-31T15:08:54.823520",
     "exception": false,
     "start_time": "2020-08-31T15:08:54.785217",
     "status": "completed"
    },
    "tags": []
   },
   "outputs": [
    {
     "data": {
      "text/html": [
       "<div>\n",
       "<style scoped>\n",
       "    .dataframe tbody tr th:only-of-type {\n",
       "        vertical-align: middle;\n",
       "    }\n",
       "\n",
       "    .dataframe tbody tr th {\n",
       "        vertical-align: top;\n",
       "    }\n",
       "\n",
       "    .dataframe thead th {\n",
       "        text-align: right;\n",
       "    }\n",
       "</style>\n",
       "<table border=\"1\" class=\"dataframe\">\n",
       "  <thead>\n",
       "    <tr style=\"text-align: right;\">\n",
       "      <th></th>\n",
       "      <th>sample_date_string</th>\n",
       "      <th>new_tek_count</th>\n",
       "    </tr>\n",
       "  </thead>\n",
       "  <tbody>\n",
       "    <tr>\n",
       "      <th>0</th>\n",
       "      <td>2020-08-29</td>\n",
       "      <td>NaN</td>\n",
       "    </tr>\n",
       "    <tr>\n",
       "      <th>1</th>\n",
       "      <td>2020-08-30</td>\n",
       "      <td>29.0</td>\n",
       "    </tr>\n",
       "    <tr>\n",
       "      <th>2</th>\n",
       "      <td>2020-08-31</td>\n",
       "      <td>29.0</td>\n",
       "    </tr>\n",
       "  </tbody>\n",
       "</table>\n",
       "</div>"
      ],
      "text/plain": [
       "  sample_date_string  new_tek_count\n",
       "0         2020-08-29            NaN\n",
       "1         2020-08-30           29.0\n",
       "2         2020-08-31           29.0"
      ]
     },
     "execution_count": 10,
     "metadata": {},
     "output_type": "execute_result"
    }
   ],
   "source": [
    "new_tek_df = tek_list_df.diff().tek_list.apply(\n",
    "    lambda x: len(x) if not pd.isna(x) else None).to_frame().reset_index()\n",
    "new_tek_df.rename(columns={\n",
    "    \"tek_list\": \"new_tek_count\",\n",
    "    \"extraction_date\": \"sample_date_string\",}, inplace=True)\n",
    "new_tek_df.head()"
   ]
  },
  {
   "cell_type": "code",
   "execution_count": 11,
   "metadata": {
    "execution": {
     "iopub.execute_input": "2020-08-31T15:08:54.889709Z",
     "iopub.status.busy": "2020-08-31T15:08:54.881292Z",
     "iopub.status.idle": "2020-08-31T15:08:54.895279Z",
     "shell.execute_reply": "2020-08-31T15:08:54.894787Z"
    },
    "papermill": {
     "duration": 0.047308,
     "end_time": "2020-08-31T15:08:54.895416",
     "exception": false,
     "start_time": "2020-08-31T15:08:54.848108",
     "status": "completed"
    },
    "tags": []
   },
   "outputs": [
    {
     "data": {
      "text/html": [
       "<div>\n",
       "<style scoped>\n",
       "    .dataframe tbody tr th:only-of-type {\n",
       "        vertical-align: middle;\n",
       "    }\n",
       "\n",
       "    .dataframe tbody tr th {\n",
       "        vertical-align: top;\n",
       "    }\n",
       "\n",
       "    .dataframe thead th {\n",
       "        text-align: right;\n",
       "    }\n",
       "</style>\n",
       "<table border=\"1\" class=\"dataframe\">\n",
       "  <thead>\n",
       "    <tr style=\"text-align: right;\">\n",
       "      <th></th>\n",
       "      <th>sample_date</th>\n",
       "      <th>tek_list</th>\n",
       "      <th>extraction_date</th>\n",
       "      <th>extraction_date_with_hour</th>\n",
       "      <th>new_sample_extraction_date</th>\n",
       "    </tr>\n",
       "  </thead>\n",
       "  <tbody>\n",
       "    <tr>\n",
       "      <th>9</th>\n",
       "      <td>2020-08-28</td>\n",
       "      <td>[757936ab-531c-4872-1d83-ce7a8d135211, 51d5fc9...</td>\n",
       "      <td>2020-08-29</td>\n",
       "      <td>NaN</td>\n",
       "      <td>2020-08-29</td>\n",
       "    </tr>\n",
       "    <tr>\n",
       "      <th>10</th>\n",
       "      <td>2020-08-29</td>\n",
       "      <td>[1a509311-f96d-28f1-9d7d-414bf48272b9, 5bfad3a...</td>\n",
       "      <td>2020-08-30</td>\n",
       "      <td>NaN</td>\n",
       "      <td>2020-08-30</td>\n",
       "    </tr>\n",
       "    <tr>\n",
       "      <th>11</th>\n",
       "      <td>2020-08-30</td>\n",
       "      <td>[075d6b0d-8e1f-b14a-4083-30e2f3b39b92, c29e54f...</td>\n",
       "      <td>2020-08-31</td>\n",
       "      <td>2020-08-31@15</td>\n",
       "      <td>2020-08-31</td>\n",
       "    </tr>\n",
       "  </tbody>\n",
       "</table>\n",
       "</div>"
      ],
      "text/plain": [
       "   sample_date                                           tek_list  \\\n",
       "9   2020-08-28  [757936ab-531c-4872-1d83-ce7a8d135211, 51d5fc9...   \n",
       "10  2020-08-29  [1a509311-f96d-28f1-9d7d-414bf48272b9, 5bfad3a...   \n",
       "11  2020-08-30  [075d6b0d-8e1f-b14a-4083-30e2f3b39b92, c29e54f...   \n",
       "\n",
       "   extraction_date extraction_date_with_hour new_sample_extraction_date  \n",
       "9       2020-08-29                       NaN                 2020-08-29  \n",
       "10      2020-08-30                       NaN                 2020-08-30  \n",
       "11      2020-08-31             2020-08-31@15                 2020-08-31  "
      ]
     },
     "execution_count": 11,
     "metadata": {},
     "output_type": "execute_result"
    }
   ],
   "source": [
    "new_tek_devices_df = historic_tek_list_df.copy()\n",
    "new_tek_devices_df[\"new_sample_extraction_date\"] = \\\n",
    "    pd.to_datetime(new_tek_devices_df.sample_date) + datetime.timedelta(1)\n",
    "new_tek_devices_df[\"extraction_date\"] = pd.to_datetime(new_tek_devices_df.extraction_date)\n",
    "\n",
    "new_tek_devices_df = new_tek_devices_df[\n",
    "    new_tek_devices_df.new_sample_extraction_date == new_tek_devices_df.extraction_date]\n",
    "new_tek_devices_df.head()"
   ]
  },
  {
   "cell_type": "code",
   "execution_count": 12,
   "metadata": {
    "execution": {
     "iopub.execute_input": "2020-08-31T15:08:54.954209Z",
     "iopub.status.busy": "2020-08-31T15:08:54.953463Z",
     "iopub.status.idle": "2020-08-31T15:08:54.960707Z",
     "shell.execute_reply": "2020-08-31T15:08:54.960010Z"
    },
    "papermill": {
     "duration": 0.043198,
     "end_time": "2020-08-31T15:08:54.960907",
     "exception": false,
     "start_time": "2020-08-31T15:08:54.917709",
     "status": "completed"
    },
    "tags": []
   },
   "outputs": [
    {
     "data": {
      "text/html": [
       "<div>\n",
       "<style scoped>\n",
       "    .dataframe tbody tr th:only-of-type {\n",
       "        vertical-align: middle;\n",
       "    }\n",
       "\n",
       "    .dataframe tbody tr th {\n",
       "        vertical-align: top;\n",
       "    }\n",
       "\n",
       "    .dataframe thead th {\n",
       "        text-align: right;\n",
       "    }\n",
       "</style>\n",
       "<table border=\"1\" class=\"dataframe\">\n",
       "  <thead>\n",
       "    <tr style=\"text-align: right;\">\n",
       "      <th></th>\n",
       "      <th>sample_date_string</th>\n",
       "      <th>new_tek_devices</th>\n",
       "    </tr>\n",
       "  </thead>\n",
       "  <tbody>\n",
       "    <tr>\n",
       "      <th>0</th>\n",
       "      <td>2020-08-29</td>\n",
       "      <td>27</td>\n",
       "    </tr>\n",
       "    <tr>\n",
       "      <th>1</th>\n",
       "      <td>2020-08-30</td>\n",
       "      <td>16</td>\n",
       "    </tr>\n",
       "    <tr>\n",
       "      <th>2</th>\n",
       "      <td>2020-08-31</td>\n",
       "      <td>18</td>\n",
       "    </tr>\n",
       "  </tbody>\n",
       "</table>\n",
       "</div>"
      ],
      "text/plain": [
       "  sample_date_string  new_tek_devices\n",
       "0         2020-08-29               27\n",
       "1         2020-08-30               16\n",
       "2         2020-08-31               18"
      ]
     },
     "execution_count": 12,
     "metadata": {},
     "output_type": "execute_result"
    }
   ],
   "source": [
    "new_tek_devices_df.set_index(\"extraction_date\", inplace=True)\n",
    "new_tek_devices_df = new_tek_devices_df.tek_list.apply(lambda x: len(set(x))).to_frame()\n",
    "new_tek_devices_df.reset_index(inplace=True)\n",
    "new_tek_devices_df.rename(columns={\n",
    "    \"extraction_date\": \"sample_date_string\",\n",
    "    \"tek_list\": \"new_tek_devices\"}, inplace=True)\n",
    "new_tek_devices_df[\"sample_date_string\"] = new_tek_devices_df.sample_date_string.dt.strftime(\"%Y-%m-%d\")\n",
    "new_tek_devices_df.head()"
   ]
  },
  {
   "cell_type": "markdown",
   "metadata": {
    "papermill": {
     "duration": 0.023205,
     "end_time": "2020-08-31T15:08:55.007036",
     "exception": false,
     "start_time": "2020-08-31T15:08:54.983831",
     "status": "completed"
    },
    "tags": []
   },
   "source": [
    "### Data Merge"
   ]
  },
  {
   "cell_type": "code",
   "execution_count": 13,
   "metadata": {
    "execution": {
     "iopub.execute_input": "2020-08-31T15:08:55.065783Z",
     "iopub.status.busy": "2020-08-31T15:08:55.064589Z",
     "iopub.status.idle": "2020-08-31T15:08:55.067876Z",
     "shell.execute_reply": "2020-08-31T15:08:55.068304Z"
    },
    "papermill": {
     "duration": 0.039886,
     "end_time": "2020-08-31T15:08:55.068452",
     "exception": false,
     "start_time": "2020-08-31T15:08:55.028566",
     "status": "completed"
    },
    "tags": []
   },
   "outputs": [
    {
     "data": {
      "text/html": [
       "<div>\n",
       "<style scoped>\n",
       "    .dataframe tbody tr th:only-of-type {\n",
       "        vertical-align: middle;\n",
       "    }\n",
       "\n",
       "    .dataframe tbody tr th {\n",
       "        vertical-align: top;\n",
       "    }\n",
       "\n",
       "    .dataframe thead th {\n",
       "        text-align: right;\n",
       "    }\n",
       "</style>\n",
       "<table border=\"1\" class=\"dataframe\">\n",
       "  <thead>\n",
       "    <tr style=\"text-align: right;\">\n",
       "      <th></th>\n",
       "      <th>sample_date_string</th>\n",
       "      <th>tek_count</th>\n",
       "      <th>new_tek_count</th>\n",
       "    </tr>\n",
       "  </thead>\n",
       "  <tbody>\n",
       "    <tr>\n",
       "      <th>0</th>\n",
       "      <td>2020-08-30</td>\n",
       "      <td>18.0</td>\n",
       "      <td>29.0</td>\n",
       "    </tr>\n",
       "    <tr>\n",
       "      <th>1</th>\n",
       "      <td>2020-08-29</td>\n",
       "      <td>20.0</td>\n",
       "      <td>NaN</td>\n",
       "    </tr>\n",
       "    <tr>\n",
       "      <th>2</th>\n",
       "      <td>2020-08-28</td>\n",
       "      <td>35.0</td>\n",
       "      <td>NaN</td>\n",
       "    </tr>\n",
       "    <tr>\n",
       "      <th>3</th>\n",
       "      <td>2020-08-27</td>\n",
       "      <td>59.0</td>\n",
       "      <td>NaN</td>\n",
       "    </tr>\n",
       "    <tr>\n",
       "      <th>4</th>\n",
       "      <td>2020-08-26</td>\n",
       "      <td>70.0</td>\n",
       "      <td>NaN</td>\n",
       "    </tr>\n",
       "  </tbody>\n",
       "</table>\n",
       "</div>"
      ],
      "text/plain": [
       "  sample_date_string  tek_count  new_tek_count\n",
       "0         2020-08-30       18.0           29.0\n",
       "1         2020-08-29       20.0            NaN\n",
       "2         2020-08-28       35.0            NaN\n",
       "3         2020-08-27       59.0            NaN\n",
       "4         2020-08-26       70.0            NaN"
      ]
     },
     "execution_count": 13,
     "metadata": {},
     "output_type": "execute_result"
    }
   ],
   "source": [
    "result_summary_df = exposure_keys_summary_df.merge(new_tek_df, on=[\"sample_date_string\"], how=\"outer\")\n",
    "result_summary_df.head()"
   ]
  },
  {
   "cell_type": "code",
   "execution_count": 14,
   "metadata": {
    "execution": {
     "iopub.execute_input": "2020-08-31T15:08:55.129065Z",
     "iopub.status.busy": "2020-08-31T15:08:55.125544Z",
     "iopub.status.idle": "2020-08-31T15:08:55.132314Z",
     "shell.execute_reply": "2020-08-31T15:08:55.132791Z"
    },
    "papermill": {
     "duration": 0.042084,
     "end_time": "2020-08-31T15:08:55.132988",
     "exception": false,
     "start_time": "2020-08-31T15:08:55.090904",
     "status": "completed"
    },
    "tags": []
   },
   "outputs": [
    {
     "data": {
      "text/html": [
       "<div>\n",
       "<style scoped>\n",
       "    .dataframe tbody tr th:only-of-type {\n",
       "        vertical-align: middle;\n",
       "    }\n",
       "\n",
       "    .dataframe tbody tr th {\n",
       "        vertical-align: top;\n",
       "    }\n",
       "\n",
       "    .dataframe thead th {\n",
       "        text-align: right;\n",
       "    }\n",
       "</style>\n",
       "<table border=\"1\" class=\"dataframe\">\n",
       "  <thead>\n",
       "    <tr style=\"text-align: right;\">\n",
       "      <th></th>\n",
       "      <th>sample_date_string</th>\n",
       "      <th>tek_count</th>\n",
       "      <th>new_tek_count</th>\n",
       "      <th>new_tek_devices</th>\n",
       "    </tr>\n",
       "  </thead>\n",
       "  <tbody>\n",
       "    <tr>\n",
       "      <th>0</th>\n",
       "      <td>2020-08-30</td>\n",
       "      <td>18.0</td>\n",
       "      <td>29.0</td>\n",
       "      <td>16.0</td>\n",
       "    </tr>\n",
       "    <tr>\n",
       "      <th>1</th>\n",
       "      <td>2020-08-29</td>\n",
       "      <td>20.0</td>\n",
       "      <td>NaN</td>\n",
       "      <td>27.0</td>\n",
       "    </tr>\n",
       "    <tr>\n",
       "      <th>2</th>\n",
       "      <td>2020-08-28</td>\n",
       "      <td>35.0</td>\n",
       "      <td>NaN</td>\n",
       "      <td>NaN</td>\n",
       "    </tr>\n",
       "    <tr>\n",
       "      <th>3</th>\n",
       "      <td>2020-08-27</td>\n",
       "      <td>59.0</td>\n",
       "      <td>NaN</td>\n",
       "      <td>NaN</td>\n",
       "    </tr>\n",
       "    <tr>\n",
       "      <th>4</th>\n",
       "      <td>2020-08-26</td>\n",
       "      <td>70.0</td>\n",
       "      <td>NaN</td>\n",
       "      <td>NaN</td>\n",
       "    </tr>\n",
       "  </tbody>\n",
       "</table>\n",
       "</div>"
      ],
      "text/plain": [
       "  sample_date_string  tek_count  new_tek_count  new_tek_devices\n",
       "0         2020-08-30       18.0           29.0             16.0\n",
       "1         2020-08-29       20.0            NaN             27.0\n",
       "2         2020-08-28       35.0            NaN              NaN\n",
       "3         2020-08-27       59.0            NaN              NaN\n",
       "4         2020-08-26       70.0            NaN              NaN"
      ]
     },
     "execution_count": 14,
     "metadata": {},
     "output_type": "execute_result"
    }
   ],
   "source": [
    "result_summary_df = result_summary_df.merge(new_tek_devices_df, on=[\"sample_date_string\"], how=\"outer\")\n",
    "result_summary_df.head()"
   ]
  },
  {
   "cell_type": "code",
   "execution_count": 15,
   "metadata": {
    "execution": {
     "iopub.execute_input": "2020-08-31T15:08:55.186330Z",
     "iopub.status.busy": "2020-08-31T15:08:55.185684Z",
     "iopub.status.idle": "2020-08-31T15:08:55.201223Z",
     "shell.execute_reply": "2020-08-31T15:08:55.200648Z"
    },
    "papermill": {
     "duration": 0.044674,
     "end_time": "2020-08-31T15:08:55.201350",
     "exception": false,
     "start_time": "2020-08-31T15:08:55.156676",
     "status": "completed"
    },
    "pycharm": {
     "name": "#%%\n"
    },
    "tags": []
   },
   "outputs": [
    {
     "data": {
      "text/html": [
       "<div>\n",
       "<style scoped>\n",
       "    .dataframe tbody tr th:only-of-type {\n",
       "        vertical-align: middle;\n",
       "    }\n",
       "\n",
       "    .dataframe tbody tr th {\n",
       "        vertical-align: top;\n",
       "    }\n",
       "\n",
       "    .dataframe thead th {\n",
       "        text-align: right;\n",
       "    }\n",
       "</style>\n",
       "<table border=\"1\" class=\"dataframe\">\n",
       "  <thead>\n",
       "    <tr style=\"text-align: right;\">\n",
       "      <th></th>\n",
       "      <th>sample_date_string</th>\n",
       "      <th>tek_count</th>\n",
       "      <th>new_tek_count</th>\n",
       "      <th>new_tek_devices</th>\n",
       "      <th>cumulative_cases</th>\n",
       "      <th>new_cases</th>\n",
       "      <th>rolling_mean_new_cases</th>\n",
       "    </tr>\n",
       "  </thead>\n",
       "  <tbody>\n",
       "    <tr>\n",
       "      <th>0</th>\n",
       "      <td>2020-08-30</td>\n",
       "      <td>18.0</td>\n",
       "      <td>29.0</td>\n",
       "      <td>16.0</td>\n",
       "      <td>439286.0</td>\n",
       "      <td>0.0</td>\n",
       "      <td>7604.571429</td>\n",
       "    </tr>\n",
       "    <tr>\n",
       "      <th>1</th>\n",
       "      <td>2020-08-29</td>\n",
       "      <td>20.0</td>\n",
       "      <td>NaN</td>\n",
       "      <td>27.0</td>\n",
       "      <td>439286.0</td>\n",
       "      <td>0.0</td>\n",
       "      <td>7604.571429</td>\n",
       "    </tr>\n",
       "    <tr>\n",
       "      <th>2</th>\n",
       "      <td>2020-08-28</td>\n",
       "      <td>35.0</td>\n",
       "      <td>NaN</td>\n",
       "      <td>NaN</td>\n",
       "      <td>439286.0</td>\n",
       "      <td>9779.0</td>\n",
       "      <td>7604.571429</td>\n",
       "    </tr>\n",
       "    <tr>\n",
       "      <th>3</th>\n",
       "      <td>2020-08-27</td>\n",
       "      <td>59.0</td>\n",
       "      <td>NaN</td>\n",
       "      <td>NaN</td>\n",
       "      <td>429507.0</td>\n",
       "      <td>9658.0</td>\n",
       "      <td>7371.571429</td>\n",
       "    </tr>\n",
       "    <tr>\n",
       "      <th>4</th>\n",
       "      <td>2020-08-26</td>\n",
       "      <td>70.0</td>\n",
       "      <td>NaN</td>\n",
       "      <td>NaN</td>\n",
       "      <td>419849.0</td>\n",
       "      <td>7296.0</td>\n",
       "      <td>6997.428571</td>\n",
       "    </tr>\n",
       "  </tbody>\n",
       "</table>\n",
       "</div>"
      ],
      "text/plain": [
       "  sample_date_string  tek_count  new_tek_count  new_tek_devices  \\\n",
       "0         2020-08-30       18.0           29.0             16.0   \n",
       "1         2020-08-29       20.0            NaN             27.0   \n",
       "2         2020-08-28       35.0            NaN              NaN   \n",
       "3         2020-08-27       59.0            NaN              NaN   \n",
       "4         2020-08-26       70.0            NaN              NaN   \n",
       "\n",
       "   cumulative_cases  new_cases  rolling_mean_new_cases  \n",
       "0          439286.0        0.0             7604.571429  \n",
       "1          439286.0        0.0             7604.571429  \n",
       "2          439286.0     9779.0             7604.571429  \n",
       "3          429507.0     9658.0             7371.571429  \n",
       "4          419849.0     7296.0             6997.428571  "
      ]
     },
     "execution_count": 15,
     "metadata": {},
     "output_type": "execute_result"
    }
   ],
   "source": [
    "result_summary_df = result_summary_df.merge(confirmed_df, on=[\"sample_date_string\"], how=\"left\")\n",
    "result_summary_df.head()"
   ]
  },
  {
   "cell_type": "code",
   "execution_count": 16,
   "metadata": {
    "execution": {
     "iopub.execute_input": "2020-08-31T15:08:55.255012Z",
     "iopub.status.busy": "2020-08-31T15:08:55.254418Z",
     "iopub.status.idle": "2020-08-31T15:08:55.274544Z",
     "shell.execute_reply": "2020-08-31T15:08:55.275066Z"
    },
    "papermill": {
     "duration": 0.049458,
     "end_time": "2020-08-31T15:08:55.275236",
     "exception": false,
     "start_time": "2020-08-31T15:08:55.225778",
     "status": "completed"
    },
    "tags": []
   },
   "outputs": [
    {
     "data": {
      "text/html": [
       "<div>\n",
       "<style scoped>\n",
       "    .dataframe tbody tr th:only-of-type {\n",
       "        vertical-align: middle;\n",
       "    }\n",
       "\n",
       "    .dataframe tbody tr th {\n",
       "        vertical-align: top;\n",
       "    }\n",
       "\n",
       "    .dataframe thead th {\n",
       "        text-align: right;\n",
       "    }\n",
       "</style>\n",
       "<table border=\"1\" class=\"dataframe\">\n",
       "  <thead>\n",
       "    <tr style=\"text-align: right;\">\n",
       "      <th></th>\n",
       "      <th>sample_date_string</th>\n",
       "      <th>tek_count</th>\n",
       "      <th>new_tek_count</th>\n",
       "      <th>new_tek_devices</th>\n",
       "      <th>cumulative_cases</th>\n",
       "      <th>new_cases</th>\n",
       "      <th>rolling_mean_new_cases</th>\n",
       "      <th>tek_count_per_new_case</th>\n",
       "      <th>new_tek_count_per_new_case</th>\n",
       "      <th>new_tek_devices_per_new_case</th>\n",
       "      <th>new_tek_count_per_new_tek_device</th>\n",
       "    </tr>\n",
       "  </thead>\n",
       "  <tbody>\n",
       "    <tr>\n",
       "      <th>0</th>\n",
       "      <td>2020-08-30</td>\n",
       "      <td>18.0</td>\n",
       "      <td>29.0</td>\n",
       "      <td>16.0</td>\n",
       "      <td>439286.0</td>\n",
       "      <td>0.0</td>\n",
       "      <td>7604.571429</td>\n",
       "      <td>0.002367</td>\n",
       "      <td>0.003813</td>\n",
       "      <td>0.002104</td>\n",
       "      <td>1.8125</td>\n",
       "    </tr>\n",
       "    <tr>\n",
       "      <th>1</th>\n",
       "      <td>2020-08-29</td>\n",
       "      <td>20.0</td>\n",
       "      <td>NaN</td>\n",
       "      <td>27.0</td>\n",
       "      <td>439286.0</td>\n",
       "      <td>0.0</td>\n",
       "      <td>7604.571429</td>\n",
       "      <td>0.002630</td>\n",
       "      <td>NaN</td>\n",
       "      <td>0.003550</td>\n",
       "      <td>NaN</td>\n",
       "    </tr>\n",
       "    <tr>\n",
       "      <th>2</th>\n",
       "      <td>2020-08-28</td>\n",
       "      <td>35.0</td>\n",
       "      <td>NaN</td>\n",
       "      <td>NaN</td>\n",
       "      <td>439286.0</td>\n",
       "      <td>9779.0</td>\n",
       "      <td>7604.571429</td>\n",
       "      <td>0.004602</td>\n",
       "      <td>NaN</td>\n",
       "      <td>NaN</td>\n",
       "      <td>NaN</td>\n",
       "    </tr>\n",
       "    <tr>\n",
       "      <th>3</th>\n",
       "      <td>2020-08-27</td>\n",
       "      <td>59.0</td>\n",
       "      <td>NaN</td>\n",
       "      <td>NaN</td>\n",
       "      <td>429507.0</td>\n",
       "      <td>9658.0</td>\n",
       "      <td>7371.571429</td>\n",
       "      <td>0.008004</td>\n",
       "      <td>NaN</td>\n",
       "      <td>NaN</td>\n",
       "      <td>NaN</td>\n",
       "    </tr>\n",
       "    <tr>\n",
       "      <th>4</th>\n",
       "      <td>2020-08-26</td>\n",
       "      <td>70.0</td>\n",
       "      <td>NaN</td>\n",
       "      <td>NaN</td>\n",
       "      <td>419849.0</td>\n",
       "      <td>7296.0</td>\n",
       "      <td>6997.428571</td>\n",
       "      <td>0.010004</td>\n",
       "      <td>NaN</td>\n",
       "      <td>NaN</td>\n",
       "      <td>NaN</td>\n",
       "    </tr>\n",
       "  </tbody>\n",
       "</table>\n",
       "</div>"
      ],
      "text/plain": [
       "  sample_date_string  tek_count  new_tek_count  new_tek_devices  \\\n",
       "0         2020-08-30       18.0           29.0             16.0   \n",
       "1         2020-08-29       20.0            NaN             27.0   \n",
       "2         2020-08-28       35.0            NaN              NaN   \n",
       "3         2020-08-27       59.0            NaN              NaN   \n",
       "4         2020-08-26       70.0            NaN              NaN   \n",
       "\n",
       "   cumulative_cases  new_cases  rolling_mean_new_cases  \\\n",
       "0          439286.0        0.0             7604.571429   \n",
       "1          439286.0        0.0             7604.571429   \n",
       "2          439286.0     9779.0             7604.571429   \n",
       "3          429507.0     9658.0             7371.571429   \n",
       "4          419849.0     7296.0             6997.428571   \n",
       "\n",
       "   tek_count_per_new_case  new_tek_count_per_new_case  \\\n",
       "0                0.002367                    0.003813   \n",
       "1                0.002630                         NaN   \n",
       "2                0.004602                         NaN   \n",
       "3                0.008004                         NaN   \n",
       "4                0.010004                         NaN   \n",
       "\n",
       "   new_tek_devices_per_new_case  new_tek_count_per_new_tek_device  \n",
       "0                      0.002104                            1.8125  \n",
       "1                      0.003550                               NaN  \n",
       "2                           NaN                               NaN  \n",
       "3                           NaN                               NaN  \n",
       "4                           NaN                               NaN  "
      ]
     },
     "execution_count": 16,
     "metadata": {},
     "output_type": "execute_result"
    }
   ],
   "source": [
    "result_summary_df[\"tek_count_per_new_case\"] = \\\n",
    "    result_summary_df.tek_count / result_summary_df.rolling_mean_new_cases\n",
    "result_summary_df[\"new_tek_count_per_new_case\"] = \\\n",
    "    result_summary_df.new_tek_count / result_summary_df.rolling_mean_new_cases\n",
    "result_summary_df[\"new_tek_devices_per_new_case\"] = \\\n",
    "    result_summary_df.new_tek_devices / result_summary_df.rolling_mean_new_cases\n",
    "result_summary_df[\"new_tek_count_per_new_tek_device\"] = \\\n",
    "    result_summary_df.new_tek_count / result_summary_df.new_tek_devices\n",
    "result_summary_df.head()"
   ]
  },
  {
   "cell_type": "code",
   "execution_count": 17,
   "metadata": {
    "collapsed": false,
    "execution": {
     "iopub.execute_input": "2020-08-31T15:08:55.330207Z",
     "iopub.status.busy": "2020-08-31T15:08:55.329671Z",
     "iopub.status.idle": "2020-08-31T15:08:55.333473Z",
     "shell.execute_reply": "2020-08-31T15:08:55.332996Z"
    },
    "papermill": {
     "duration": 0.034233,
     "end_time": "2020-08-31T15:08:55.333599",
     "exception": false,
     "start_time": "2020-08-31T15:08:55.299366",
     "status": "completed"
    },
    "pycharm": {
     "name": "#%%\n"
    },
    "tags": []
   },
   "outputs": [],
   "source": [
    "result_summary_df[\"sample_date\"] = pd.to_datetime(result_summary_df.sample_date_string)\n",
    "result_summary_df.set_index(\"sample_date\", inplace=True)\n",
    "result_summary_df = result_summary_df.sort_index(ascending=False)"
   ]
  },
  {
   "cell_type": "markdown",
   "metadata": {
    "papermill": {
     "duration": 0.023151,
     "end_time": "2020-08-31T15:08:55.380329",
     "exception": false,
     "start_time": "2020-08-31T15:08:55.357178",
     "status": "completed"
    },
    "tags": []
   },
   "source": [
    "## Report Results\n"
   ]
  },
  {
   "cell_type": "markdown",
   "metadata": {
    "collapsed": false,
    "papermill": {
     "duration": 0.022351,
     "end_time": "2020-08-31T15:08:55.424674",
     "exception": false,
     "start_time": "2020-08-31T15:08:55.402323",
     "status": "completed"
    },
    "tags": []
   },
   "source": [
    "### Summary Table"
   ]
  },
  {
   "cell_type": "code",
   "execution_count": 18,
   "metadata": {
    "execution": {
     "iopub.execute_input": "2020-08-31T15:08:55.489191Z",
     "iopub.status.busy": "2020-08-31T15:08:55.488451Z",
     "iopub.status.idle": "2020-08-31T15:08:55.491697Z",
     "shell.execute_reply": "2020-08-31T15:08:55.492347Z"
    },
    "papermill": {
     "duration": 0.045746,
     "end_time": "2020-08-31T15:08:55.492543",
     "exception": false,
     "start_time": "2020-08-31T15:08:55.446797",
     "status": "completed"
    },
    "pycharm": {
     "name": "#%%\n"
    },
    "tags": []
   },
   "outputs": [
    {
     "data": {
      "text/html": [
       "<div>\n",
       "<style scoped>\n",
       "    .dataframe tbody tr th:only-of-type {\n",
       "        vertical-align: middle;\n",
       "    }\n",
       "\n",
       "    .dataframe tbody tr th {\n",
       "        vertical-align: top;\n",
       "    }\n",
       "\n",
       "    .dataframe thead th {\n",
       "        text-align: right;\n",
       "    }\n",
       "</style>\n",
       "<table border=\"1\" class=\"dataframe\">\n",
       "  <thead>\n",
       "    <tr style=\"text-align: right;\">\n",
       "      <th></th>\n",
       "      <th>tek_count</th>\n",
       "      <th>new_tek_count</th>\n",
       "      <th>new_cases</th>\n",
       "      <th>rolling_mean_new_cases</th>\n",
       "      <th>tek_count_per_new_case</th>\n",
       "      <th>new_tek_count_per_new_case</th>\n",
       "      <th>new_tek_devices</th>\n",
       "      <th>new_tek_devices_per_new_case</th>\n",
       "      <th>new_tek_count_per_new_tek_device</th>\n",
       "    </tr>\n",
       "    <tr>\n",
       "      <th>sample_date</th>\n",
       "      <th></th>\n",
       "      <th></th>\n",
       "      <th></th>\n",
       "      <th></th>\n",
       "      <th></th>\n",
       "      <th></th>\n",
       "      <th></th>\n",
       "      <th></th>\n",
       "      <th></th>\n",
       "    </tr>\n",
       "  </thead>\n",
       "  <tbody>\n",
       "    <tr>\n",
       "      <th>2020-08-31</th>\n",
       "      <td>NaN</td>\n",
       "      <td>29.0</td>\n",
       "      <td>NaN</td>\n",
       "      <td>NaN</td>\n",
       "      <td>NaN</td>\n",
       "      <td>NaN</td>\n",
       "      <td>18.0</td>\n",
       "      <td>NaN</td>\n",
       "      <td>1.611111</td>\n",
       "    </tr>\n",
       "    <tr>\n",
       "      <th>2020-08-30</th>\n",
       "      <td>18.0</td>\n",
       "      <td>29.0</td>\n",
       "      <td>0.0</td>\n",
       "      <td>7604.571429</td>\n",
       "      <td>0.002367</td>\n",
       "      <td>0.003813</td>\n",
       "      <td>16.0</td>\n",
       "      <td>0.002104</td>\n",
       "      <td>1.812500</td>\n",
       "    </tr>\n",
       "    <tr>\n",
       "      <th>2020-08-29</th>\n",
       "      <td>20.0</td>\n",
       "      <td>NaN</td>\n",
       "      <td>0.0</td>\n",
       "      <td>7604.571429</td>\n",
       "      <td>0.002630</td>\n",
       "      <td>NaN</td>\n",
       "      <td>27.0</td>\n",
       "      <td>0.003550</td>\n",
       "      <td>NaN</td>\n",
       "    </tr>\n",
       "    <tr>\n",
       "      <th>2020-08-28</th>\n",
       "      <td>35.0</td>\n",
       "      <td>NaN</td>\n",
       "      <td>9779.0</td>\n",
       "      <td>7604.571429</td>\n",
       "      <td>0.004602</td>\n",
       "      <td>NaN</td>\n",
       "      <td>NaN</td>\n",
       "      <td>NaN</td>\n",
       "      <td>NaN</td>\n",
       "    </tr>\n",
       "    <tr>\n",
       "      <th>2020-08-27</th>\n",
       "      <td>59.0</td>\n",
       "      <td>NaN</td>\n",
       "      <td>9658.0</td>\n",
       "      <td>7371.571429</td>\n",
       "      <td>0.008004</td>\n",
       "      <td>NaN</td>\n",
       "      <td>NaN</td>\n",
       "      <td>NaN</td>\n",
       "      <td>NaN</td>\n",
       "    </tr>\n",
       "    <tr>\n",
       "      <th>2020-08-26</th>\n",
       "      <td>70.0</td>\n",
       "      <td>NaN</td>\n",
       "      <td>7296.0</td>\n",
       "      <td>6997.428571</td>\n",
       "      <td>0.010004</td>\n",
       "      <td>NaN</td>\n",
       "      <td>NaN</td>\n",
       "      <td>NaN</td>\n",
       "      <td>NaN</td>\n",
       "    </tr>\n",
       "    <tr>\n",
       "      <th>2020-08-25</th>\n",
       "      <td>58.0</td>\n",
       "      <td>NaN</td>\n",
       "      <td>7117.0</td>\n",
       "      <td>6908.142857</td>\n",
       "      <td>0.008396</td>\n",
       "      <td>NaN</td>\n",
       "      <td>NaN</td>\n",
       "      <td>NaN</td>\n",
       "      <td>NaN</td>\n",
       "    </tr>\n",
       "    <tr>\n",
       "      <th>2020-08-24</th>\n",
       "      <td>48.0</td>\n",
       "      <td>NaN</td>\n",
       "      <td>19382.0</td>\n",
       "      <td>6622.000000</td>\n",
       "      <td>0.007249</td>\n",
       "      <td>NaN</td>\n",
       "      <td>NaN</td>\n",
       "      <td>NaN</td>\n",
       "      <td>NaN</td>\n",
       "    </tr>\n",
       "    <tr>\n",
       "      <th>2020-08-23</th>\n",
       "      <td>28.0</td>\n",
       "      <td>NaN</td>\n",
       "      <td>0.0</td>\n",
       "      <td>6177.285714</td>\n",
       "      <td>0.004533</td>\n",
       "      <td>NaN</td>\n",
       "      <td>NaN</td>\n",
       "      <td>NaN</td>\n",
       "      <td>NaN</td>\n",
       "    </tr>\n",
       "    <tr>\n",
       "      <th>2020-08-22</th>\n",
       "      <td>18.0</td>\n",
       "      <td>NaN</td>\n",
       "      <td>0.0</td>\n",
       "      <td>6177.285714</td>\n",
       "      <td>0.002914</td>\n",
       "      <td>NaN</td>\n",
       "      <td>NaN</td>\n",
       "      <td>NaN</td>\n",
       "      <td>NaN</td>\n",
       "    </tr>\n",
       "    <tr>\n",
       "      <th>2020-08-21</th>\n",
       "      <td>11.0</td>\n",
       "      <td>NaN</td>\n",
       "      <td>8148.0</td>\n",
       "      <td>6177.285714</td>\n",
       "      <td>0.001781</td>\n",
       "      <td>NaN</td>\n",
       "      <td>NaN</td>\n",
       "      <td>NaN</td>\n",
       "      <td>NaN</td>\n",
       "    </tr>\n",
       "    <tr>\n",
       "      <th>2020-08-20</th>\n",
       "      <td>4.0</td>\n",
       "      <td>NaN</td>\n",
       "      <td>7039.0</td>\n",
       "      <td>5796.000000</td>\n",
       "      <td>0.000690</td>\n",
       "      <td>NaN</td>\n",
       "      <td>NaN</td>\n",
       "      <td>NaN</td>\n",
       "      <td>NaN</td>\n",
       "    </tr>\n",
       "    <tr>\n",
       "      <th>2020-08-19</th>\n",
       "      <td>1.0</td>\n",
       "      <td>NaN</td>\n",
       "      <td>6671.0</td>\n",
       "      <td>5869.000000</td>\n",
       "      <td>0.000170</td>\n",
       "      <td>NaN</td>\n",
       "      <td>NaN</td>\n",
       "      <td>NaN</td>\n",
       "      <td>NaN</td>\n",
       "    </tr>\n",
       "  </tbody>\n",
       "</table>\n",
       "</div>"
      ],
      "text/plain": [
       "             tek_count  new_tek_count  new_cases  rolling_mean_new_cases  \\\n",
       "sample_date                                                                \n",
       "2020-08-31         NaN           29.0        NaN                     NaN   \n",
       "2020-08-30        18.0           29.0        0.0             7604.571429   \n",
       "2020-08-29        20.0            NaN        0.0             7604.571429   \n",
       "2020-08-28        35.0            NaN     9779.0             7604.571429   \n",
       "2020-08-27        59.0            NaN     9658.0             7371.571429   \n",
       "2020-08-26        70.0            NaN     7296.0             6997.428571   \n",
       "2020-08-25        58.0            NaN     7117.0             6908.142857   \n",
       "2020-08-24        48.0            NaN    19382.0             6622.000000   \n",
       "2020-08-23        28.0            NaN        0.0             6177.285714   \n",
       "2020-08-22        18.0            NaN        0.0             6177.285714   \n",
       "2020-08-21        11.0            NaN     8148.0             6177.285714   \n",
       "2020-08-20         4.0            NaN     7039.0             5796.000000   \n",
       "2020-08-19         1.0            NaN     6671.0             5869.000000   \n",
       "\n",
       "             tek_count_per_new_case  new_tek_count_per_new_case  \\\n",
       "sample_date                                                       \n",
       "2020-08-31                      NaN                         NaN   \n",
       "2020-08-30                 0.002367                    0.003813   \n",
       "2020-08-29                 0.002630                         NaN   \n",
       "2020-08-28                 0.004602                         NaN   \n",
       "2020-08-27                 0.008004                         NaN   \n",
       "2020-08-26                 0.010004                         NaN   \n",
       "2020-08-25                 0.008396                         NaN   \n",
       "2020-08-24                 0.007249                         NaN   \n",
       "2020-08-23                 0.004533                         NaN   \n",
       "2020-08-22                 0.002914                         NaN   \n",
       "2020-08-21                 0.001781                         NaN   \n",
       "2020-08-20                 0.000690                         NaN   \n",
       "2020-08-19                 0.000170                         NaN   \n",
       "\n",
       "             new_tek_devices  new_tek_devices_per_new_case  \\\n",
       "sample_date                                                  \n",
       "2020-08-31              18.0                           NaN   \n",
       "2020-08-30              16.0                      0.002104   \n",
       "2020-08-29              27.0                      0.003550   \n",
       "2020-08-28               NaN                           NaN   \n",
       "2020-08-27               NaN                           NaN   \n",
       "2020-08-26               NaN                           NaN   \n",
       "2020-08-25               NaN                           NaN   \n",
       "2020-08-24               NaN                           NaN   \n",
       "2020-08-23               NaN                           NaN   \n",
       "2020-08-22               NaN                           NaN   \n",
       "2020-08-21               NaN                           NaN   \n",
       "2020-08-20               NaN                           NaN   \n",
       "2020-08-19               NaN                           NaN   \n",
       "\n",
       "             new_tek_count_per_new_tek_device  \n",
       "sample_date                                    \n",
       "2020-08-31                           1.611111  \n",
       "2020-08-30                           1.812500  \n",
       "2020-08-29                                NaN  \n",
       "2020-08-28                                NaN  \n",
       "2020-08-27                                NaN  \n",
       "2020-08-26                                NaN  \n",
       "2020-08-25                                NaN  \n",
       "2020-08-24                                NaN  \n",
       "2020-08-23                                NaN  \n",
       "2020-08-22                                NaN  \n",
       "2020-08-21                                NaN  \n",
       "2020-08-20                                NaN  \n",
       "2020-08-19                                NaN  "
      ]
     },
     "execution_count": 18,
     "metadata": {},
     "output_type": "execute_result"
    }
   ],
   "source": [
    "result_summary_df_ = result_summary_df.copy()\n",
    "result_summary_df = result_summary_df[[\n",
    "    \"tek_count\",\n",
    "    \"new_tek_count\",\n",
    "    \"new_cases\",\n",
    "    \"rolling_mean_new_cases\",\n",
    "    \"tek_count_per_new_case\",\n",
    "    \"new_tek_count_per_new_case\",\n",
    "    \"new_tek_devices\",\n",
    "    \"new_tek_devices_per_new_case\",\n",
    "    \"new_tek_count_per_new_tek_device\"]]\n",
    "result_summary_df"
   ]
  },
  {
   "cell_type": "markdown",
   "metadata": {
    "collapsed": false,
    "papermill": {
     "duration": 0.02323,
     "end_time": "2020-08-31T15:08:55.542312",
     "exception": false,
     "start_time": "2020-08-31T15:08:55.519082",
     "status": "completed"
    },
    "tags": []
   },
   "source": [
    "### Summary Plots"
   ]
  },
  {
   "cell_type": "code",
   "execution_count": 19,
   "metadata": {
    "execution": {
     "iopub.execute_input": "2020-08-31T15:08:55.611980Z",
     "iopub.status.busy": "2020-08-31T15:08:55.611420Z",
     "iopub.status.idle": "2020-08-31T15:08:56.938856Z",
     "shell.execute_reply": "2020-08-31T15:08:56.938344Z"
    },
    "papermill": {
     "duration": 1.373326,
     "end_time": "2020-08-31T15:08:56.938987",
     "exception": false,
     "start_time": "2020-08-31T15:08:55.565661",
     "status": "completed"
    },
    "tags": []
   },
   "outputs": [
    {
     "data": {
      "image/png": "[encoded data removed]",
      "text/plain": [
       "<Figure size 1080x1584 with 6 Axes>"
      ]
     },
     "metadata": {},
     "output_type": "display_data"
    }
   ],
   "source": [
    "summary_ax_list = result_summary_df[[\n",
    "    \"rolling_mean_new_cases\",\n",
    "    \"tek_count\",\n",
    "    \"new_tek_count\",\n",
    "    \"new_tek_devices\",\n",
    "    \"new_tek_count_per_new_tek_device\",\n",
    "    \"new_tek_devices_per_new_case\"\n",
    "]].sort_index(ascending=True).plot.bar(\n",
    "    rot=45, subplots=True, figsize=(15, 22))\n",
    "summary_ax_list[-1].yaxis.set_major_formatter(matplotlib.ticker.PercentFormatter(1.0))"
   ]
  },
  {
   "cell_type": "markdown",
   "metadata": {
    "collapsed": false,
    "papermill": {
     "duration": 0.025967,
     "end_time": "2020-08-31T15:08:56.990144",
     "exception": false,
     "start_time": "2020-08-31T15:08:56.964177",
     "status": "completed"
    },
    "tags": []
   },
   "source": [
    "### Publish Results"
   ]
  },
  {
   "cell_type": "code",
   "execution_count": 20,
   "metadata": {
    "collapsed": false,
    "execution": {
     "iopub.execute_input": "2020-08-31T15:08:57.060660Z",
     "iopub.status.busy": "2020-08-31T15:08:57.059941Z",
     "iopub.status.idle": "2020-08-31T15:09:00.020722Z",
     "shell.execute_reply": "2020-08-31T15:09:00.020198Z"
    },
    "papermill": {
     "duration": 3.00152,
     "end_time": "2020-08-31T15:09:00.020855",
     "exception": false,
     "start_time": "2020-08-31T15:08:57.019335",
     "status": "completed"
    },
    "pycharm": {
     "name": "#%%\n"
    },
    "tags": []
   },
   "outputs": [],
   "source": [
    "def get_temporary_image_path() -> str:\n",
    "    return os.path.join(tempfile.gettempdir(), str(uuid.uuid4()) + \".png\")\n",
    "\n",
    "def save_temporary_plot_image(ax):\n",
    "    media_path = get_temporary_image_path()\n",
    "    ax.get_figure().savefig(media_path)\n",
    "    return media_path\n",
    "\n",
    "def save_temporary_dataframe_image(df):\n",
    "    media_path = get_temporary_image_path()\n",
    "    dfi.export(df, media_path)\n",
    "    return media_path\n",
    "\n",
    "summary_plots_image_path = save_temporary_plot_image(ax=summary_ax_list[0])\n",
    "summary_table_image_path = save_temporary_dataframe_image(df=result_summary_df)"
   ]
  },
  {
   "cell_type": "markdown",
   "metadata": {
    "collapsed": false,
    "papermill": {
     "duration": 0.029527,
     "end_time": "2020-08-31T15:09:00.075488",
     "exception": false,
     "start_time": "2020-08-31T15:09:00.045961",
     "status": "completed"
    },
    "tags": []
   },
   "source": [
    "### Save Results"
   ]
  },
  {
   "cell_type": "code",
   "execution_count": 21,
   "metadata": {
    "collapsed": false,
    "execution": {
     "iopub.execute_input": "2020-08-31T15:09:00.131371Z",
     "iopub.status.busy": "2020-08-31T15:09:00.130720Z",
     "iopub.status.idle": "2020-08-31T15:09:00.137496Z",
     "shell.execute_reply": "2020-08-31T15:09:00.137007Z"
    },
    "papermill": {
     "duration": 0.035893,
     "end_time": "2020-08-31T15:09:00.137617",
     "exception": false,
     "start_time": "2020-08-31T15:09:00.101724",
     "status": "completed"
    },
    "pycharm": {
     "name": "#%%\n"
    },
    "tags": []
   },
   "outputs": [],
   "source": [
    "result_summary_df.to_csv(\"Data/Resources/Current/RadarCOVID-Report-Summary-Table.csv\")\n",
    "_ = shutil.copyfile(summary_plots_image_path, \"Data/Resources/Current/RadarCOVID-Report-Summary-Plots.png\")\n",
    "_ = shutil.copyfile(summary_table_image_path, \"Data/Resources/Current/RadarCOVID-Report-Summary-Table.png\")"
   ]
  },
  {
   "cell_type": "markdown",
   "metadata": {
    "collapsed": false,
    "papermill": {
     "duration": 0.025012,
     "end_time": "2020-08-31T15:09:00.188406",
     "exception": false,
     "start_time": "2020-08-31T15:09:00.163394",
     "status": "completed"
    },
    "tags": []
   },
   "source": [
    "### Publish on Twitter"
   ]
  },
  {
   "cell_type": "code",
   "execution_count": 22,
   "metadata": {
    "collapsed": false,
    "execution": {
     "iopub.execute_input": "2020-08-31T15:09:00.244898Z",
     "iopub.status.busy": "2020-08-31T15:09:00.244215Z",
     "iopub.status.idle": "2020-08-31T15:09:01.898278Z",
     "shell.execute_reply": "2020-08-31T15:09:01.898825Z"
    },
    "papermill": {
     "duration": 1.685913,
     "end_time": "2020-08-31T15:09:01.899059",
     "exception": false,
     "start_time": "2020-08-31T15:09:00.213146",
     "status": "completed"
    },
    "pycharm": {
     "name": "#%%\n"
    },
    "tags": []
   },
   "outputs": [],
   "source": [
    "enable_share_to_twitter = os.environ.get(\"RADARCOVID_REPORT__ENABLE_PUBLISH_ON_TWITTER\")\n",
    "github_event_name = os.environ.get(\"GITHUB_EVENT_NAME\")\n",
    "\n",
    "if enable_share_to_twitter and github_event_name == \"schedule\":\n",
    "    import tweepy\n",
    "\n",
    "    twitter_api_auth_keys = os.environ[\"RADARCOVID_REPORT__TWITTER_API_AUTH_KEYS\"]\n",
    "    twitter_api_auth_keys = twitter_api_auth_keys.split(\":\")\n",
    "    auth = tweepy.OAuthHandler(twitter_api_auth_keys[0], twitter_api_auth_keys[1])\n",
    "    auth.set_access_token(twitter_api_auth_keys[2], twitter_api_auth_keys[3])\n",
    "\n",
    "    api = tweepy.API(auth)\n",
    "\n",
    "    summary_plot_media = api.media_upload(summary_plots_image_path)\n",
    "    summary_table_media = api.media_upload(summary_table_image_path)\n",
    "\n",
    "    extraction_date_result_summary_df = \\\n",
    "        result_summary_df[result_summary_df.index == extraction_date]\n",
    "    status = (\n",
    "        f\"Report Update – {extraction_date_with_hour}: \"\n",
    "        f\"https://github.com/pvieito/RadarCOVID-Report/blob/master/Notebooks/\"\n",
    "        f\"RadarCOVID-Report/Hourly/RadarCOVID-Report-{extraction_date_with_hour}.ipynb\"\n",
    "        f\"\\n\\n\"\n",
    "        f\"Day Summary:\\n\"\n",
    "        f\"- New TEKs: {extraction_date_result_summary_df.new_tek_count.sum()}\\n\"\n",
    "        f\"- New Devices: {extraction_date_result_summary_df.new_tek_devices.sum()}\")\n",
    "    status = status.encode(encoding=\"utf-8\")\n",
    "    api.update_status(\n",
    "        status=status,\n",
    "        media_ids=[summary_plot_media.media_id, summary_table_media.media_id])"
   ]
  }
 ],
 "metadata": {
  "kernelspec": {
   "display_name": "Python 3",
   "language": "python",
   "name": "python3"
  },
  "language_info": {
   "codemirror_mode": {
    "name": "ipython",
    "version": 3
   },
   "file_extension": ".py",
   "mimetype": "text/x-python",
   "name": "python",
   "nbconvert_exporter": "python",
   "pygments_lexer": "ipython3",
   "version": "3.8.5"
  },
  "papermill": {
   "duration": 13.857405,
   "end_time": "2020-08-31T15:09:02.435419",
   "environment_variables": {},
   "exception": null,
   "input_path": "Notebooks/RadarCOVID-Report/Source/RadarCOVID-Report.ipynb",
   "output_path": "RadarCOVID-Report.ipynb",
   "parameters": {},
   "start_time": "2020-08-31T15:08:48.578014",
   "version": "2.1.3"
  }
 },
 "nbformat": 4,
 "nbformat_minor": 1
}