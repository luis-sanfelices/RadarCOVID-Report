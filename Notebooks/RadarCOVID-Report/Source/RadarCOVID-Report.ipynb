{
 "cells": [
  {
   "cell_type": "markdown",
   "metadata": {
    "papermill": {
     "duration": 0.017676,
     "end_time": "2020-08-30T22:30:12.160145",
     "exception": false,
     "start_time": "2020-08-30T22:30:12.142469",
     "status": "completed"
    },
    "pycharm": {
     "name": "#%% md\n"
    },
    "tags": []
   },
   "source": [
    "# RadarCOVID-Report\n",
    "\n",
    "## Index\n",
    "\n",
    "- [Data Extraction](#Data-Extraction)\n",
    "- [Report Results](#Report-Results)"
   ]
  },
  {
   "cell_type": "markdown",
   "metadata": {
    "collapsed": true,
    "papermill": {
     "duration": 0.015606,
     "end_time": "2020-08-30T22:30:14.036672",
     "exception": false,
     "start_time": "2020-08-30T22:30:14.021066",
     "status": "completed"
    },
    "pycharm": {
     "name": "#%% md\n"
    },
    "tags": []
   },
   "source": [
    "## Data Extraction"
   ]
  },
  {
   "cell_type": "code",
   "execution_count": null,
   "outputs": [],
   "source": [
    "import os\n",
    "import shutil\n",
    "import tempfile\n",
    "import uuid\n",
    "\n",
    "import dataframe_image as dfi\n",
    "import matplotlib.ticker\n",
    "import pandas as pd\n",
    "import seaborn as sns\n",
    "\n",
    "%matplotlib inline"
   ],
   "metadata": {
    "collapsed": false,
    "pycharm": {
     "name": "#%%\n"
    }
   }
  },
  {
   "cell_type": "code",
   "execution_count": null,
   "outputs": [],
   "source": [
    "sns.set()\n",
    "matplotlib.rcParams['figure.figsize'] = (15, 6)"
   ],
   "metadata": {
    "collapsed": false,
    "pycharm": {
     "name": "#%%\n"
    }
   }
  },
  {
   "cell_type": "markdown",
   "source": [
    "### COVID-19 Cases"
   ],
   "metadata": {
    "collapsed": false
   }
  },
  {
   "cell_type": "code",
   "execution_count": null,
   "metadata": {
    "execution": {
     "iopub.execute_input": "2020-08-30T22:30:14.079124Z",
     "iopub.status.busy": "2020-08-30T22:30:14.078292Z",
     "iopub.status.idle": "2020-08-30T22:30:14.906037Z",
     "shell.execute_reply": "2020-08-30T22:30:14.906700Z"
    },
    "papermill": {
     "duration": 0.853101,
     "end_time": "2020-08-30T22:30:14.906891",
     "exception": false,
     "start_time": "2020-08-30T22:30:14.053790",
     "status": "completed"
    },
    "pycharm": {
     "name": "#%%\n"
    },
    "tags": []
   },
   "outputs": [],
   "source": [
    "confirmed_df = pd.read_csv(\"https://covid19tracking.narrativa.com/csv/confirmed.csv\")\n",
    "confirmed_df = confirmed_df[confirmed_df[\"Country_EN\"] == \"Spain\"]\n",
    "confirmed_df = confirmed_df[pd.isna(confirmed_df[\"Region\"])]\n",
    "confirmed_country_columns = list(filter(lambda x: x.startswith(\"Country_\"), confirmed_df.columns))\n",
    "confirmed_regional_columns = confirmed_country_columns + [\"Region\"]\n",
    "confirmed_df.drop(columns=confirmed_regional_columns, inplace=True)\n",
    "confirmed_df = confirmed_df.transpose()\n",
    "confirmed_df.reset_index(inplace=True)\n",
    "confirmed_df.columns = [\"sample_date_string\", \"cumulative_cases\"]\n",
    "confirmed_df[\"new_cases\"] = confirmed_df.cumulative_cases.diff()\n",
    "confirmed_df[\"rolling_mean_new_cases\"] = confirmed_df.new_cases.rolling(7).mean()\n",
    "confirmed_df.head()"
   ]
  },
  {
   "cell_type": "code",
   "execution_count": null,
   "metadata": {
    "execution": {
     "iopub.execute_input": "2020-08-30T22:30:14.967811Z",
     "iopub.status.busy": "2020-08-30T22:30:14.962305Z",
     "iopub.status.idle": "2020-08-30T22:30:15.204767Z",
     "shell.execute_reply": "2020-08-30T22:30:15.205525Z"
    },
    "papermill": {
     "duration": 0.281498,
     "end_time": "2020-08-30T22:30:15.205709",
     "exception": false,
     "start_time": "2020-08-30T22:30:14.924211",
     "status": "completed"
    },
    "pycharm": {
     "name": "#%%\n"
    },
    "tags": []
   },
   "outputs": [],
   "source": [
    "confirmed_df[[\"new_cases\", \"rolling_mean_new_cases\"]].plot()"
   ]
  },
  {
   "cell_type": "markdown",
   "metadata": {
    "papermill": {
     "duration": 0.030857,
     "end_time": "2020-08-30T22:30:15.254836",
     "exception": false,
     "start_time": "2020-08-30T22:30:15.223979",
     "status": "completed"
    },
    "tags": []
   },
   "source": [
    "### RadarCOVID TEKs Extraction"
   ]
  },
  {
   "cell_type": "code",
   "execution_count": null,
   "metadata": {
    "execution": {
     "iopub.execute_input": "2020-08-30T22:30:15.294258Z",
     "iopub.status.busy": "2020-08-30T22:30:15.293592Z",
     "iopub.status.idle": "2020-08-30T22:30:16.297501Z",
     "shell.execute_reply": "2020-08-30T22:30:16.298059Z"
    },
    "papermill": {
     "duration": 1.026139,
     "end_time": "2020-08-30T22:30:16.298274",
     "exception": false,
     "start_time": "2020-08-30T22:30:15.272135",
     "status": "completed"
    },
    "pycharm": {
     "name": "#%%\n"
    },
    "tags": []
   },
   "outputs": [],
   "source": [
    "from Modules.RadarCOVID import radar_covid\n",
    "\n",
    "exposure_keys_df = radar_covid.download_last_radar_covid_exposure_keys(days=14)\n",
    "exposure_keys_df[[\n",
    "    \"sample_date_string\", \"source_url\", \"region\", \"key_data\"]].head()"
   ]
  },
  {
   "cell_type": "code",
   "execution_count": null,
   "metadata": {
    "execution": {
     "iopub.execute_input": "2020-08-30T22:30:16.351238Z",
     "iopub.status.busy": "2020-08-30T22:30:16.344579Z",
     "iopub.status.idle": "2020-08-30T22:30:16.354285Z",
     "shell.execute_reply": "2020-08-30T22:30:16.353641Z"
    },
    "papermill": {
     "duration": 0.036786,
     "end_time": "2020-08-30T22:30:16.354426",
     "exception": false,
     "start_time": "2020-08-30T22:30:16.317640",
     "status": "completed"
    },
    "pycharm": {
     "name": "#%%\n"
    },
    "tags": []
   },
   "outputs": [],
   "source": [
    "exposure_keys_summary_df = \\\n",
    "    exposure_keys_df.groupby([\"sample_date_string\"]).key_data.nunique().to_frame()\n",
    "exposure_keys_summary_df.sort_index(ascending=False, inplace=True)\n",
    "exposure_keys_summary_df.rename(columns={\"key_data\": \"tek_count\"}, inplace=True)\n",
    "exposure_keys_summary_df.head()"
   ]
  },
  {
   "cell_type": "markdown",
   "metadata": {
    "papermill": {
     "duration": 0.020325,
     "end_time": "2020-08-30T22:30:16.394755",
     "exception": false,
     "start_time": "2020-08-30T22:30:16.374430",
     "status": "completed"
    },
    "tags": []
   },
   "source": [
    "### RadarCOVID TEKs Dump"
   ]
  },
  {
   "cell_type": "code",
   "execution_count": null,
   "metadata": {
    "execution": {
     "iopub.execute_input": "2020-08-30T22:30:16.447465Z",
     "iopub.status.busy": "2020-08-30T22:30:16.446827Z",
     "iopub.status.idle": "2020-08-30T22:30:16.463979Z",
     "shell.execute_reply": "2020-08-30T22:30:16.463423Z"
    },
    "papermill": {
     "duration": 0.049554,
     "end_time": "2020-08-30T22:30:16.464164",
     "exception": false,
     "start_time": "2020-08-30T22:30:16.414610",
     "status": "completed"
    },
    "scrolled": false,
    "tags": []
   },
   "outputs": [],
   "source": [
    "import datetime\n",
    "\n",
    "extraction_date = datetime.datetime.utcnow().strftime(\"%Y-%m-%d\")\n",
    "extraction_date_with_hour = datetime.datetime.utcnow().strftime(\"%Y-%m-%d@%H\")\n",
    "tek_list_df = exposure_keys_df[[\"sample_date_string\", \"key_data\"]].copy()\n",
    "tek_list_df[\"key_data\"] = tek_list_df[\"key_data\"].apply(str)\n",
    "tek_list_df.rename(columns={\n",
    "    \"sample_date_string\": \"sample_date\",\n",
    "    \"key_data\": \"tek_list\"}, inplace=True)\n",
    "tek_list_df = tek_list_df.groupby(\n",
    "    \"sample_date\").tek_list.unique().reset_index()\n",
    "tek_list_df[\"extraction_date\"] = extraction_date\n",
    "tek_list_df[\"extraction_date_with_hour\"] = extraction_date_with_hour\n",
    "tek_list_df.to_json(\n",
    "    \"Data/TEKs/Daily/RadarCOVID-TEKs-\" + extraction_date + \".json\",\n",
    "    lines=True, orient=\"records\")\n",
    "tek_list_df.to_json(\n",
    "    \"Data/TEKs/Hourly/RadarCOVID-TEKs-\" + extraction_date_with_hour + \".json\",\n",
    "    lines=True, orient=\"records\")\n",
    "tek_list_df.head()"
   ]
  },
  {
   "cell_type": "markdown",
   "metadata": {
    "papermill": {
     "duration": 0.019659,
     "end_time": "2020-08-30T22:30:16.503966",
     "exception": false,
     "start_time": "2020-08-30T22:30:16.484307",
     "status": "completed"
    },
    "tags": []
   },
   "source": [
    "### RadarCOVID New TEKs"
   ]
  },
  {
   "cell_type": "code",
   "execution_count": null,
   "metadata": {
    "execution": {
     "iopub.execute_input": "2020-08-30T22:30:16.550108Z",
     "iopub.status.busy": "2020-08-30T22:30:16.549381Z",
     "iopub.status.idle": "2020-08-30T22:30:16.572716Z",
     "shell.execute_reply": "2020-08-30T22:30:16.572176Z"
    },
    "papermill": {
     "duration": 0.048831,
     "end_time": "2020-08-30T22:30:16.572872",
     "exception": false,
     "start_time": "2020-08-30T22:30:16.524041",
     "status": "completed"
    },
    "tags": []
   },
   "outputs": [],
   "source": [
    "import glob\n",
    "\n",
    "historic_tek_list_df = pd.DataFrame()\n",
    "\n",
    "for path in glob.glob(\"Data/TEKs/Daily/RadarCOVID-TEKs-*.json\"):\n",
    "    extraction_tek_list_df = pd.read_json(path, lines=True)\n",
    "    historic_tek_list_df = historic_tek_list_df.append(extraction_tek_list_df, sort=False)\n",
    "    \n",
    "historic_tek_list_df.head()"
   ]
  },
  {
   "cell_type": "code",
   "execution_count": null,
   "metadata": {
    "execution": {
     "iopub.execute_input": "2020-08-30T22:30:16.632967Z",
     "iopub.status.busy": "2020-08-30T22:30:16.632308Z",
     "iopub.status.idle": "2020-08-30T22:30:16.634945Z",
     "shell.execute_reply": "2020-08-30T22:30:16.635575Z"
    },
    "papermill": {
     "duration": 0.042258,
     "end_time": "2020-08-30T22:30:16.635763",
     "exception": false,
     "start_time": "2020-08-30T22:30:16.593505",
     "status": "completed"
    },
    "tags": []
   },
   "outputs": [],
   "source": [
    "tek_list_df = historic_tek_list_df.groupby(\"extraction_date\").tek_list.apply(\n",
    "    lambda x: set(sum(x, []))).reset_index()\n",
    "tek_list_df = tek_list_df.set_index(\"extraction_date\").sort_index(ascending=True)\n",
    "tek_list_df.head()"
   ]
  },
  {
   "cell_type": "code",
   "execution_count": null,
   "metadata": {
    "execution": {
     "iopub.execute_input": "2020-08-30T22:30:16.691637Z",
     "iopub.status.busy": "2020-08-30T22:30:16.690991Z",
     "iopub.status.idle": "2020-08-30T22:30:16.693889Z",
     "shell.execute_reply": "2020-08-30T22:30:16.694434Z"
    },
    "papermill": {
     "duration": 0.03683,
     "end_time": "2020-08-30T22:30:16.694621",
     "exception": false,
     "start_time": "2020-08-30T22:30:16.657791",
     "status": "completed"
    },
    "tags": []
   },
   "outputs": [],
   "source": [
    "new_tek_df = tek_list_df.diff().tek_list.apply(\n",
    "    lambda x: len(x) if not pd.isna(x) else None).to_frame().reset_index()\n",
    "new_tek_df.rename(columns={\n",
    "    \"tek_list\": \"new_tek_count\",\n",
    "    \"extraction_date\": \"sample_date_string\",}, inplace=True)\n",
    "new_tek_df.head()"
   ]
  },
  {
   "cell_type": "code",
   "execution_count": null,
   "metadata": {
    "execution": {
     "iopub.execute_input": "2020-08-30T22:30:16.742903Z",
     "iopub.status.busy": "2020-08-30T22:30:16.742362Z",
     "iopub.status.idle": "2020-08-30T22:30:16.753447Z",
     "shell.execute_reply": "2020-08-30T22:30:16.752862Z"
    },
    "papermill": {
     "duration": 0.039016,
     "end_time": "2020-08-30T22:30:16.753592",
     "exception": false,
     "start_time": "2020-08-30T22:30:16.714576",
     "status": "completed"
    },
    "tags": []
   },
   "outputs": [],
   "source": [
    "new_tek_devices_df = historic_tek_list_df.copy()\n",
    "new_tek_devices_df[\"new_sample_extraction_date\"] = \\\n",
    "    pd.to_datetime(new_tek_devices_df.sample_date) + datetime.timedelta(1)\n",
    "new_tek_devices_df[\"extraction_date\"] = pd.to_datetime(new_tek_devices_df.extraction_date)\n",
    "\n",
    "new_tek_devices_df = new_tek_devices_df[\n",
    "    new_tek_devices_df.new_sample_extraction_date == new_tek_devices_df.extraction_date]\n",
    "new_tek_devices_df.head()"
   ]
  },
  {
   "cell_type": "code",
   "execution_count": null,
   "metadata": {
    "execution": {
     "iopub.execute_input": "2020-08-30T22:30:16.812238Z",
     "iopub.status.busy": "2020-08-30T22:30:16.811577Z",
     "iopub.status.idle": "2020-08-30T22:30:16.814255Z",
     "shell.execute_reply": "2020-08-30T22:30:16.814894Z"
    },
    "papermill": {
     "duration": 0.039811,
     "end_time": "2020-08-30T22:30:16.815077",
     "exception": false,
     "start_time": "2020-08-30T22:30:16.775266",
     "status": "completed"
    },
    "tags": []
   },
   "outputs": [],
   "source": [
    "new_tek_devices_df.set_index(\"extraction_date\", inplace=True)\n",
    "new_tek_devices_df = new_tek_devices_df.tek_list.apply(lambda x: len(set(x))).to_frame()\n",
    "new_tek_devices_df.reset_index(inplace=True)\n",
    "new_tek_devices_df.rename(columns={\n",
    "    \"extraction_date\": \"sample_date_string\",\n",
    "    \"tek_list\": \"new_tek_devices\"}, inplace=True)\n",
    "new_tek_devices_df[\"sample_date_string\"] = new_tek_devices_df.sample_date_string.dt.strftime(\"%Y-%m-%d\")\n",
    "new_tek_devices_df.head()"
   ]
  },
  {
   "cell_type": "markdown",
   "metadata": {
    "papermill": {
     "duration": 0.023489,
     "end_time": "2020-08-30T22:30:16.861085",
     "exception": false,
     "start_time": "2020-08-30T22:30:16.837596",
     "status": "completed"
    },
    "tags": []
   },
   "source": [
    "### Data Merge"
   ]
  },
  {
   "cell_type": "code",
   "execution_count": null,
   "metadata": {
    "execution": {
     "iopub.execute_input": "2020-08-30T22:30:16.919384Z",
     "iopub.status.busy": "2020-08-30T22:30:16.918749Z",
     "iopub.status.idle": "2020-08-30T22:30:16.921653Z",
     "shell.execute_reply": "2020-08-30T22:30:16.922292Z"
    },
    "papermill": {
     "duration": 0.039697,
     "end_time": "2020-08-30T22:30:16.922469",
     "exception": false,
     "start_time": "2020-08-30T22:30:16.882772",
     "status": "completed"
    },
    "tags": []
   },
   "outputs": [],
   "source": [
    "result_summary_df = exposure_keys_summary_df.merge(new_tek_df, on=[\"sample_date_string\"], how=\"outer\")\n",
    "result_summary_df.head()"
   ]
  },
  {
   "cell_type": "code",
   "execution_count": null,
   "metadata": {
    "execution": {
     "iopub.execute_input": "2020-08-30T22:30:16.982353Z",
     "iopub.status.busy": "2020-08-30T22:30:16.981676Z",
     "iopub.status.idle": "2020-08-30T22:30:16.984837Z",
     "shell.execute_reply": "2020-08-30T22:30:16.985366Z"
    },
    "papermill": {
     "duration": 0.040967,
     "end_time": "2020-08-30T22:30:16.985625",
     "exception": false,
     "start_time": "2020-08-30T22:30:16.944658",
     "status": "completed"
    },
    "tags": []
   },
   "outputs": [],
   "source": [
    "result_summary_df = result_summary_df.merge(new_tek_devices_df, on=[\"sample_date_string\"], how=\"outer\")\n",
    "result_summary_df.head()"
   ]
  },
  {
   "cell_type": "code",
   "execution_count": null,
   "metadata": {
    "execution": {
     "iopub.execute_input": "2020-08-30T22:30:17.037948Z",
     "iopub.status.busy": "2020-08-30T22:30:17.037327Z",
     "iopub.status.idle": "2020-08-30T22:30:17.051382Z",
     "shell.execute_reply": "2020-08-30T22:30:17.051931Z"
    },
    "papermill": {
     "duration": 0.043246,
     "end_time": "2020-08-30T22:30:17.052095",
     "exception": false,
     "start_time": "2020-08-30T22:30:17.008849",
     "status": "completed"
    },
    "pycharm": {
     "name": "#%%\n"
    },
    "tags": []
   },
   "outputs": [],
   "source": [
    "result_summary_df = result_summary_df.merge(confirmed_df, on=[\"sample_date_string\"], how=\"left\")\n",
    "result_summary_df.head()"
   ]
  },
  {
   "cell_type": "code",
   "execution_count": null,
   "metadata": {
    "execution": {
     "iopub.execute_input": "2020-08-30T22:30:17.105846Z",
     "iopub.status.busy": "2020-08-30T22:30:17.105116Z",
     "iopub.status.idle": "2020-08-30T22:30:17.127040Z",
     "shell.execute_reply": "2020-08-30T22:30:17.126094Z"
    },
    "papermill": {
     "duration": 0.049933,
     "end_time": "2020-08-30T22:30:17.127192",
     "exception": false,
     "start_time": "2020-08-30T22:30:17.077259",
     "status": "completed"
    },
    "tags": []
   },
   "outputs": [],
   "source": [
    "result_summary_df[\"tek_count_per_new_case\"] = \\\n",
    "    result_summary_df.tek_count / result_summary_df.rolling_mean_new_cases\n",
    "result_summary_df[\"new_tek_count_per_new_case\"] = \\\n",
    "    result_summary_df.new_tek_count / result_summary_df.rolling_mean_new_cases\n",
    "result_summary_df[\"new_tek_devices_per_new_case\"] = \\\n",
    "    result_summary_df.new_tek_devices / result_summary_df.rolling_mean_new_cases\n",
    "result_summary_df[\"new_tek_count_per_new_tek_device\"] = \\\n",
    "    result_summary_df.new_tek_count / result_summary_df.new_tek_devices\n",
    "result_summary_df.head()"
   ]
  },
  {
   "cell_type": "code",
   "execution_count": null,
   "outputs": [],
   "source": [
    "result_summary_df[\"sample_date\"] = pd.to_datetime(result_summary_df.sample_date_string)\n",
    "result_summary_df.set_index(\"sample_date\", inplace=True)\n",
    "result_summary_df = result_summary_df.sort_index(ascending=False)"
   ],
   "metadata": {
    "collapsed": false,
    "pycharm": {
     "name": "#%%\n"
    }
   }
  },
  {
   "cell_type": "markdown",
   "metadata": {
    "papermill": {
     "duration": 0.025057,
     "end_time": "2020-08-30T22:30:17.177744",
     "exception": false,
     "start_time": "2020-08-30T22:30:17.152687",
     "status": "completed"
    },
    "tags": []
   },
   "source": [
    "## Report Results\n"
   ]
  },
  {
   "cell_type": "markdown",
   "source": [
    "### Summary Table"
   ],
   "metadata": {
    "collapsed": false
   }
  },
  {
   "cell_type": "code",
   "execution_count": null,
   "metadata": {
    "execution": {
     "iopub.execute_input": "2020-08-30T22:30:17.313260Z",
     "iopub.status.busy": "2020-08-30T22:30:17.312584Z",
     "iopub.status.idle": "2020-08-30T22:30:17.317571Z",
     "shell.execute_reply": "2020-08-30T22:30:17.316929Z"
    },
    "papermill": {
     "duration": 0.055272,
     "end_time": "2020-08-30T22:30:17.317721",
     "exception": false,
     "start_time": "2020-08-30T22:30:17.262449",
     "status": "completed"
    },
    "pycharm": {
     "name": "#%%\n"
    },
    "tags": []
   },
   "outputs": [],
   "source": [
    "result_summary_df_ = result_summary_df.copy()\n",
    "result_summary_df = result_summary_df[[\n",
    "    \"tek_count\",\n",
    "    \"new_tek_count\",\n",
    "    \"new_cases\",\n",
    "    \"rolling_mean_new_cases\",\n",
    "    \"tek_count_per_new_case\",\n",
    "    \"new_tek_count_per_new_case\",\n",
    "    \"new_tek_devices\",\n",
    "    \"new_tek_devices_per_new_case\",\n",
    "    \"new_tek_count_per_new_tek_device\"]]\n",
    "result_summary_df"
   ]
  },
  {
   "cell_type": "markdown",
   "source": [
    "### Summary Plots"
   ],
   "metadata": {
    "collapsed": false
   }
  },
  {
   "cell_type": "code",
   "execution_count": null,
   "metadata": {
    "execution": {
     "iopub.execute_input": "2020-08-30T22:30:17.373206Z",
     "iopub.status.busy": "2020-08-30T22:30:17.372569Z",
     "iopub.status.idle": "2020-08-30T22:30:18.462852Z",
     "shell.execute_reply": "2020-08-30T22:30:18.463387Z"
    },
    "papermill": {
     "duration": 1.120762,
     "end_time": "2020-08-30T22:30:18.463568",
     "exception": false,
     "start_time": "2020-08-30T22:30:17.342806",
     "status": "completed"
    },
    "tags": []
   },
   "outputs": [],
   "source": [
    "summary_ax_list = result_summary_df[[\n",
    "    \"rolling_mean_new_cases\",\n",
    "    \"tek_count\",\n",
    "    \"new_tek_count\",\n",
    "    \"new_tek_devices\",\n",
    "    \"new_tek_count_per_new_tek_device\",\n",
    "    \"new_tek_devices_per_new_case\"\n",
    "]].sort_index(ascending=True).plot.bar(\n",
    "    rot=45, subplots=True, figsize=(15, 22))\n",
    "summary_ax_list[-1].yaxis.set_major_formatter(matplotlib.ticker.PercentFormatter(1.0))"
   ]
  },
  {
   "cell_type": "markdown",
   "metadata": {
    "collapsed": false,
    "papermill": {
     "duration": 0.028337,
     "end_time": "2020-08-30T22:30:18.849650",
     "exception": false,
     "start_time": "2020-08-30T22:30:18.821313",
     "status": "completed"
    },
    "tags": []
   },
   "source": [
    "### Publish Results"
   ]
  },
  {
   "cell_type": "code",
   "execution_count": null,
   "metadata": {
    "collapsed": false,
    "execution": {
     "iopub.execute_input": "2020-08-30T22:30:18.991631Z",
     "iopub.status.busy": "2020-08-30T22:30:18.990945Z",
     "iopub.status.idle": "2020-08-30T22:30:20.755831Z",
     "shell.execute_reply": "2020-08-30T22:30:20.756295Z"
    },
    "papermill": {
     "duration": 1.878671,
     "end_time": "2020-08-30T22:30:20.756493",
     "exception": false,
     "start_time": "2020-08-30T22:30:18.877822",
     "status": "completed"
    },
    "pycharm": {
     "name": "#%%\n"
    },
    "tags": []
   },
   "outputs": [],
   "source": [
    "def get_temporary_image_path() -> str:\n",
    "    return os.path.join(tempfile.gettempdir(), str(uuid.uuid4()) + \".png\")\n",
    "\n",
    "def save_temporary_plot_image(ax):\n",
    "    media_path = get_temporary_image_path()\n",
    "    ax.get_figure().savefig(media_path)\n",
    "    return media_path\n",
    "\n",
    "def save_temporary_dataframe_image(df):\n",
    "    media_path = get_temporary_image_path()\n",
    "    dfi.export(df, media_path)\n",
    "    return media_path\n",
    "\n",
    "summary_plots_image_path = save_temporary_plot_image(ax=summary_ax_list[0])\n",
    "summary_table_image_path = save_temporary_dataframe_image(df=result_summary_df)"
   ]
  },
  {
   "cell_type": "markdown",
   "source": [
    "### Save Results"
   ],
   "metadata": {
    "collapsed": false
   }
  },
  {
   "cell_type": "code",
   "execution_count": null,
   "outputs": [],
   "source": [
    "result_summary_df.to_csv(\"Data/Resources/Current/RadarCOVID-Report-Summary-Table.csv\")\n",
    "_ = shutil.copyfile(summary_plots_image_path, \"Data/Resources/Current/RadarCOVID-Report-Summary-Plots.png\")\n",
    "_ = shutil.copyfile(summary_table_image_path, \"Data/Resources/Current/RadarCOVID-Report-Summary-Table.png\")"
   ],
   "metadata": {
    "collapsed": false,
    "pycharm": {
     "name": "#%%\n"
    }
   }
  },
  {
   "cell_type": "markdown",
   "source": [
    "### Publish on Twitter"
   ],
   "metadata": {
    "collapsed": false
   }
  },
  {
   "cell_type": "code",
   "execution_count": null,
   "outputs": [],
   "source": [
    "enable_share_to_twitter = os.environ.get(\"RADARCOVID_REPORT__ENABLE_PUBLISH_ON_TWITTER\")\n",
    "github_event_name = os.environ.get(\"GITHUB_EVENT_NAME\")\n",
    "\n",
    "if enable_share_to_twitter and github_event_name == \"schedule\":\n",
    "    import tweepy\n",
    "\n",
    "    twitter_api_auth_keys = os.environ[\"RADARCOVID_REPORT__TWITTER_API_AUTH_KEYS\"]\n",
    "    twitter_api_auth_keys = twitter_api_auth_keys.split(\":\")\n",
    "    auth = tweepy.OAuthHandler(twitter_api_auth_keys[0], twitter_api_auth_keys[1])\n",
    "    auth.set_access_token(twitter_api_auth_keys[2], twitter_api_auth_keys[3])\n",
    "\n",
    "    api = tweepy.API(auth)\n",
    "\n",
    "    summary_plot_media = api.media_upload(summary_plots_image_path)\n",
    "    summary_table_media = api.media_upload(summary_table_image_path)\n",
    "\n",
    "    extraction_date_result_summary_df = \\\n",
    "        result_summary_df[result_summary_df.index == extraction_date]\n",
    "    status = (\n",
    "        f\"Report Update – {extraction_date_with_hour}: \"\n",
    "        f\"https://github.com/pvieito/RadarCOVID-Report/blob/master/Notebooks/\"\n",
    "        f\"RadarCOVID-Report/Hourly/RadarCOVID-Report-{extraction_date_with_hour}.ipynb\"\n",
    "        f\"\\n\\n\"\n",
    "        f\"Day Summary:\\n\"\n",
    "        f\"- New TEKs: {extraction_date_result_summary_df.new_tek_count.sum()}\\n\"\n",
    "        f\"- New Devices: {extraction_date_result_summary_df.new_tek_devices.sum()}\")\n",
    "    status = status.encode(encoding=\"utf-8\")\n",
    "    api.update_status(\n",
    "        status=status,\n",
    "        media_ids=[summary_plot_media.media_id, summary_table_media.media_id])"
   ],
   "metadata": {
    "collapsed": false,
    "pycharm": {
     "name": "#%%\n"
    }
   }
  }
 ],
 "metadata": {
  "kernelspec": {
   "display_name": "Python 3",
   "language": "python",
   "name": "python3"
  },
  "language_info": {
   "codemirror_mode": {
    "name": "ipython",
    "version": 3
   },
   "file_extension": ".py",
   "mimetype": "text/x-python",
   "name": "python",
   "nbconvert_exporter": "python",
   "pygments_lexer": "ipython3",
   "version": "3.8.5"
  },
  "papermill": {
   "duration": 10.103516,
   "end_time": "2020-08-30T22:30:21.192361",
   "environment_variables": {},
   "exception": null,
   "input_path": "RadarCOVID-Report.ipynb",
   "output_path": "RadarCOVID-Report.ipynb",
   "parameters": {},
   "start_time": "2020-08-30T22:30:11.088845",
   "version": "2.1.3"
  }
 },
 "nbformat": 4,
 "nbformat_minor": 1
}