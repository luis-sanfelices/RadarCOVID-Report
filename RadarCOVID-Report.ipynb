{
 "cells": [
  {
   "cell_type": "markdown",
   "metadata": {
    "papermill": {
     "duration": 0.00958,
     "end_time": "2020-08-29T23:33:59.851429",
     "exception": false,
     "start_time": "2020-08-29T23:33:59.841849",
     "status": "completed"
    },
    "pycharm": {
     "name": "#%% md\n"
    },
    "tags": []
   },
   "source": [
    "# RadarCOVID-Report"
   ]
  },
  {
   "cell_type": "code",
   "execution_count": 1,
   "metadata": {
    "execution": {
     "iopub.execute_input": "2020-08-29T23:33:59.873248Z",
     "iopub.status.busy": "2020-08-29T23:33:59.872727Z",
     "iopub.status.idle": "2020-08-29T23:34:02.304757Z",
     "shell.execute_reply": "2020-08-29T23:34:02.304229Z"
    },
    "papermill": {
     "duration": 2.444877,
     "end_time": "2020-08-29T23:34:02.304903",
     "exception": false,
     "start_time": "2020-08-29T23:33:59.860026",
     "status": "completed"
    },
    "tags": []
   },
   "outputs": [],
   "source": [
    "import matplotlib\n",
    "import pandas as pd\n",
    "import seaborn as sns\n",
    "\n",
    "%matplotlib inline"
   ]
  },
  {
   "cell_type": "code",
   "execution_count": 2,
   "metadata": {
    "execution": {
     "iopub.execute_input": "2020-08-29T23:34:02.327213Z",
     "iopub.status.busy": "2020-08-29T23:34:02.326702Z",
     "iopub.status.idle": "2020-08-29T23:34:02.328949Z",
     "shell.execute_reply": "2020-08-29T23:34:02.328497Z"
    },
    "papermill": {
     "duration": 0.015495,
     "end_time": "2020-08-29T23:34:02.329069",
     "exception": false,
     "start_time": "2020-08-29T23:34:02.313574",
     "status": "completed"
    },
    "tags": []
   },
   "outputs": [],
   "source": [
    "sns.set()\n",
    "matplotlib.rcParams['figure.figsize'] = (15, 6)"
   ]
  },
  {
   "cell_type": "markdown",
   "metadata": {
    "collapsed": true,
    "papermill": {
     "duration": 0.008126,
     "end_time": "2020-08-29T23:34:02.345357",
     "exception": false,
     "start_time": "2020-08-29T23:34:02.337231",
     "status": "completed"
    },
    "pycharm": {
     "name": "#%% md\n"
    },
    "tags": []
   },
   "source": [
    "## COVID-19 Cases"
   ]
  },
  {
   "cell_type": "code",
   "execution_count": 3,
   "metadata": {
    "execution": {
     "iopub.execute_input": "2020-08-29T23:34:02.368850Z",
     "iopub.status.busy": "2020-08-29T23:34:02.368275Z",
     "iopub.status.idle": "2020-08-29T23:34:03.201236Z",
     "shell.execute_reply": "2020-08-29T23:34:03.202004Z"
    },
    "papermill": {
     "duration": 0.848724,
     "end_time": "2020-08-29T23:34:03.202251",
     "exception": false,
     "start_time": "2020-08-29T23:34:02.353527",
     "status": "completed"
    },
    "pycharm": {
     "name": "#%%\n"
    },
    "tags": []
   },
   "outputs": [
    {
     "data": {
      "text/html": [
       "<div>\n",
       "<style scoped>\n",
       "    .dataframe tbody tr th:only-of-type {\n",
       "        vertical-align: middle;\n",
       "    }\n",
       "\n",
       "    .dataframe tbody tr th {\n",
       "        vertical-align: top;\n",
       "    }\n",
       "\n",
       "    .dataframe thead th {\n",
       "        text-align: right;\n",
       "    }\n",
       "</style>\n",
       "<table border=\"1\" class=\"dataframe\">\n",
       "  <thead>\n",
       "    <tr style=\"text-align: right;\">\n",
       "      <th></th>\n",
       "      <th>sample_date_string</th>\n",
       "      <th>cumulative_cases</th>\n",
       "      <th>new_cases</th>\n",
       "      <th>rolling_mean_new_cases</th>\n",
       "    </tr>\n",
       "  </thead>\n",
       "  <tbody>\n",
       "    <tr>\n",
       "      <th>0</th>\n",
       "      <td>2020-01-23</td>\n",
       "      <td>0.0</td>\n",
       "      <td>NaN</td>\n",
       "      <td>NaN</td>\n",
       "    </tr>\n",
       "    <tr>\n",
       "      <th>1</th>\n",
       "      <td>2020-01-24</td>\n",
       "      <td>0.0</td>\n",
       "      <td>0.0</td>\n",
       "      <td>NaN</td>\n",
       "    </tr>\n",
       "    <tr>\n",
       "      <th>2</th>\n",
       "      <td>2020-01-25</td>\n",
       "      <td>0.0</td>\n",
       "      <td>0.0</td>\n",
       "      <td>NaN</td>\n",
       "    </tr>\n",
       "    <tr>\n",
       "      <th>3</th>\n",
       "      <td>2020-01-26</td>\n",
       "      <td>0.0</td>\n",
       "      <td>0.0</td>\n",
       "      <td>NaN</td>\n",
       "    </tr>\n",
       "    <tr>\n",
       "      <th>4</th>\n",
       "      <td>2020-01-27</td>\n",
       "      <td>0.0</td>\n",
       "      <td>0.0</td>\n",
       "      <td>NaN</td>\n",
       "    </tr>\n",
       "  </tbody>\n",
       "</table>\n",
       "</div>"
      ],
      "text/plain": [
       "  sample_date_string  cumulative_cases  new_cases  rolling_mean_new_cases\n",
       "0         2020-01-23               0.0        NaN                     NaN\n",
       "1         2020-01-24               0.0        0.0                     NaN\n",
       "2         2020-01-25               0.0        0.0                     NaN\n",
       "3         2020-01-26               0.0        0.0                     NaN\n",
       "4         2020-01-27               0.0        0.0                     NaN"
      ]
     },
     "execution_count": 3,
     "metadata": {},
     "output_type": "execute_result"
    }
   ],
   "source": [
    "confirmed_df = pd.read_csv(\"https://covid19tracking.narrativa.com/csv/confirmed.csv\")\n",
    "confirmed_df = confirmed_df[confirmed_df[\"Country_EN\"] == \"Spain\"]\n",
    "confirmed_df = confirmed_df[pd.isna(confirmed_df[\"Region\"])]\n",
    "confirmed_df.drop(columns=[\"Country_EN\", \"Country_ES\", \"Country_IT\", \"Region\"], inplace=True)\n",
    "confirmed_df = confirmed_df.transpose()\n",
    "confirmed_df.reset_index(inplace=True)\n",
    "confirmed_df.columns = [\"sample_date_string\", \"cumulative_cases\"]\n",
    "confirmed_df[\"new_cases\"] = confirmed_df.cumulative_cases.diff()\n",
    "confirmed_df[\"rolling_mean_new_cases\"] = confirmed_df.new_cases.rolling(7).mean()\n",
    "confirmed_df.head()"
   ]
  },
  {
   "cell_type": "code",
   "execution_count": 4,
   "metadata": {
    "execution": {
     "iopub.execute_input": "2020-08-29T23:34:03.230400Z",
     "iopub.status.busy": "2020-08-29T23:34:03.229886Z",
     "iopub.status.idle": "2020-08-29T23:34:03.424388Z",
     "shell.execute_reply": "2020-08-29T23:34:03.424929Z"
    },
    "papermill": {
     "duration": 0.211482,
     "end_time": "2020-08-29T23:34:03.425088",
     "exception": false,
     "start_time": "2020-08-29T23:34:03.213606",
     "status": "completed"
    },
    "pycharm": {
     "name": "#%%\n"
    },
    "tags": []
   },
   "outputs": [
    {
     "data": {
      "text/plain": [
       "<matplotlib.axes._subplots.AxesSubplot at 0x1289f7450>"
      ]
     },
     "execution_count": 4,
     "metadata": {},
     "output_type": "execute_result"
    },
    {
     "data": {
      "image/png": "[encoded data removed]",
      "text/plain": [
       "<Figure size 1080x432 with 1 Axes>"
      ]
     },
     "metadata": {},
     "output_type": "display_data"
    }
   ],
   "source": [
    "confirmed_df[[\"new_cases\", \"rolling_mean_new_cases\"]].plot()"
   ]
  },
  {
   "cell_type": "markdown",
   "metadata": {
    "papermill": {
     "duration": 0.010555,
     "end_time": "2020-08-29T23:34:03.447002",
     "exception": false,
     "start_time": "2020-08-29T23:34:03.436447",
     "status": "completed"
    },
    "tags": []
   },
   "source": [
    "## RadarCOVID TEKs Extraction"
   ]
  },
  {
   "cell_type": "code",
   "execution_count": 5,
   "metadata": {
    "execution": {
     "iopub.execute_input": "2020-08-29T23:34:03.477296Z",
     "iopub.status.busy": "2020-08-29T23:34:03.476782Z",
     "iopub.status.idle": "2020-08-29T23:34:05.156646Z",
     "shell.execute_reply": "2020-08-29T23:34:05.155854Z"
    },
    "papermill": {
     "duration": 1.699167,
     "end_time": "2020-08-29T23:34:05.156781",
     "exception": false,
     "start_time": "2020-08-29T23:34:03.457614",
     "status": "completed"
    },
    "pycharm": {
     "name": "#%%\n"
    },
    "tags": []
   },
   "outputs": [
    {
     "name": "stderr",
     "output_type": "stream",
     "text": [
      "WARNING:root:NoDataFoundForDateException(\"No exposed tokens found for day '2020-08-30'.\")\n",
      "WARNING:root:NoDataFoundForDateException(\"No exposed tokens found for day '2020-08-29'.\")\n",
      "WARNING:root:NoDataFoundForDateException(\"No exposed tokens found for day '2020-08-18'.\")\n",
      "WARNING:root:NoDataFoundForDateException(\"No exposed tokens found for day '2020-08-17'.\")\n"
     ]
    },
    {
     "data": {
      "text/html": [
       "<div>\n",
       "<style scoped>\n",
       "    .dataframe tbody tr th:only-of-type {\n",
       "        vertical-align: middle;\n",
       "    }\n",
       "\n",
       "    .dataframe tbody tr th {\n",
       "        vertical-align: top;\n",
       "    }\n",
       "\n",
       "    .dataframe thead th {\n",
       "        text-align: right;\n",
       "    }\n",
       "</style>\n",
       "<table border=\"1\" class=\"dataframe\">\n",
       "  <thead>\n",
       "    <tr style=\"text-align: right;\">\n",
       "      <th></th>\n",
       "      <th>sample_date_string</th>\n",
       "      <th>source_url</th>\n",
       "      <th>region</th>\n",
       "      <th>key_data</th>\n",
       "    </tr>\n",
       "  </thead>\n",
       "  <tbody>\n",
       "    <tr>\n",
       "      <th>0</th>\n",
       "      <td>2020-08-28</td>\n",
       "      <td>https://radarcovid.covid19.gob.es/dp3t/v1/gaen...</td>\n",
       "      <td>ES</td>\n",
       "      <td>757936ab-531c-4872-1d83-ce7a8d135211</td>\n",
       "    </tr>\n",
       "    <tr>\n",
       "      <th>1</th>\n",
       "      <td>2020-08-28</td>\n",
       "      <td>https://radarcovid.covid19.gob.es/dp3t/v1/gaen...</td>\n",
       "      <td>ES</td>\n",
       "      <td>51d5fc97-3caf-8410-8fa2-f25f48547962</td>\n",
       "    </tr>\n",
       "    <tr>\n",
       "      <th>2</th>\n",
       "      <td>2020-08-28</td>\n",
       "      <td>https://radarcovid.covid19.gob.es/dp3t/v1/gaen...</td>\n",
       "      <td>ES</td>\n",
       "      <td>c314cde8-5365-8949-88e7-7ed2d1602fef</td>\n",
       "    </tr>\n",
       "    <tr>\n",
       "      <th>3</th>\n",
       "      <td>2020-08-28</td>\n",
       "      <td>https://radarcovid.covid19.gob.es/dp3t/v1/gaen...</td>\n",
       "      <td>ES</td>\n",
       "      <td>64531b2a-2054-c820-39e2-20fa21283d2c</td>\n",
       "    </tr>\n",
       "    <tr>\n",
       "      <th>4</th>\n",
       "      <td>2020-08-28</td>\n",
       "      <td>https://radarcovid.covid19.gob.es/dp3t/v1/gaen...</td>\n",
       "      <td>ES</td>\n",
       "      <td>e91b1672-ca72-87d7-099e-782e945728b0</td>\n",
       "    </tr>\n",
       "  </tbody>\n",
       "</table>\n",
       "</div>"
      ],
      "text/plain": [
       "  sample_date_string                                         source_url  \\\n",
       "0         2020-08-28  https://radarcovid.covid19.gob.es/dp3t/v1/gaen...   \n",
       "1         2020-08-28  https://radarcovid.covid19.gob.es/dp3t/v1/gaen...   \n",
       "2         2020-08-28  https://radarcovid.covid19.gob.es/dp3t/v1/gaen...   \n",
       "3         2020-08-28  https://radarcovid.covid19.gob.es/dp3t/v1/gaen...   \n",
       "4         2020-08-28  https://radarcovid.covid19.gob.es/dp3t/v1/gaen...   \n",
       "\n",
       "  region                              key_data  \n",
       "0     ES  757936ab-531c-4872-1d83-ce7a8d135211  \n",
       "1     ES  51d5fc97-3caf-8410-8fa2-f25f48547962  \n",
       "2     ES  c314cde8-5365-8949-88e7-7ed2d1602fef  \n",
       "3     ES  64531b2a-2054-c820-39e2-20fa21283d2c  \n",
       "4     ES  e91b1672-ca72-87d7-099e-782e945728b0  "
      ]
     },
     "execution_count": 5,
     "metadata": {},
     "output_type": "execute_result"
    }
   ],
   "source": [
    "from Modules.RadarCOVID import radar_covid\n",
    "\n",
    "exposure_keys_df = radar_covid.download_last_radar_covid_exposure_keys(days=14)\n",
    "exposure_keys_df[[\n",
    "    \"sample_date_string\", \"source_url\", \"region\", \"key_data\"]].head()"
   ]
  },
  {
   "cell_type": "code",
   "execution_count": 6,
   "metadata": {
    "execution": {
     "iopub.execute_input": "2020-08-29T23:34:05.199235Z",
     "iopub.status.busy": "2020-08-29T23:34:05.198682Z",
     "iopub.status.idle": "2020-08-29T23:34:05.206253Z",
     "shell.execute_reply": "2020-08-29T23:34:05.206632Z"
    },
    "papermill": {
     "duration": 0.033407,
     "end_time": "2020-08-29T23:34:05.206772",
     "exception": false,
     "start_time": "2020-08-29T23:34:05.173365",
     "status": "completed"
    },
    "pycharm": {
     "name": "#%%\n"
    },
    "tags": []
   },
   "outputs": [
    {
     "data": {
      "text/html": [
       "<div>\n",
       "<style scoped>\n",
       "    .dataframe tbody tr th:only-of-type {\n",
       "        vertical-align: middle;\n",
       "    }\n",
       "\n",
       "    .dataframe tbody tr th {\n",
       "        vertical-align: top;\n",
       "    }\n",
       "\n",
       "    .dataframe thead th {\n",
       "        text-align: right;\n",
       "    }\n",
       "</style>\n",
       "<table border=\"1\" class=\"dataframe\">\n",
       "  <thead>\n",
       "    <tr style=\"text-align: right;\">\n",
       "      <th></th>\n",
       "      <th>tek_count</th>\n",
       "    </tr>\n",
       "    <tr>\n",
       "      <th>sample_date_string</th>\n",
       "      <th></th>\n",
       "    </tr>\n",
       "  </thead>\n",
       "  <tbody>\n",
       "    <tr>\n",
       "      <th>2020-08-28</th>\n",
       "      <td>27</td>\n",
       "    </tr>\n",
       "    <tr>\n",
       "      <th>2020-08-27</th>\n",
       "      <td>53</td>\n",
       "    </tr>\n",
       "    <tr>\n",
       "      <th>2020-08-26</th>\n",
       "      <td>66</td>\n",
       "    </tr>\n",
       "    <tr>\n",
       "      <th>2020-08-25</th>\n",
       "      <td>56</td>\n",
       "    </tr>\n",
       "    <tr>\n",
       "      <th>2020-08-24</th>\n",
       "      <td>48</td>\n",
       "    </tr>\n",
       "  </tbody>\n",
       "</table>\n",
       "</div>"
      ],
      "text/plain": [
       "                    tek_count\n",
       "sample_date_string           \n",
       "2020-08-28                 27\n",
       "2020-08-27                 53\n",
       "2020-08-26                 66\n",
       "2020-08-25                 56\n",
       "2020-08-24                 48"
      ]
     },
     "execution_count": 6,
     "metadata": {},
     "output_type": "execute_result"
    }
   ],
   "source": [
    "exposure_keys_summary_df = \\\n",
    "    exposure_keys_df.groupby([\"sample_date_string\"]).key_data.nunique().to_frame()\n",
    "exposure_keys_summary_df.sort_index(ascending=False, inplace=True)\n",
    "exposure_keys_summary_df.rename(columns={\"key_data\": \"tek_count\"}, inplace=True)\n",
    "exposure_keys_summary_df.head()"
   ]
  },
  {
   "cell_type": "code",
   "execution_count": 7,
   "metadata": {
    "execution": {
     "iopub.execute_input": "2020-08-29T23:34:05.247061Z",
     "iopub.status.busy": "2020-08-29T23:34:05.246456Z",
     "iopub.status.idle": "2020-08-29T23:34:05.260335Z",
     "shell.execute_reply": "2020-08-29T23:34:05.259831Z"
    },
    "papermill": {
     "duration": 0.037102,
     "end_time": "2020-08-29T23:34:05.260497",
     "exception": false,
     "start_time": "2020-08-29T23:34:05.223395",
     "status": "completed"
    },
    "pycharm": {
     "name": "#%%\n"
    },
    "tags": []
   },
   "outputs": [
    {
     "data": {
      "text/html": [
       "<div>\n",
       "<style scoped>\n",
       "    .dataframe tbody tr th:only-of-type {\n",
       "        vertical-align: middle;\n",
       "    }\n",
       "\n",
       "    .dataframe tbody tr th {\n",
       "        vertical-align: top;\n",
       "    }\n",
       "\n",
       "    .dataframe thead th {\n",
       "        text-align: right;\n",
       "    }\n",
       "</style>\n",
       "<table border=\"1\" class=\"dataframe\">\n",
       "  <thead>\n",
       "    <tr style=\"text-align: right;\">\n",
       "      <th></th>\n",
       "      <th>sample_date_string</th>\n",
       "      <th>tek_count</th>\n",
       "      <th>cumulative_cases</th>\n",
       "      <th>new_cases</th>\n",
       "      <th>rolling_mean_new_cases</th>\n",
       "      <th>tek_count_per_new_case</th>\n",
       "    </tr>\n",
       "  </thead>\n",
       "  <tbody>\n",
       "    <tr>\n",
       "      <th>0</th>\n",
       "      <td>2020-08-28</td>\n",
       "      <td>27</td>\n",
       "      <td>439286.0</td>\n",
       "      <td>9779.0</td>\n",
       "      <td>7604.571429</td>\n",
       "      <td>0.003550</td>\n",
       "    </tr>\n",
       "    <tr>\n",
       "      <th>1</th>\n",
       "      <td>2020-08-27</td>\n",
       "      <td>53</td>\n",
       "      <td>429507.0</td>\n",
       "      <td>9658.0</td>\n",
       "      <td>7371.571429</td>\n",
       "      <td>0.007190</td>\n",
       "    </tr>\n",
       "    <tr>\n",
       "      <th>2</th>\n",
       "      <td>2020-08-26</td>\n",
       "      <td>66</td>\n",
       "      <td>419849.0</td>\n",
       "      <td>7296.0</td>\n",
       "      <td>6997.428571</td>\n",
       "      <td>0.009432</td>\n",
       "    </tr>\n",
       "    <tr>\n",
       "      <th>3</th>\n",
       "      <td>2020-08-25</td>\n",
       "      <td>56</td>\n",
       "      <td>412553.0</td>\n",
       "      <td>7117.0</td>\n",
       "      <td>6908.142857</td>\n",
       "      <td>0.008106</td>\n",
       "    </tr>\n",
       "    <tr>\n",
       "      <th>4</th>\n",
       "      <td>2020-08-24</td>\n",
       "      <td>48</td>\n",
       "      <td>405436.0</td>\n",
       "      <td>19382.0</td>\n",
       "      <td>6622.000000</td>\n",
       "      <td>0.007249</td>\n",
       "    </tr>\n",
       "  </tbody>\n",
       "</table>\n",
       "</div>"
      ],
      "text/plain": [
       "  sample_date_string  tek_count  cumulative_cases  new_cases  \\\n",
       "0         2020-08-28         27          439286.0     9779.0   \n",
       "1         2020-08-27         53          429507.0     9658.0   \n",
       "2         2020-08-26         66          419849.0     7296.0   \n",
       "3         2020-08-25         56          412553.0     7117.0   \n",
       "4         2020-08-24         48          405436.0    19382.0   \n",
       "\n",
       "   rolling_mean_new_cases  tek_count_per_new_case  \n",
       "0             7604.571429                0.003550  \n",
       "1             7371.571429                0.007190  \n",
       "2             6997.428571                0.009432  \n",
       "3             6908.142857                0.008106  \n",
       "4             6622.000000                0.007249  "
      ]
     },
     "execution_count": 7,
     "metadata": {},
     "output_type": "execute_result"
    }
   ],
   "source": [
    "exposure_keys_summary_df = exposure_keys_summary_df.merge(confirmed_df, on=[\"sample_date_string\"], how=\"inner\")\n",
    "exposure_keys_summary_df[\"tek_count_per_new_case\"] = \\\n",
    "    exposure_keys_summary_df.tek_count / exposure_keys_summary_df.rolling_mean_new_cases\n",
    "exposure_keys_summary_df.head()"
   ]
  },
  {
   "cell_type": "code",
   "execution_count": 8,
   "metadata": {
    "execution": {
     "iopub.execute_input": "2020-08-29T23:34:05.301495Z",
     "iopub.status.busy": "2020-08-29T23:34:05.300953Z",
     "iopub.status.idle": "2020-08-29T23:34:05.303219Z",
     "shell.execute_reply": "2020-08-29T23:34:05.303752Z"
    },
    "papermill": {
     "duration": 0.026166,
     "end_time": "2020-08-29T23:34:05.303893",
     "exception": false,
     "start_time": "2020-08-29T23:34:05.277727",
     "status": "completed"
    },
    "pycharm": {
     "name": "#%%\n"
    },
    "tags": []
   },
   "outputs": [],
   "source": [
    "exposure_keys_summary_df[\"sample_date\"] = pd.to_datetime(exposure_keys_summary_df.sample_date_string)\n",
    "exposure_keys_summary_df.set_index(\"sample_date\", inplace=True)"
   ]
  },
  {
   "cell_type": "markdown",
   "metadata": {
    "papermill": {
     "duration": 0.016424,
     "end_time": "2020-08-29T23:34:05.337110",
     "exception": false,
     "start_time": "2020-08-29T23:34:05.320686",
     "status": "completed"
    },
    "tags": []
   },
   "source": [
    "## Results"
   ]
  },
  {
   "cell_type": "code",
   "execution_count": 9,
   "metadata": {
    "execution": {
     "iopub.execute_input": "2020-08-29T23:34:05.381423Z",
     "iopub.status.busy": "2020-08-29T23:34:05.380913Z",
     "iopub.status.idle": "2020-08-29T23:34:05.384930Z",
     "shell.execute_reply": "2020-08-29T23:34:05.384305Z"
    },
    "papermill": {
     "duration": 0.031688,
     "end_time": "2020-08-29T23:34:05.385053",
     "exception": false,
     "start_time": "2020-08-29T23:34:05.353365",
     "status": "completed"
    },
    "pycharm": {
     "name": "#%%\n"
    },
    "tags": []
   },
   "outputs": [
    {
     "data": {
      "text/html": [
       "<div>\n",
       "<style scoped>\n",
       "    .dataframe tbody tr th:only-of-type {\n",
       "        vertical-align: middle;\n",
       "    }\n",
       "\n",
       "    .dataframe tbody tr th {\n",
       "        vertical-align: top;\n",
       "    }\n",
       "\n",
       "    .dataframe thead th {\n",
       "        text-align: right;\n",
       "    }\n",
       "</style>\n",
       "<table border=\"1\" class=\"dataframe\">\n",
       "  <thead>\n",
       "    <tr style=\"text-align: right;\">\n",
       "      <th></th>\n",
       "      <th>tek_count</th>\n",
       "      <th>new_cases</th>\n",
       "      <th>rolling_mean_new_cases</th>\n",
       "      <th>tek_count_per_new_case</th>\n",
       "    </tr>\n",
       "    <tr>\n",
       "      <th>sample_date</th>\n",
       "      <th></th>\n",
       "      <th></th>\n",
       "      <th></th>\n",
       "      <th></th>\n",
       "    </tr>\n",
       "  </thead>\n",
       "  <tbody>\n",
       "    <tr>\n",
       "      <th>2020-08-28</th>\n",
       "      <td>27</td>\n",
       "      <td>9779.0</td>\n",
       "      <td>7604.571429</td>\n",
       "      <td>0.003550</td>\n",
       "    </tr>\n",
       "    <tr>\n",
       "      <th>2020-08-27</th>\n",
       "      <td>53</td>\n",
       "      <td>9658.0</td>\n",
       "      <td>7371.571429</td>\n",
       "      <td>0.007190</td>\n",
       "    </tr>\n",
       "    <tr>\n",
       "      <th>2020-08-26</th>\n",
       "      <td>66</td>\n",
       "      <td>7296.0</td>\n",
       "      <td>6997.428571</td>\n",
       "      <td>0.009432</td>\n",
       "    </tr>\n",
       "    <tr>\n",
       "      <th>2020-08-25</th>\n",
       "      <td>56</td>\n",
       "      <td>7117.0</td>\n",
       "      <td>6908.142857</td>\n",
       "      <td>0.008106</td>\n",
       "    </tr>\n",
       "    <tr>\n",
       "      <th>2020-08-24</th>\n",
       "      <td>48</td>\n",
       "      <td>19382.0</td>\n",
       "      <td>6622.000000</td>\n",
       "      <td>0.007249</td>\n",
       "    </tr>\n",
       "    <tr>\n",
       "      <th>2020-08-23</th>\n",
       "      <td>28</td>\n",
       "      <td>0.0</td>\n",
       "      <td>6177.285714</td>\n",
       "      <td>0.004533</td>\n",
       "    </tr>\n",
       "    <tr>\n",
       "      <th>2020-08-22</th>\n",
       "      <td>18</td>\n",
       "      <td>0.0</td>\n",
       "      <td>6177.285714</td>\n",
       "      <td>0.002914</td>\n",
       "    </tr>\n",
       "    <tr>\n",
       "      <th>2020-08-21</th>\n",
       "      <td>11</td>\n",
       "      <td>8148.0</td>\n",
       "      <td>6177.285714</td>\n",
       "      <td>0.001781</td>\n",
       "    </tr>\n",
       "    <tr>\n",
       "      <th>2020-08-20</th>\n",
       "      <td>4</td>\n",
       "      <td>7039.0</td>\n",
       "      <td>5796.000000</td>\n",
       "      <td>0.000690</td>\n",
       "    </tr>\n",
       "    <tr>\n",
       "      <th>2020-08-19</th>\n",
       "      <td>1</td>\n",
       "      <td>6671.0</td>\n",
       "      <td>5869.000000</td>\n",
       "      <td>0.000170</td>\n",
       "    </tr>\n",
       "  </tbody>\n",
       "</table>\n",
       "</div>"
      ],
      "text/plain": [
       "             tek_count  new_cases  rolling_mean_new_cases  \\\n",
       "sample_date                                                 \n",
       "2020-08-28          27     9779.0             7604.571429   \n",
       "2020-08-27          53     9658.0             7371.571429   \n",
       "2020-08-26          66     7296.0             6997.428571   \n",
       "2020-08-25          56     7117.0             6908.142857   \n",
       "2020-08-24          48    19382.0             6622.000000   \n",
       "2020-08-23          28        0.0             6177.285714   \n",
       "2020-08-22          18        0.0             6177.285714   \n",
       "2020-08-21          11     8148.0             6177.285714   \n",
       "2020-08-20           4     7039.0             5796.000000   \n",
       "2020-08-19           1     6671.0             5869.000000   \n",
       "\n",
       "             tek_count_per_new_case  \n",
       "sample_date                          \n",
       "2020-08-28                 0.003550  \n",
       "2020-08-27                 0.007190  \n",
       "2020-08-26                 0.009432  \n",
       "2020-08-25                 0.008106  \n",
       "2020-08-24                 0.007249  \n",
       "2020-08-23                 0.004533  \n",
       "2020-08-22                 0.002914  \n",
       "2020-08-21                 0.001781  \n",
       "2020-08-20                 0.000690  \n",
       "2020-08-19                 0.000170  "
      ]
     },
     "execution_count": 9,
     "metadata": {},
     "output_type": "execute_result"
    }
   ],
   "source": [
    "exposure_keys_summary_df[[\n",
    "    \"tek_count\",\n",
    "    \"new_cases\",\n",
    "    \"rolling_mean_new_cases\",\n",
    "    \"tek_count_per_new_case\"]]"
   ]
  },
  {
   "cell_type": "code",
   "execution_count": 10,
   "metadata": {
    "execution": {
     "iopub.execute_input": "2020-08-29T23:34:05.437538Z",
     "iopub.status.busy": "2020-08-29T23:34:05.435689Z",
     "iopub.status.idle": "2020-08-29T23:34:05.817475Z",
     "shell.execute_reply": "2020-08-29T23:34:05.818194Z"
    },
    "papermill": {
     "duration": 0.416661,
     "end_time": "2020-08-29T23:34:05.818347",
     "exception": false,
     "start_time": "2020-08-29T23:34:05.401686",
     "status": "completed"
    },
    "tags": []
   },
   "outputs": [
    {
     "data": {
      "text/plain": [
       "array([<matplotlib.axes._subplots.AxesSubplot object at 0x12b400f50>,\n",
       "       <matplotlib.axes._subplots.AxesSubplot object at 0x12b42ec10>],\n",
       "      dtype=object)"
      ]
     },
     "execution_count": 10,
     "metadata": {},
     "output_type": "execute_result"
    },
    {
     "data": {
      "image/png": "[encoded data removed]",
      "text/plain": [
       "<Figure size 1080x720 with 2 Axes>"
      ]
     },
     "metadata": {},
     "output_type": "display_data"
    }
   ],
   "source": [
    "exposure_keys_summary_df[\n",
    "    [\"rolling_mean_new_cases\", \"tek_count\"]].sort_index(ascending=True).plot.bar(\n",
    "    rot=45, subplots=True, figsize=(15, 10))"
   ]
  },
  {
   "cell_type": "markdown",
   "metadata": {},
   "source": [
    "## TEKs Dump"
   ]
  },
  {
   "cell_type": "code",
   "execution_count": 32,
   "metadata": {
    "papermill": {
     "duration": 0.020977,
     "end_time": "2020-08-29T23:34:06.362482",
     "exception": false,
     "start_time": "2020-08-29T23:34:06.341505",
     "status": "completed"
    },
    "scrolled": false,
    "tags": []
   },
   "outputs": [
    {
     "name": "stdout",
     "output_type": "stream",
     "text": [
      "{\"sample_date\":\"2020-08-19\",\"tek_list\":[\"645572b7-c0e2-97bc-9bcb-7107fb5eb1bc\"]}\n",
      "{\"sample_date\":\"2020-08-20\",\"tek_list\":[\"5c4885a2-5c65-d6aa-8eed-7d607f106647\",\"e6c3ca3b-24a1-aba6-c6a9-d43d2f7090c3\",\"b44afc91-6671-5988-f073-9ef810abd491\",\"b8313785-050b-2308-2027-8b54e2ac99d7\"]}\n",
      "{\"sample_date\":\"2020-08-21\",\"tek_list\":[\"53c82402-7f1c-e203-7abc-593dc3a8a9fe\",\"fd16f693-c106-ea3a-47d5-59cc08b5d0f8\",\"d1f0cd56-d916-6a52-3d95-b3e15042d895\",\"3b5b4d11-f906-1519-edb8-d38e3f439c1e\",\"a4b5e886-5785-1b63-7c94-e67bcd76918e\",\"303a1ddf-792c-7fc9-549a-43b7d981f5ab\",\"72b2a6a3-ebe4-e3fe-1542-2e0396f2d4b9\",\"47a998fa-3fa5-46ef-9729-b6370afdd92b\",\"87556d49-790f-da57-9ff5-483906f3bb3e\",\"8ac3033c-a30f-57d1-e1fe-07b4e4401b26\",\"5c174efa-5ea2-1783-3563-719068e3fba2\"]}\n",
      "{\"sample_date\":\"2020-08-22\",\"tek_list\":[\"316fcc1d-9bdb-69ae-b997-70b5b4ca1d74\",\"33b23da9-a420-ac28-fec2-c498f4ad6804\",\"ebfd298d-8779-87f6-2aa0-50e5260d846b\",\"4d9266e6-7e09-3c04-9587-c7661053b436\",\"ce45fe24-4423-a8fd-0e05-00bbb756ccb7\",\"4f78fcb8-8e69-c476-b4fe-46eb0e85d827\",\"c05e4b85-a3c7-4e47-43c7-b3b87b91f069\",\"684719e3-b075-ef8b-1614-b0cb5f66f4ed\",\"a704c0ae-5c69-c888-398d-71ec94b447d1\",\"9607a47b-f8f6-df56-a9b9-341d549312ac\",\"3c35f6a3-ba79-47f6-a4c1-8d2362c4b508\",\"9ab64aac-3e40-d22c-df96-46881b96782f\",\"21975727-9878-4fe3-f2b4-729d21426187\",\"26eb7aff-ea39-7f6a-6106-6bf599858535\",\"5d58fd21-a903-bd86-c46c-9e5599c11424\",\"ac9affc2-6e1c-0d50-14ac-5bc60966abae\",\"db8921bc-4c04-6a63-7e4e-50552fb5b87c\",\"5a0bb4bb-c028-6195-c757-7797f8358ed3\"]}\n",
      "{\"sample_date\":\"2020-08-23\",\"tek_list\":[\"3dda2de2-fc66-33b9-cf6b-c7b85f8683d5\",\"c0a53a07-ea85-2ea6-fd2b-4980f95289b1\",\"2d99d52f-2c2b-db4a-098e-0e93fd96a54e\",\"b394be7d-8b66-117d-03e2-73c3621b81c2\",\"af214518-3c22-fd44-f885-207eafa69183\",\"c371a5bd-adc4-7bd9-9b01-37ddbb9184d1\",\"24e06436-f56e-cc88-ca9c-7618fd4e6e7a\",\"e302d391-4994-d87f-c067-d3483a8a992e\",\"862c9c68-34be-962a-61ef-a4feb6f0d165\",\"e280b02e-fc5b-e6a0-0511-87ef1b48d7e3\",\"23a8694f-6c84-e455-f9f5-424ab0acd868\",\"21a96b40-3c37-6b19-d1aa-d945bba7d1a4\",\"916aa8f2-3359-6237-a3d2-422efa6bbd0b\",\"2453fa21-957c-e502-3fb1-9702f69665be\",\"7a20afc8-49fa-e0e7-cf4e-a5bf946b8cc6\",\"fa2fc745-6640-58a9-f88d-50177f6012c2\",\"303808c7-4995-b743-dcb9-59fc73fe9a12\",\"38be83cf-6725-35ed-33c3-25f7d529a697\",\"8f375b2f-665a-4385-d7a6-c8ce1af3506a\",\"1b753089-01f6-5c8f-c2ea-4cbbd5accc56\",\"14e377ad-5bc9-9dfb-891f-e2b4cfebd51f\",\"6401acaa-8e5f-e264-dae8-9a56ebf0588b\",\"7fb0ddac-6633-215c-3bff-a59d1508ce39\",\"28ed32b8-ab6f-1f7b-1390-ec0fe0657b92\",\"af3e664f-2f11-836b-d653-ae89558e3345\",\"ae1da376-2b8a-5135-bbe4-2a03d9a9eb63\",\"92e65a3f-b7f3-d03b-a1c4-4a86fe5f798f\",\"fd1fd216-4966-f557-fe3d-d255757b3640\"]}\n",
      "{\"sample_date\":\"2020-08-24\",\"tek_list\":[\"b040f48d-d3f9-6518-2b3d-24037d185437\",\"bbc28f7d-3136-9ade-5832-6718322d1594\",\"983bbd35-9b86-e589-23db-f345a0812372\",\"4b9dc1db-2fc8-725d-4bb3-9e36129cd592\",\"be4d5fec-9d02-cb28-c8fd-f471e77ee163\",\"1c5523a6-c465-fe14-45a0-d4fe710b063f\",\"d0702a48-cf9f-056a-0f04-308e528abcc5\",\"92ce3ac2-0fab-c266-133b-1cfbfa00b36c\",\"4cc4405d-352c-28ad-0a78-e1d5d6a41886\",\"2599bac9-85d2-2274-8a62-a18c1e3aba76\",\"5b4b38d5-9293-9ea0-4622-d61b32940afc\",\"7540702e-32dd-a136-b4f8-3edaa2e4e02e\",\"0183b8ee-a1fe-1484-349b-21656275d772\",\"9136370c-629e-c7bb-fefb-b58aff7abdfd\",\"be424ae3-a90e-2a2b-cdc7-2ad84828ebc6\",\"46a23d18-272b-0004-8af5-1dc79882f006\",\"9fb0f610-1dfe-2d33-58f6-62ce953ff136\",\"4b040490-c7c1-4a45-4ffe-1cdda024a856\",\"75e0d35f-a68b-46b5-7c21-c975b0bfb083\",\"0e8703c3-6635-076f-fa94-b1370037193a\",\"d7334bc7-fa30-4df9-5c18-6ede83cf848d\",\"651a3e8e-54cd-49f3-1f31-36858fc4e18d\",\"419a9daa-63a4-cdfb-fca9-01c0b5581b06\",\"bc310d8b-5ff6-15e6-49cc-bc6273ba0be4\",\"e3dfa322-5fdd-ee0b-9a65-f3b1298cbf4c\",\"5a26cb06-5cbe-77ad-8140-20e5a913d310\",\"bcb7b979-8a8c-cc3d-f3a7-60f31c1cef8b\",\"50d54f3a-f4bf-dddd-a76f-1eb019a3135a\",\"89ae13cc-610e-9a2f-6a02-77c078500cf3\",\"816e633a-d791-92b3-d09f-a80fe66c3907\",\"0a923eeb-bb72-edce-49e0-6f2d210661fe\",\"dc0a1136-ab0f-908a-a6a9-dd0defc9d2a8\",\"0387554a-cd92-c996-3727-455f79a79ad1\",\"2aff0aaa-72ca-121d-51b3-ef2d1a89a1ca\",\"d9abc5fd-44c2-5c28-8a59-f01d057334a8\",\"fde70c6f-3844-a669-ba1a-57178649767c\",\"a9dcdac2-1e45-d6ec-be09-f65d878171f3\",\"1fdae652-8d47-c8ed-c944-75bb16fa7c96\",\"71578e4b-c7a9-73a9-c7bd-32c1c4395cf6\",\"bf332c42-3f7a-60cd-f9b7-e24a93ca9b93\",\"5089adad-736e-3da3-328c-84c346b50136\",\"37aecee1-3f12-522c-ea80-b4e6d719f677\",\"a82ebdc2-9f7e-fa00-2984-043a71dfe2db\",\"b9788d14-297e-0eeb-2e62-901e1cf67298\",\"c9c909ce-3dd6-9dbc-4cae-77f7f3fdcad2\",\"7404b53e-496c-ce4e-d058-3b7f2f7ac5fd\",\"28bd63ce-93ed-2258-e217-55f8ccbeb2d9\",\"5eabf836-66de-4e6e-6c2e-9d4dbc51fb5d\"]}\n",
      "{\"sample_date\":\"2020-08-25\",\"tek_list\":[\"88699284-d221-d821-76a9-6cd7b79f869c\",\"8ee3c028-d5ac-f330-fb55-69fedb8727dd\",\"ffd3e637-04aa-1569-56b2-a4bacb6d3478\",\"5d714894-b649-8240-1c44-ffc7a49a6fec\",\"4de83fd2-f823-9825-c64c-4258456b6ee0\",\"26638f6c-1c05-5c2a-178f-5c6dc97ffa74\",\"0fda8e40-2995-085a-c885-dc9999c1d793\",\"8b32c9c0-a002-b803-2587-e6b05ce4a611\",\"9c246258-0c48-3e57-65d6-06558b2ee2a2\",\"bd754038-017a-013d-c90e-12c5b60e3605\",\"92c42650-787d-abb4-c063-d0e05f6a8142\",\"e16a0cf1-38a0-ce7e-9a5b-afb0200dab80\",\"19248455-95be-e502-2435-c6f6ea5c7b21\",\"90a40320-de27-7e6a-f112-9314ff23afca\",\"7919196f-ac30-60da-cc52-32cba4a04453\",\"b3d72d8a-c8c8-5e99-0f6a-daf54f2b2533\",\"87c68304-a3cf-a1d1-c796-bd1a22d18d32\",\"11035b87-dece-5b3b-007c-33f5a0bf0793\",\"9113bdb2-c86b-9e45-cb4d-e10765091098\",\"2add5f79-d22d-5b7b-97b9-aaeca0c4299c\",\"eeba3bae-d0df-7a6c-36f3-b8d22685e387\",\"1b613c76-9efb-9b43-07eb-35d4532eb613\",\"b478a474-4f58-8786-ece6-b8de0dd298f1\",\"0b5d23a3-3f5f-f697-2a36-fff7c961a4dc\",\"e0315b59-9bee-a07d-8927-0363cffdec92\",\"401502b7-41b2-40a1-e767-7263e98d4eed\",\"156daea3-1002-90e1-0691-2825abbd46cf\",\"ac109501-23cf-0ef1-9e1f-9ab080fc595a\",\"c4c6a3f7-edf0-3146-d284-1668bde16434\",\"22fa3a94-0329-d78b-719c-22da75f1682c\",\"cdddc01e-de0e-075f-6c88-1e67bea23089\",\"6469287d-8314-f6f0-a5d6-8987aaf229ad\",\"61e25726-af81-7846-871b-26e4125c168e\",\"268ceaa5-c857-1963-bd86-9f8ab02e3385\",\"1257c2c4-1895-d591-a395-53ab0b06c440\",\"d59a6f6e-16d0-d550-8353-4edb0596c69f\",\"14bffe60-50d9-77c4-403f-a3ac552368df\",\"fa7eebef-2eff-06f5-0b17-ba891c1b801c\",\"9a32c587-584d-e08f-e68f-df3407fcf1ec\",\"be01346e-b75b-a8d1-3b7c-fa79e13da2de\",\"49f49a60-b186-f37a-455c-13815c270b30\",\"a4466c8e-12f6-4013-6eec-06f7ce4b9610\",\"ad459d1d-6769-900c-1fde-e6c13bfda58a\",\"52e9fe54-0409-e82d-d0f4-22852bf2bba5\",\"b3076246-f401-fdc1-4910-e905c6d0b7ed\",\"8c7e09ab-323b-ea2a-5b3a-57a25b14d809\",\"3719318f-4e73-df6a-a86c-8f8b62156186\",\"fda1fe58-8b26-8815-e366-799a0263ff84\",\"fdb0d957-dfdf-27bf-9002-ee2a3afe6137\",\"667d5e54-7065-f9f0-0ad6-6243cea564e9\",\"c502b646-e5cd-496c-b606-053a394046a2\",\"a1bb7dba-70c9-3e71-a0b9-234e25a8a333\",\"5a985068-f61e-8a71-46b1-dba3cf8c9a07\",\"f7a27072-245f-e4a3-b699-8875e67dda40\",\"e565549c-8370-b553-9c24-907ba4b3e163\",\"43383986-33dc-077e-9c29-db92ed96c85b\"]}\n",
      "{\"sample_date\":\"2020-08-26\",\"tek_list\":[\"9ab2c4e3-d548-15b0-4c69-ac2087f2e7ef\",\"6bda721c-5bd9-46f5-24e1-35a47f766415\",\"671ada47-42a5-07c4-e83b-64e9f14da111\",\"3b3444ea-79a9-15e8-cef6-727fa14fa71b\",\"80a0f6bc-fa55-a6c2-6a58-e50d3d7c7d63\",\"92157f9e-0b01-549f-f18a-28b39ea5fdfc\",\"e8a2bd83-8796-77fc-3561-be5f7d8d1355\",\"30ddd8ea-3f39-5de5-d223-49a1590a4683\",\"641f2ad8-4693-559a-e884-1077ecd3c222\",\"1fd61ec2-6f5c-d400-64d6-064231dd1f31\",\"2e758387-7b8c-a1cd-6ab5-7566f6dce6b9\",\"c370f048-701c-e316-f6ee-eff0ffb4a6b1\",\"c487c9ec-c27b-d0a0-e642-2a39697a7471\",\"c39e81b5-caf9-3b40-7caa-c887c7e60d9f\",\"1999344f-e483-9de9-e6f7-92c5c018df1b\",\"de21d4fd-4f07-90a6-56bc-c50c3d03a795\",\"104a9f16-ee30-27f2-1374-7cd9ed266f1c\",\"b23672ac-684a-308b-15da-190a03e04aaa\",\"a6c0846a-ef17-f468-8863-47c6e672d7d7\",\"7866933e-23e2-8990-e667-1afcae9026ce\",\"abee9644-0dc9-36ad-8c93-31a9faf899d7\",\"4e22d388-96df-00ae-9f7c-76cb59b01fbd\",\"a9e87852-532a-6b1e-7662-170574c423da\",\"7b4fe3e7-966d-77d9-4690-ac38325d4f8c\",\"4a0e93a0-3aa9-296b-9a02-1e17c0785185\",\"87f8f46e-8ce5-404c-34e2-b4be34a0d9dc\",\"d4ee8356-ddf1-a835-1a98-ba3d13299dc3\",\"d91ae846-1d69-8c21-c506-6267f5eb2910\",\"8647bd94-5658-5fde-9031-3ddb5a9e64fb\",\"37effbb4-9fa2-e183-472c-a398e14436a8\",\"d03b97d5-0a96-fb13-6bdc-3a5d1efcbc72\",\"0fc97b12-c071-b4fb-36b2-c8552f7bd661\",\"5af17485-1f4a-cc3d-ecd4-cb48787d42c3\",\"14184d8f-a202-6533-4b77-709f08ccf542\",\"f52832a1-2890-3721-b672-c63bc7296c22\",\"4cf38a92-c945-e34e-bf34-6d5ab56e3a12\",\"44ba4430-423e-b35e-acf9-0dece5cf291f\",\"bff8a5ba-3382-6a8a-ea33-48d65bbb9ef5\",\"90b2799c-2106-f1b8-7e79-6afb2f15c7bf\",\"b20f86ce-4657-c879-db58-16643b940824\",\"e10b9e99-040a-0ade-25c4-b1fb386c3416\",\"2ca30bae-c8f2-104e-c28e-f23c2353a8b4\",\"fe58d8d6-5c55-a8e9-fd3f-0efe949db05d\",\"23f8fe8e-c720-201d-a0c8-7da1b1a79e00\",\"7986e5bd-8830-d3a8-9976-ac90e855ee86\",\"340b0157-0f3f-bca8-a9e1-00dcfe868aea\",\"cd26cdf9-3845-90a2-bd7e-3345ba52759e\",\"146b8e46-5921-006a-0a2a-0c764254ad88\",\"c8da33dc-a3d2-00d0-d48e-dc7d97b7882f\",\"6a89ee97-3438-8ca0-3618-f57cfbe86d9d\",\"4fe39d43-327c-247b-cfa8-0fbdc7fa4bf9\",\"c8eb5f58-a6b6-4e85-62bc-84bb46def869\",\"cad6b23a-a2dd-02e9-9e6e-aac50163620f\",\"1b54bb49-8e5b-465b-a502-6005dce4e3f4\",\"d91cccd8-471e-a430-ed7d-4c3c2090ffc1\",\"014828bc-01af-a69e-e2c4-419ef3953ee5\",\"40f0b0df-734d-1998-b174-c1a9fe7db06f\",\"f3482a83-f6f1-c09a-07e4-71a0bdc136e6\",\"b850aceb-4ba7-64fb-eacd-b95b3b2157c2\",\"375394c6-fcdc-5e9e-444c-3478ac5a7b64\",\"d346fc41-231b-457c-e579-6c1f2fc12ec7\",\"64a4f810-38f3-c404-c579-06936fe5f375\",\"d8ec9c85-7fe8-fdc0-44d4-cc66c9ea0a00\",\"85726202-12b6-93f7-2bbe-0322756311e8\",\"b2fa0ab7-dbfb-4b1a-8dbf-f6475d9669c9\",\"e3e48653-7019-9379-05aa-91ef8d64cad8\"]}\n",
      "{\"sample_date\":\"2020-08-27\",\"tek_list\":[\"6e8eb4ae-d7cc-2dfe-9709-58c6de6aa724\",\"62d0ecb2-59d7-24f4-f557-4eba04df325d\",\"79f0559e-18fd-bed7-30cc-21ad90bb2e08\",\"ec7eed3e-bb40-0c17-8044-bcb5775758e5\",\"e14d8754-7041-ea62-c8a1-014c676f0504\",\"6b3a4e08-3759-901c-1dd6-2857c3f11507\",\"278577cd-9040-b025-31a2-90e071fa4d40\",\"3633a0a4-5eff-cc05-6c50-21ff6aaa4b57\",\"58cb9587-c0aa-0c01-89c4-d218e601ea51\",\"41b56fda-cdcc-db2f-d4f6-b61848313790\",\"ab7634be-6867-1dbb-10d7-544e4a9a7be7\",\"78952a7c-7638-a679-897d-a55e9abd101b\",\"8759bcdb-22f1-ac5d-6b1b-b671299676ab\",\"f096557e-b179-24ef-2bea-57c80ea4fbf7\",\"cb547b0f-00f5-f1ab-f5a4-faa7490990fb\",\"840df3ae-bce9-4c73-7640-acdea50247d6\",\"7a0d6b59-aa94-8f2b-38c3-113ea2116b06\",\"c53db296-2c5a-ea46-058e-e3f79c0fbfce\",\"e0d7ce55-2a0d-5468-1ede-6a520e4811f5\",\"b408b47e-c2dd-3b60-85c5-a29f79c29b70\",\"e328f442-dbd3-9405-494f-0bbfa833ad62\",\"5d6f8cf2-39b1-5fb8-25bd-01301a3e09bc\",\"3bbcdaca-ccb7-2f85-c635-cb910d0da184\",\"ede4bc7b-abe2-a362-d8ce-59d3919d19cc\",\"098030bc-86ef-d0fb-7d42-9d7c10864c6d\",\"22bc01a4-b0ee-049a-274b-8031b509d513\",\"75d31b46-7eb9-c774-a92f-662a51c03785\",\"08cbb00f-0ede-470e-2354-1486f37ba618\",\"c89da0af-2bc1-4699-1803-9af4cc053707\",\"e71cdaaf-b56a-4062-70c7-11bf41770ce5\",\"aa4bfa8c-14c5-daec-c091-6bb626245e20\",\"f727fec0-9a9f-349a-9465-454ff4f838bd\",\"15e9008e-258c-ae9b-0e06-44e3b9310b37\",\"5d8a9bad-d249-677a-30aa-cfcf6512610f\",\"67a6b89e-ff65-8ef5-4a53-cc1df172ab08\",\"130fb819-621e-1b0a-150d-16532551cdca\",\"d99a5c5b-7681-a51d-1baa-12cd676eaf04\",\"beff7159-b6d2-f491-454c-78ed3d82a11b\",\"fe3b4795-16ea-33d3-ad71-b6d80d15ebfa\",\"47229bb2-64af-8b9b-4615-786e917b6b32\",\"30aed5c3-5d35-51ba-f523-01bcbcb80c86\",\"93f60e45-be9c-14e2-6b75-0edec4893ffa\",\"dadc6dcd-ff76-20e1-5d7e-6fc99ca6c01f\",\"5409e96f-e0bf-26f0-a3e2-193f5ad1afb2\",\"b4d2adef-fbd9-3652-8fbb-8d5277802d0a\",\"f4445978-cded-2e3a-c9e2-71df4aa85912\",\"b63b5266-d751-665c-f6c8-825f1154b1a9\",\"ed06bd3c-a299-f7f4-42e3-d85b511561b4\",\"9db258c9-73ce-c409-f48e-42ecda8ba96a\",\"76fb9af3-3cee-cd46-5f10-e3368acdbcef\",\"aba071fe-7aab-5c5d-fda9-f60250eb7575\",\"41542543-91c2-bddd-da81-3aa20a96df78\",\"ee8a113e-fd3b-27a5-7768-466ed557804c\"]}\n",
      "{\"sample_date\":\"2020-08-28\",\"tek_list\":[\"757936ab-531c-4872-1d83-ce7a8d135211\",\"51d5fc97-3caf-8410-8fa2-f25f48547962\",\"c314cde8-5365-8949-88e7-7ed2d1602fef\",\"64531b2a-2054-c820-39e2-20fa21283d2c\",\"e91b1672-ca72-87d7-099e-782e945728b0\",\"a6c83599-6ce7-ec11-5e9e-993b5a1153ee\",\"8adc312a-aa56-5056-b6e0-59bd28eec575\",\"441e2906-60a1-6911-00c9-5c75ebeb2b85\",\"fde71eb8-4416-01de-cfe9-14e3cd45ca38\",\"4b427ea1-6d5f-43cd-cdc0-e7b6f6b11939\",\"fdd5e4de-175c-00a1-5546-bf3348cf2fa3\",\"aab121c3-a2e8-4f66-ecb9-1389e986dd2c\",\"1da20ec5-82cc-912d-f0a4-ca0ebf76641f\",\"14ae1620-36e6-1da2-f5c5-802f24912f59\",\"1bc5d5d5-cd15-4b1d-d658-4eb9dba51972\",\"4daa07f2-8a25-78e3-02f3-25af966c96f2\",\"20363c1f-a690-21ce-ef72-83e9685b2827\",\"4c5251dc-d44c-76d3-8ae3-6d45fc9bdfb5\",\"8f116036-39ea-274f-321d-d5df93c4183b\",\"a62f62fa-caf4-8cdf-15bf-8d1fb74eb8f7\",\"eb3d07bc-e5a6-2875-3a54-0b2fb8cd2e77\",\"8d962ac2-4457-ddad-3945-999ad37c4e7c\",\"fdec3a10-88c6-3c9f-f777-0146d46ca788\",\"61120b02-576f-4494-1719-00dc269b09d5\",\"e3e79eb2-7a6c-64c7-ae32-da437466269d\",\"c7b93889-d457-8a37-e08e-18bc19860faf\",\"159e9c0e-6ec4-1a02-c502-f8ffc25099cc\"]}\n"
     ]
    },
    {
     "name": "stderr",
     "output_type": "stream",
     "text": [
      "/Users/pvieito/Library/Python/3.7/lib/python/site-packages/ipykernel_launcher.py:2: SettingWithCopyWarning: \n",
      "A value is trying to be set on a copy of a slice from a DataFrame.\n",
      "Try using .loc[row_indexer,col_indexer] = value instead\n",
      "\n",
      "See the caveats in the documentation: http://pandas.pydata.org/pandas-docs/stable/user_guide/indexing.html#returning-a-view-versus-a-copy\n",
      "  \n",
      "/Users/pvieito/Library/Python/3.7/lib/python/site-packages/pandas/core/frame.py:4238: SettingWithCopyWarning: \n",
      "A value is trying to be set on a copy of a slice from a DataFrame\n",
      "\n",
      "See the caveats in the documentation: http://pandas.pydata.org/pandas-docs/stable/user_guide/indexing.html#returning-a-view-versus-a-copy\n",
      "  return super().rename(**kwargs)\n"
     ]
    }
   ],
   "source": [
    "tek_list_df = exposure_keys_df[[\"sample_date_string\", \"key_data\"]]\n",
    "tek_list_df[\"key_data\"] = tek_list_df[\"key_data\"].apply(str)\n",
    "tek_list_df.rename(columns={\n",
    "    \"sample_date_string\": \"sample_date\",\n",
    "    \"key_data\": \"tek_list\"}, inplace=True)\n",
    "print(tek_list_df.groupby(\n",
    "    \"sample_date\").tek_list.unique().reset_index().to_json(lines=True, orient=\"records\"))"
   ]
  },
  {
   "cell_type": "code",
   "execution_count": null,
   "metadata": {},
   "outputs": [],
   "source": []
  }
 ],
 "metadata": {
  "kernelspec": {
   "display_name": "Python 3",
   "language": "python",
   "name": "python3"
  },
  "language_info": {
   "codemirror_mode": {
    "name": "ipython",
    "version": 3
   },
   "file_extension": ".py",
   "mimetype": "text/x-python",
   "name": "python",
   "nbconvert_exporter": "python",
   "pygments_lexer": "ipython3",
   "version": "3.7.7"
  },
  "papermill": {
   "duration": 7.830125,
   "end_time": "2020-08-29T23:34:06.791398",
   "environment_variables": {},
   "exception": null,
   "input_path": "RadarCOVID-Report.ipynb",
   "output_path": "RadarCOVID-Report.ipynb",
   "parameters": {},
   "start_time": "2020-08-29T23:33:58.961273",
   "version": "2.1.3"
  }
 },
 "nbformat": 4,
 "nbformat_minor": 1
}
