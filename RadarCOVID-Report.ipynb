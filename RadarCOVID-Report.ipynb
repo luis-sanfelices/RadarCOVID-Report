{
 "cells": [
  {
   "cell_type": "markdown",
   "metadata": {
    "papermill": {
     "duration": 0.013268,
     "end_time": "2020-08-30T01:32:09.348005",
     "exception": false,
     "start_time": "2020-08-30T01:32:09.334737",
     "status": "completed"
    },
    "pycharm": {
     "name": "#%% md\n"
    },
    "tags": []
   },
   "source": [
    "# RadarCOVID-Report"
   ]
  },
  {
   "cell_type": "code",
   "execution_count": 1,
   "metadata": {
    "execution": {
     "iopub.execute_input": "2020-08-30T01:32:09.374547Z",
     "iopub.status.busy": "2020-08-30T01:32:09.374010Z",
     "iopub.status.idle": "2020-08-30T01:32:10.412862Z",
     "shell.execute_reply": "2020-08-30T01:32:10.412099Z"
    },
    "papermill": {
     "duration": 1.053936,
     "end_time": "2020-08-30T01:32:10.413064",
     "exception": false,
     "start_time": "2020-08-30T01:32:09.359128",
     "status": "completed"
    },
    "tags": []
   },
   "outputs": [],
   "source": [
    "import matplotlib\n",
    "import pandas as pd\n",
    "import seaborn as sns\n",
    "\n",
    "%matplotlib inline"
   ]
  },
  {
   "cell_type": "code",
   "execution_count": 2,
   "metadata": {
    "execution": {
     "iopub.execute_input": "2020-08-30T01:32:10.442079Z",
     "iopub.status.busy": "2020-08-30T01:32:10.441481Z",
     "iopub.status.idle": "2020-08-30T01:32:10.445416Z",
     "shell.execute_reply": "2020-08-30T01:32:10.445753Z"
    },
    "papermill": {
     "duration": 0.017368,
     "end_time": "2020-08-30T01:32:10.445868",
     "exception": false,
     "start_time": "2020-08-30T01:32:10.428500",
     "status": "completed"
    },
    "tags": []
   },
   "outputs": [],
   "source": [
    "sns.set()\n",
    "matplotlib.rcParams['figure.figsize'] = (15, 6)"
   ]
  },
  {
   "cell_type": "markdown",
   "metadata": {
    "collapsed": true,
    "papermill": {
     "duration": 0.008901,
     "end_time": "2020-08-30T01:32:10.463306",
     "exception": false,
     "start_time": "2020-08-30T01:32:10.454405",
     "status": "completed"
    },
    "pycharm": {
     "name": "#%% md\n"
    },
    "tags": []
   },
   "source": [
    "## COVID-19 Cases"
   ]
  },
  {
   "cell_type": "code",
   "execution_count": 3,
   "metadata": {
    "execution": {
     "iopub.execute_input": "2020-08-30T01:32:10.489768Z",
     "iopub.status.busy": "2020-08-30T01:32:10.489143Z",
     "iopub.status.idle": "2020-08-30T01:32:10.911780Z",
     "shell.execute_reply": "2020-08-30T01:32:10.912218Z"
    },
    "papermill": {
     "duration": 0.439209,
     "end_time": "2020-08-30T01:32:10.912378",
     "exception": false,
     "start_time": "2020-08-30T01:32:10.473169",
     "status": "completed"
    },
    "pycharm": {
     "name": "#%%\n"
    },
    "tags": []
   },
   "outputs": [
    {
     "data": {
      "text/html": [
       "<div>\n",
       "<style scoped>\n",
       "    .dataframe tbody tr th:only-of-type {\n",
       "        vertical-align: middle;\n",
       "    }\n",
       "\n",
       "    .dataframe tbody tr th {\n",
       "        vertical-align: top;\n",
       "    }\n",
       "\n",
       "    .dataframe thead th {\n",
       "        text-align: right;\n",
       "    }\n",
       "</style>\n",
       "<table border=\"1\" class=\"dataframe\">\n",
       "  <thead>\n",
       "    <tr style=\"text-align: right;\">\n",
       "      <th></th>\n",
       "      <th>sample_date_string</th>\n",
       "      <th>cumulative_cases</th>\n",
       "      <th>new_cases</th>\n",
       "      <th>rolling_mean_new_cases</th>\n",
       "    </tr>\n",
       "  </thead>\n",
       "  <tbody>\n",
       "    <tr>\n",
       "      <th>0</th>\n",
       "      <td>2020-01-23</td>\n",
       "      <td>0.0</td>\n",
       "      <td>NaN</td>\n",
       "      <td>NaN</td>\n",
       "    </tr>\n",
       "    <tr>\n",
       "      <th>1</th>\n",
       "      <td>2020-01-24</td>\n",
       "      <td>0.0</td>\n",
       "      <td>0.0</td>\n",
       "      <td>NaN</td>\n",
       "    </tr>\n",
       "    <tr>\n",
       "      <th>2</th>\n",
       "      <td>2020-01-25</td>\n",
       "      <td>0.0</td>\n",
       "      <td>0.0</td>\n",
       "      <td>NaN</td>\n",
       "    </tr>\n",
       "    <tr>\n",
       "      <th>3</th>\n",
       "      <td>2020-01-26</td>\n",
       "      <td>0.0</td>\n",
       "      <td>0.0</td>\n",
       "      <td>NaN</td>\n",
       "    </tr>\n",
       "    <tr>\n",
       "      <th>4</th>\n",
       "      <td>2020-01-27</td>\n",
       "      <td>0.0</td>\n",
       "      <td>0.0</td>\n",
       "      <td>NaN</td>\n",
       "    </tr>\n",
       "  </tbody>\n",
       "</table>\n",
       "</div>"
      ],
      "text/plain": [
       "  sample_date_string  cumulative_cases  new_cases  rolling_mean_new_cases\n",
       "0         2020-01-23               0.0        NaN                     NaN\n",
       "1         2020-01-24               0.0        0.0                     NaN\n",
       "2         2020-01-25               0.0        0.0                     NaN\n",
       "3         2020-01-26               0.0        0.0                     NaN\n",
       "4         2020-01-27               0.0        0.0                     NaN"
      ]
     },
     "execution_count": 3,
     "metadata": {},
     "output_type": "execute_result"
    }
   ],
   "source": [
    "confirmed_df = pd.read_csv(\"https://covid19tracking.narrativa.com/csv/confirmed.csv\")\n",
    "confirmed_df = confirmed_df[confirmed_df[\"Country_EN\"] == \"Spain\"]\n",
    "confirmed_df = confirmed_df[pd.isna(confirmed_df[\"Region\"])]\n",
    "confirmed_df.drop(columns=[\"Country_EN\", \"Country_ES\", \"Country_IT\", \"Region\"], inplace=True)\n",
    "confirmed_df = confirmed_df.transpose()\n",
    "confirmed_df.reset_index(inplace=True)\n",
    "confirmed_df.columns = [\"sample_date_string\", \"cumulative_cases\"]\n",
    "confirmed_df[\"new_cases\"] = confirmed_df.cumulative_cases.diff()\n",
    "confirmed_df[\"rolling_mean_new_cases\"] = confirmed_df.new_cases.rolling(7).mean()\n",
    "confirmed_df.head()"
   ]
  },
  {
   "cell_type": "code",
   "execution_count": 4,
   "metadata": {
    "execution": {
     "iopub.execute_input": "2020-08-30T01:32:10.940048Z",
     "iopub.status.busy": "2020-08-30T01:32:10.939614Z",
     "iopub.status.idle": "2020-08-30T01:32:11.094812Z",
     "shell.execute_reply": "2020-08-30T01:32:11.095124Z"
    },
    "papermill": {
     "duration": 0.173764,
     "end_time": "2020-08-30T01:32:11.095237",
     "exception": false,
     "start_time": "2020-08-30T01:32:10.921473",
     "status": "completed"
    },
    "pycharm": {
     "name": "#%%\n"
    },
    "tags": []
   },
   "outputs": [
    {
     "data": {
      "text/plain": [
       "<matplotlib.axes._subplots.AxesSubplot at 0x12b745ed0>"
      ]
     },
     "execution_count": 4,
     "metadata": {},
     "output_type": "execute_result"
    },
    {
     "data": {
      "image/png": "[encoded data removed]",
      "text/plain": [
       "<Figure size 1080x432 with 1 Axes>"
      ]
     },
     "metadata": {},
     "output_type": "display_data"
    }
   ],
   "source": [
    "confirmed_df[[\"new_cases\", \"rolling_mean_new_cases\"]].plot()"
   ]
  },
  {
   "cell_type": "markdown",
   "metadata": {
    "papermill": {
     "duration": 0.011543,
     "end_time": "2020-08-30T01:32:11.118235",
     "exception": false,
     "start_time": "2020-08-30T01:32:11.106692",
     "status": "completed"
    },
    "tags": []
   },
   "source": [
    "## RadarCOVID TEKs Extraction"
   ]
  },
  {
   "cell_type": "code",
   "execution_count": 5,
   "metadata": {
    "execution": {
     "iopub.execute_input": "2020-08-30T01:32:11.143455Z",
     "iopub.status.busy": "2020-08-30T01:32:11.142960Z",
     "iopub.status.idle": "2020-08-30T01:32:11.897665Z",
     "shell.execute_reply": "2020-08-30T01:32:11.897973Z"
    },
    "papermill": {
     "duration": 0.769724,
     "end_time": "2020-08-30T01:32:11.898097",
     "exception": false,
     "start_time": "2020-08-30T01:32:11.128373",
     "status": "completed"
    },
    "pycharm": {
     "name": "#%%\n"
    },
    "tags": []
   },
   "outputs": [
    {
     "name": "stderr",
     "output_type": "stream",
     "text": [
      "WARNING:root:NoDataFoundForDateException(\"No exposed tokens found for day '2020-08-30'.\")\n",
      "WARNING:root:NoDataFoundForDateException(\"No exposed tokens found for day '2020-08-29'.\")\n",
      "WARNING:root:NoDataFoundForDateException(\"No exposed tokens found for day '2020-08-18'.\")\n",
      "WARNING:root:NoDataFoundForDateException(\"No exposed tokens found for day '2020-08-17'.\")\n"
     ]
    },
    {
     "data": {
      "text/html": [
       "<div>\n",
       "<style scoped>\n",
       "    .dataframe tbody tr th:only-of-type {\n",
       "        vertical-align: middle;\n",
       "    }\n",
       "\n",
       "    .dataframe tbody tr th {\n",
       "        vertical-align: top;\n",
       "    }\n",
       "\n",
       "    .dataframe thead th {\n",
       "        text-align: right;\n",
       "    }\n",
       "</style>\n",
       "<table border=\"1\" class=\"dataframe\">\n",
       "  <thead>\n",
       "    <tr style=\"text-align: right;\">\n",
       "      <th></th>\n",
       "      <th>sample_date_string</th>\n",
       "      <th>source_url</th>\n",
       "      <th>region</th>\n",
       "      <th>key_data</th>\n",
       "    </tr>\n",
       "  </thead>\n",
       "  <tbody>\n",
       "    <tr>\n",
       "      <th>0</th>\n",
       "      <td>2020-08-28</td>\n",
       "      <td>https://radarcovid.covid19.gob.es/dp3t/v1/gaen...</td>\n",
       "      <td>ES</td>\n",
       "      <td>757936ab-531c-4872-1d83-ce7a8d135211</td>\n",
       "    </tr>\n",
       "    <tr>\n",
       "      <th>1</th>\n",
       "      <td>2020-08-28</td>\n",
       "      <td>https://radarcovid.covid19.gob.es/dp3t/v1/gaen...</td>\n",
       "      <td>ES</td>\n",
       "      <td>51d5fc97-3caf-8410-8fa2-f25f48547962</td>\n",
       "    </tr>\n",
       "    <tr>\n",
       "      <th>2</th>\n",
       "      <td>2020-08-28</td>\n",
       "      <td>https://radarcovid.covid19.gob.es/dp3t/v1/gaen...</td>\n",
       "      <td>ES</td>\n",
       "      <td>c314cde8-5365-8949-88e7-7ed2d1602fef</td>\n",
       "    </tr>\n",
       "    <tr>\n",
       "      <th>3</th>\n",
       "      <td>2020-08-28</td>\n",
       "      <td>https://radarcovid.covid19.gob.es/dp3t/v1/gaen...</td>\n",
       "      <td>ES</td>\n",
       "      <td>64531b2a-2054-c820-39e2-20fa21283d2c</td>\n",
       "    </tr>\n",
       "    <tr>\n",
       "      <th>4</th>\n",
       "      <td>2020-08-28</td>\n",
       "      <td>https://radarcovid.covid19.gob.es/dp3t/v1/gaen...</td>\n",
       "      <td>ES</td>\n",
       "      <td>e91b1672-ca72-87d7-099e-782e945728b0</td>\n",
       "    </tr>\n",
       "  </tbody>\n",
       "</table>\n",
       "</div>"
      ],
      "text/plain": [
       "  sample_date_string                                         source_url  \\\n",
       "0         2020-08-28  https://radarcovid.covid19.gob.es/dp3t/v1/gaen...   \n",
       "1         2020-08-28  https://radarcovid.covid19.gob.es/dp3t/v1/gaen...   \n",
       "2         2020-08-28  https://radarcovid.covid19.gob.es/dp3t/v1/gaen...   \n",
       "3         2020-08-28  https://radarcovid.covid19.gob.es/dp3t/v1/gaen...   \n",
       "4         2020-08-28  https://radarcovid.covid19.gob.es/dp3t/v1/gaen...   \n",
       "\n",
       "  region                              key_data  \n",
       "0     ES  757936ab-531c-4872-1d83-ce7a8d135211  \n",
       "1     ES  51d5fc97-3caf-8410-8fa2-f25f48547962  \n",
       "2     ES  c314cde8-5365-8949-88e7-7ed2d1602fef  \n",
       "3     ES  64531b2a-2054-c820-39e2-20fa21283d2c  \n",
       "4     ES  e91b1672-ca72-87d7-099e-782e945728b0  "
      ]
     },
     "execution_count": 5,
     "metadata": {},
     "output_type": "execute_result"
    }
   ],
   "source": [
    "from Modules.RadarCOVID import radar_covid\n",
    "\n",
    "exposure_keys_df = radar_covid.download_last_radar_covid_exposure_keys(days=14)\n",
    "exposure_keys_df[[\n",
    "    \"sample_date_string\", \"source_url\", \"region\", \"key_data\"]].head()"
   ]
  },
  {
   "cell_type": "code",
   "execution_count": 6,
   "metadata": {
    "execution": {
     "iopub.execute_input": "2020-08-30T01:32:11.932842Z",
     "iopub.status.busy": "2020-08-30T01:32:11.928760Z",
     "iopub.status.idle": "2020-08-30T01:32:11.936635Z",
     "shell.execute_reply": "2020-08-30T01:32:11.936322Z"
    },
    "papermill": {
     "duration": 0.027496,
     "end_time": "2020-08-30T01:32:11.936720",
     "exception": false,
     "start_time": "2020-08-30T01:32:11.909224",
     "status": "completed"
    },
    "pycharm": {
     "name": "#%%\n"
    },
    "tags": []
   },
   "outputs": [
    {
     "data": {
      "text/html": [
       "<div>\n",
       "<style scoped>\n",
       "    .dataframe tbody tr th:only-of-type {\n",
       "        vertical-align: middle;\n",
       "    }\n",
       "\n",
       "    .dataframe tbody tr th {\n",
       "        vertical-align: top;\n",
       "    }\n",
       "\n",
       "    .dataframe thead th {\n",
       "        text-align: right;\n",
       "    }\n",
       "</style>\n",
       "<table border=\"1\" class=\"dataframe\">\n",
       "  <thead>\n",
       "    <tr style=\"text-align: right;\">\n",
       "      <th></th>\n",
       "      <th>tek_count</th>\n",
       "    </tr>\n",
       "    <tr>\n",
       "      <th>sample_date_string</th>\n",
       "      <th></th>\n",
       "    </tr>\n",
       "  </thead>\n",
       "  <tbody>\n",
       "    <tr>\n",
       "      <th>2020-08-28</th>\n",
       "      <td>27</td>\n",
       "    </tr>\n",
       "    <tr>\n",
       "      <th>2020-08-27</th>\n",
       "      <td>53</td>\n",
       "    </tr>\n",
       "    <tr>\n",
       "      <th>2020-08-26</th>\n",
       "      <td>66</td>\n",
       "    </tr>\n",
       "    <tr>\n",
       "      <th>2020-08-25</th>\n",
       "      <td>56</td>\n",
       "    </tr>\n",
       "    <tr>\n",
       "      <th>2020-08-24</th>\n",
       "      <td>48</td>\n",
       "    </tr>\n",
       "  </tbody>\n",
       "</table>\n",
       "</div>"
      ],
      "text/plain": [
       "                    tek_count\n",
       "sample_date_string           \n",
       "2020-08-28                 27\n",
       "2020-08-27                 53\n",
       "2020-08-26                 66\n",
       "2020-08-25                 56\n",
       "2020-08-24                 48"
      ]
     },
     "execution_count": 6,
     "metadata": {},
     "output_type": "execute_result"
    }
   ],
   "source": [
    "exposure_keys_summary_df = \\\n",
    "    exposure_keys_df.groupby([\"sample_date_string\"]).key_data.nunique().to_frame()\n",
    "exposure_keys_summary_df.sort_index(ascending=False, inplace=True)\n",
    "exposure_keys_summary_df.rename(columns={\"key_data\": \"tek_count\"}, inplace=True)\n",
    "exposure_keys_summary_df.head()"
   ]
  },
  {
   "cell_type": "markdown",
   "metadata": {
    "papermill": {
     "duration": 0.014114,
     "end_time": "2020-08-30T01:32:11.963613",
     "exception": false,
     "start_time": "2020-08-30T01:32:11.949499",
     "status": "completed"
    },
    "tags": []
   },
   "source": [
    "## RadarCOVID TEKs Dump"
   ]
  },
  {
   "cell_type": "code",
   "execution_count": 7,
   "metadata": {
    "execution": {
     "iopub.execute_input": "2020-08-30T01:32:11.998510Z",
     "iopub.status.busy": "2020-08-30T01:32:11.997617Z",
     "iopub.status.idle": "2020-08-30T01:32:12.009294Z",
     "shell.execute_reply": "2020-08-30T01:32:12.008983Z"
    },
    "papermill": {
     "duration": 0.032948,
     "end_time": "2020-08-30T01:32:12.009406",
     "exception": false,
     "start_time": "2020-08-30T01:32:11.976458",
     "status": "completed"
    },
    "scrolled": false,
    "tags": []
   },
   "outputs": [
    {
     "data": {
      "text/html": [
       "<div>\n",
       "<style scoped>\n",
       "    .dataframe tbody tr th:only-of-type {\n",
       "        vertical-align: middle;\n",
       "    }\n",
       "\n",
       "    .dataframe tbody tr th {\n",
       "        vertical-align: top;\n",
       "    }\n",
       "\n",
       "    .dataframe thead th {\n",
       "        text-align: right;\n",
       "    }\n",
       "</style>\n",
       "<table border=\"1\" class=\"dataframe\">\n",
       "  <thead>\n",
       "    <tr style=\"text-align: right;\">\n",
       "      <th></th>\n",
       "      <th>sample_date</th>\n",
       "      <th>tek_list</th>\n",
       "      <th>extraction_date</th>\n",
       "    </tr>\n",
       "  </thead>\n",
       "  <tbody>\n",
       "    <tr>\n",
       "      <th>0</th>\n",
       "      <td>2020-08-19</td>\n",
       "      <td>[645572b7-c0e2-97bc-9bcb-7107fb5eb1bc]</td>\n",
       "      <td>2020-08-30</td>\n",
       "    </tr>\n",
       "    <tr>\n",
       "      <th>1</th>\n",
       "      <td>2020-08-20</td>\n",
       "      <td>[5c4885a2-5c65-d6aa-8eed-7d607f106647, e6c3ca3...</td>\n",
       "      <td>2020-08-30</td>\n",
       "    </tr>\n",
       "    <tr>\n",
       "      <th>2</th>\n",
       "      <td>2020-08-21</td>\n",
       "      <td>[53c82402-7f1c-e203-7abc-593dc3a8a9fe, fd16f69...</td>\n",
       "      <td>2020-08-30</td>\n",
       "    </tr>\n",
       "    <tr>\n",
       "      <th>3</th>\n",
       "      <td>2020-08-22</td>\n",
       "      <td>[316fcc1d-9bdb-69ae-b997-70b5b4ca1d74, 33b23da...</td>\n",
       "      <td>2020-08-30</td>\n",
       "    </tr>\n",
       "    <tr>\n",
       "      <th>4</th>\n",
       "      <td>2020-08-23</td>\n",
       "      <td>[3dda2de2-fc66-33b9-cf6b-c7b85f8683d5, c0a53a0...</td>\n",
       "      <td>2020-08-30</td>\n",
       "    </tr>\n",
       "    <tr>\n",
       "      <th>5</th>\n",
       "      <td>2020-08-24</td>\n",
       "      <td>[b040f48d-d3f9-6518-2b3d-24037d185437, bbc28f7...</td>\n",
       "      <td>2020-08-30</td>\n",
       "    </tr>\n",
       "    <tr>\n",
       "      <th>6</th>\n",
       "      <td>2020-08-25</td>\n",
       "      <td>[88699284-d221-d821-76a9-6cd7b79f869c, 8ee3c02...</td>\n",
       "      <td>2020-08-30</td>\n",
       "    </tr>\n",
       "    <tr>\n",
       "      <th>7</th>\n",
       "      <td>2020-08-26</td>\n",
       "      <td>[9ab2c4e3-d548-15b0-4c69-ac2087f2e7ef, 6bda721...</td>\n",
       "      <td>2020-08-30</td>\n",
       "    </tr>\n",
       "    <tr>\n",
       "      <th>8</th>\n",
       "      <td>2020-08-27</td>\n",
       "      <td>[6e8eb4ae-d7cc-2dfe-9709-58c6de6aa724, 62d0ecb...</td>\n",
       "      <td>2020-08-30</td>\n",
       "    </tr>\n",
       "    <tr>\n",
       "      <th>9</th>\n",
       "      <td>2020-08-28</td>\n",
       "      <td>[757936ab-531c-4872-1d83-ce7a8d135211, 51d5fc9...</td>\n",
       "      <td>2020-08-30</td>\n",
       "    </tr>\n",
       "  </tbody>\n",
       "</table>\n",
       "</div>"
      ],
      "text/plain": [
       "  sample_date                                           tek_list  \\\n",
       "0  2020-08-19             [645572b7-c0e2-97bc-9bcb-7107fb5eb1bc]   \n",
       "1  2020-08-20  [5c4885a2-5c65-d6aa-8eed-7d607f106647, e6c3ca3...   \n",
       "2  2020-08-21  [53c82402-7f1c-e203-7abc-593dc3a8a9fe, fd16f69...   \n",
       "3  2020-08-22  [316fcc1d-9bdb-69ae-b997-70b5b4ca1d74, 33b23da...   \n",
       "4  2020-08-23  [3dda2de2-fc66-33b9-cf6b-c7b85f8683d5, c0a53a0...   \n",
       "5  2020-08-24  [b040f48d-d3f9-6518-2b3d-24037d185437, bbc28f7...   \n",
       "6  2020-08-25  [88699284-d221-d821-76a9-6cd7b79f869c, 8ee3c02...   \n",
       "7  2020-08-26  [9ab2c4e3-d548-15b0-4c69-ac2087f2e7ef, 6bda721...   \n",
       "8  2020-08-27  [6e8eb4ae-d7cc-2dfe-9709-58c6de6aa724, 62d0ecb...   \n",
       "9  2020-08-28  [757936ab-531c-4872-1d83-ce7a8d135211, 51d5fc9...   \n",
       "\n",
       "  extraction_date  \n",
       "0      2020-08-30  \n",
       "1      2020-08-30  \n",
       "2      2020-08-30  \n",
       "3      2020-08-30  \n",
       "4      2020-08-30  \n",
       "5      2020-08-30  \n",
       "6      2020-08-30  \n",
       "7      2020-08-30  \n",
       "8      2020-08-30  \n",
       "9      2020-08-30  "
      ]
     },
     "execution_count": 7,
     "metadata": {},
     "output_type": "execute_result"
    }
   ],
   "source": [
    "import datetime\n",
    "\n",
    "extraction_date = datetime.datetime.utcnow().strftime(\"%Y-%m-%d\")\n",
    "tek_list_df = exposure_keys_df[[\"sample_date_string\", \"key_data\"]].copy()\n",
    "tek_list_df[\"key_data\"] = tek_list_df[\"key_data\"].apply(str)\n",
    "tek_list_df.rename(columns={\n",
    "    \"sample_date_string\": \"sample_date\",\n",
    "    \"key_data\": \"tek_list\"}, inplace=True)\n",
    "tek_list_df = tek_list_df.groupby(\n",
    "    \"sample_date\").tek_list.unique().reset_index()\n",
    "tek_list_df[\"extraction_date\"] = extraction_date\n",
    "tek_list_df.to_json(\n",
    "    \"Data/RadarCOVID-Report-\" + extraction_date + \".json\",\n",
    "    lines=True, orient=\"records\")\n",
    "tek_list_df"
   ]
  },
  {
   "cell_type": "markdown",
   "metadata": {
    "papermill": {
     "duration": 0.01192,
     "end_time": "2020-08-30T01:32:12.033831",
     "exception": false,
     "start_time": "2020-08-30T01:32:12.021911",
     "status": "completed"
    },
    "tags": []
   },
   "source": [
    "## RadarCOVID New TEKs"
   ]
  },
  {
   "cell_type": "code",
   "execution_count": 8,
   "metadata": {
    "execution": {
     "iopub.execute_input": "2020-08-30T01:32:12.061286Z",
     "iopub.status.busy": "2020-08-30T01:32:12.060784Z",
     "iopub.status.idle": "2020-08-30T01:32:12.077191Z",
     "shell.execute_reply": "2020-08-30T01:32:12.076865Z"
    },
    "papermill": {
     "duration": 0.030922,
     "end_time": "2020-08-30T01:32:12.077270",
     "exception": false,
     "start_time": "2020-08-30T01:32:12.046348",
     "status": "completed"
    },
    "tags": []
   },
   "outputs": [
    {
     "data": {
      "text/html": [
       "<div>\n",
       "<style scoped>\n",
       "    .dataframe tbody tr th:only-of-type {\n",
       "        vertical-align: middle;\n",
       "    }\n",
       "\n",
       "    .dataframe tbody tr th {\n",
       "        vertical-align: top;\n",
       "    }\n",
       "\n",
       "    .dataframe thead th {\n",
       "        text-align: right;\n",
       "    }\n",
       "</style>\n",
       "<table border=\"1\" class=\"dataframe\">\n",
       "  <thead>\n",
       "    <tr style=\"text-align: right;\">\n",
       "      <th></th>\n",
       "      <th>sample_date</th>\n",
       "      <th>tek_list</th>\n",
       "      <th>extraction_date</th>\n",
       "    </tr>\n",
       "  </thead>\n",
       "  <tbody>\n",
       "    <tr>\n",
       "      <th>0</th>\n",
       "      <td>2020-08-19</td>\n",
       "      <td>[645572b7-c0e2-97bc-9bcb-7107fb5eb1bc]</td>\n",
       "      <td>2020-08-29</td>\n",
       "    </tr>\n",
       "    <tr>\n",
       "      <th>1</th>\n",
       "      <td>2020-08-20</td>\n",
       "      <td>[5c4885a2-5c65-d6aa-8eed-7d607f106647, e6c3ca3...</td>\n",
       "      <td>2020-08-29</td>\n",
       "    </tr>\n",
       "    <tr>\n",
       "      <th>2</th>\n",
       "      <td>2020-08-21</td>\n",
       "      <td>[53c82402-7f1c-e203-7abc-593dc3a8a9fe, fd16f69...</td>\n",
       "      <td>2020-08-29</td>\n",
       "    </tr>\n",
       "    <tr>\n",
       "      <th>3</th>\n",
       "      <td>2020-08-22</td>\n",
       "      <td>[316fcc1d-9bdb-69ae-b997-70b5b4ca1d74, 33b23da...</td>\n",
       "      <td>2020-08-29</td>\n",
       "    </tr>\n",
       "    <tr>\n",
       "      <th>4</th>\n",
       "      <td>2020-08-23</td>\n",
       "      <td>[3dda2de2-fc66-33b9-cf6b-c7b85f8683d5, c0a53a0...</td>\n",
       "      <td>2020-08-29</td>\n",
       "    </tr>\n",
       "  </tbody>\n",
       "</table>\n",
       "</div>"
      ],
      "text/plain": [
       "  sample_date                                           tek_list  \\\n",
       "0  2020-08-19             [645572b7-c0e2-97bc-9bcb-7107fb5eb1bc]   \n",
       "1  2020-08-20  [5c4885a2-5c65-d6aa-8eed-7d607f106647, e6c3ca3...   \n",
       "2  2020-08-21  [53c82402-7f1c-e203-7abc-593dc3a8a9fe, fd16f69...   \n",
       "3  2020-08-22  [316fcc1d-9bdb-69ae-b997-70b5b4ca1d74, 33b23da...   \n",
       "4  2020-08-23  [3dda2de2-fc66-33b9-cf6b-c7b85f8683d5, c0a53a0...   \n",
       "\n",
       "  extraction_date  \n",
       "0      2020-08-29  \n",
       "1      2020-08-29  \n",
       "2      2020-08-29  \n",
       "3      2020-08-29  \n",
       "4      2020-08-29  "
      ]
     },
     "execution_count": 8,
     "metadata": {},
     "output_type": "execute_result"
    }
   ],
   "source": [
    "import glob\n",
    "\n",
    "tek_list_df = pd.DataFrame()\n",
    "\n",
    "for path in glob.glob(\"Data/RadarCOVID-Report-*.json\"):\n",
    "    extraction_tek_list_df = pd.read_json(path, lines=True)\n",
    "    tek_list_df = tek_list_df.append(extraction_tek_list_df, sort=False)\n",
    "    \n",
    "tek_list_df.head()"
   ]
  },
  {
   "cell_type": "code",
   "execution_count": 9,
   "metadata": {
    "execution": {
     "iopub.execute_input": "2020-08-30T01:32:12.108203Z",
     "iopub.status.busy": "2020-08-30T01:32:12.107760Z",
     "iopub.status.idle": "2020-08-30T01:32:12.113588Z",
     "shell.execute_reply": "2020-08-30T01:32:12.113261Z"
    },
    "papermill": {
     "duration": 0.023747,
     "end_time": "2020-08-30T01:32:12.113666",
     "exception": false,
     "start_time": "2020-08-30T01:32:12.089919",
     "status": "completed"
    },
    "tags": []
   },
   "outputs": [
    {
     "data": {
      "text/html": [
       "<div>\n",
       "<style scoped>\n",
       "    .dataframe tbody tr th:only-of-type {\n",
       "        vertical-align: middle;\n",
       "    }\n",
       "\n",
       "    .dataframe tbody tr th {\n",
       "        vertical-align: top;\n",
       "    }\n",
       "\n",
       "    .dataframe thead th {\n",
       "        text-align: right;\n",
       "    }\n",
       "</style>\n",
       "<table border=\"1\" class=\"dataframe\">\n",
       "  <thead>\n",
       "    <tr style=\"text-align: right;\">\n",
       "      <th></th>\n",
       "      <th>tek_list</th>\n",
       "    </tr>\n",
       "    <tr>\n",
       "      <th>extraction_date</th>\n",
       "      <th></th>\n",
       "    </tr>\n",
       "  </thead>\n",
       "  <tbody>\n",
       "    <tr>\n",
       "      <th>2020-08-29</th>\n",
       "      <td>{7866933e-23e2-8990-e667-1afcae9026ce, 5d71489...</td>\n",
       "    </tr>\n",
       "    <tr>\n",
       "      <th>2020-08-30</th>\n",
       "      <td>{7866933e-23e2-8990-e667-1afcae9026ce, 5d71489...</td>\n",
       "    </tr>\n",
       "  </tbody>\n",
       "</table>\n",
       "</div>"
      ],
      "text/plain": [
       "                                                          tek_list\n",
       "extraction_date                                                   \n",
       "2020-08-29       {7866933e-23e2-8990-e667-1afcae9026ce, 5d71489...\n",
       "2020-08-30       {7866933e-23e2-8990-e667-1afcae9026ce, 5d71489..."
      ]
     },
     "execution_count": 9,
     "metadata": {},
     "output_type": "execute_result"
    }
   ],
   "source": [
    "tek_list_df = tek_list_df.groupby(\"extraction_date\").tek_list.apply(lambda x: set(sum(x, []))).reset_index()\n",
    "tek_list_df = tek_list_df.set_index(\"extraction_date\").sort_index(ascending=True)\n",
    "tek_list_df.head()"
   ]
  },
  {
   "cell_type": "code",
   "execution_count": 11,
   "metadata": {
    "execution": {
     "iopub.execute_input": "2020-08-30T01:32:12.146908Z",
     "iopub.status.busy": "2020-08-30T01:32:12.146346Z",
     "iopub.status.idle": "2020-08-30T01:32:12.148279Z",
     "shell.execute_reply": "2020-08-30T01:32:12.148769Z"
    },
    "papermill": {
     "duration": 0.022668,
     "end_time": "2020-08-30T01:32:12.148862",
     "exception": false,
     "start_time": "2020-08-30T01:32:12.126194",
     "status": "completed"
    },
    "tags": []
   },
   "outputs": [
    {
     "data": {
      "text/html": [
       "<div>\n",
       "<style scoped>\n",
       "    .dataframe tbody tr th:only-of-type {\n",
       "        vertical-align: middle;\n",
       "    }\n",
       "\n",
       "    .dataframe tbody tr th {\n",
       "        vertical-align: top;\n",
       "    }\n",
       "\n",
       "    .dataframe thead th {\n",
       "        text-align: right;\n",
       "    }\n",
       "</style>\n",
       "<table border=\"1\" class=\"dataframe\">\n",
       "  <thead>\n",
       "    <tr style=\"text-align: right;\">\n",
       "      <th></th>\n",
       "      <th>sample_date_string</th>\n",
       "      <th>new_tek_count</th>\n",
       "    </tr>\n",
       "  </thead>\n",
       "  <tbody>\n",
       "    <tr>\n",
       "      <th>0</th>\n",
       "      <td>2020-08-29</td>\n",
       "      <td>NaN</td>\n",
       "    </tr>\n",
       "    <tr>\n",
       "      <th>1</th>\n",
       "      <td>2020-08-30</td>\n",
       "      <td>0.0</td>\n",
       "    </tr>\n",
       "  </tbody>\n",
       "</table>\n",
       "</div>"
      ],
      "text/plain": [
       "  sample_date_string  new_tek_count\n",
       "0         2020-08-29            NaN\n",
       "1         2020-08-30            0.0"
      ]
     },
     "execution_count": 11,
     "metadata": {},
     "output_type": "execute_result"
    }
   ],
   "source": [
    "new_tek_df = tek_list_df.diff().tek_list.apply(\n",
    "    lambda x: len(x) if not pd.isna(x) else None).to_frame().reset_index()\n",
    "new_tek_df.rename(columns={\n",
    "    \"tek_list\": \"new_tek_count\",\n",
    "    \"extraction_date\": \"sample_date_string\",}, inplace=True)\n",
    "new_tek_df.head()"
   ]
  },
  {
   "cell_type": "markdown",
   "metadata": {
    "papermill": {
     "duration": 0.012722,
     "end_time": "2020-08-30T01:32:12.174471",
     "exception": false,
     "start_time": "2020-08-30T01:32:12.161749",
     "status": "completed"
    },
    "tags": []
   },
   "source": [
    "## Data Merge"
   ]
  },
  {
   "cell_type": "code",
   "execution_count": 12,
   "metadata": {
    "execution": {
     "iopub.execute_input": "2020-08-30T01:32:12.215112Z",
     "iopub.status.busy": "2020-08-30T01:32:12.214540Z",
     "iopub.status.idle": "2020-08-30T01:32:12.217740Z",
     "shell.execute_reply": "2020-08-30T01:32:12.218046Z"
    },
    "papermill": {
     "duration": 0.027567,
     "end_time": "2020-08-30T01:32:12.218136",
     "exception": false,
     "start_time": "2020-08-30T01:32:12.190569",
     "status": "completed"
    },
    "tags": []
   },
   "outputs": [
    {
     "data": {
      "text/html": [
       "<div>\n",
       "<style scoped>\n",
       "    .dataframe tbody tr th:only-of-type {\n",
       "        vertical-align: middle;\n",
       "    }\n",
       "\n",
       "    .dataframe tbody tr th {\n",
       "        vertical-align: top;\n",
       "    }\n",
       "\n",
       "    .dataframe thead th {\n",
       "        text-align: right;\n",
       "    }\n",
       "</style>\n",
       "<table border=\"1\" class=\"dataframe\">\n",
       "  <thead>\n",
       "    <tr style=\"text-align: right;\">\n",
       "      <th></th>\n",
       "      <th>sample_date_string</th>\n",
       "      <th>tek_count</th>\n",
       "      <th>new_tek_count</th>\n",
       "    </tr>\n",
       "  </thead>\n",
       "  <tbody>\n",
       "    <tr>\n",
       "      <th>0</th>\n",
       "      <td>2020-08-28</td>\n",
       "      <td>27.0</td>\n",
       "      <td>NaN</td>\n",
       "    </tr>\n",
       "    <tr>\n",
       "      <th>1</th>\n",
       "      <td>2020-08-27</td>\n",
       "      <td>53.0</td>\n",
       "      <td>NaN</td>\n",
       "    </tr>\n",
       "    <tr>\n",
       "      <th>2</th>\n",
       "      <td>2020-08-26</td>\n",
       "      <td>66.0</td>\n",
       "      <td>NaN</td>\n",
       "    </tr>\n",
       "    <tr>\n",
       "      <th>3</th>\n",
       "      <td>2020-08-25</td>\n",
       "      <td>56.0</td>\n",
       "      <td>NaN</td>\n",
       "    </tr>\n",
       "    <tr>\n",
       "      <th>4</th>\n",
       "      <td>2020-08-24</td>\n",
       "      <td>48.0</td>\n",
       "      <td>NaN</td>\n",
       "    </tr>\n",
       "  </tbody>\n",
       "</table>\n",
       "</div>"
      ],
      "text/plain": [
       "  sample_date_string  tek_count  new_tek_count\n",
       "0         2020-08-28       27.0            NaN\n",
       "1         2020-08-27       53.0            NaN\n",
       "2         2020-08-26       66.0            NaN\n",
       "3         2020-08-25       56.0            NaN\n",
       "4         2020-08-24       48.0            NaN"
      ]
     },
     "execution_count": 12,
     "metadata": {},
     "output_type": "execute_result"
    }
   ],
   "source": [
    "result_summary_df = exposure_keys_summary_df.merge(new_tek_df, on=[\"sample_date_string\"], how=\"outer\")\n",
    "result_summary_df.head()"
   ]
  },
  {
   "cell_type": "code",
   "execution_count": 13,
   "metadata": {
    "execution": {
     "iopub.execute_input": "2020-08-30T01:32:12.248798Z",
     "iopub.status.busy": "2020-08-30T01:32:12.248420Z",
     "iopub.status.idle": "2020-08-30T01:32:12.259028Z",
     "shell.execute_reply": "2020-08-30T01:32:12.258696Z"
    },
    "papermill": {
     "duration": 0.027816,
     "end_time": "2020-08-30T01:32:12.259107",
     "exception": false,
     "start_time": "2020-08-30T01:32:12.231291",
     "status": "completed"
    },
    "pycharm": {
     "name": "#%%\n"
    },
    "tags": []
   },
   "outputs": [
    {
     "data": {
      "text/html": [
       "<div>\n",
       "<style scoped>\n",
       "    .dataframe tbody tr th:only-of-type {\n",
       "        vertical-align: middle;\n",
       "    }\n",
       "\n",
       "    .dataframe tbody tr th {\n",
       "        vertical-align: top;\n",
       "    }\n",
       "\n",
       "    .dataframe thead th {\n",
       "        text-align: right;\n",
       "    }\n",
       "</style>\n",
       "<table border=\"1\" class=\"dataframe\">\n",
       "  <thead>\n",
       "    <tr style=\"text-align: right;\">\n",
       "      <th></th>\n",
       "      <th>sample_date_string</th>\n",
       "      <th>tek_count</th>\n",
       "      <th>new_tek_count</th>\n",
       "      <th>cumulative_cases</th>\n",
       "      <th>new_cases</th>\n",
       "      <th>rolling_mean_new_cases</th>\n",
       "    </tr>\n",
       "  </thead>\n",
       "  <tbody>\n",
       "    <tr>\n",
       "      <th>0</th>\n",
       "      <td>2020-08-28</td>\n",
       "      <td>27.0</td>\n",
       "      <td>NaN</td>\n",
       "      <td>439286.0</td>\n",
       "      <td>9779.0</td>\n",
       "      <td>7604.571429</td>\n",
       "    </tr>\n",
       "    <tr>\n",
       "      <th>1</th>\n",
       "      <td>2020-08-27</td>\n",
       "      <td>53.0</td>\n",
       "      <td>NaN</td>\n",
       "      <td>429507.0</td>\n",
       "      <td>9658.0</td>\n",
       "      <td>7371.571429</td>\n",
       "    </tr>\n",
       "    <tr>\n",
       "      <th>2</th>\n",
       "      <td>2020-08-26</td>\n",
       "      <td>66.0</td>\n",
       "      <td>NaN</td>\n",
       "      <td>419849.0</td>\n",
       "      <td>7296.0</td>\n",
       "      <td>6997.428571</td>\n",
       "    </tr>\n",
       "    <tr>\n",
       "      <th>3</th>\n",
       "      <td>2020-08-25</td>\n",
       "      <td>56.0</td>\n",
       "      <td>NaN</td>\n",
       "      <td>412553.0</td>\n",
       "      <td>7117.0</td>\n",
       "      <td>6908.142857</td>\n",
       "    </tr>\n",
       "    <tr>\n",
       "      <th>4</th>\n",
       "      <td>2020-08-24</td>\n",
       "      <td>48.0</td>\n",
       "      <td>NaN</td>\n",
       "      <td>405436.0</td>\n",
       "      <td>19382.0</td>\n",
       "      <td>6622.000000</td>\n",
       "    </tr>\n",
       "  </tbody>\n",
       "</table>\n",
       "</div>"
      ],
      "text/plain": [
       "  sample_date_string  tek_count  new_tek_count  cumulative_cases  new_cases  \\\n",
       "0         2020-08-28       27.0            NaN          439286.0     9779.0   \n",
       "1         2020-08-27       53.0            NaN          429507.0     9658.0   \n",
       "2         2020-08-26       66.0            NaN          419849.0     7296.0   \n",
       "3         2020-08-25       56.0            NaN          412553.0     7117.0   \n",
       "4         2020-08-24       48.0            NaN          405436.0    19382.0   \n",
       "\n",
       "   rolling_mean_new_cases  \n",
       "0             7604.571429  \n",
       "1             7371.571429  \n",
       "2             6997.428571  \n",
       "3             6908.142857  \n",
       "4             6622.000000  "
      ]
     },
     "execution_count": 13,
     "metadata": {},
     "output_type": "execute_result"
    }
   ],
   "source": [
    "result_summary_df = result_summary_df.merge(confirmed_df, on=[\"sample_date_string\"], how=\"left\")\n",
    "result_summary_df.head()"
   ]
  },
  {
   "cell_type": "code",
   "execution_count": 14,
   "metadata": {
    "execution": {
     "iopub.execute_input": "2020-08-30T01:32:12.290471Z",
     "iopub.status.busy": "2020-08-30T01:32:12.290037Z",
     "iopub.status.idle": "2020-08-30T01:32:12.300133Z",
     "shell.execute_reply": "2020-08-30T01:32:12.299804Z"
    },
    "papermill": {
     "duration": 0.027431,
     "end_time": "2020-08-30T01:32:12.300211",
     "exception": false,
     "start_time": "2020-08-30T01:32:12.272780",
     "status": "completed"
    },
    "tags": []
   },
   "outputs": [
    {
     "data": {
      "text/html": [
       "<div>\n",
       "<style scoped>\n",
       "    .dataframe tbody tr th:only-of-type {\n",
       "        vertical-align: middle;\n",
       "    }\n",
       "\n",
       "    .dataframe tbody tr th {\n",
       "        vertical-align: top;\n",
       "    }\n",
       "\n",
       "    .dataframe thead th {\n",
       "        text-align: right;\n",
       "    }\n",
       "</style>\n",
       "<table border=\"1\" class=\"dataframe\">\n",
       "  <thead>\n",
       "    <tr style=\"text-align: right;\">\n",
       "      <th></th>\n",
       "      <th>sample_date_string</th>\n",
       "      <th>tek_count</th>\n",
       "      <th>new_tek_count</th>\n",
       "      <th>cumulative_cases</th>\n",
       "      <th>new_cases</th>\n",
       "      <th>rolling_mean_new_cases</th>\n",
       "      <th>tek_count_per_new_case</th>\n",
       "      <th>new_tek_count_per_new_case</th>\n",
       "    </tr>\n",
       "  </thead>\n",
       "  <tbody>\n",
       "    <tr>\n",
       "      <th>0</th>\n",
       "      <td>2020-08-28</td>\n",
       "      <td>27.0</td>\n",
       "      <td>NaN</td>\n",
       "      <td>439286.0</td>\n",
       "      <td>9779.0</td>\n",
       "      <td>7604.571429</td>\n",
       "      <td>0.003550</td>\n",
       "      <td>NaN</td>\n",
       "    </tr>\n",
       "    <tr>\n",
       "      <th>1</th>\n",
       "      <td>2020-08-27</td>\n",
       "      <td>53.0</td>\n",
       "      <td>NaN</td>\n",
       "      <td>429507.0</td>\n",
       "      <td>9658.0</td>\n",
       "      <td>7371.571429</td>\n",
       "      <td>0.007190</td>\n",
       "      <td>NaN</td>\n",
       "    </tr>\n",
       "    <tr>\n",
       "      <th>2</th>\n",
       "      <td>2020-08-26</td>\n",
       "      <td>66.0</td>\n",
       "      <td>NaN</td>\n",
       "      <td>419849.0</td>\n",
       "      <td>7296.0</td>\n",
       "      <td>6997.428571</td>\n",
       "      <td>0.009432</td>\n",
       "      <td>NaN</td>\n",
       "    </tr>\n",
       "    <tr>\n",
       "      <th>3</th>\n",
       "      <td>2020-08-25</td>\n",
       "      <td>56.0</td>\n",
       "      <td>NaN</td>\n",
       "      <td>412553.0</td>\n",
       "      <td>7117.0</td>\n",
       "      <td>6908.142857</td>\n",
       "      <td>0.008106</td>\n",
       "      <td>NaN</td>\n",
       "    </tr>\n",
       "    <tr>\n",
       "      <th>4</th>\n",
       "      <td>2020-08-24</td>\n",
       "      <td>48.0</td>\n",
       "      <td>NaN</td>\n",
       "      <td>405436.0</td>\n",
       "      <td>19382.0</td>\n",
       "      <td>6622.000000</td>\n",
       "      <td>0.007249</td>\n",
       "      <td>NaN</td>\n",
       "    </tr>\n",
       "  </tbody>\n",
       "</table>\n",
       "</div>"
      ],
      "text/plain": [
       "  sample_date_string  tek_count  new_tek_count  cumulative_cases  new_cases  \\\n",
       "0         2020-08-28       27.0            NaN          439286.0     9779.0   \n",
       "1         2020-08-27       53.0            NaN          429507.0     9658.0   \n",
       "2         2020-08-26       66.0            NaN          419849.0     7296.0   \n",
       "3         2020-08-25       56.0            NaN          412553.0     7117.0   \n",
       "4         2020-08-24       48.0            NaN          405436.0    19382.0   \n",
       "\n",
       "   rolling_mean_new_cases  tek_count_per_new_case  new_tek_count_per_new_case  \n",
       "0             7604.571429                0.003550                         NaN  \n",
       "1             7371.571429                0.007190                         NaN  \n",
       "2             6997.428571                0.009432                         NaN  \n",
       "3             6908.142857                0.008106                         NaN  \n",
       "4             6622.000000                0.007249                         NaN  "
      ]
     },
     "execution_count": 14,
     "metadata": {},
     "output_type": "execute_result"
    }
   ],
   "source": [
    "result_summary_df[\"tek_count_per_new_case\"] = \\\n",
    "    result_summary_df.tek_count / result_summary_df.rolling_mean_new_cases\n",
    "result_summary_df[\"new_tek_count_per_new_case\"] = \\\n",
    "    result_summary_df.new_tek_count / result_summary_df.rolling_mean_new_cases\n",
    "result_summary_df.head()"
   ]
  },
  {
   "cell_type": "markdown",
   "metadata": {
    "papermill": {
     "duration": 0.01385,
     "end_time": "2020-08-30T01:32:12.327596",
     "exception": false,
     "start_time": "2020-08-30T01:32:12.313746",
     "status": "completed"
    },
    "tags": []
   },
   "source": [
    "## Results"
   ]
  },
  {
   "cell_type": "code",
   "execution_count": 15,
   "metadata": {
    "execution": {
     "iopub.execute_input": "2020-08-30T01:32:12.361787Z",
     "iopub.status.busy": "2020-08-30T01:32:12.361405Z",
     "iopub.status.idle": "2020-08-30T01:32:12.363929Z",
     "shell.execute_reply": "2020-08-30T01:32:12.363605Z"
    },
    "papermill": {
     "duration": 0.021392,
     "end_time": "2020-08-30T01:32:12.364006",
     "exception": false,
     "start_time": "2020-08-30T01:32:12.342614",
     "status": "completed"
    },
    "pycharm": {
     "name": "#%%\n"
    },
    "tags": []
   },
   "outputs": [],
   "source": [
    "result_summary_df[\"sample_date\"] = pd.to_datetime(result_summary_df.sample_date_string)\n",
    "result_summary_df.set_index(\"sample_date\", inplace=True)\n",
    "result_summary_df = result_summary_df.sort_index(ascending=False)"
   ]
  },
  {
   "cell_type": "code",
   "execution_count": 16,
   "metadata": {
    "execution": {
     "iopub.execute_input": "2020-08-30T01:32:12.402881Z",
     "iopub.status.busy": "2020-08-30T01:32:12.402493Z",
     "iopub.status.idle": "2020-08-30T01:32:12.404689Z",
     "shell.execute_reply": "2020-08-30T01:32:12.405055Z"
    },
    "papermill": {
     "duration": 0.027536,
     "end_time": "2020-08-30T01:32:12.405145",
     "exception": false,
     "start_time": "2020-08-30T01:32:12.377609",
     "status": "completed"
    },
    "pycharm": {
     "name": "#%%\n"
    },
    "tags": []
   },
   "outputs": [
    {
     "data": {
      "text/html": [
       "<div>\n",
       "<style scoped>\n",
       "    .dataframe tbody tr th:only-of-type {\n",
       "        vertical-align: middle;\n",
       "    }\n",
       "\n",
       "    .dataframe tbody tr th {\n",
       "        vertical-align: top;\n",
       "    }\n",
       "\n",
       "    .dataframe thead th {\n",
       "        text-align: right;\n",
       "    }\n",
       "</style>\n",
       "<table border=\"1\" class=\"dataframe\">\n",
       "  <thead>\n",
       "    <tr style=\"text-align: right;\">\n",
       "      <th></th>\n",
       "      <th>tek_count</th>\n",
       "      <th>new_tek_count</th>\n",
       "      <th>new_cases</th>\n",
       "      <th>rolling_mean_new_cases</th>\n",
       "      <th>tek_count_per_new_case</th>\n",
       "      <th>new_tek_count_per_new_case</th>\n",
       "    </tr>\n",
       "    <tr>\n",
       "      <th>sample_date</th>\n",
       "      <th></th>\n",
       "      <th></th>\n",
       "      <th></th>\n",
       "      <th></th>\n",
       "      <th></th>\n",
       "      <th></th>\n",
       "    </tr>\n",
       "  </thead>\n",
       "  <tbody>\n",
       "    <tr>\n",
       "      <th>2020-08-30</th>\n",
       "      <td>NaN</td>\n",
       "      <td>0.0</td>\n",
       "      <td>NaN</td>\n",
       "      <td>NaN</td>\n",
       "      <td>NaN</td>\n",
       "      <td>NaN</td>\n",
       "    </tr>\n",
       "    <tr>\n",
       "      <th>2020-08-29</th>\n",
       "      <td>NaN</td>\n",
       "      <td>NaN</td>\n",
       "      <td>0.0</td>\n",
       "      <td>7604.571429</td>\n",
       "      <td>NaN</td>\n",
       "      <td>NaN</td>\n",
       "    </tr>\n",
       "    <tr>\n",
       "      <th>2020-08-28</th>\n",
       "      <td>27.0</td>\n",
       "      <td>NaN</td>\n",
       "      <td>9779.0</td>\n",
       "      <td>7604.571429</td>\n",
       "      <td>0.003550</td>\n",
       "      <td>NaN</td>\n",
       "    </tr>\n",
       "    <tr>\n",
       "      <th>2020-08-27</th>\n",
       "      <td>53.0</td>\n",
       "      <td>NaN</td>\n",
       "      <td>9658.0</td>\n",
       "      <td>7371.571429</td>\n",
       "      <td>0.007190</td>\n",
       "      <td>NaN</td>\n",
       "    </tr>\n",
       "    <tr>\n",
       "      <th>2020-08-26</th>\n",
       "      <td>66.0</td>\n",
       "      <td>NaN</td>\n",
       "      <td>7296.0</td>\n",
       "      <td>6997.428571</td>\n",
       "      <td>0.009432</td>\n",
       "      <td>NaN</td>\n",
       "    </tr>\n",
       "    <tr>\n",
       "      <th>2020-08-25</th>\n",
       "      <td>56.0</td>\n",
       "      <td>NaN</td>\n",
       "      <td>7117.0</td>\n",
       "      <td>6908.142857</td>\n",
       "      <td>0.008106</td>\n",
       "      <td>NaN</td>\n",
       "    </tr>\n",
       "    <tr>\n",
       "      <th>2020-08-24</th>\n",
       "      <td>48.0</td>\n",
       "      <td>NaN</td>\n",
       "      <td>19382.0</td>\n",
       "      <td>6622.000000</td>\n",
       "      <td>0.007249</td>\n",
       "      <td>NaN</td>\n",
       "    </tr>\n",
       "    <tr>\n",
       "      <th>2020-08-23</th>\n",
       "      <td>28.0</td>\n",
       "      <td>NaN</td>\n",
       "      <td>0.0</td>\n",
       "      <td>6177.285714</td>\n",
       "      <td>0.004533</td>\n",
       "      <td>NaN</td>\n",
       "    </tr>\n",
       "    <tr>\n",
       "      <th>2020-08-22</th>\n",
       "      <td>18.0</td>\n",
       "      <td>NaN</td>\n",
       "      <td>0.0</td>\n",
       "      <td>6177.285714</td>\n",
       "      <td>0.002914</td>\n",
       "      <td>NaN</td>\n",
       "    </tr>\n",
       "    <tr>\n",
       "      <th>2020-08-21</th>\n",
       "      <td>11.0</td>\n",
       "      <td>NaN</td>\n",
       "      <td>8148.0</td>\n",
       "      <td>6177.285714</td>\n",
       "      <td>0.001781</td>\n",
       "      <td>NaN</td>\n",
       "    </tr>\n",
       "    <tr>\n",
       "      <th>2020-08-20</th>\n",
       "      <td>4.0</td>\n",
       "      <td>NaN</td>\n",
       "      <td>7039.0</td>\n",
       "      <td>5796.000000</td>\n",
       "      <td>0.000690</td>\n",
       "      <td>NaN</td>\n",
       "    </tr>\n",
       "    <tr>\n",
       "      <th>2020-08-19</th>\n",
       "      <td>1.0</td>\n",
       "      <td>NaN</td>\n",
       "      <td>6671.0</td>\n",
       "      <td>5869.000000</td>\n",
       "      <td>0.000170</td>\n",
       "      <td>NaN</td>\n",
       "    </tr>\n",
       "  </tbody>\n",
       "</table>\n",
       "</div>"
      ],
      "text/plain": [
       "             tek_count  new_tek_count  new_cases  rolling_mean_new_cases  \\\n",
       "sample_date                                                                \n",
       "2020-08-30         NaN            0.0        NaN                     NaN   \n",
       "2020-08-29         NaN            NaN        0.0             7604.571429   \n",
       "2020-08-28        27.0            NaN     9779.0             7604.571429   \n",
       "2020-08-27        53.0            NaN     9658.0             7371.571429   \n",
       "2020-08-26        66.0            NaN     7296.0             6997.428571   \n",
       "2020-08-25        56.0            NaN     7117.0             6908.142857   \n",
       "2020-08-24        48.0            NaN    19382.0             6622.000000   \n",
       "2020-08-23        28.0            NaN        0.0             6177.285714   \n",
       "2020-08-22        18.0            NaN        0.0             6177.285714   \n",
       "2020-08-21        11.0            NaN     8148.0             6177.285714   \n",
       "2020-08-20         4.0            NaN     7039.0             5796.000000   \n",
       "2020-08-19         1.0            NaN     6671.0             5869.000000   \n",
       "\n",
       "             tek_count_per_new_case  new_tek_count_per_new_case  \n",
       "sample_date                                                      \n",
       "2020-08-30                      NaN                         NaN  \n",
       "2020-08-29                      NaN                         NaN  \n",
       "2020-08-28                 0.003550                         NaN  \n",
       "2020-08-27                 0.007190                         NaN  \n",
       "2020-08-26                 0.009432                         NaN  \n",
       "2020-08-25                 0.008106                         NaN  \n",
       "2020-08-24                 0.007249                         NaN  \n",
       "2020-08-23                 0.004533                         NaN  \n",
       "2020-08-22                 0.002914                         NaN  \n",
       "2020-08-21                 0.001781                         NaN  \n",
       "2020-08-20                 0.000690                         NaN  \n",
       "2020-08-19                 0.000170                         NaN  "
      ]
     },
     "execution_count": 16,
     "metadata": {},
     "output_type": "execute_result"
    }
   ],
   "source": [
    "result_summary_df[[\n",
    "    \"tek_count\",\n",
    "    \"new_tek_count\",\n",
    "    \"new_cases\",\n",
    "    \"rolling_mean_new_cases\",\n",
    "    \"tek_count_per_new_case\",\n",
    "    \"new_tek_count_per_new_case\"]]"
   ]
  },
  {
   "cell_type": "code",
   "execution_count": 16,
   "metadata": {
    "execution": {
     "iopub.execute_input": "2020-08-30T01:32:12.442730Z",
     "iopub.status.busy": "2020-08-30T01:32:12.442102Z",
     "iopub.status.idle": "2020-08-30T01:32:12.906530Z",
     "shell.execute_reply": "2020-08-30T01:32:12.906908Z"
    },
    "papermill": {
     "duration": 0.487178,
     "end_time": "2020-08-30T01:32:12.907031",
     "exception": false,
     "start_time": "2020-08-30T01:32:12.419853",
     "status": "completed"
    },
    "tags": []
   },
   "outputs": [
    {
     "data": {
      "text/plain": [
       "array([<matplotlib.axes._subplots.AxesSubplot object at 0x7fcb65d0e6d0>,\n",
       "       <matplotlib.axes._subplots.AxesSubplot object at 0x7fcb65d1da00>,\n",
       "       <matplotlib.axes._subplots.AxesSubplot object at 0x7fcb65d26850>],\n",
       "      dtype=object)"
      ]
     },
     "execution_count": 16,
     "metadata": {},
     "output_type": "execute_result"
    },
    {
     "data": {
      "image/png": "[encoded data removed]",
      "text/plain": [
       "<Figure size 1080x1080 with 3 Axes>"
      ]
     },
     "metadata": {},
     "output_type": "display_data"
    }
   ],
   "source": [
    "result_summary_df[\n",
    "    [\"rolling_mean_new_cases\", \"tek_count\", \"new_tek_count\"]].sort_index(ascending=True).plot.bar(\n",
    "    rot=45, subplots=True, figsize=(15, 15))"
   ]
  },
  {
   "cell_type": "code",
   "execution_count": 17,
   "metadata": {
    "execution": {
     "iopub.execute_input": "2020-08-30T01:32:12.959726Z",
     "iopub.status.busy": "2020-08-30T01:32:12.959259Z",
     "iopub.status.idle": "2020-08-30T01:32:13.113326Z",
     "shell.execute_reply": "2020-08-30T01:32:13.113892Z"
    },
    "papermill": {
     "duration": 0.183978,
     "end_time": "2020-08-30T01:32:13.114010",
     "exception": false,
     "start_time": "2020-08-30T01:32:12.930032",
     "status": "completed"
    },
    "tags": []
   },
   "outputs": [
    {
     "data": {
      "image/png": "[encoded data removed]",
      "text/plain": [
       "<Figure size 1080x360 with 1 Axes>"
      ]
     },
     "metadata": {},
     "output_type": "display_data"
    }
   ],
   "source": [
    "import matplotlib.ticker as mtick\n",
    "\n",
    "ax = result_summary_df[\n",
    "    [\"new_tek_count_per_new_case\"]].sort_index(ascending=True).plot.bar(\n",
    "    rot=45, figsize=(15, 5))\n",
    "ax.yaxis.set_major_formatter(mtick.PercentFormatter(1.0))"
   ]
  },
  {
   "cell_type": "code",
   "execution_count": null,
   "metadata": {
    "papermill": {
     "duration": 0.021183,
     "end_time": "2020-08-30T01:32:13.158017",
     "exception": false,
     "start_time": "2020-08-30T01:32:13.136834",
     "status": "completed"
    },
    "tags": []
   },
   "outputs": [],
   "source": []
  }
 ],
 "metadata": {
  "kernelspec": {
   "display_name": "Python 3",
   "language": "python",
   "name": "python3"
  },
  "language_info": {
   "codemirror_mode": {
    "name": "ipython",
    "version": 3
   },
   "file_extension": ".py",
   "mimetype": "text/x-python",
   "name": "python",
   "nbconvert_exporter": "python",
   "pygments_lexer": "ipython3",
   "version": "3.7.7"
  },
  "papermill": {
   "duration": 4.955759,
   "end_time": "2020-08-30T01:32:13.484412",
   "environment_variables": {},
   "exception": null,
   "input_path": "RadarCOVID-Report.ipynb",
   "output_path": "RadarCOVID-Report.ipynb",
   "parameters": {},
   "start_time": "2020-08-30T01:32:08.528653",
   "version": "2.1.3"
  }
 },
 "nbformat": 4,
 "nbformat_minor": 1
}
