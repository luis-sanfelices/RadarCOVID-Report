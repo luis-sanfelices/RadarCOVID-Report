{
 "cells": [
  {
   "cell_type": "markdown",
   "metadata": {
    "papermill": {
     "duration": 0.009591,
     "end_time": "2020-08-29T22:16:18.727326",
     "exception": false,
     "start_time": "2020-08-29T22:16:18.717735",
     "status": "completed"
    },
    "pycharm": {
     "name": "#%% md\n"
    },
    "tags": []
   },
   "source": [
    "# RadarCOVID-Report"
   ]
  },
  {
   "cell_type": "code",
   "execution_count": 1,
   "metadata": {
    "execution": {
     "iopub.execute_input": "2020-08-29T22:16:18.748700Z",
     "iopub.status.busy": "2020-08-29T22:16:18.748194Z",
     "iopub.status.idle": "2020-08-29T22:16:21.547846Z",
     "shell.execute_reply": "2020-08-29T22:16:21.547353Z"
    },
    "papermill": {
     "duration": 2.812536,
     "end_time": "2020-08-29T22:16:21.548013",
     "exception": false,
     "start_time": "2020-08-29T22:16:18.735477",
     "status": "completed"
    },
    "tags": []
   },
   "outputs": [],
   "source": [
    "import matplotlib\n",
    "import pandas as pd\n",
    "import seaborn as sns\n",
    "\n",
    "%matplotlib inline"
   ]
  },
  {
   "cell_type": "code",
   "execution_count": 2,
   "metadata": {
    "execution": {
     "iopub.execute_input": "2020-08-29T22:16:21.568513Z",
     "iopub.status.busy": "2020-08-29T22:16:21.567841Z",
     "iopub.status.idle": "2020-08-29T22:16:21.570207Z",
     "shell.execute_reply": "2020-08-29T22:16:21.569785Z"
    },
    "papermill": {
     "duration": 0.014324,
     "end_time": "2020-08-29T22:16:21.570324",
     "exception": false,
     "start_time": "2020-08-29T22:16:21.556000",
     "status": "completed"
    },
    "tags": []
   },
   "outputs": [],
   "source": [
    "sns.set()\n",
    "matplotlib.rcParams['figure.figsize'] = (15, 6)"
   ]
  },
  {
   "cell_type": "markdown",
   "metadata": {
    "collapsed": true,
    "papermill": {
     "duration": 0.007101,
     "end_time": "2020-08-29T22:16:21.584114",
     "exception": false,
     "start_time": "2020-08-29T22:16:21.577013",
     "status": "completed"
    },
    "pycharm": {
     "name": "#%% md\n"
    },
    "tags": []
   },
   "source": [
    "## COVID-19 Cases"
   ]
  },
  {
   "cell_type": "code",
   "execution_count": 3,
   "metadata": {
    "execution": {
     "iopub.execute_input": "2020-08-29T22:16:21.607666Z",
     "iopub.status.busy": "2020-08-29T22:16:21.607158Z",
     "iopub.status.idle": "2020-08-29T22:16:21.944459Z",
     "shell.execute_reply": "2020-08-29T22:16:21.944883Z"
    },
    "papermill": {
     "duration": 0.353646,
     "end_time": "2020-08-29T22:16:21.945031",
     "exception": false,
     "start_time": "2020-08-29T22:16:21.591385",
     "status": "completed"
    },
    "pycharm": {
     "name": "#%%\n"
    },
    "tags": []
   },
   "outputs": [
    {
     "data": {
      "text/html": [
       "<div>\n",
       "<style scoped>\n",
       "    .dataframe tbody tr th:only-of-type {\n",
       "        vertical-align: middle;\n",
       "    }\n",
       "\n",
       "    .dataframe tbody tr th {\n",
       "        vertical-align: top;\n",
       "    }\n",
       "\n",
       "    .dataframe thead th {\n",
       "        text-align: right;\n",
       "    }\n",
       "</style>\n",
       "<table border=\"1\" class=\"dataframe\">\n",
       "  <thead>\n",
       "    <tr style=\"text-align: right;\">\n",
       "      <th></th>\n",
       "      <th>sample_date_string</th>\n",
       "      <th>cumulative_cases</th>\n",
       "      <th>new_cases</th>\n",
       "      <th>rolling_mean_new_cases</th>\n",
       "    </tr>\n",
       "  </thead>\n",
       "  <tbody>\n",
       "    <tr>\n",
       "      <th>0</th>\n",
       "      <td>2020-01-23</td>\n",
       "      <td>0.0</td>\n",
       "      <td>NaN</td>\n",
       "      <td>NaN</td>\n",
       "    </tr>\n",
       "    <tr>\n",
       "      <th>1</th>\n",
       "      <td>2020-01-24</td>\n",
       "      <td>0.0</td>\n",
       "      <td>0.0</td>\n",
       "      <td>NaN</td>\n",
       "    </tr>\n",
       "    <tr>\n",
       "      <th>2</th>\n",
       "      <td>2020-01-25</td>\n",
       "      <td>0.0</td>\n",
       "      <td>0.0</td>\n",
       "      <td>NaN</td>\n",
       "    </tr>\n",
       "    <tr>\n",
       "      <th>3</th>\n",
       "      <td>2020-01-26</td>\n",
       "      <td>0.0</td>\n",
       "      <td>0.0</td>\n",
       "      <td>NaN</td>\n",
       "    </tr>\n",
       "    <tr>\n",
       "      <th>4</th>\n",
       "      <td>2020-01-27</td>\n",
       "      <td>0.0</td>\n",
       "      <td>0.0</td>\n",
       "      <td>NaN</td>\n",
       "    </tr>\n",
       "  </tbody>\n",
       "</table>\n",
       "</div>"
      ],
      "text/plain": [
       "  sample_date_string  cumulative_cases  new_cases  rolling_mean_new_cases\n",
       "0         2020-01-23               0.0        NaN                     NaN\n",
       "1         2020-01-24               0.0        0.0                     NaN\n",
       "2         2020-01-25               0.0        0.0                     NaN\n",
       "3         2020-01-26               0.0        0.0                     NaN\n",
       "4         2020-01-27               0.0        0.0                     NaN"
      ]
     },
     "execution_count": 3,
     "metadata": {},
     "output_type": "execute_result"
    }
   ],
   "source": [
    "confirmed_df = pd.read_csv(\"https://covid19tracking.narrativa.com/csv/confirmed.csv\")\n",
    "confirmed_df = confirmed_df[confirmed_df[\"Country_EN\"] == \"Spain\"]\n",
    "confirmed_df = confirmed_df[pd.isna(confirmed_df[\"Region\"])]\n",
    "confirmed_df.drop(columns=[\"Country_EN\", \"Country_ES\", \"Country_IT\", \"Region\"], inplace=True)\n",
    "confirmed_df = confirmed_df.transpose()\n",
    "confirmed_df.reset_index(inplace=True)\n",
    "confirmed_df.columns = [\"sample_date_string\", \"cumulative_cases\"]\n",
    "confirmed_df[\"new_cases\"] = confirmed_df.cumulative_cases.diff()\n",
    "confirmed_df[\"rolling_mean_new_cases\"] = confirmed_df.new_cases.rolling(7).mean()\n",
    "confirmed_df.head()"
   ]
  },
  {
   "cell_type": "code",
   "execution_count": 4,
   "metadata": {
    "execution": {
     "iopub.execute_input": "2020-08-29T22:16:21.969904Z",
     "iopub.status.busy": "2020-08-29T22:16:21.969331Z",
     "iopub.status.idle": "2020-08-29T22:16:22.165162Z",
     "shell.execute_reply": "2020-08-29T22:16:22.165587Z"
    },
    "papermill": {
     "duration": 0.212565,
     "end_time": "2020-08-29T22:16:22.165747",
     "exception": false,
     "start_time": "2020-08-29T22:16:21.953182",
     "status": "completed"
    },
    "pycharm": {
     "name": "#%%\n"
    },
    "tags": []
   },
   "outputs": [
    {
     "data": {
      "text/plain": [
       "<matplotlib.axes._subplots.AxesSubplot at 0x7fc7d70c4070>"
      ]
     },
     "execution_count": 4,
     "metadata": {},
     "output_type": "execute_result"
    },
    {
     "data": {
      "image/png": "[encoded data removed]",
      "text/plain": [
       "<Figure size 1080x432 with 1 Axes>"
      ]
     },
     "metadata": {},
     "output_type": "display_data"
    }
   ],
   "source": [
    "confirmed_df[[\"new_cases\", \"rolling_mean_new_cases\"]].plot()"
   ]
  },
  {
   "cell_type": "markdown",
   "metadata": {
    "papermill": {
     "duration": 0.010258,
     "end_time": "2020-08-29T22:16:22.186056",
     "exception": false,
     "start_time": "2020-08-29T22:16:22.175798",
     "status": "completed"
    },
    "tags": []
   },
   "source": [
    "## RadarCOVID TEKs Extraction"
   ]
  },
  {
   "cell_type": "code",
   "execution_count": 5,
   "metadata": {
    "execution": {
     "iopub.execute_input": "2020-08-29T22:16:22.210781Z",
     "iopub.status.busy": "2020-08-29T22:16:22.209254Z",
     "iopub.status.idle": "2020-08-29T22:16:28.850715Z",
     "shell.execute_reply": "2020-08-29T22:16:28.850059Z"
    },
    "papermill": {
     "duration": 6.655006,
     "end_time": "2020-08-29T22:16:28.850851",
     "exception": false,
     "start_time": "2020-08-29T22:16:22.195845",
     "status": "completed"
    },
    "pycharm": {
     "name": "#%%\n"
    },
    "tags": []
   },
   "outputs": [
    {
     "name": "stderr",
     "output_type": "stream",
     "text": [
      "WARNING:root:NoDataFoundForDateException(\"No exposed tokens found for day '2020-08-29'.\")\n"
     ]
    },
    {
     "name": "stderr",
     "output_type": "stream",
     "text": [
      "WARNING:root:NoDataFoundForDateException(\"No exposed tokens found for day '2020-08-18'.\")\n"
     ]
    },
    {
     "name": "stderr",
     "output_type": "stream",
     "text": [
      "WARNING:root:NoDataFoundForDateException(\"No exposed tokens found for day '2020-08-17'.\")\n"
     ]
    },
    {
     "name": "stderr",
     "output_type": "stream",
     "text": [
      "WARNING:root:NoDataFoundForDateException(\"No exposed tokens found for day '2020-08-16'.\")\n"
     ]
    },
    {
     "name": "stderr",
     "output_type": "stream",
     "text": [
      "WARNING:root:NoDataFoundForDateException(\"No exposed tokens found for day '2020-08-15'.\")\n"
     ]
    },
    {
     "name": "stderr",
     "output_type": "stream",
     "text": [
      "WARNING:root:NoDataFoundForDateException(\"No exposed tokens found for day '2020-08-14'.\")\n"
     ]
    },
    {
     "name": "stderr",
     "output_type": "stream",
     "text": [
      "WARNING:root:NoDataFoundForDateException(\"No exposed tokens found for day '2020-08-13'.\")\n"
     ]
    },
    {
     "name": "stderr",
     "output_type": "stream",
     "text": [
      "WARNING:root:NoDataFoundForDateException(\"No exposed tokens found for day '2020-08-12'.\")\n"
     ]
    },
    {
     "name": "stderr",
     "output_type": "stream",
     "text": [
      "WARNING:root:NoDataFoundForDateException(\"No exposed tokens found for day '2020-08-11'.\")\n"
     ]
    },
    {
     "name": "stderr",
     "output_type": "stream",
     "text": [
      "WARNING:root:NoDataFoundForDateException(\"No exposed tokens found for day '2020-08-10'.\")\n"
     ]
    },
    {
     "name": "stderr",
     "output_type": "stream",
     "text": [
      "WARNING:root:NoDataFoundForDateException(\"No exposed tokens found for day '2020-08-09'.\")\n"
     ]
    },
    {
     "name": "stderr",
     "output_type": "stream",
     "text": [
      "WARNING:root:NoDataFoundForDateException(\"No exposed tokens found for day '2020-08-08'.\")\n"
     ]
    },
    {
     "name": "stderr",
     "output_type": "stream",
     "text": [
      "WARNING:root:NoDataFoundForDateException(\"No exposed tokens found for day '2020-08-07'.\")\n"
     ]
    },
    {
     "name": "stderr",
     "output_type": "stream",
     "text": [
      "WARNING:root:NoDataFoundForDateException(\"No exposed tokens found for day '2020-08-06'.\")\n"
     ]
    },
    {
     "name": "stderr",
     "output_type": "stream",
     "text": [
      "WARNING:root:NoDataFoundForDateException(\"No exposed tokens found for day '2020-08-05'.\")\n"
     ]
    },
    {
     "name": "stderr",
     "output_type": "stream",
     "text": [
      "WARNING:root:NoDataFoundForDateException(\"No exposed tokens found for day '2020-08-04'.\")\n"
     ]
    },
    {
     "name": "stderr",
     "output_type": "stream",
     "text": [
      "WARNING:root:NoDataFoundForDateException(\"No exposed tokens found for day '2020-08-03'.\")\n"
     ]
    },
    {
     "name": "stderr",
     "output_type": "stream",
     "text": [
      "WARNING:root:NoDataFoundForDateException(\"No exposed tokens found for day '2020-08-02'.\")\n"
     ]
    },
    {
     "name": "stderr",
     "output_type": "stream",
     "text": [
      "WARNING:root:NoDataFoundForDateException(\"No exposed tokens found for day '2020-08-01'.\")\n"
     ]
    },
    {
     "name": "stderr",
     "output_type": "stream",
     "text": [
      "WARNING:root:NoDataFoundForDateException(\"No exposed tokens found for day '2020-07-31'.\")\n"
     ]
    },
    {
     "data": {
      "text/html": [
       "<div>\n",
       "<style scoped>\n",
       "    .dataframe tbody tr th:only-of-type {\n",
       "        vertical-align: middle;\n",
       "    }\n",
       "\n",
       "    .dataframe tbody tr th {\n",
       "        vertical-align: top;\n",
       "    }\n",
       "\n",
       "    .dataframe thead th {\n",
       "        text-align: right;\n",
       "    }\n",
       "</style>\n",
       "<table border=\"1\" class=\"dataframe\">\n",
       "  <thead>\n",
       "    <tr style=\"text-align: right;\">\n",
       "      <th></th>\n",
       "      <th>sample_date_string</th>\n",
       "      <th>source_url</th>\n",
       "      <th>region</th>\n",
       "      <th>key_data</th>\n",
       "    </tr>\n",
       "  </thead>\n",
       "  <tbody>\n",
       "    <tr>\n",
       "      <th>0</th>\n",
       "      <td>2020-08-28</td>\n",
       "      <td>https://radarcovid.covid19.gob.es/dp3t/v1/gaen...</td>\n",
       "      <td>ES</td>\n",
       "      <td>757936ab-531c-4872-1d83-ce7a8d135211</td>\n",
       "    </tr>\n",
       "    <tr>\n",
       "      <th>1</th>\n",
       "      <td>2020-08-28</td>\n",
       "      <td>https://radarcovid.covid19.gob.es/dp3t/v1/gaen...</td>\n",
       "      <td>ES</td>\n",
       "      <td>51d5fc97-3caf-8410-8fa2-f25f48547962</td>\n",
       "    </tr>\n",
       "    <tr>\n",
       "      <th>2</th>\n",
       "      <td>2020-08-28</td>\n",
       "      <td>https://radarcovid.covid19.gob.es/dp3t/v1/gaen...</td>\n",
       "      <td>ES</td>\n",
       "      <td>c314cde8-5365-8949-88e7-7ed2d1602fef</td>\n",
       "    </tr>\n",
       "    <tr>\n",
       "      <th>3</th>\n",
       "      <td>2020-08-28</td>\n",
       "      <td>https://radarcovid.covid19.gob.es/dp3t/v1/gaen...</td>\n",
       "      <td>ES</td>\n",
       "      <td>64531b2a-2054-c820-39e2-20fa21283d2c</td>\n",
       "    </tr>\n",
       "    <tr>\n",
       "      <th>4</th>\n",
       "      <td>2020-08-28</td>\n",
       "      <td>https://radarcovid.covid19.gob.es/dp3t/v1/gaen...</td>\n",
       "      <td>ES</td>\n",
       "      <td>e91b1672-ca72-87d7-099e-782e945728b0</td>\n",
       "    </tr>\n",
       "  </tbody>\n",
       "</table>\n",
       "</div>"
      ],
      "text/plain": [
       "  sample_date_string                                         source_url  \\\n",
       "0         2020-08-28  https://radarcovid.covid19.gob.es/dp3t/v1/gaen...   \n",
       "1         2020-08-28  https://radarcovid.covid19.gob.es/dp3t/v1/gaen...   \n",
       "2         2020-08-28  https://radarcovid.covid19.gob.es/dp3t/v1/gaen...   \n",
       "3         2020-08-28  https://radarcovid.covid19.gob.es/dp3t/v1/gaen...   \n",
       "4         2020-08-28  https://radarcovid.covid19.gob.es/dp3t/v1/gaen...   \n",
       "\n",
       "  region                              key_data  \n",
       "0     ES  757936ab-531c-4872-1d83-ce7a8d135211  \n",
       "1     ES  51d5fc97-3caf-8410-8fa2-f25f48547962  \n",
       "2     ES  c314cde8-5365-8949-88e7-7ed2d1602fef  \n",
       "3     ES  64531b2a-2054-c820-39e2-20fa21283d2c  \n",
       "4     ES  e91b1672-ca72-87d7-099e-782e945728b0  "
      ]
     },
     "execution_count": 5,
     "metadata": {},
     "output_type": "execute_result"
    }
   ],
   "source": [
    "from Modules.RadarCOVID import radar_covid\n",
    "\n",
    "exposure_keys_df = radar_covid.download_last_radar_covid_exposure_keys(days=30)\n",
    "exposure_keys_df[[\n",
    "    \"sample_date_string\", \"source_url\", \"region\", \"key_data\"]].head()"
   ]
  },
  {
   "cell_type": "code",
   "execution_count": 6,
   "metadata": {
    "execution": {
     "iopub.execute_input": "2020-08-29T22:16:28.889377Z",
     "iopub.status.busy": "2020-08-29T22:16:28.888325Z",
     "iopub.status.idle": "2020-08-29T22:16:28.897712Z",
     "shell.execute_reply": "2020-08-29T22:16:28.898163Z"
    },
    "papermill": {
     "duration": 0.032128,
     "end_time": "2020-08-29T22:16:28.898327",
     "exception": false,
     "start_time": "2020-08-29T22:16:28.866199",
     "status": "completed"
    },
    "pycharm": {
     "name": "#%%\n"
    },
    "tags": []
   },
   "outputs": [
    {
     "data": {
      "text/html": [
       "<div>\n",
       "<style scoped>\n",
       "    .dataframe tbody tr th:only-of-type {\n",
       "        vertical-align: middle;\n",
       "    }\n",
       "\n",
       "    .dataframe tbody tr th {\n",
       "        vertical-align: top;\n",
       "    }\n",
       "\n",
       "    .dataframe thead th {\n",
       "        text-align: right;\n",
       "    }\n",
       "</style>\n",
       "<table border=\"1\" class=\"dataframe\">\n",
       "  <thead>\n",
       "    <tr style=\"text-align: right;\">\n",
       "      <th></th>\n",
       "      <th>tek_count</th>\n",
       "      <th>approximate_tek_devices</th>\n",
       "    </tr>\n",
       "    <tr>\n",
       "      <th>sample_date_string</th>\n",
       "      <th></th>\n",
       "      <th></th>\n",
       "    </tr>\n",
       "  </thead>\n",
       "  <tbody>\n",
       "    <tr>\n",
       "      <th>2020-08-28</th>\n",
       "      <td>27</td>\n",
       "      <td>1.928571</td>\n",
       "    </tr>\n",
       "    <tr>\n",
       "      <th>2020-08-27</th>\n",
       "      <td>53</td>\n",
       "      <td>3.785714</td>\n",
       "    </tr>\n",
       "    <tr>\n",
       "      <th>2020-08-26</th>\n",
       "      <td>66</td>\n",
       "      <td>4.714286</td>\n",
       "    </tr>\n",
       "    <tr>\n",
       "      <th>2020-08-25</th>\n",
       "      <td>56</td>\n",
       "      <td>4.000000</td>\n",
       "    </tr>\n",
       "    <tr>\n",
       "      <th>2020-08-24</th>\n",
       "      <td>48</td>\n",
       "      <td>3.428571</td>\n",
       "    </tr>\n",
       "  </tbody>\n",
       "</table>\n",
       "</div>"
      ],
      "text/plain": [
       "                    tek_count  approximate_tek_devices\n",
       "sample_date_string                                    \n",
       "2020-08-28                 27                 1.928571\n",
       "2020-08-27                 53                 3.785714\n",
       "2020-08-26                 66                 4.714286\n",
       "2020-08-25                 56                 4.000000\n",
       "2020-08-24                 48                 3.428571"
      ]
     },
     "execution_count": 6,
     "metadata": {},
     "output_type": "execute_result"
    }
   ],
   "source": [
    "exposure_keys_summary_df = \\\n",
    "    exposure_keys_df.groupby([\"sample_date_string\"]).key_data.nunique().to_frame()\n",
    "exposure_keys_summary_df.sort_index(ascending=False, inplace=True)\n",
    "exposure_keys_summary_df.rename(columns={\"key_data\": \"tek_count\"}, inplace=True)\n",
    "\n",
    "# We should expect 14 TEKs (one per sample day) for infected devices but the real value may be lower:\n",
    "exposure_keys_summary_df[\"approximate_tek_devices\"] = exposure_keys_summary_df.tek_count / 14.0\n",
    "\n",
    "exposure_keys_summary_df.head()"
   ]
  },
  {
   "cell_type": "code",
   "execution_count": 7,
   "metadata": {
    "execution": {
     "iopub.execute_input": "2020-08-29T22:16:28.952794Z",
     "iopub.status.busy": "2020-08-29T22:16:28.940439Z",
     "iopub.status.idle": "2020-08-29T22:16:28.954925Z",
     "shell.execute_reply": "2020-08-29T22:16:28.955334Z"
    },
    "papermill": {
     "duration": 0.038593,
     "end_time": "2020-08-29T22:16:28.955479",
     "exception": false,
     "start_time": "2020-08-29T22:16:28.916886",
     "status": "completed"
    },
    "pycharm": {
     "name": "#%%\n"
    },
    "tags": []
   },
   "outputs": [
    {
     "data": {
      "text/html": [
       "<div>\n",
       "<style scoped>\n",
       "    .dataframe tbody tr th:only-of-type {\n",
       "        vertical-align: middle;\n",
       "    }\n",
       "\n",
       "    .dataframe tbody tr th {\n",
       "        vertical-align: top;\n",
       "    }\n",
       "\n",
       "    .dataframe thead th {\n",
       "        text-align: right;\n",
       "    }\n",
       "</style>\n",
       "<table border=\"1\" class=\"dataframe\">\n",
       "  <thead>\n",
       "    <tr style=\"text-align: right;\">\n",
       "      <th></th>\n",
       "      <th>sample_date_string</th>\n",
       "      <th>tek_count</th>\n",
       "      <th>approximate_tek_devices</th>\n",
       "      <th>cumulative_cases</th>\n",
       "      <th>new_cases</th>\n",
       "      <th>rolling_mean_new_cases</th>\n",
       "      <th>tek_count_per_case</th>\n",
       "      <th>approximate_tek_devices_per_case</th>\n",
       "    </tr>\n",
       "  </thead>\n",
       "  <tbody>\n",
       "    <tr>\n",
       "      <th>0</th>\n",
       "      <td>2020-08-28</td>\n",
       "      <td>27</td>\n",
       "      <td>1.928571</td>\n",
       "      <td>439286.0</td>\n",
       "      <td>9779.0</td>\n",
       "      <td>7604.571429</td>\n",
       "      <td>0.003550</td>\n",
       "      <td>0.000254</td>\n",
       "    </tr>\n",
       "    <tr>\n",
       "      <th>1</th>\n",
       "      <td>2020-08-27</td>\n",
       "      <td>53</td>\n",
       "      <td>3.785714</td>\n",
       "      <td>429507.0</td>\n",
       "      <td>9658.0</td>\n",
       "      <td>7371.571429</td>\n",
       "      <td>0.007190</td>\n",
       "      <td>0.000514</td>\n",
       "    </tr>\n",
       "    <tr>\n",
       "      <th>2</th>\n",
       "      <td>2020-08-26</td>\n",
       "      <td>66</td>\n",
       "      <td>4.714286</td>\n",
       "      <td>419849.0</td>\n",
       "      <td>7296.0</td>\n",
       "      <td>6997.428571</td>\n",
       "      <td>0.009432</td>\n",
       "      <td>0.000674</td>\n",
       "    </tr>\n",
       "    <tr>\n",
       "      <th>3</th>\n",
       "      <td>2020-08-25</td>\n",
       "      <td>56</td>\n",
       "      <td>4.000000</td>\n",
       "      <td>412553.0</td>\n",
       "      <td>7117.0</td>\n",
       "      <td>6908.142857</td>\n",
       "      <td>0.008106</td>\n",
       "      <td>0.000579</td>\n",
       "    </tr>\n",
       "    <tr>\n",
       "      <th>4</th>\n",
       "      <td>2020-08-24</td>\n",
       "      <td>48</td>\n",
       "      <td>3.428571</td>\n",
       "      <td>405436.0</td>\n",
       "      <td>19382.0</td>\n",
       "      <td>6622.000000</td>\n",
       "      <td>0.007249</td>\n",
       "      <td>0.000518</td>\n",
       "    </tr>\n",
       "  </tbody>\n",
       "</table>\n",
       "</div>"
      ],
      "text/plain": [
       "  sample_date_string  tek_count  approximate_tek_devices  cumulative_cases  \\\n",
       "0         2020-08-28         27                 1.928571          439286.0   \n",
       "1         2020-08-27         53                 3.785714          429507.0   \n",
       "2         2020-08-26         66                 4.714286          419849.0   \n",
       "3         2020-08-25         56                 4.000000          412553.0   \n",
       "4         2020-08-24         48                 3.428571          405436.0   \n",
       "\n",
       "   new_cases  rolling_mean_new_cases  tek_count_per_case  \\\n",
       "0     9779.0             7604.571429            0.003550   \n",
       "1     9658.0             7371.571429            0.007190   \n",
       "2     7296.0             6997.428571            0.009432   \n",
       "3     7117.0             6908.142857            0.008106   \n",
       "4    19382.0             6622.000000            0.007249   \n",
       "\n",
       "   approximate_tek_devices_per_case  \n",
       "0                          0.000254  \n",
       "1                          0.000514  \n",
       "2                          0.000674  \n",
       "3                          0.000579  \n",
       "4                          0.000518  "
      ]
     },
     "execution_count": 7,
     "metadata": {},
     "output_type": "execute_result"
    }
   ],
   "source": [
    "exposure_keys_summary_df = exposure_keys_summary_df.merge(confirmed_df, on=[\"sample_date_string\"], how=\"inner\")\n",
    "exposure_keys_summary_df[\"tek_count_per_case\"] = \\\n",
    "    exposure_keys_summary_df.tek_count / exposure_keys_summary_df.rolling_mean_new_cases\n",
    "exposure_keys_summary_df[\"approximate_tek_devices_per_case\"] = \\\n",
    "    exposure_keys_summary_df.approximate_tek_devices / exposure_keys_summary_df.rolling_mean_new_cases\n",
    "exposure_keys_summary_df.head()"
   ]
  },
  {
   "cell_type": "code",
   "execution_count": 8,
   "metadata": {
    "execution": {
     "iopub.execute_input": "2020-08-29T22:16:28.996557Z",
     "iopub.status.busy": "2020-08-29T22:16:28.995464Z",
     "iopub.status.idle": "2020-08-29T22:16:28.997526Z",
     "shell.execute_reply": "2020-08-29T22:16:28.998287Z"
    },
    "papermill": {
     "duration": 0.026919,
     "end_time": "2020-08-29T22:16:28.998461",
     "exception": false,
     "start_time": "2020-08-29T22:16:28.971542",
     "status": "completed"
    },
    "pycharm": {
     "name": "#%%\n"
    },
    "tags": []
   },
   "outputs": [],
   "source": [
    "exposure_keys_summary_df[\"sample_date\"] = pd.to_datetime(exposure_keys_summary_df.sample_date_string)\n",
    "exposure_keys_summary_df.set_index(\"sample_date\", inplace=True)"
   ]
  },
  {
   "cell_type": "markdown",
   "metadata": {
    "papermill": {
     "duration": 0.017388,
     "end_time": "2020-08-29T22:16:29.031011",
     "exception": false,
     "start_time": "2020-08-29T22:16:29.013623",
     "status": "completed"
    },
    "tags": []
   },
   "source": [
    "## Results"
   ]
  },
  {
   "cell_type": "code",
   "execution_count": 9,
   "metadata": {
    "execution": {
     "iopub.execute_input": "2020-08-29T22:16:29.085498Z",
     "iopub.status.busy": "2020-08-29T22:16:29.084871Z",
     "iopub.status.idle": "2020-08-29T22:16:29.088313Z",
     "shell.execute_reply": "2020-08-29T22:16:29.087834Z"
    },
    "papermill": {
     "duration": 0.038809,
     "end_time": "2020-08-29T22:16:29.088441",
     "exception": false,
     "start_time": "2020-08-29T22:16:29.049632",
     "status": "completed"
    },
    "pycharm": {
     "name": "#%%\n"
    },
    "tags": []
   },
   "outputs": [
    {
     "data": {
      "text/html": [
       "<div>\n",
       "<style scoped>\n",
       "    .dataframe tbody tr th:only-of-type {\n",
       "        vertical-align: middle;\n",
       "    }\n",
       "\n",
       "    .dataframe tbody tr th {\n",
       "        vertical-align: top;\n",
       "    }\n",
       "\n",
       "    .dataframe thead th {\n",
       "        text-align: right;\n",
       "    }\n",
       "</style>\n",
       "<table border=\"1\" class=\"dataframe\">\n",
       "  <thead>\n",
       "    <tr style=\"text-align: right;\">\n",
       "      <th></th>\n",
       "      <th>tek_count</th>\n",
       "      <th>approximate_tek_devices</th>\n",
       "      <th>new_cases</th>\n",
       "      <th>rolling_mean_new_cases</th>\n",
       "      <th>tek_count_per_case</th>\n",
       "      <th>approximate_tek_devices_per_case</th>\n",
       "    </tr>\n",
       "    <tr>\n",
       "      <th>sample_date</th>\n",
       "      <th></th>\n",
       "      <th></th>\n",
       "      <th></th>\n",
       "      <th></th>\n",
       "      <th></th>\n",
       "      <th></th>\n",
       "    </tr>\n",
       "  </thead>\n",
       "  <tbody>\n",
       "    <tr>\n",
       "      <th>2020-08-28</th>\n",
       "      <td>27</td>\n",
       "      <td>1.928571</td>\n",
       "      <td>9779.0</td>\n",
       "      <td>7604.571429</td>\n",
       "      <td>0.003550</td>\n",
       "      <td>0.000254</td>\n",
       "    </tr>\n",
       "    <tr>\n",
       "      <th>2020-08-27</th>\n",
       "      <td>53</td>\n",
       "      <td>3.785714</td>\n",
       "      <td>9658.0</td>\n",
       "      <td>7371.571429</td>\n",
       "      <td>0.007190</td>\n",
       "      <td>0.000514</td>\n",
       "    </tr>\n",
       "    <tr>\n",
       "      <th>2020-08-26</th>\n",
       "      <td>66</td>\n",
       "      <td>4.714286</td>\n",
       "      <td>7296.0</td>\n",
       "      <td>6997.428571</td>\n",
       "      <td>0.009432</td>\n",
       "      <td>0.000674</td>\n",
       "    </tr>\n",
       "    <tr>\n",
       "      <th>2020-08-25</th>\n",
       "      <td>56</td>\n",
       "      <td>4.000000</td>\n",
       "      <td>7117.0</td>\n",
       "      <td>6908.142857</td>\n",
       "      <td>0.008106</td>\n",
       "      <td>0.000579</td>\n",
       "    </tr>\n",
       "    <tr>\n",
       "      <th>2020-08-24</th>\n",
       "      <td>48</td>\n",
       "      <td>3.428571</td>\n",
       "      <td>19382.0</td>\n",
       "      <td>6622.000000</td>\n",
       "      <td>0.007249</td>\n",
       "      <td>0.000518</td>\n",
       "    </tr>\n",
       "    <tr>\n",
       "      <th>2020-08-23</th>\n",
       "      <td>28</td>\n",
       "      <td>2.000000</td>\n",
       "      <td>0.0</td>\n",
       "      <td>6177.285714</td>\n",
       "      <td>0.004533</td>\n",
       "      <td>0.000324</td>\n",
       "    </tr>\n",
       "    <tr>\n",
       "      <th>2020-08-22</th>\n",
       "      <td>18</td>\n",
       "      <td>1.285714</td>\n",
       "      <td>0.0</td>\n",
       "      <td>6177.285714</td>\n",
       "      <td>0.002914</td>\n",
       "      <td>0.000208</td>\n",
       "    </tr>\n",
       "    <tr>\n",
       "      <th>2020-08-21</th>\n",
       "      <td>11</td>\n",
       "      <td>0.785714</td>\n",
       "      <td>8148.0</td>\n",
       "      <td>6177.285714</td>\n",
       "      <td>0.001781</td>\n",
       "      <td>0.000127</td>\n",
       "    </tr>\n",
       "    <tr>\n",
       "      <th>2020-08-20</th>\n",
       "      <td>4</td>\n",
       "      <td>0.285714</td>\n",
       "      <td>7039.0</td>\n",
       "      <td>5796.000000</td>\n",
       "      <td>0.000690</td>\n",
       "      <td>0.000049</td>\n",
       "    </tr>\n",
       "    <tr>\n",
       "      <th>2020-08-19</th>\n",
       "      <td>1</td>\n",
       "      <td>0.071429</td>\n",
       "      <td>6671.0</td>\n",
       "      <td>5869.000000</td>\n",
       "      <td>0.000170</td>\n",
       "      <td>0.000012</td>\n",
       "    </tr>\n",
       "  </tbody>\n",
       "</table>\n",
       "</div>"
      ],
      "text/plain": [
       "             tek_count  approximate_tek_devices  new_cases  \\\n",
       "sample_date                                                  \n",
       "2020-08-28          27                 1.928571     9779.0   \n",
       "2020-08-27          53                 3.785714     9658.0   \n",
       "2020-08-26          66                 4.714286     7296.0   \n",
       "2020-08-25          56                 4.000000     7117.0   \n",
       "2020-08-24          48                 3.428571    19382.0   \n",
       "2020-08-23          28                 2.000000        0.0   \n",
       "2020-08-22          18                 1.285714        0.0   \n",
       "2020-08-21          11                 0.785714     8148.0   \n",
       "2020-08-20           4                 0.285714     7039.0   \n",
       "2020-08-19           1                 0.071429     6671.0   \n",
       "\n",
       "             rolling_mean_new_cases  tek_count_per_case  \\\n",
       "sample_date                                               \n",
       "2020-08-28              7604.571429            0.003550   \n",
       "2020-08-27              7371.571429            0.007190   \n",
       "2020-08-26              6997.428571            0.009432   \n",
       "2020-08-25              6908.142857            0.008106   \n",
       "2020-08-24              6622.000000            0.007249   \n",
       "2020-08-23              6177.285714            0.004533   \n",
       "2020-08-22              6177.285714            0.002914   \n",
       "2020-08-21              6177.285714            0.001781   \n",
       "2020-08-20              5796.000000            0.000690   \n",
       "2020-08-19              5869.000000            0.000170   \n",
       "\n",
       "             approximate_tek_devices_per_case  \n",
       "sample_date                                    \n",
       "2020-08-28                           0.000254  \n",
       "2020-08-27                           0.000514  \n",
       "2020-08-26                           0.000674  \n",
       "2020-08-25                           0.000579  \n",
       "2020-08-24                           0.000518  \n",
       "2020-08-23                           0.000324  \n",
       "2020-08-22                           0.000208  \n",
       "2020-08-21                           0.000127  \n",
       "2020-08-20                           0.000049  \n",
       "2020-08-19                           0.000012  "
      ]
     },
     "execution_count": 9,
     "metadata": {},
     "output_type": "execute_result"
    }
   ],
   "source": [
    "exposure_keys_summary_df[[\n",
    "    \"tek_count\",\n",
    "    \"approximate_tek_devices\",\n",
    "    \"new_cases\",\n",
    "    \"rolling_mean_new_cases\",\n",
    "    \"tek_count_per_case\",\n",
    "    \"approximate_tek_devices_per_case\"]]"
   ]
  },
  {
   "cell_type": "code",
   "execution_count": 10,
   "metadata": {
    "execution": {
     "iopub.execute_input": "2020-08-29T22:16:29.136048Z",
     "iopub.status.busy": "2020-08-29T22:16:29.135499Z",
     "iopub.status.idle": "2020-08-29T22:16:29.320665Z",
     "shell.execute_reply": "2020-08-29T22:16:29.321376Z"
    },
    "papermill": {
     "duration": 0.212604,
     "end_time": "2020-08-29T22:16:29.321538",
     "exception": false,
     "start_time": "2020-08-29T22:16:29.108934",
     "status": "completed"
    },
    "pycharm": {
     "name": "#%%\n"
    },
    "tags": []
   },
   "outputs": [
    {
     "data": {
      "text/plain": [
       "<matplotlib.axes._subplots.AxesSubplot at 0x7fc7d3aaea90>"
      ]
     },
     "execution_count": 10,
     "metadata": {},
     "output_type": "execute_result"
    },
    {
     "data": {
      "image/png": "[encoded data removed]",
      "text/plain": [
       "<Figure size 1080x432 with 1 Axes>"
      ]
     },
     "metadata": {},
     "output_type": "display_data"
    }
   ],
   "source": [
    "exposure_keys_summary_df[[\"tek_count\"]].plot()"
   ]
  },
  {
   "cell_type": "code",
   "execution_count": 11,
   "metadata": {
    "execution": {
     "iopub.execute_input": "2020-08-29T22:16:29.374892Z",
     "iopub.status.busy": "2020-08-29T22:16:29.374352Z",
     "iopub.status.idle": "2020-08-29T22:16:29.547421Z",
     "shell.execute_reply": "2020-08-29T22:16:29.548117Z"
    },
    "papermill": {
     "duration": 0.208716,
     "end_time": "2020-08-29T22:16:29.548269",
     "exception": false,
     "start_time": "2020-08-29T22:16:29.339553",
     "status": "completed"
    },
    "pycharm": {
     "name": "#%%\n"
    },
    "tags": []
   },
   "outputs": [
    {
     "data": {
      "text/plain": [
       "<matplotlib.axes._subplots.AxesSubplot at 0x7fc7d3a22d00>"
      ]
     },
     "execution_count": 11,
     "metadata": {},
     "output_type": "execute_result"
    },
    {
     "data": {
      "image/png": "[encoded data removed]",
      "text/plain": [
       "<Figure size 1080x432 with 1 Axes>"
      ]
     },
     "metadata": {},
     "output_type": "display_data"
    }
   ],
   "source": [
    "exposure_keys_summary_df[[\"rolling_mean_new_cases\"]].plot()"
   ]
  },
  {
   "cell_type": "code",
   "execution_count": null,
   "metadata": {
    "papermill": {
     "duration": 0.017605,
     "end_time": "2020-08-29T22:16:29.584948",
     "exception": false,
     "start_time": "2020-08-29T22:16:29.567343",
     "status": "completed"
    },
    "tags": []
   },
   "outputs": [],
   "source": []
  }
 ],
 "metadata": {
  "kernelspec": {
   "display_name": "Python 3",
   "language": "python",
   "name": "python3"
  },
  "language_info": {
   "codemirror_mode": {
    "name": "ipython",
    "version": 3
   },
   "file_extension": ".py",
   "mimetype": "text/x-python",
   "name": "python",
   "nbconvert_exporter": "python",
   "pygments_lexer": "ipython3",
   "version": "3.8.5"
  },
  "papermill": {
   "duration": 12.19754,
   "end_time": "2020-08-29T22:16:30.013100",
   "environment_variables": {},
   "exception": null,
   "input_path": "RadarCOVID-Report.ipynb",
   "output_path": "RadarCOVID-Report.ipynb",
   "parameters": {},
   "start_time": "2020-08-29T22:16:17.815560",
   "version": "2.1.3"
  }
 },
 "nbformat": 4,
 "nbformat_minor": 1
}