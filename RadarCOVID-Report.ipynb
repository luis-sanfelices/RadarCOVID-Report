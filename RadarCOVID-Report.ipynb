{
 "cells": [
  {
   "cell_type": "markdown",
   "metadata": {
    "papermill": {
     "duration": 0.016457,
     "end_time": "2020-08-30T04:15:09.008464",
     "exception": false,
     "start_time": "2020-08-30T04:15:08.992007",
     "status": "completed"
    },
    "pycharm": {
     "name": "#%% md\n"
    },
    "tags": []
   },
   "source": [
    "# RadarCOVID-Report"
   ]
  },
  {
   "cell_type": "code",
   "execution_count": 1,
   "metadata": {
    "execution": {
     "iopub.execute_input": "2020-08-30T04:15:09.042514Z",
     "iopub.status.busy": "2020-08-30T04:15:09.041819Z",
     "iopub.status.idle": "2020-08-30T04:15:12.305054Z",
     "shell.execute_reply": "2020-08-30T04:15:12.304422Z"
    },
    "papermill": {
     "duration": 3.28205,
     "end_time": "2020-08-30T04:15:12.305225",
     "exception": false,
     "start_time": "2020-08-30T04:15:09.023175",
     "status": "completed"
    },
    "tags": []
   },
   "outputs": [],
   "source": [
    "import matplotlib\n",
    "import pandas as pd\n",
    "import seaborn as sns\n",
    "\n",
    "%matplotlib inline"
   ]
  },
  {
   "cell_type": "code",
   "execution_count": 2,
   "metadata": {
    "execution": {
     "iopub.execute_input": "2020-08-30T04:15:12.344241Z",
     "iopub.status.busy": "2020-08-30T04:15:12.343180Z",
     "iopub.status.idle": "2020-08-30T04:15:12.345031Z",
     "shell.execute_reply": "2020-08-30T04:15:12.345632Z"
    },
    "papermill": {
     "duration": 0.022152,
     "end_time": "2020-08-30T04:15:12.345813",
     "exception": false,
     "start_time": "2020-08-30T04:15:12.323661",
     "status": "completed"
    },
    "tags": []
   },
   "outputs": [],
   "source": [
    "sns.set()\n",
    "matplotlib.rcParams['figure.figsize'] = (15, 6)"
   ]
  },
  {
   "cell_type": "markdown",
   "metadata": {
    "collapsed": true,
    "papermill": {
     "duration": 0.013568,
     "end_time": "2020-08-30T04:15:12.372829",
     "exception": false,
     "start_time": "2020-08-30T04:15:12.359261",
     "status": "completed"
    },
    "pycharm": {
     "name": "#%% md\n"
    },
    "tags": []
   },
   "source": [
    "## COVID-19 Cases"
   ]
  },
  {
   "cell_type": "code",
   "execution_count": 3,
   "metadata": {
    "execution": {
     "iopub.execute_input": "2020-08-30T04:15:12.409123Z",
     "iopub.status.busy": "2020-08-30T04:15:12.408427Z",
     "iopub.status.idle": "2020-08-30T04:15:13.273810Z",
     "shell.execute_reply": "2020-08-30T04:15:13.273236Z"
    },
    "papermill": {
     "duration": 0.88604,
     "end_time": "2020-08-30T04:15:13.273961",
     "exception": false,
     "start_time": "2020-08-30T04:15:12.387921",
     "status": "completed"
    },
    "pycharm": {
     "name": "#%%\n"
    },
    "tags": []
   },
   "outputs": [
    {
     "data": {
      "text/html": [
       "<div>\n",
       "<style scoped>\n",
       "    .dataframe tbody tr th:only-of-type {\n",
       "        vertical-align: middle;\n",
       "    }\n",
       "\n",
       "    .dataframe tbody tr th {\n",
       "        vertical-align: top;\n",
       "    }\n",
       "\n",
       "    .dataframe thead th {\n",
       "        text-align: right;\n",
       "    }\n",
       "</style>\n",
       "<table border=\"1\" class=\"dataframe\">\n",
       "  <thead>\n",
       "    <tr style=\"text-align: right;\">\n",
       "      <th></th>\n",
       "      <th>sample_date_string</th>\n",
       "      <th>cumulative_cases</th>\n",
       "      <th>new_cases</th>\n",
       "      <th>rolling_mean_new_cases</th>\n",
       "    </tr>\n",
       "  </thead>\n",
       "  <tbody>\n",
       "    <tr>\n",
       "      <th>0</th>\n",
       "      <td>2020-01-23</td>\n",
       "      <td>0.0</td>\n",
       "      <td>NaN</td>\n",
       "      <td>NaN</td>\n",
       "    </tr>\n",
       "    <tr>\n",
       "      <th>1</th>\n",
       "      <td>2020-01-24</td>\n",
       "      <td>0.0</td>\n",
       "      <td>0.0</td>\n",
       "      <td>NaN</td>\n",
       "    </tr>\n",
       "    <tr>\n",
       "      <th>2</th>\n",
       "      <td>2020-01-25</td>\n",
       "      <td>0.0</td>\n",
       "      <td>0.0</td>\n",
       "      <td>NaN</td>\n",
       "    </tr>\n",
       "    <tr>\n",
       "      <th>3</th>\n",
       "      <td>2020-01-26</td>\n",
       "      <td>0.0</td>\n",
       "      <td>0.0</td>\n",
       "      <td>NaN</td>\n",
       "    </tr>\n",
       "    <tr>\n",
       "      <th>4</th>\n",
       "      <td>2020-01-27</td>\n",
       "      <td>0.0</td>\n",
       "      <td>0.0</td>\n",
       "      <td>NaN</td>\n",
       "    </tr>\n",
       "  </tbody>\n",
       "</table>\n",
       "</div>"
      ],
      "text/plain": [
       "  sample_date_string  cumulative_cases  new_cases  rolling_mean_new_cases\n",
       "0         2020-01-23               0.0        NaN                     NaN\n",
       "1         2020-01-24               0.0        0.0                     NaN\n",
       "2         2020-01-25               0.0        0.0                     NaN\n",
       "3         2020-01-26               0.0        0.0                     NaN\n",
       "4         2020-01-27               0.0        0.0                     NaN"
      ]
     },
     "execution_count": 3,
     "metadata": {},
     "output_type": "execute_result"
    }
   ],
   "source": [
    "confirmed_df = pd.read_csv(\"https://covid19tracking.narrativa.com/csv/confirmed.csv\")\n",
    "confirmed_df = confirmed_df[confirmed_df[\"Country_EN\"] == \"Spain\"]\n",
    "confirmed_df = confirmed_df[pd.isna(confirmed_df[\"Region\"])]\n",
    "confirmed_df.drop(columns=[\"Country_EN\", \"Country_ES\", \"Country_IT\", \"Region\"], inplace=True)\n",
    "confirmed_df = confirmed_df.transpose()\n",
    "confirmed_df.reset_index(inplace=True)\n",
    "confirmed_df.columns = [\"sample_date_string\", \"cumulative_cases\"]\n",
    "confirmed_df[\"new_cases\"] = confirmed_df.cumulative_cases.diff()\n",
    "confirmed_df[\"rolling_mean_new_cases\"] = confirmed_df.new_cases.rolling(7).mean()\n",
    "confirmed_df.head()"
   ]
  },
  {
   "cell_type": "code",
   "execution_count": 4,
   "metadata": {
    "execution": {
     "iopub.execute_input": "2020-08-30T04:15:13.310521Z",
     "iopub.status.busy": "2020-08-30T04:15:13.309738Z",
     "iopub.status.idle": "2020-08-30T04:15:13.556651Z",
     "shell.execute_reply": "2020-08-30T04:15:13.557148Z"
    },
    "papermill": {
     "duration": 0.269104,
     "end_time": "2020-08-30T04:15:13.557337",
     "exception": false,
     "start_time": "2020-08-30T04:15:13.288233",
     "status": "completed"
    },
    "pycharm": {
     "name": "#%%\n"
    },
    "tags": []
   },
   "outputs": [
    {
     "data": {
      "text/plain": [
       "<matplotlib.axes._subplots.AxesSubplot at 0x7f5a202a79a0>"
      ]
     },
     "execution_count": 4,
     "metadata": {},
     "output_type": "execute_result"
    },
    {
     "data": {
      "image/png": "[encoded data removed]",
      "text/plain": [
       "<Figure size 1080x432 with 1 Axes>"
      ]
     },
     "metadata": {},
     "output_type": "display_data"
    }
   ],
   "source": [
    "confirmed_df[[\"new_cases\", \"rolling_mean_new_cases\"]].plot()"
   ]
  },
  {
   "cell_type": "markdown",
   "metadata": {
    "papermill": {
     "duration": 0.016436,
     "end_time": "2020-08-30T04:15:13.589984",
     "exception": false,
     "start_time": "2020-08-30T04:15:13.573548",
     "status": "completed"
    },
    "tags": []
   },
   "source": [
    "## RadarCOVID TEKs Extraction"
   ]
  },
  {
   "cell_type": "code",
   "execution_count": 5,
   "metadata": {
    "execution": {
     "iopub.execute_input": "2020-08-30T04:15:13.629034Z",
     "iopub.status.busy": "2020-08-30T04:15:13.628365Z",
     "iopub.status.idle": "2020-08-30T04:15:15.721930Z",
     "shell.execute_reply": "2020-08-30T04:15:15.722797Z"
    },
    "papermill": {
     "duration": 2.116948,
     "end_time": "2020-08-30T04:15:15.722992",
     "exception": false,
     "start_time": "2020-08-30T04:15:13.606044",
     "status": "completed"
    },
    "pycharm": {
     "name": "#%%\n"
    },
    "tags": []
   },
   "outputs": [
    {
     "name": "stderr",
     "output_type": "stream",
     "text": [
      "WARNING:root:NoDataFoundForDateException(\"No exposed tokens found for day '2020-08-30'.\")\n"
     ]
    },
    {
     "name": "stderr",
     "output_type": "stream",
     "text": [
      "WARNING:root:NoDataFoundForDateException(\"No exposed tokens found for day '2020-08-18'.\")\n"
     ]
    },
    {
     "name": "stderr",
     "output_type": "stream",
     "text": [
      "WARNING:root:NoDataFoundForDateException(\"No exposed tokens found for day '2020-08-17'.\")\n"
     ]
    },
    {
     "data": {
      "text/html": [
       "<div>\n",
       "<style scoped>\n",
       "    .dataframe tbody tr th:only-of-type {\n",
       "        vertical-align: middle;\n",
       "    }\n",
       "\n",
       "    .dataframe tbody tr th {\n",
       "        vertical-align: top;\n",
       "    }\n",
       "\n",
       "    .dataframe thead th {\n",
       "        text-align: right;\n",
       "    }\n",
       "</style>\n",
       "<table border=\"1\" class=\"dataframe\">\n",
       "  <thead>\n",
       "    <tr style=\"text-align: right;\">\n",
       "      <th></th>\n",
       "      <th>sample_date_string</th>\n",
       "      <th>source_url</th>\n",
       "      <th>region</th>\n",
       "      <th>key_data</th>\n",
       "    </tr>\n",
       "  </thead>\n",
       "  <tbody>\n",
       "    <tr>\n",
       "      <th>0</th>\n",
       "      <td>2020-08-29</td>\n",
       "      <td>https://radarcovid.covid19.gob.es/dp3t/v1/gaen...</td>\n",
       "      <td>ES</td>\n",
       "      <td>43943f8d-4696-3507-3b8d-b7a59c9b533a</td>\n",
       "    </tr>\n",
       "    <tr>\n",
       "      <th>1</th>\n",
       "      <td>2020-08-29</td>\n",
       "      <td>https://radarcovid.covid19.gob.es/dp3t/v1/gaen...</td>\n",
       "      <td>ES</td>\n",
       "      <td>d0c5f063-05e0-89a1-adb9-9f9e2880645a</td>\n",
       "    </tr>\n",
       "    <tr>\n",
       "      <th>2</th>\n",
       "      <td>2020-08-29</td>\n",
       "      <td>https://radarcovid.covid19.gob.es/dp3t/v1/gaen...</td>\n",
       "      <td>ES</td>\n",
       "      <td>4f66bce5-0b8b-7e47-06b0-5dc6404157a3</td>\n",
       "    </tr>\n",
       "    <tr>\n",
       "      <th>3</th>\n",
       "      <td>2020-08-29</td>\n",
       "      <td>https://radarcovid.covid19.gob.es/dp3t/v1/gaen...</td>\n",
       "      <td>ES</td>\n",
       "      <td>4e267513-5b60-ddf7-e80f-ad2d501ba135</td>\n",
       "    </tr>\n",
       "    <tr>\n",
       "      <th>4</th>\n",
       "      <td>2020-08-29</td>\n",
       "      <td>https://radarcovid.covid19.gob.es/dp3t/v1/gaen...</td>\n",
       "      <td>ES</td>\n",
       "      <td>72f3a304-67f6-104a-e08b-866136acf442</td>\n",
       "    </tr>\n",
       "  </tbody>\n",
       "</table>\n",
       "</div>"
      ],
      "text/plain": [
       "  sample_date_string                                         source_url  \\\n",
       "0         2020-08-29  https://radarcovid.covid19.gob.es/dp3t/v1/gaen...   \n",
       "1         2020-08-29  https://radarcovid.covid19.gob.es/dp3t/v1/gaen...   \n",
       "2         2020-08-29  https://radarcovid.covid19.gob.es/dp3t/v1/gaen...   \n",
       "3         2020-08-29  https://radarcovid.covid19.gob.es/dp3t/v1/gaen...   \n",
       "4         2020-08-29  https://radarcovid.covid19.gob.es/dp3t/v1/gaen...   \n",
       "\n",
       "  region                              key_data  \n",
       "0     ES  43943f8d-4696-3507-3b8d-b7a59c9b533a  \n",
       "1     ES  d0c5f063-05e0-89a1-adb9-9f9e2880645a  \n",
       "2     ES  4f66bce5-0b8b-7e47-06b0-5dc6404157a3  \n",
       "3     ES  4e267513-5b60-ddf7-e80f-ad2d501ba135  \n",
       "4     ES  72f3a304-67f6-104a-e08b-866136acf442  "
      ]
     },
     "execution_count": 5,
     "metadata": {},
     "output_type": "execute_result"
    }
   ],
   "source": [
    "from Modules.RadarCOVID import radar_covid\n",
    "\n",
    "exposure_keys_df = radar_covid.download_last_radar_covid_exposure_keys(days=14)\n",
    "exposure_keys_df[[\n",
    "    \"sample_date_string\", \"source_url\", \"region\", \"key_data\"]].head()"
   ]
  },
  {
   "cell_type": "code",
   "execution_count": 6,
   "metadata": {
    "execution": {
     "iopub.execute_input": "2020-08-30T04:15:15.770574Z",
     "iopub.status.busy": "2020-08-30T04:15:15.764768Z",
     "iopub.status.idle": "2020-08-30T04:15:15.774154Z",
     "shell.execute_reply": "2020-08-30T04:15:15.773629Z"
    },
    "papermill": {
     "duration": 0.033592,
     "end_time": "2020-08-30T04:15:15.774302",
     "exception": false,
     "start_time": "2020-08-30T04:15:15.740710",
     "status": "completed"
    },
    "pycharm": {
     "name": "#%%\n"
    },
    "tags": []
   },
   "outputs": [
    {
     "data": {
      "text/html": [
       "<div>\n",
       "<style scoped>\n",
       "    .dataframe tbody tr th:only-of-type {\n",
       "        vertical-align: middle;\n",
       "    }\n",
       "\n",
       "    .dataframe tbody tr th {\n",
       "        vertical-align: top;\n",
       "    }\n",
       "\n",
       "    .dataframe thead th {\n",
       "        text-align: right;\n",
       "    }\n",
       "</style>\n",
       "<table border=\"1\" class=\"dataframe\">\n",
       "  <thead>\n",
       "    <tr style=\"text-align: right;\">\n",
       "      <th></th>\n",
       "      <th>tek_count</th>\n",
       "    </tr>\n",
       "    <tr>\n",
       "      <th>sample_date_string</th>\n",
       "      <th></th>\n",
       "    </tr>\n",
       "  </thead>\n",
       "  <tbody>\n",
       "    <tr>\n",
       "      <th>2020-08-29</th>\n",
       "      <td>10</td>\n",
       "    </tr>\n",
       "    <tr>\n",
       "      <th>2020-08-28</th>\n",
       "      <td>27</td>\n",
       "    </tr>\n",
       "    <tr>\n",
       "      <th>2020-08-27</th>\n",
       "      <td>53</td>\n",
       "    </tr>\n",
       "    <tr>\n",
       "      <th>2020-08-26</th>\n",
       "      <td>66</td>\n",
       "    </tr>\n",
       "    <tr>\n",
       "      <th>2020-08-25</th>\n",
       "      <td>56</td>\n",
       "    </tr>\n",
       "  </tbody>\n",
       "</table>\n",
       "</div>"
      ],
      "text/plain": [
       "                    tek_count\n",
       "sample_date_string           \n",
       "2020-08-29                 10\n",
       "2020-08-28                 27\n",
       "2020-08-27                 53\n",
       "2020-08-26                 66\n",
       "2020-08-25                 56"
      ]
     },
     "execution_count": 6,
     "metadata": {},
     "output_type": "execute_result"
    }
   ],
   "source": [
    "exposure_keys_summary_df = \\\n",
    "    exposure_keys_df.groupby([\"sample_date_string\"]).key_data.nunique().to_frame()\n",
    "exposure_keys_summary_df.sort_index(ascending=False, inplace=True)\n",
    "exposure_keys_summary_df.rename(columns={\"key_data\": \"tek_count\"}, inplace=True)\n",
    "exposure_keys_summary_df.head()"
   ]
  },
  {
   "cell_type": "markdown",
   "metadata": {
    "papermill": {
     "duration": 0.017773,
     "end_time": "2020-08-30T04:15:15.809731",
     "exception": false,
     "start_time": "2020-08-30T04:15:15.791958",
     "status": "completed"
    },
    "tags": []
   },
   "source": [
    "## RadarCOVID TEKs Dump"
   ]
  },
  {
   "cell_type": "code",
   "execution_count": 7,
   "metadata": {
    "execution": {
     "iopub.execute_input": "2020-08-30T04:15:15.858935Z",
     "iopub.status.busy": "2020-08-30T04:15:15.858277Z",
     "iopub.status.idle": "2020-08-30T04:15:15.878194Z",
     "shell.execute_reply": "2020-08-30T04:15:15.877629Z"
    },
    "papermill": {
     "duration": 0.051106,
     "end_time": "2020-08-30T04:15:15.878344",
     "exception": false,
     "start_time": "2020-08-30T04:15:15.827238",
     "status": "completed"
    },
    "scrolled": false,
    "tags": []
   },
   "outputs": [
    {
     "data": {
      "text/html": [
       "<div>\n",
       "<style scoped>\n",
       "    .dataframe tbody tr th:only-of-type {\n",
       "        vertical-align: middle;\n",
       "    }\n",
       "\n",
       "    .dataframe tbody tr th {\n",
       "        vertical-align: top;\n",
       "    }\n",
       "\n",
       "    .dataframe thead th {\n",
       "        text-align: right;\n",
       "    }\n",
       "</style>\n",
       "<table border=\"1\" class=\"dataframe\">\n",
       "  <thead>\n",
       "    <tr style=\"text-align: right;\">\n",
       "      <th></th>\n",
       "      <th>sample_date</th>\n",
       "      <th>tek_list</th>\n",
       "      <th>extraction_date</th>\n",
       "    </tr>\n",
       "  </thead>\n",
       "  <tbody>\n",
       "    <tr>\n",
       "      <th>0</th>\n",
       "      <td>2020-08-19</td>\n",
       "      <td>[645572b7-c0e2-97bc-9bcb-7107fb5eb1bc]</td>\n",
       "      <td>2020-08-30</td>\n",
       "    </tr>\n",
       "    <tr>\n",
       "      <th>1</th>\n",
       "      <td>2020-08-20</td>\n",
       "      <td>[5c4885a2-5c65-d6aa-8eed-7d607f106647, e6c3ca3...</td>\n",
       "      <td>2020-08-30</td>\n",
       "    </tr>\n",
       "    <tr>\n",
       "      <th>2</th>\n",
       "      <td>2020-08-21</td>\n",
       "      <td>[53c82402-7f1c-e203-7abc-593dc3a8a9fe, fd16f69...</td>\n",
       "      <td>2020-08-30</td>\n",
       "    </tr>\n",
       "    <tr>\n",
       "      <th>3</th>\n",
       "      <td>2020-08-22</td>\n",
       "      <td>[316fcc1d-9bdb-69ae-b997-70b5b4ca1d74, 33b23da...</td>\n",
       "      <td>2020-08-30</td>\n",
       "    </tr>\n",
       "    <tr>\n",
       "      <th>4</th>\n",
       "      <td>2020-08-23</td>\n",
       "      <td>[3dda2de2-fc66-33b9-cf6b-c7b85f8683d5, c0a53a0...</td>\n",
       "      <td>2020-08-30</td>\n",
       "    </tr>\n",
       "    <tr>\n",
       "      <th>5</th>\n",
       "      <td>2020-08-24</td>\n",
       "      <td>[b040f48d-d3f9-6518-2b3d-24037d185437, bbc28f7...</td>\n",
       "      <td>2020-08-30</td>\n",
       "    </tr>\n",
       "    <tr>\n",
       "      <th>6</th>\n",
       "      <td>2020-08-25</td>\n",
       "      <td>[88699284-d221-d821-76a9-6cd7b79f869c, 8ee3c02...</td>\n",
       "      <td>2020-08-30</td>\n",
       "    </tr>\n",
       "    <tr>\n",
       "      <th>7</th>\n",
       "      <td>2020-08-26</td>\n",
       "      <td>[9ab2c4e3-d548-15b0-4c69-ac2087f2e7ef, 6bda721...</td>\n",
       "      <td>2020-08-30</td>\n",
       "    </tr>\n",
       "    <tr>\n",
       "      <th>8</th>\n",
       "      <td>2020-08-27</td>\n",
       "      <td>[6e8eb4ae-d7cc-2dfe-9709-58c6de6aa724, 62d0ecb...</td>\n",
       "      <td>2020-08-30</td>\n",
       "    </tr>\n",
       "    <tr>\n",
       "      <th>9</th>\n",
       "      <td>2020-08-28</td>\n",
       "      <td>[757936ab-531c-4872-1d83-ce7a8d135211, 51d5fc9...</td>\n",
       "      <td>2020-08-30</td>\n",
       "    </tr>\n",
       "    <tr>\n",
       "      <th>10</th>\n",
       "      <td>2020-08-29</td>\n",
       "      <td>[43943f8d-4696-3507-3b8d-b7a59c9b533a, d0c5f06...</td>\n",
       "      <td>2020-08-30</td>\n",
       "    </tr>\n",
       "  </tbody>\n",
       "</table>\n",
       "</div>"
      ],
      "text/plain": [
       "   sample_date                                           tek_list  \\\n",
       "0   2020-08-19             [645572b7-c0e2-97bc-9bcb-7107fb5eb1bc]   \n",
       "1   2020-08-20  [5c4885a2-5c65-d6aa-8eed-7d607f106647, e6c3ca3...   \n",
       "2   2020-08-21  [53c82402-7f1c-e203-7abc-593dc3a8a9fe, fd16f69...   \n",
       "3   2020-08-22  [316fcc1d-9bdb-69ae-b997-70b5b4ca1d74, 33b23da...   \n",
       "4   2020-08-23  [3dda2de2-fc66-33b9-cf6b-c7b85f8683d5, c0a53a0...   \n",
       "5   2020-08-24  [b040f48d-d3f9-6518-2b3d-24037d185437, bbc28f7...   \n",
       "6   2020-08-25  [88699284-d221-d821-76a9-6cd7b79f869c, 8ee3c02...   \n",
       "7   2020-08-26  [9ab2c4e3-d548-15b0-4c69-ac2087f2e7ef, 6bda721...   \n",
       "8   2020-08-27  [6e8eb4ae-d7cc-2dfe-9709-58c6de6aa724, 62d0ecb...   \n",
       "9   2020-08-28  [757936ab-531c-4872-1d83-ce7a8d135211, 51d5fc9...   \n",
       "10  2020-08-29  [43943f8d-4696-3507-3b8d-b7a59c9b533a, d0c5f06...   \n",
       "\n",
       "   extraction_date  \n",
       "0       2020-08-30  \n",
       "1       2020-08-30  \n",
       "2       2020-08-30  \n",
       "3       2020-08-30  \n",
       "4       2020-08-30  \n",
       "5       2020-08-30  \n",
       "6       2020-08-30  \n",
       "7       2020-08-30  \n",
       "8       2020-08-30  \n",
       "9       2020-08-30  \n",
       "10      2020-08-30  "
      ]
     },
     "execution_count": 7,
     "metadata": {},
     "output_type": "execute_result"
    }
   ],
   "source": [
    "import datetime\n",
    "\n",
    "extraction_date = datetime.datetime.utcnow().strftime(\"%Y-%m-%d\")\n",
    "tek_list_df = exposure_keys_df[[\"sample_date_string\", \"key_data\"]].copy()\n",
    "tek_list_df[\"key_data\"] = tek_list_df[\"key_data\"].apply(str)\n",
    "tek_list_df.rename(columns={\n",
    "    \"sample_date_string\": \"sample_date\",\n",
    "    \"key_data\": \"tek_list\"}, inplace=True)\n",
    "tek_list_df = tek_list_df.groupby(\n",
    "    \"sample_date\").tek_list.unique().reset_index()\n",
    "tek_list_df[\"extraction_date\"] = extraction_date\n",
    "tek_list_df.to_json(\n",
    "    \"Data/RadarCOVID-Report-\" + extraction_date + \".json\",\n",
    "    lines=True, orient=\"records\")\n",
    "tek_list_df"
   ]
  },
  {
   "cell_type": "markdown",
   "metadata": {
    "papermill": {
     "duration": 0.017763,
     "end_time": "2020-08-30T04:15:15.914637",
     "exception": false,
     "start_time": "2020-08-30T04:15:15.896874",
     "status": "completed"
    },
    "tags": []
   },
   "source": [
    "## RadarCOVID New TEKs"
   ]
  },
  {
   "cell_type": "code",
   "execution_count": 8,
   "metadata": {
    "execution": {
     "iopub.execute_input": "2020-08-30T04:15:15.955675Z",
     "iopub.status.busy": "2020-08-30T04:15:15.955027Z",
     "iopub.status.idle": "2020-08-30T04:15:15.974996Z",
     "shell.execute_reply": "2020-08-30T04:15:15.974477Z"
    },
    "papermill": {
     "duration": 0.043115,
     "end_time": "2020-08-30T04:15:15.975143",
     "exception": false,
     "start_time": "2020-08-30T04:15:15.932028",
     "status": "completed"
    },
    "tags": []
   },
   "outputs": [
    {
     "data": {
      "text/html": [
       "<div>\n",
       "<style scoped>\n",
       "    .dataframe tbody tr th:only-of-type {\n",
       "        vertical-align: middle;\n",
       "    }\n",
       "\n",
       "    .dataframe tbody tr th {\n",
       "        vertical-align: top;\n",
       "    }\n",
       "\n",
       "    .dataframe thead th {\n",
       "        text-align: right;\n",
       "    }\n",
       "</style>\n",
       "<table border=\"1\" class=\"dataframe\">\n",
       "  <thead>\n",
       "    <tr style=\"text-align: right;\">\n",
       "      <th></th>\n",
       "      <th>sample_date</th>\n",
       "      <th>tek_list</th>\n",
       "      <th>extraction_date</th>\n",
       "    </tr>\n",
       "  </thead>\n",
       "  <tbody>\n",
       "    <tr>\n",
       "      <th>0</th>\n",
       "      <td>2020-08-19</td>\n",
       "      <td>[645572b7-c0e2-97bc-9bcb-7107fb5eb1bc]</td>\n",
       "      <td>2020-08-29</td>\n",
       "    </tr>\n",
       "    <tr>\n",
       "      <th>1</th>\n",
       "      <td>2020-08-20</td>\n",
       "      <td>[5c4885a2-5c65-d6aa-8eed-7d607f106647, e6c3ca3...</td>\n",
       "      <td>2020-08-29</td>\n",
       "    </tr>\n",
       "    <tr>\n",
       "      <th>2</th>\n",
       "      <td>2020-08-21</td>\n",
       "      <td>[53c82402-7f1c-e203-7abc-593dc3a8a9fe, fd16f69...</td>\n",
       "      <td>2020-08-29</td>\n",
       "    </tr>\n",
       "    <tr>\n",
       "      <th>3</th>\n",
       "      <td>2020-08-22</td>\n",
       "      <td>[316fcc1d-9bdb-69ae-b997-70b5b4ca1d74, 33b23da...</td>\n",
       "      <td>2020-08-29</td>\n",
       "    </tr>\n",
       "    <tr>\n",
       "      <th>4</th>\n",
       "      <td>2020-08-23</td>\n",
       "      <td>[3dda2de2-fc66-33b9-cf6b-c7b85f8683d5, c0a53a0...</td>\n",
       "      <td>2020-08-29</td>\n",
       "    </tr>\n",
       "  </tbody>\n",
       "</table>\n",
       "</div>"
      ],
      "text/plain": [
       "  sample_date                                           tek_list  \\\n",
       "0  2020-08-19             [645572b7-c0e2-97bc-9bcb-7107fb5eb1bc]   \n",
       "1  2020-08-20  [5c4885a2-5c65-d6aa-8eed-7d607f106647, e6c3ca3...   \n",
       "2  2020-08-21  [53c82402-7f1c-e203-7abc-593dc3a8a9fe, fd16f69...   \n",
       "3  2020-08-22  [316fcc1d-9bdb-69ae-b997-70b5b4ca1d74, 33b23da...   \n",
       "4  2020-08-23  [3dda2de2-fc66-33b9-cf6b-c7b85f8683d5, c0a53a0...   \n",
       "\n",
       "  extraction_date  \n",
       "0      2020-08-29  \n",
       "1      2020-08-29  \n",
       "2      2020-08-29  \n",
       "3      2020-08-29  \n",
       "4      2020-08-29  "
      ]
     },
     "execution_count": 8,
     "metadata": {},
     "output_type": "execute_result"
    }
   ],
   "source": [
    "import glob\n",
    "\n",
    "tek_list_df = pd.DataFrame()\n",
    "\n",
    "for path in glob.glob(\"Data/RadarCOVID-Report-*.json\"):\n",
    "    extraction_tek_list_df = pd.read_json(path, lines=True)\n",
    "    tek_list_df = tek_list_df.append(extraction_tek_list_df, sort=False)\n",
    "    \n",
    "tek_list_df.head()"
   ]
  },
  {
   "cell_type": "code",
   "execution_count": 9,
   "metadata": {
    "execution": {
     "iopub.execute_input": "2020-08-30T04:15:16.025582Z",
     "iopub.status.busy": "2020-08-30T04:15:16.024863Z",
     "iopub.status.idle": "2020-08-30T04:15:16.027678Z",
     "shell.execute_reply": "2020-08-30T04:15:16.028203Z"
    },
    "papermill": {
     "duration": 0.035484,
     "end_time": "2020-08-30T04:15:16.028394",
     "exception": false,
     "start_time": "2020-08-30T04:15:15.992910",
     "status": "completed"
    },
    "tags": []
   },
   "outputs": [
    {
     "data": {
      "text/html": [
       "<div>\n",
       "<style scoped>\n",
       "    .dataframe tbody tr th:only-of-type {\n",
       "        vertical-align: middle;\n",
       "    }\n",
       "\n",
       "    .dataframe tbody tr th {\n",
       "        vertical-align: top;\n",
       "    }\n",
       "\n",
       "    .dataframe thead th {\n",
       "        text-align: right;\n",
       "    }\n",
       "</style>\n",
       "<table border=\"1\" class=\"dataframe\">\n",
       "  <thead>\n",
       "    <tr style=\"text-align: right;\">\n",
       "      <th></th>\n",
       "      <th>tek_list</th>\n",
       "    </tr>\n",
       "    <tr>\n",
       "      <th>extraction_date</th>\n",
       "      <th></th>\n",
       "    </tr>\n",
       "  </thead>\n",
       "  <tbody>\n",
       "    <tr>\n",
       "      <th>2020-08-29</th>\n",
       "      <td>{26638f6c-1c05-5c2a-178f-5c6dc97ffa74, fdd5e4d...</td>\n",
       "    </tr>\n",
       "    <tr>\n",
       "      <th>2020-08-30</th>\n",
       "      <td>{26638f6c-1c05-5c2a-178f-5c6dc97ffa74, fdd5e4d...</td>\n",
       "    </tr>\n",
       "  </tbody>\n",
       "</table>\n",
       "</div>"
      ],
      "text/plain": [
       "                                                          tek_list\n",
       "extraction_date                                                   \n",
       "2020-08-29       {26638f6c-1c05-5c2a-178f-5c6dc97ffa74, fdd5e4d...\n",
       "2020-08-30       {26638f6c-1c05-5c2a-178f-5c6dc97ffa74, fdd5e4d..."
      ]
     },
     "execution_count": 9,
     "metadata": {},
     "output_type": "execute_result"
    }
   ],
   "source": [
    "tek_list_df = tek_list_df.groupby(\"extraction_date\").tek_list.apply(lambda x: set(sum(x, []))).reset_index()\n",
    "tek_list_df = tek_list_df.set_index(\"extraction_date\").sort_index(ascending=True)\n",
    "tek_list_df.head()"
   ]
  },
  {
   "cell_type": "code",
   "execution_count": 10,
   "metadata": {
    "execution": {
     "iopub.execute_input": "2020-08-30T04:15:16.081260Z",
     "iopub.status.busy": "2020-08-30T04:15:16.080392Z",
     "iopub.status.idle": "2020-08-30T04:15:16.083571Z",
     "shell.execute_reply": "2020-08-30T04:15:16.084268Z"
    },
    "papermill": {
     "duration": 0.036778,
     "end_time": "2020-08-30T04:15:16.084510",
     "exception": false,
     "start_time": "2020-08-30T04:15:16.047732",
     "status": "completed"
    },
    "tags": []
   },
   "outputs": [
    {
     "data": {
      "text/html": [
       "<div>\n",
       "<style scoped>\n",
       "    .dataframe tbody tr th:only-of-type {\n",
       "        vertical-align: middle;\n",
       "    }\n",
       "\n",
       "    .dataframe tbody tr th {\n",
       "        vertical-align: top;\n",
       "    }\n",
       "\n",
       "    .dataframe thead th {\n",
       "        text-align: right;\n",
       "    }\n",
       "</style>\n",
       "<table border=\"1\" class=\"dataframe\">\n",
       "  <thead>\n",
       "    <tr style=\"text-align: right;\">\n",
       "      <th></th>\n",
       "      <th>sample_date_string</th>\n",
       "      <th>new_tek_count</th>\n",
       "    </tr>\n",
       "  </thead>\n",
       "  <tbody>\n",
       "    <tr>\n",
       "      <th>0</th>\n",
       "      <td>2020-08-29</td>\n",
       "      <td>NaN</td>\n",
       "    </tr>\n",
       "    <tr>\n",
       "      <th>1</th>\n",
       "      <td>2020-08-30</td>\n",
       "      <td>10.0</td>\n",
       "    </tr>\n",
       "  </tbody>\n",
       "</table>\n",
       "</div>"
      ],
      "text/plain": [
       "  sample_date_string  new_tek_count\n",
       "0         2020-08-29            NaN\n",
       "1         2020-08-30           10.0"
      ]
     },
     "execution_count": 10,
     "metadata": {},
     "output_type": "execute_result"
    }
   ],
   "source": [
    "new_tek_df = tek_list_df.diff().tek_list.apply(\n",
    "    lambda x: len(x) if not pd.isna(x) else None).to_frame().reset_index()\n",
    "new_tek_df.rename(columns={\n",
    "    \"tek_list\": \"new_tek_count\",\n",
    "    \"extraction_date\": \"sample_date_string\",}, inplace=True)\n",
    "new_tek_df.head()"
   ]
  },
  {
   "cell_type": "markdown",
   "metadata": {
    "papermill": {
     "duration": 0.020551,
     "end_time": "2020-08-30T04:15:16.126426",
     "exception": false,
     "start_time": "2020-08-30T04:15:16.105875",
     "status": "completed"
    },
    "tags": []
   },
   "source": [
    "## Data Merge"
   ]
  },
  {
   "cell_type": "code",
   "execution_count": 11,
   "metadata": {
    "execution": {
     "iopub.execute_input": "2020-08-30T04:15:16.173569Z",
     "iopub.status.busy": "2020-08-30T04:15:16.172926Z",
     "iopub.status.idle": "2020-08-30T04:15:16.190289Z",
     "shell.execute_reply": "2020-08-30T04:15:16.189645Z"
    },
    "papermill": {
     "duration": 0.045065,
     "end_time": "2020-08-30T04:15:16.190493",
     "exception": false,
     "start_time": "2020-08-30T04:15:16.145428",
     "status": "completed"
    },
    "tags": []
   },
   "outputs": [
    {
     "data": {
      "text/html": [
       "<div>\n",
       "<style scoped>\n",
       "    .dataframe tbody tr th:only-of-type {\n",
       "        vertical-align: middle;\n",
       "    }\n",
       "\n",
       "    .dataframe tbody tr th {\n",
       "        vertical-align: top;\n",
       "    }\n",
       "\n",
       "    .dataframe thead th {\n",
       "        text-align: right;\n",
       "    }\n",
       "</style>\n",
       "<table border=\"1\" class=\"dataframe\">\n",
       "  <thead>\n",
       "    <tr style=\"text-align: right;\">\n",
       "      <th></th>\n",
       "      <th>sample_date_string</th>\n",
       "      <th>tek_count</th>\n",
       "      <th>new_tek_count</th>\n",
       "    </tr>\n",
       "  </thead>\n",
       "  <tbody>\n",
       "    <tr>\n",
       "      <th>0</th>\n",
       "      <td>2020-08-29</td>\n",
       "      <td>10.0</td>\n",
       "      <td>NaN</td>\n",
       "    </tr>\n",
       "    <tr>\n",
       "      <th>1</th>\n",
       "      <td>2020-08-28</td>\n",
       "      <td>27.0</td>\n",
       "      <td>NaN</td>\n",
       "    </tr>\n",
       "    <tr>\n",
       "      <th>2</th>\n",
       "      <td>2020-08-27</td>\n",
       "      <td>53.0</td>\n",
       "      <td>NaN</td>\n",
       "    </tr>\n",
       "    <tr>\n",
       "      <th>3</th>\n",
       "      <td>2020-08-26</td>\n",
       "      <td>66.0</td>\n",
       "      <td>NaN</td>\n",
       "    </tr>\n",
       "    <tr>\n",
       "      <th>4</th>\n",
       "      <td>2020-08-25</td>\n",
       "      <td>56.0</td>\n",
       "      <td>NaN</td>\n",
       "    </tr>\n",
       "  </tbody>\n",
       "</table>\n",
       "</div>"
      ],
      "text/plain": [
       "  sample_date_string  tek_count  new_tek_count\n",
       "0         2020-08-29       10.0            NaN\n",
       "1         2020-08-28       27.0            NaN\n",
       "2         2020-08-27       53.0            NaN\n",
       "3         2020-08-26       66.0            NaN\n",
       "4         2020-08-25       56.0            NaN"
      ]
     },
     "execution_count": 11,
     "metadata": {},
     "output_type": "execute_result"
    }
   ],
   "source": [
    "result_summary_df = exposure_keys_summary_df.merge(new_tek_df, on=[\"sample_date_string\"], how=\"outer\")\n",
    "result_summary_df.head()"
   ]
  },
  {
   "cell_type": "code",
   "execution_count": 12,
   "metadata": {
    "execution": {
     "iopub.execute_input": "2020-08-30T04:15:16.236512Z",
     "iopub.status.busy": "2020-08-30T04:15:16.235772Z",
     "iopub.status.idle": "2020-08-30T04:15:16.249702Z",
     "shell.execute_reply": "2020-08-30T04:15:16.249129Z"
    },
    "papermill": {
     "duration": 0.039314,
     "end_time": "2020-08-30T04:15:16.249855",
     "exception": false,
     "start_time": "2020-08-30T04:15:16.210541",
     "status": "completed"
    },
    "pycharm": {
     "name": "#%%\n"
    },
    "tags": []
   },
   "outputs": [
    {
     "data": {
      "text/html": [
       "<div>\n",
       "<style scoped>\n",
       "    .dataframe tbody tr th:only-of-type {\n",
       "        vertical-align: middle;\n",
       "    }\n",
       "\n",
       "    .dataframe tbody tr th {\n",
       "        vertical-align: top;\n",
       "    }\n",
       "\n",
       "    .dataframe thead th {\n",
       "        text-align: right;\n",
       "    }\n",
       "</style>\n",
       "<table border=\"1\" class=\"dataframe\">\n",
       "  <thead>\n",
       "    <tr style=\"text-align: right;\">\n",
       "      <th></th>\n",
       "      <th>sample_date_string</th>\n",
       "      <th>tek_count</th>\n",
       "      <th>new_tek_count</th>\n",
       "      <th>cumulative_cases</th>\n",
       "      <th>new_cases</th>\n",
       "      <th>rolling_mean_new_cases</th>\n",
       "    </tr>\n",
       "  </thead>\n",
       "  <tbody>\n",
       "    <tr>\n",
       "      <th>0</th>\n",
       "      <td>2020-08-29</td>\n",
       "      <td>10.0</td>\n",
       "      <td>NaN</td>\n",
       "      <td>439286.0</td>\n",
       "      <td>0.0</td>\n",
       "      <td>7604.571429</td>\n",
       "    </tr>\n",
       "    <tr>\n",
       "      <th>1</th>\n",
       "      <td>2020-08-28</td>\n",
       "      <td>27.0</td>\n",
       "      <td>NaN</td>\n",
       "      <td>439286.0</td>\n",
       "      <td>9779.0</td>\n",
       "      <td>7604.571429</td>\n",
       "    </tr>\n",
       "    <tr>\n",
       "      <th>2</th>\n",
       "      <td>2020-08-27</td>\n",
       "      <td>53.0</td>\n",
       "      <td>NaN</td>\n",
       "      <td>429507.0</td>\n",
       "      <td>9658.0</td>\n",
       "      <td>7371.571429</td>\n",
       "    </tr>\n",
       "    <tr>\n",
       "      <th>3</th>\n",
       "      <td>2020-08-26</td>\n",
       "      <td>66.0</td>\n",
       "      <td>NaN</td>\n",
       "      <td>419849.0</td>\n",
       "      <td>7296.0</td>\n",
       "      <td>6997.428571</td>\n",
       "    </tr>\n",
       "    <tr>\n",
       "      <th>4</th>\n",
       "      <td>2020-08-25</td>\n",
       "      <td>56.0</td>\n",
       "      <td>NaN</td>\n",
       "      <td>412553.0</td>\n",
       "      <td>7117.0</td>\n",
       "      <td>6908.142857</td>\n",
       "    </tr>\n",
       "  </tbody>\n",
       "</table>\n",
       "</div>"
      ],
      "text/plain": [
       "  sample_date_string  tek_count  new_tek_count  cumulative_cases  new_cases  \\\n",
       "0         2020-08-29       10.0            NaN          439286.0        0.0   \n",
       "1         2020-08-28       27.0            NaN          439286.0     9779.0   \n",
       "2         2020-08-27       53.0            NaN          429507.0     9658.0   \n",
       "3         2020-08-26       66.0            NaN          419849.0     7296.0   \n",
       "4         2020-08-25       56.0            NaN          412553.0     7117.0   \n",
       "\n",
       "   rolling_mean_new_cases  \n",
       "0             7604.571429  \n",
       "1             7604.571429  \n",
       "2             7371.571429  \n",
       "3             6997.428571  \n",
       "4             6908.142857  "
      ]
     },
     "execution_count": 12,
     "metadata": {},
     "output_type": "execute_result"
    }
   ],
   "source": [
    "result_summary_df = result_summary_df.merge(confirmed_df, on=[\"sample_date_string\"], how=\"left\")\n",
    "result_summary_df.head()"
   ]
  },
  {
   "cell_type": "code",
   "execution_count": 13,
   "metadata": {
    "execution": {
     "iopub.execute_input": "2020-08-30T04:15:16.296771Z",
     "iopub.status.busy": "2020-08-30T04:15:16.296126Z",
     "iopub.status.idle": "2020-08-30T04:15:16.316246Z",
     "shell.execute_reply": "2020-08-30T04:15:16.315463Z"
    },
    "papermill": {
     "duration": 0.045653,
     "end_time": "2020-08-30T04:15:16.316397",
     "exception": false,
     "start_time": "2020-08-30T04:15:16.270744",
     "status": "completed"
    },
    "tags": []
   },
   "outputs": [
    {
     "data": {
      "text/html": [
       "<div>\n",
       "<style scoped>\n",
       "    .dataframe tbody tr th:only-of-type {\n",
       "        vertical-align: middle;\n",
       "    }\n",
       "\n",
       "    .dataframe tbody tr th {\n",
       "        vertical-align: top;\n",
       "    }\n",
       "\n",
       "    .dataframe thead th {\n",
       "        text-align: right;\n",
       "    }\n",
       "</style>\n",
       "<table border=\"1\" class=\"dataframe\">\n",
       "  <thead>\n",
       "    <tr style=\"text-align: right;\">\n",
       "      <th></th>\n",
       "      <th>sample_date_string</th>\n",
       "      <th>tek_count</th>\n",
       "      <th>new_tek_count</th>\n",
       "      <th>cumulative_cases</th>\n",
       "      <th>new_cases</th>\n",
       "      <th>rolling_mean_new_cases</th>\n",
       "      <th>tek_count_per_new_case</th>\n",
       "      <th>new_tek_count_per_new_case</th>\n",
       "      <th>approximate_new_tek_devices</th>\n",
       "      <th>approximate_new_tek_devices_per_case</th>\n",
       "    </tr>\n",
       "  </thead>\n",
       "  <tbody>\n",
       "    <tr>\n",
       "      <th>0</th>\n",
       "      <td>2020-08-29</td>\n",
       "      <td>10.0</td>\n",
       "      <td>NaN</td>\n",
       "      <td>439286.0</td>\n",
       "      <td>0.0</td>\n",
       "      <td>7604.571429</td>\n",
       "      <td>0.001315</td>\n",
       "      <td>NaN</td>\n",
       "      <td>NaN</td>\n",
       "      <td>NaN</td>\n",
       "    </tr>\n",
       "    <tr>\n",
       "      <th>1</th>\n",
       "      <td>2020-08-28</td>\n",
       "      <td>27.0</td>\n",
       "      <td>NaN</td>\n",
       "      <td>439286.0</td>\n",
       "      <td>9779.0</td>\n",
       "      <td>7604.571429</td>\n",
       "      <td>0.003550</td>\n",
       "      <td>NaN</td>\n",
       "      <td>NaN</td>\n",
       "      <td>NaN</td>\n",
       "    </tr>\n",
       "    <tr>\n",
       "      <th>2</th>\n",
       "      <td>2020-08-27</td>\n",
       "      <td>53.0</td>\n",
       "      <td>NaN</td>\n",
       "      <td>429507.0</td>\n",
       "      <td>9658.0</td>\n",
       "      <td>7371.571429</td>\n",
       "      <td>0.007190</td>\n",
       "      <td>NaN</td>\n",
       "      <td>NaN</td>\n",
       "      <td>NaN</td>\n",
       "    </tr>\n",
       "    <tr>\n",
       "      <th>3</th>\n",
       "      <td>2020-08-26</td>\n",
       "      <td>66.0</td>\n",
       "      <td>NaN</td>\n",
       "      <td>419849.0</td>\n",
       "      <td>7296.0</td>\n",
       "      <td>6997.428571</td>\n",
       "      <td>0.009432</td>\n",
       "      <td>NaN</td>\n",
       "      <td>NaN</td>\n",
       "      <td>NaN</td>\n",
       "    </tr>\n",
       "    <tr>\n",
       "      <th>4</th>\n",
       "      <td>2020-08-25</td>\n",
       "      <td>56.0</td>\n",
       "      <td>NaN</td>\n",
       "      <td>412553.0</td>\n",
       "      <td>7117.0</td>\n",
       "      <td>6908.142857</td>\n",
       "      <td>0.008106</td>\n",
       "      <td>NaN</td>\n",
       "      <td>NaN</td>\n",
       "      <td>NaN</td>\n",
       "    </tr>\n",
       "  </tbody>\n",
       "</table>\n",
       "</div>"
      ],
      "text/plain": [
       "  sample_date_string  tek_count  new_tek_count  cumulative_cases  new_cases  \\\n",
       "0         2020-08-29       10.0            NaN          439286.0        0.0   \n",
       "1         2020-08-28       27.0            NaN          439286.0     9779.0   \n",
       "2         2020-08-27       53.0            NaN          429507.0     9658.0   \n",
       "3         2020-08-26       66.0            NaN          419849.0     7296.0   \n",
       "4         2020-08-25       56.0            NaN          412553.0     7117.0   \n",
       "\n",
       "   rolling_mean_new_cases  tek_count_per_new_case  new_tek_count_per_new_case  \\\n",
       "0             7604.571429                0.001315                         NaN   \n",
       "1             7604.571429                0.003550                         NaN   \n",
       "2             7371.571429                0.007190                         NaN   \n",
       "3             6997.428571                0.009432                         NaN   \n",
       "4             6908.142857                0.008106                         NaN   \n",
       "\n",
       "   approximate_new_tek_devices  approximate_new_tek_devices_per_case  \n",
       "0                          NaN                                   NaN  \n",
       "1                          NaN                                   NaN  \n",
       "2                          NaN                                   NaN  \n",
       "3                          NaN                                   NaN  \n",
       "4                          NaN                                   NaN  "
      ]
     },
     "execution_count": 13,
     "metadata": {},
     "output_type": "execute_result"
    }
   ],
   "source": [
    "result_summary_df[\"tek_count_per_new_case\"] = \\\n",
    "    result_summary_df.tek_count / result_summary_df.rolling_mean_new_cases\n",
    "result_summary_df[\"new_tek_count_per_new_case\"] = \\\n",
    "    result_summary_df.new_tek_count / result_summary_df.rolling_mean_new_cases\n",
    "\n",
    "# We should expect 14 new TEKs (one per sample day) for infected devices but the real value may be lower:\n",
    "result_summary_df[\"approximate_new_tek_devices\"] = \\\n",
    "    result_summary_df.new_tek_count / 14.0\n",
    "result_summary_df[\"approximate_new_tek_devices_per_case\"] = \\\n",
    "    result_summary_df.approximate_new_tek_devices / result_summary_df.rolling_mean_new_cases\n",
    "\n",
    "result_summary_df.head()"
   ]
  },
  {
   "cell_type": "markdown",
   "metadata": {
    "papermill": {
     "duration": 0.021005,
     "end_time": "2020-08-30T04:15:16.358020",
     "exception": false,
     "start_time": "2020-08-30T04:15:16.337015",
     "status": "completed"
    },
    "tags": []
   },
   "source": [
    "## Results"
   ]
  },
  {
   "cell_type": "code",
   "execution_count": 14,
   "metadata": {
    "execution": {
     "iopub.execute_input": "2020-08-30T04:15:16.409111Z",
     "iopub.status.busy": "2020-08-30T04:15:16.408457Z",
     "iopub.status.idle": "2020-08-30T04:15:16.412899Z",
     "shell.execute_reply": "2020-08-30T04:15:16.412253Z"
    },
    "papermill": {
     "duration": 0.03323,
     "end_time": "2020-08-30T04:15:16.413048",
     "exception": false,
     "start_time": "2020-08-30T04:15:16.379818",
     "status": "completed"
    },
    "pycharm": {
     "name": "#%%\n"
    },
    "tags": []
   },
   "outputs": [],
   "source": [
    "result_summary_df[\"sample_date\"] = pd.to_datetime(result_summary_df.sample_date_string)\n",
    "result_summary_df.set_index(\"sample_date\", inplace=True)\n",
    "result_summary_df = result_summary_df.sort_index(ascending=False)"
   ]
  },
  {
   "cell_type": "code",
   "execution_count": 15,
   "metadata": {
    "execution": {
     "iopub.execute_input": "2020-08-30T04:15:16.472914Z",
     "iopub.status.busy": "2020-08-30T04:15:16.472254Z",
     "iopub.status.idle": "2020-08-30T04:15:16.474925Z",
     "shell.execute_reply": "2020-08-30T04:15:16.475435Z"
    },
    "papermill": {
     "duration": 0.041407,
     "end_time": "2020-08-30T04:15:16.475628",
     "exception": false,
     "start_time": "2020-08-30T04:15:16.434221",
     "status": "completed"
    },
    "pycharm": {
     "name": "#%%\n"
    },
    "tags": []
   },
   "outputs": [
    {
     "data": {
      "text/html": [
       "<div>\n",
       "<style scoped>\n",
       "    .dataframe tbody tr th:only-of-type {\n",
       "        vertical-align: middle;\n",
       "    }\n",
       "\n",
       "    .dataframe tbody tr th {\n",
       "        vertical-align: top;\n",
       "    }\n",
       "\n",
       "    .dataframe thead th {\n",
       "        text-align: right;\n",
       "    }\n",
       "</style>\n",
       "<table border=\"1\" class=\"dataframe\">\n",
       "  <thead>\n",
       "    <tr style=\"text-align: right;\">\n",
       "      <th></th>\n",
       "      <th>tek_count</th>\n",
       "      <th>new_tek_count</th>\n",
       "      <th>new_cases</th>\n",
       "      <th>rolling_mean_new_cases</th>\n",
       "      <th>tek_count_per_new_case</th>\n",
       "      <th>new_tek_count_per_new_case</th>\n",
       "      <th>approximate_new_tek_devices</th>\n",
       "      <th>approximate_new_tek_devices_per_case</th>\n",
       "    </tr>\n",
       "    <tr>\n",
       "      <th>sample_date</th>\n",
       "      <th></th>\n",
       "      <th></th>\n",
       "      <th></th>\n",
       "      <th></th>\n",
       "      <th></th>\n",
       "      <th></th>\n",
       "      <th></th>\n",
       "      <th></th>\n",
       "    </tr>\n",
       "  </thead>\n",
       "  <tbody>\n",
       "    <tr>\n",
       "      <th>2020-08-30</th>\n",
       "      <td>NaN</td>\n",
       "      <td>10.0</td>\n",
       "      <td>NaN</td>\n",
       "      <td>NaN</td>\n",
       "      <td>NaN</td>\n",
       "      <td>NaN</td>\n",
       "      <td>0.714286</td>\n",
       "      <td>NaN</td>\n",
       "    </tr>\n",
       "    <tr>\n",
       "      <th>2020-08-29</th>\n",
       "      <td>10.0</td>\n",
       "      <td>NaN</td>\n",
       "      <td>0.0</td>\n",
       "      <td>7604.571429</td>\n",
       "      <td>0.001315</td>\n",
       "      <td>NaN</td>\n",
       "      <td>NaN</td>\n",
       "      <td>NaN</td>\n",
       "    </tr>\n",
       "    <tr>\n",
       "      <th>2020-08-28</th>\n",
       "      <td>27.0</td>\n",
       "      <td>NaN</td>\n",
       "      <td>9779.0</td>\n",
       "      <td>7604.571429</td>\n",
       "      <td>0.003550</td>\n",
       "      <td>NaN</td>\n",
       "      <td>NaN</td>\n",
       "      <td>NaN</td>\n",
       "    </tr>\n",
       "    <tr>\n",
       "      <th>2020-08-27</th>\n",
       "      <td>53.0</td>\n",
       "      <td>NaN</td>\n",
       "      <td>9658.0</td>\n",
       "      <td>7371.571429</td>\n",
       "      <td>0.007190</td>\n",
       "      <td>NaN</td>\n",
       "      <td>NaN</td>\n",
       "      <td>NaN</td>\n",
       "    </tr>\n",
       "    <tr>\n",
       "      <th>2020-08-26</th>\n",
       "      <td>66.0</td>\n",
       "      <td>NaN</td>\n",
       "      <td>7296.0</td>\n",
       "      <td>6997.428571</td>\n",
       "      <td>0.009432</td>\n",
       "      <td>NaN</td>\n",
       "      <td>NaN</td>\n",
       "      <td>NaN</td>\n",
       "    </tr>\n",
       "    <tr>\n",
       "      <th>2020-08-25</th>\n",
       "      <td>56.0</td>\n",
       "      <td>NaN</td>\n",
       "      <td>7117.0</td>\n",
       "      <td>6908.142857</td>\n",
       "      <td>0.008106</td>\n",
       "      <td>NaN</td>\n",
       "      <td>NaN</td>\n",
       "      <td>NaN</td>\n",
       "    </tr>\n",
       "    <tr>\n",
       "      <th>2020-08-24</th>\n",
       "      <td>48.0</td>\n",
       "      <td>NaN</td>\n",
       "      <td>19382.0</td>\n",
       "      <td>6622.000000</td>\n",
       "      <td>0.007249</td>\n",
       "      <td>NaN</td>\n",
       "      <td>NaN</td>\n",
       "      <td>NaN</td>\n",
       "    </tr>\n",
       "    <tr>\n",
       "      <th>2020-08-23</th>\n",
       "      <td>28.0</td>\n",
       "      <td>NaN</td>\n",
       "      <td>0.0</td>\n",
       "      <td>6177.285714</td>\n",
       "      <td>0.004533</td>\n",
       "      <td>NaN</td>\n",
       "      <td>NaN</td>\n",
       "      <td>NaN</td>\n",
       "    </tr>\n",
       "    <tr>\n",
       "      <th>2020-08-22</th>\n",
       "      <td>18.0</td>\n",
       "      <td>NaN</td>\n",
       "      <td>0.0</td>\n",
       "      <td>6177.285714</td>\n",
       "      <td>0.002914</td>\n",
       "      <td>NaN</td>\n",
       "      <td>NaN</td>\n",
       "      <td>NaN</td>\n",
       "    </tr>\n",
       "    <tr>\n",
       "      <th>2020-08-21</th>\n",
       "      <td>11.0</td>\n",
       "      <td>NaN</td>\n",
       "      <td>8148.0</td>\n",
       "      <td>6177.285714</td>\n",
       "      <td>0.001781</td>\n",
       "      <td>NaN</td>\n",
       "      <td>NaN</td>\n",
       "      <td>NaN</td>\n",
       "    </tr>\n",
       "    <tr>\n",
       "      <th>2020-08-20</th>\n",
       "      <td>4.0</td>\n",
       "      <td>NaN</td>\n",
       "      <td>7039.0</td>\n",
       "      <td>5796.000000</td>\n",
       "      <td>0.000690</td>\n",
       "      <td>NaN</td>\n",
       "      <td>NaN</td>\n",
       "      <td>NaN</td>\n",
       "    </tr>\n",
       "    <tr>\n",
       "      <th>2020-08-19</th>\n",
       "      <td>1.0</td>\n",
       "      <td>NaN</td>\n",
       "      <td>6671.0</td>\n",
       "      <td>5869.000000</td>\n",
       "      <td>0.000170</td>\n",
       "      <td>NaN</td>\n",
       "      <td>NaN</td>\n",
       "      <td>NaN</td>\n",
       "    </tr>\n",
       "  </tbody>\n",
       "</table>\n",
       "</div>"
      ],
      "text/plain": [
       "             tek_count  new_tek_count  new_cases  rolling_mean_new_cases  \\\n",
       "sample_date                                                                \n",
       "2020-08-30         NaN           10.0        NaN                     NaN   \n",
       "2020-08-29        10.0            NaN        0.0             7604.571429   \n",
       "2020-08-28        27.0            NaN     9779.0             7604.571429   \n",
       "2020-08-27        53.0            NaN     9658.0             7371.571429   \n",
       "2020-08-26        66.0            NaN     7296.0             6997.428571   \n",
       "2020-08-25        56.0            NaN     7117.0             6908.142857   \n",
       "2020-08-24        48.0            NaN    19382.0             6622.000000   \n",
       "2020-08-23        28.0            NaN        0.0             6177.285714   \n",
       "2020-08-22        18.0            NaN        0.0             6177.285714   \n",
       "2020-08-21        11.0            NaN     8148.0             6177.285714   \n",
       "2020-08-20         4.0            NaN     7039.0             5796.000000   \n",
       "2020-08-19         1.0            NaN     6671.0             5869.000000   \n",
       "\n",
       "             tek_count_per_new_case  new_tek_count_per_new_case  \\\n",
       "sample_date                                                       \n",
       "2020-08-30                      NaN                         NaN   \n",
       "2020-08-29                 0.001315                         NaN   \n",
       "2020-08-28                 0.003550                         NaN   \n",
       "2020-08-27                 0.007190                         NaN   \n",
       "2020-08-26                 0.009432                         NaN   \n",
       "2020-08-25                 0.008106                         NaN   \n",
       "2020-08-24                 0.007249                         NaN   \n",
       "2020-08-23                 0.004533                         NaN   \n",
       "2020-08-22                 0.002914                         NaN   \n",
       "2020-08-21                 0.001781                         NaN   \n",
       "2020-08-20                 0.000690                         NaN   \n",
       "2020-08-19                 0.000170                         NaN   \n",
       "\n",
       "             approximate_new_tek_devices  approximate_new_tek_devices_per_case  \n",
       "sample_date                                                                     \n",
       "2020-08-30                      0.714286                                   NaN  \n",
       "2020-08-29                           NaN                                   NaN  \n",
       "2020-08-28                           NaN                                   NaN  \n",
       "2020-08-27                           NaN                                   NaN  \n",
       "2020-08-26                           NaN                                   NaN  \n",
       "2020-08-25                           NaN                                   NaN  \n",
       "2020-08-24                           NaN                                   NaN  \n",
       "2020-08-23                           NaN                                   NaN  \n",
       "2020-08-22                           NaN                                   NaN  \n",
       "2020-08-21                           NaN                                   NaN  \n",
       "2020-08-20                           NaN                                   NaN  \n",
       "2020-08-19                           NaN                                   NaN  "
      ]
     },
     "execution_count": 15,
     "metadata": {},
     "output_type": "execute_result"
    }
   ],
   "source": [
    "result_summary_df[[\n",
    "    \"tek_count\",\n",
    "    \"new_tek_count\",\n",
    "    \"new_cases\",\n",
    "    \"rolling_mean_new_cases\",\n",
    "    \"tek_count_per_new_case\",\n",
    "    \"new_tek_count_per_new_case\",\n",
    "    \"approximate_new_tek_devices\",\n",
    "    \"approximate_new_tek_devices_per_case\"]]"
   ]
  },
  {
   "cell_type": "code",
   "execution_count": 16,
   "metadata": {
    "execution": {
     "iopub.execute_input": "2020-08-30T04:15:16.537514Z",
     "iopub.status.busy": "2020-08-30T04:15:16.536802Z",
     "iopub.status.idle": "2020-08-30T04:15:17.463341Z",
     "shell.execute_reply": "2020-08-30T04:15:17.462785Z"
    },
    "papermill": {
     "duration": 0.966938,
     "end_time": "2020-08-30T04:15:17.463487",
     "exception": false,
     "start_time": "2020-08-30T04:15:16.496549",
     "status": "completed"
    },
    "tags": []
   },
   "outputs": [
    {
     "data": {
      "text/plain": [
       "array([<matplotlib.axes._subplots.AxesSubplot object at 0x7f5a1cbfe880>,\n",
       "       <matplotlib.axes._subplots.AxesSubplot object at 0x7f5a1cc0ec10>,\n",
       "       <matplotlib.axes._subplots.AxesSubplot object at 0x7f5a1cc14a60>,\n",
       "       <matplotlib.axes._subplots.AxesSubplot object at 0x7f5a1cc34430>],\n",
       "      dtype=object)"
      ]
     },
     "execution_count": 16,
     "metadata": {},
     "output_type": "execute_result"
    },
    {
     "data": {
      "image/png": "[encoded data removed]",
      "text/plain": [
       "<Figure size 1080x1296 with 4 Axes>"
      ]
     },
     "metadata": {},
     "output_type": "display_data"
    }
   ],
   "source": [
    "result_summary_df[\n",
    "    [\"rolling_mean_new_cases\", \"tek_count\",\n",
    "     \"new_tek_count\", \"approximate_new_tek_devices\"]].sort_index(ascending=True).plot.bar(\n",
    "    rot=45, subplots=True, figsize=(15, 18))"
   ]
  },
  {
   "cell_type": "code",
   "execution_count": 17,
   "metadata": {
    "execution": {
     "iopub.execute_input": "2020-08-30T04:15:17.522885Z",
     "iopub.status.busy": "2020-08-30T04:15:17.522123Z",
     "iopub.status.idle": "2020-08-30T04:15:17.764594Z",
     "shell.execute_reply": "2020-08-30T04:15:17.765494Z"
    },
    "papermill": {
     "duration": 0.278932,
     "end_time": "2020-08-30T04:15:17.765733",
     "exception": false,
     "start_time": "2020-08-30T04:15:17.486801",
     "status": "completed"
    },
    "tags": []
   },
   "outputs": [
    {
     "data": {
      "image/png": "[encoded data removed]",
      "text/plain": [
       "<Figure size 1080x360 with 1 Axes>"
      ]
     },
     "metadata": {},
     "output_type": "display_data"
    }
   ],
   "source": [
    "import matplotlib.ticker as mtick\n",
    "\n",
    "ax = result_summary_df[\n",
    "    [\"approximate_new_tek_devices_per_case\"]].sort_index(ascending=True).plot.bar(\n",
    "    rot=45, figsize=(15, 5))\n",
    "ax.yaxis.set_major_formatter(mtick.PercentFormatter(1.0))"
   ]
  },
  {
   "cell_type": "code",
   "execution_count": null,
   "metadata": {
    "papermill": {
     "duration": 0.024606,
     "end_time": "2020-08-30T04:15:17.815522",
     "exception": false,
     "start_time": "2020-08-30T04:15:17.790916",
     "status": "completed"
    },
    "tags": []
   },
   "outputs": [],
   "source": []
  }
 ],
 "metadata": {
  "kernelspec": {
   "display_name": "Python 3",
   "language": "python",
   "name": "python3"
  },
  "language_info": {
   "codemirror_mode": {
    "name": "ipython",
    "version": 3
   },
   "file_extension": ".py",
   "mimetype": "text/x-python",
   "name": "python",
   "nbconvert_exporter": "python",
   "pygments_lexer": "ipython3",
   "version": "3.8.5"
  },
  "papermill": {
   "duration": 11.296831,
   "end_time": "2020-08-30T04:15:19.236610",
   "environment_variables": {},
   "exception": null,
   "input_path": "RadarCOVID-Report.ipynb",
   "output_path": "RadarCOVID-Report.ipynb",
   "parameters": {},
   "start_time": "2020-08-30T04:15:07.939779",
   "version": "2.1.3"
  }
 },
 "nbformat": 4,
 "nbformat_minor": 1
}